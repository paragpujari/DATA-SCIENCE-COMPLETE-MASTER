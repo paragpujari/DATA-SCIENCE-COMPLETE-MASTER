{
 "cells": [
  {
   "cell_type": "code",
   "execution_count": 1,
   "id": "e53ed0ea-876d-4f3b-9860-fa0b5a528f1f",
   "metadata": {},
   "outputs": [],
   "source": [
    "import numpy as np"
   ]
  },
  {
   "cell_type": "code",
   "execution_count": 2,
   "id": "c93e2632-6602-476a-b826-f99d34138052",
   "metadata": {},
   "outputs": [
    {
     "name": "stdout",
     "output_type": "stream",
     "text": [
      "[ 4  2  8  5  3  9 12 56]\n"
     ]
    }
   ],
   "source": [
    "arr = np.array([4,2,8,5,3,9,12,56])\n",
    "print(arr)"
   ]
  },
  {
   "cell_type": "code",
   "execution_count": 3,
   "id": "971c294e-9330-4ba6-a8c9-dcdc7e0e3833",
   "metadata": {},
   "outputs": [
    {
     "name": "stdout",
     "output_type": "stream",
     "text": [
      "[ 2  3  4  5  8  9 12 56]\n"
     ]
    }
   ],
   "source": [
    "# sort the array\n",
    "print(np.sort(arr))"
   ]
  },
  {
   "cell_type": "code",
   "execution_count": 4,
   "id": "7e13041d-3880-4f50-96e0-8834a42e8183",
   "metadata": {},
   "outputs": [
    {
     "name": "stdout",
     "output_type": "stream",
     "text": [
      "5\n"
     ]
    }
   ],
   "source": [
    "# serach the element from the array\n",
    "print(np.searchsorted(arr,8))"
   ]
  },
  {
   "cell_type": "code",
   "execution_count": 5,
   "id": "f6f9b128-9af6-4028-b981-37b0302d4aa6",
   "metadata": {},
   "outputs": [
    {
     "name": "stdout",
     "output_type": "stream",
     "text": [
      "[  0 324 645  65   6   6   0   0   0 234]\n"
     ]
    }
   ],
   "source": [
    "# count the non-zero elements in the array\n",
    "arr1 = np.array([0,324,645,65,6,6,0,0,0,234])\n",
    "print(arr1)"
   ]
  },
  {
   "cell_type": "code",
   "execution_count": 6,
   "id": "c6022ceb-719e-47f0-a3d4-735792b870ce",
   "metadata": {},
   "outputs": [
    {
     "name": "stdout",
     "output_type": "stream",
     "text": [
      "6\n"
     ]
    }
   ],
   "source": [
    "print(np.count_nonzero(arr1))"
   ]
  },
  {
   "cell_type": "code",
   "execution_count": 8,
   "id": "606741f9-b993-40e2-a305-f7cdb57cddf1",
   "metadata": {},
   "outputs": [
    {
     "name": "stdout",
     "output_type": "stream",
     "text": [
      "[  0 324 645  65   6   6   0   0   0 234]\n",
      "(array([1, 2, 3, 4, 5, 9]),)\n"
     ]
    }
   ],
   "source": [
    "# where = It tells at which indexes the elements are greater than zero\n",
    "print(arr1)\n",
    "print(np.where(arr1 > 0))"
   ]
  },
  {
   "cell_type": "code",
   "execution_count": 11,
   "id": "e09c0bb2-2ddb-4eec-8398-1b854e6c65e8",
   "metadata": {},
   "outputs": [
    {
     "name": "stdout",
     "output_type": "stream",
     "text": [
      "[  0 324 645  65   6   6   0   0   0 234]\n",
      "[324 645  65   6   6 234]\n",
      "[324 645]\n"
     ]
    }
   ],
   "source": [
    "# extract all the elements from the array that are greater than 2\n",
    "print(arr1)\n",
    "print(np.extract(arr1 > 2, arr1))\n",
    "\n",
    "# extract all the elements from the array that are greater than 300\n",
    "print(np.extract(arr1 > 300, arr1))"
   ]
  },
  {
   "cell_type": "markdown",
   "id": "9ca77f69-d98e-4dc4-95ea-4d893a0c8f61",
   "metadata": {},
   "source": [
    "# Byte- Swapping"
   ]
  },
  {
   "cell_type": "code",
   "execution_count": 12,
   "id": "e5c74607-3037-443e-ae93-51216120753f",
   "metadata": {},
   "outputs": [
    {
     "data": {
      "text/plain": [
       "array([  0, 324, 645,  65,   6,   6,   0,   0,   0, 234])"
      ]
     },
     "execution_count": 12,
     "metadata": {},
     "output_type": "execute_result"
    }
   ],
   "source": [
    "arr1"
   ]
  },
  {
   "cell_type": "code",
   "execution_count": 13,
   "id": "3d668c56-c044-4fc1-8d56-00f3aaa85777",
   "metadata": {},
   "outputs": [
    {
     "data": {
      "text/plain": [
       "array([                   0,  4900197869555810304, -8862521116711714816,\n",
       "        4683743612465315840,   432345564227567616,   432345564227567616,\n",
       "                          0,                    0,                    0,\n",
       "       -1585267068834414592])"
      ]
     },
     "execution_count": 13,
     "metadata": {},
     "output_type": "execute_result"
    }
   ],
   "source": [
    "#byte-swapping =  It provides the byte value for all the elelemnst in the array\n",
    "arr1.byteswap(True)"
   ]
  },
  {
   "cell_type": "code",
   "execution_count": 23,
   "id": "099d6994-4aaf-4210-8494-76ea7652cafa",
   "metadata": {},
   "outputs": [],
   "source": [
    "# Dot Operations In Array\n",
    "arr1 = np.random.randint([[2,3] , [4,5]])\n"
   ]
  },
  {
   "cell_type": "code",
   "execution_count": 24,
   "id": "6d539c11-9cce-4483-976b-27429f90bc59",
   "metadata": {},
   "outputs": [],
   "source": [
    "arr2 = np.random.randint([[5,3] , [2,5]])"
   ]
  },
  {
   "cell_type": "code",
   "execution_count": 25,
   "id": "6a41d5f0-1ef9-4d3c-bddb-2b40449f36b6",
   "metadata": {},
   "outputs": [
    {
     "name": "stdout",
     "output_type": "stream",
     "text": [
      "[[1 0]\n",
      " [0 0]]\n",
      "[[0 1]\n",
      " [1 0]]\n",
      "[[0 1]\n",
      " [0 0]]\n"
     ]
    }
   ],
   "source": [
    "# Dot product of two arrays\n",
    "print(arr1)\n",
    "print(arr2)\n",
    "print(np.dot(arr1, arr2))"
   ]
  },
  {
   "cell_type": "code",
   "execution_count": 26,
   "id": "951b766e-68e1-453a-b8a1-14707e6bb622",
   "metadata": {},
   "outputs": [
    {
     "data": {
      "text/plain": [
       "array([[0, 1],\n",
       "       [0, 0]])"
      ]
     },
     "execution_count": 26,
     "metadata": {},
     "output_type": "execute_result"
    }
   ],
   "source": [
    "arr1@arr2"
   ]
  },
  {
   "cell_type": "code",
   "execution_count": null,
   "id": "2a39b144-7f0f-4a72-b0eb-eee6faff4fc1",
   "metadata": {},
   "outputs": [],
   "source": []
  }
 ],
 "metadata": {
  "kernelspec": {
   "display_name": "Python 3 (ipykernel)",
   "language": "python",
   "name": "python3"
  },
  "language_info": {
   "codemirror_mode": {
    "name": "ipython",
    "version": 3
   },
   "file_extension": ".py",
   "mimetype": "text/x-python",
   "name": "python",
   "nbconvert_exporter": "python",
   "pygments_lexer": "ipython3",
   "version": "3.10.8"
  }
 },
 "nbformat": 4,
 "nbformat_minor": 5
}
