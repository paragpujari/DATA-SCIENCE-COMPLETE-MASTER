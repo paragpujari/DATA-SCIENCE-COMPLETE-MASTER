{
 "cells": [
  {
   "cell_type": "markdown",
   "metadata": {},
   "source": [
    "# IMPORT ALL THE NECESSARY LIBRARIES"
   ]
  },
  {
   "cell_type": "code",
   "execution_count": 1,
   "metadata": {},
   "outputs": [],
   "source": [
    "import numpy as np\n",
    "import pandas as pd\n",
    "import matplotlib.pyplot as plt\n",
    "\n",
    "# import all the libraries for the neural network model\n",
    "from tensorflow.keras.models import Model\n",
    "from tensorflow.keras.layers import Dense, Input\n",
    "from tensorflow.keras.datasets import mnist"
   ]
  },
  {
   "cell_type": "markdown",
   "metadata": {},
   "source": [
    "# DATA PREPROCESSING OF MNIST"
   ]
  },
  {
   "cell_type": "code",
   "execution_count": 3,
   "metadata": {},
   "outputs": [
    {
     "name": "stdout",
     "output_type": "stream",
     "text": [
      "((array([[[0, 0, 0, ..., 0, 0, 0],\n",
      "        [0, 0, 0, ..., 0, 0, 0],\n",
      "        [0, 0, 0, ..., 0, 0, 0],\n",
      "        ...,\n",
      "        [0, 0, 0, ..., 0, 0, 0],\n",
      "        [0, 0, 0, ..., 0, 0, 0],\n",
      "        [0, 0, 0, ..., 0, 0, 0]],\n",
      "\n",
      "       [[0, 0, 0, ..., 0, 0, 0],\n",
      "        [0, 0, 0, ..., 0, 0, 0],\n",
      "        [0, 0, 0, ..., 0, 0, 0],\n",
      "        ...,\n",
      "        [0, 0, 0, ..., 0, 0, 0],\n",
      "        [0, 0, 0, ..., 0, 0, 0],\n",
      "        [0, 0, 0, ..., 0, 0, 0]],\n",
      "\n",
      "       [[0, 0, 0, ..., 0, 0, 0],\n",
      "        [0, 0, 0, ..., 0, 0, 0],\n",
      "        [0, 0, 0, ..., 0, 0, 0],\n",
      "        ...,\n",
      "        [0, 0, 0, ..., 0, 0, 0],\n",
      "        [0, 0, 0, ..., 0, 0, 0],\n",
      "        [0, 0, 0, ..., 0, 0, 0]],\n",
      "\n",
      "       ...,\n",
      "\n",
      "       [[0, 0, 0, ..., 0, 0, 0],\n",
      "        [0, 0, 0, ..., 0, 0, 0],\n",
      "        [0, 0, 0, ..., 0, 0, 0],\n",
      "        ...,\n",
      "        [0, 0, 0, ..., 0, 0, 0],\n",
      "        [0, 0, 0, ..., 0, 0, 0],\n",
      "        [0, 0, 0, ..., 0, 0, 0]],\n",
      "\n",
      "       [[0, 0, 0, ..., 0, 0, 0],\n",
      "        [0, 0, 0, ..., 0, 0, 0],\n",
      "        [0, 0, 0, ..., 0, 0, 0],\n",
      "        ...,\n",
      "        [0, 0, 0, ..., 0, 0, 0],\n",
      "        [0, 0, 0, ..., 0, 0, 0],\n",
      "        [0, 0, 0, ..., 0, 0, 0]],\n",
      "\n",
      "       [[0, 0, 0, ..., 0, 0, 0],\n",
      "        [0, 0, 0, ..., 0, 0, 0],\n",
      "        [0, 0, 0, ..., 0, 0, 0],\n",
      "        ...,\n",
      "        [0, 0, 0, ..., 0, 0, 0],\n",
      "        [0, 0, 0, ..., 0, 0, 0],\n",
      "        [0, 0, 0, ..., 0, 0, 0]]], dtype=uint8), array([5, 0, 4, ..., 5, 6, 8], dtype=uint8)), (array([[[0, 0, 0, ..., 0, 0, 0],\n",
      "        [0, 0, 0, ..., 0, 0, 0],\n",
      "        [0, 0, 0, ..., 0, 0, 0],\n",
      "        ...,\n",
      "        [0, 0, 0, ..., 0, 0, 0],\n",
      "        [0, 0, 0, ..., 0, 0, 0],\n",
      "        [0, 0, 0, ..., 0, 0, 0]],\n",
      "\n",
      "       [[0, 0, 0, ..., 0, 0, 0],\n",
      "        [0, 0, 0, ..., 0, 0, 0],\n",
      "        [0, 0, 0, ..., 0, 0, 0],\n",
      "        ...,\n",
      "        [0, 0, 0, ..., 0, 0, 0],\n",
      "        [0, 0, 0, ..., 0, 0, 0],\n",
      "        [0, 0, 0, ..., 0, 0, 0]],\n",
      "\n",
      "       [[0, 0, 0, ..., 0, 0, 0],\n",
      "        [0, 0, 0, ..., 0, 0, 0],\n",
      "        [0, 0, 0, ..., 0, 0, 0],\n",
      "        ...,\n",
      "        [0, 0, 0, ..., 0, 0, 0],\n",
      "        [0, 0, 0, ..., 0, 0, 0],\n",
      "        [0, 0, 0, ..., 0, 0, 0]],\n",
      "\n",
      "       ...,\n",
      "\n",
      "       [[0, 0, 0, ..., 0, 0, 0],\n",
      "        [0, 0, 0, ..., 0, 0, 0],\n",
      "        [0, 0, 0, ..., 0, 0, 0],\n",
      "        ...,\n",
      "        [0, 0, 0, ..., 0, 0, 0],\n",
      "        [0, 0, 0, ..., 0, 0, 0],\n",
      "        [0, 0, 0, ..., 0, 0, 0]],\n",
      "\n",
      "       [[0, 0, 0, ..., 0, 0, 0],\n",
      "        [0, 0, 0, ..., 0, 0, 0],\n",
      "        [0, 0, 0, ..., 0, 0, 0],\n",
      "        ...,\n",
      "        [0, 0, 0, ..., 0, 0, 0],\n",
      "        [0, 0, 0, ..., 0, 0, 0],\n",
      "        [0, 0, 0, ..., 0, 0, 0]],\n",
      "\n",
      "       [[0, 0, 0, ..., 0, 0, 0],\n",
      "        [0, 0, 0, ..., 0, 0, 0],\n",
      "        [0, 0, 0, ..., 0, 0, 0],\n",
      "        ...,\n",
      "        [0, 0, 0, ..., 0, 0, 0],\n",
      "        [0, 0, 0, ..., 0, 0, 0],\n",
      "        [0, 0, 0, ..., 0, 0, 0]]], dtype=uint8), array([7, 2, 1, ..., 4, 5, 6], dtype=uint8)))\n"
     ]
    }
   ],
   "source": [
    "# loading the dataset\n",
    "data = mnist.load_data()\n",
    "print(data)"
   ]
  },
  {
   "cell_type": "code",
   "execution_count": 4,
   "metadata": {},
   "outputs": [],
   "source": [
    "# Dividing the dataset into training and testing data\n",
    "(X_train,_),(X_test,_) = mnist.load_data()"
   ]
  },
  {
   "cell_type": "code",
   "execution_count": 6,
   "metadata": {},
   "outputs": [],
   "source": [
    "# Normalize the training and testing data in the range of 0 and 1\n",
    "X_train = X_train.astype('float')/255.0\n",
    "\n",
    "X_test = X_test.astype('float')/255.0"
   ]
  },
  {
   "cell_type": "code",
   "execution_count": 7,
   "metadata": {},
   "outputs": [
    {
     "name": "stdout",
     "output_type": "stream",
     "text": [
      "(60000, 28, 28)\n",
      "(10000, 28, 28)\n"
     ]
    }
   ],
   "source": [
    "# shape of the training and testing data\n",
    "print(X_train.shape)\n",
    "print(X_test.shape)"
   ]
  },
  {
   "cell_type": "code",
   "execution_count": 8,
   "metadata": {},
   "outputs": [],
   "source": [
    "# reshape all the data  by performing the flattening operation to make all the rows and columns in one row\n",
    "X_train = X_train.reshape(len(X_train), X_train.shape[1]**2)\n",
    "X_test  = X_test.reshape(len(X_test), X_test.shape[1]**2)"
   ]
  },
  {
   "cell_type": "code",
   "execution_count": 9,
   "metadata": {},
   "outputs": [
    {
     "name": "stdout",
     "output_type": "stream",
     "text": [
      "(60000, 784)\n",
      "(10000, 784)\n"
     ]
    }
   ],
   "source": [
    "print(X_train.shape)\n",
    "print(X_test.shape)"
   ]
  },
  {
   "cell_type": "markdown",
   "metadata": {},
   "source": [
    "# CREATION OF AUTOENCODER"
   ]
  },
  {
   "cell_type": "code",
   "execution_count": 11,
   "metadata": {},
   "outputs": [],
   "source": [
    "# Creating an Input layer\n",
    "Input_Img = Input(shape = (784,))\n",
    "\n",
    "# creation of the first layer for encoding\n",
    "a1 = Dense(units = 256, activation = 'relu')(Input_Img)\n",
    "# creation of the second layer for encoding\n",
    "a2 = Dense(units = 128, activation = 'relu')(a1)\n",
    "# creation of the third layer for encoding\n",
    "a3 = Dense(units = 64, activation = 'relu')(a2)\n",
    "# creation of encoded layer\n",
    "encoded = Dense(units = 32, activation = 'relu')(a3)\n",
    "\n",
    "\n",
    "# creation of the first layer for decoding\n",
    "b1 = Dense(units = 32, activation = 'sigmoid')(encoded)\n",
    "# creation of the second layer for decoding\n",
    "b2 = Dense(units = 128, activation = 'sigmoid')(b1)\n",
    "# creation of the third layer for decoding\n",
    "b3 = Dense(units = 256, activation = 'sigmoid')(b2)\n",
    "# creation of decoded layer\n",
    "decoder = Dense(units = 784, activation = 'sigmoid')(b3)\n",
    "                \n",
    "# creation of the autoencoder layer\n",
    "model = Model(Input_Img, decoder)"
   ]
  },
  {
   "cell_type": "code",
   "execution_count": 12,
   "metadata": {},
   "outputs": [
    {
     "name": "stdout",
     "output_type": "stream",
     "text": [
      "Model: \"model\"\n",
      "_________________________________________________________________\n",
      " Layer (type)                Output Shape              Param #   \n",
      "=================================================================\n",
      " input_1 (InputLayer)        [(None, 784)]             0         \n",
      "                                                                 \n",
      " dense (Dense)               (None, 256)               200960    \n",
      "                                                                 \n",
      " dense_1 (Dense)             (None, 128)               32896     \n",
      "                                                                 \n",
      " dense_2 (Dense)             (None, 64)                8256      \n",
      "                                                                 \n",
      " dense_3 (Dense)             (None, 32)                2080      \n",
      "                                                                 \n",
      " dense_4 (Dense)             (None, 32)                1056      \n",
      "                                                                 \n",
      " dense_5 (Dense)             (None, 128)               4224      \n",
      "                                                                 \n",
      " dense_6 (Dense)             (None, 256)               33024     \n",
      "                                                                 \n",
      " dense_7 (Dense)             (None, 784)               201488    \n",
      "                                                                 \n",
      "=================================================================\n",
      "Total params: 483,984\n",
      "Trainable params: 483,984\n",
      "Non-trainable params: 0\n",
      "_________________________________________________________________\n"
     ]
    }
   ],
   "source": [
    "# proivide the summary of the model\n",
    "model.summary()"
   ]
  },
  {
   "cell_type": "code",
   "execution_count": 14,
   "metadata": {},
   "outputs": [],
   "source": [
    "# creating the encoder model\n",
    "encoder = Model(Input_Img, encoded)"
   ]
  },
  {
   "cell_type": "markdown",
   "metadata": {},
   "source": [
    "# COMPILING THE AUTOENCODER MODEL"
   ]
  },
  {
   "cell_type": "code",
   "execution_count": 15,
   "metadata": {},
   "outputs": [],
   "source": [
    "model.compile(optimizer = 'adam', loss = 'binary_crossentropy', metrics = ['Accuracy'])"
   ]
  },
  {
   "cell_type": "markdown",
   "metadata": {},
   "source": [
    "# TRAIN THE AUTOENCODER MODEL"
   ]
  },
  {
   "cell_type": "code",
   "execution_count": 16,
   "metadata": {},
   "outputs": [
    {
     "name": "stdout",
     "output_type": "stream",
     "text": [
      "Epoch 1/100\n",
      "235/235 [==============================] - 4s 13ms/step - loss: 0.0307 - Accuracy: 0.0120 - val_loss: 0.8734 - val_Accuracy: 0.0091\n",
      "Epoch 2/100\n",
      "235/235 [==============================] - 3s 11ms/step - loss: 0.0042 - Accuracy: 0.0126 - val_loss: 0.8876 - val_Accuracy: 0.0161\n",
      "Epoch 3/100\n",
      "235/235 [==============================] - 3s 11ms/step - loss: 0.0041 - Accuracy: 0.0145 - val_loss: 0.8903 - val_Accuracy: 0.0161\n",
      "Epoch 4/100\n",
      "235/235 [==============================] - 2s 11ms/step - loss: 0.0040 - Accuracy: 0.0149 - val_loss: 0.8921 - val_Accuracy: 0.0161\n",
      "Epoch 5/100\n",
      "235/235 [==============================] - 2s 11ms/step - loss: 0.0040 - Accuracy: 0.0151 - val_loss: 0.8922 - val_Accuracy: 0.0143\n",
      "Epoch 6/100\n",
      "235/235 [==============================] - 3s 11ms/step - loss: 0.0040 - Accuracy: 0.0148 - val_loss: 0.8929 - val_Accuracy: 0.0161\n",
      "Epoch 7/100\n",
      "235/235 [==============================] - 2s 10ms/step - loss: 0.0040 - Accuracy: 0.0147 - val_loss: 0.8931 - val_Accuracy: 0.0143\n",
      "Epoch 8/100\n",
      "235/235 [==============================] - 2s 10ms/step - loss: 0.0040 - Accuracy: 0.0152 - val_loss: 0.8934 - val_Accuracy: 0.0143\n",
      "Epoch 9/100\n",
      "235/235 [==============================] - 3s 11ms/step - loss: 0.0040 - Accuracy: 0.0142 - val_loss: 0.8936 - val_Accuracy: 0.0161\n",
      "Epoch 10/100\n",
      "235/235 [==============================] - 3s 11ms/step - loss: 0.0040 - Accuracy: 0.0148 - val_loss: 0.8931 - val_Accuracy: 0.0143\n",
      "Epoch 11/100\n",
      "235/235 [==============================] - 3s 12ms/step - loss: 0.0040 - Accuracy: 0.0146 - val_loss: 0.8939 - val_Accuracy: 0.0161\n",
      "Epoch 12/100\n",
      "235/235 [==============================] - 3s 12ms/step - loss: 0.0040 - Accuracy: 0.0146 - val_loss: 0.8940 - val_Accuracy: 0.0161\n",
      "Epoch 13/100\n",
      "235/235 [==============================] - 3s 12ms/step - loss: 0.0040 - Accuracy: 0.0143 - val_loss: 0.8931 - val_Accuracy: 0.0161\n",
      "Epoch 14/100\n",
      "235/235 [==============================] - 3s 12ms/step - loss: 0.0040 - Accuracy: 0.0145 - val_loss: 0.8941 - val_Accuracy: 0.0161\n",
      "Epoch 15/100\n",
      "235/235 [==============================] - 3s 12ms/step - loss: 0.0040 - Accuracy: 0.0141 - val_loss: 0.8935 - val_Accuracy: 0.0161\n",
      "Epoch 16/100\n",
      "235/235 [==============================] - 3s 12ms/step - loss: 0.0040 - Accuracy: 0.0147 - val_loss: 0.8938 - val_Accuracy: 0.0161\n",
      "Epoch 17/100\n",
      "235/235 [==============================] - 3s 12ms/step - loss: 0.0040 - Accuracy: 0.0143 - val_loss: 0.8942 - val_Accuracy: 0.0161\n",
      "Epoch 18/100\n",
      "235/235 [==============================] - 3s 12ms/step - loss: 0.0040 - Accuracy: 0.0142 - val_loss: 0.8942 - val_Accuracy: 0.0143\n",
      "Epoch 19/100\n",
      "235/235 [==============================] - 3s 12ms/step - loss: 0.0040 - Accuracy: 0.0131 - val_loss: 0.8945 - val_Accuracy: 0.0143\n",
      "Epoch 20/100\n",
      "235/235 [==============================] - 3s 12ms/step - loss: 0.0040 - Accuracy: 0.0139 - val_loss: 0.8944 - val_Accuracy: 0.0161\n",
      "Epoch 21/100\n",
      "235/235 [==============================] - 3s 12ms/step - loss: 0.0040 - Accuracy: 0.0141 - val_loss: 0.8930 - val_Accuracy: 0.0143\n",
      "Epoch 22/100\n",
      "235/235 [==============================] - 3s 12ms/step - loss: 0.0040 - Accuracy: 0.0131 - val_loss: 0.8927 - val_Accuracy: 0.0143\n",
      "Epoch 23/100\n",
      "235/235 [==============================] - 3s 12ms/step - loss: 0.0040 - Accuracy: 0.0131 - val_loss: 0.8942 - val_Accuracy: 0.0037\n",
      "Epoch 24/100\n",
      "235/235 [==============================] - 3s 12ms/step - loss: 0.0040 - Accuracy: 0.0125 - val_loss: 0.8923 - val_Accuracy: 0.0083\n",
      "Epoch 25/100\n",
      "235/235 [==============================] - 3s 12ms/step - loss: 0.0040 - Accuracy: 0.0119 - val_loss: 0.8930 - val_Accuracy: 0.0059\n",
      "Epoch 26/100\n",
      "235/235 [==============================] - 3s 12ms/step - loss: 0.0040 - Accuracy: 0.0126 - val_loss: 0.8936 - val_Accuracy: 0.0143\n",
      "Epoch 27/100\n",
      "235/235 [==============================] - 3s 12ms/step - loss: 0.0040 - Accuracy: 0.0114 - val_loss: 0.8939 - val_Accuracy: 0.0161\n",
      "Epoch 28/100\n",
      "235/235 [==============================] - 3s 12ms/step - loss: 0.0040 - Accuracy: 0.0122 - val_loss: 0.8931 - val_Accuracy: 0.0143\n",
      "Epoch 29/100\n",
      "235/235 [==============================] - 3s 12ms/step - loss: 0.0040 - Accuracy: 0.0128 - val_loss: 0.8939 - val_Accuracy: 0.0143\n",
      "Epoch 30/100\n",
      "235/235 [==============================] - 3s 12ms/step - loss: 0.0040 - Accuracy: 0.0115 - val_loss: 0.8936 - val_Accuracy: 0.0143\n",
      "Epoch 31/100\n",
      "235/235 [==============================] - 3s 12ms/step - loss: 0.0040 - Accuracy: 0.0110 - val_loss: 0.8948 - val_Accuracy: 0.0161\n",
      "Epoch 32/100\n",
      "235/235 [==============================] - 3s 12ms/step - loss: 0.0040 - Accuracy: 0.0120 - val_loss: 0.8948 - val_Accuracy: 0.0143\n",
      "Epoch 33/100\n",
      "235/235 [==============================] - 3s 12ms/step - loss: 0.0040 - Accuracy: 0.0121 - val_loss: 0.8940 - val_Accuracy: 0.0161\n",
      "Epoch 34/100\n",
      "235/235 [==============================] - 3s 12ms/step - loss: 0.0040 - Accuracy: 0.0102 - val_loss: 0.8936 - val_Accuracy: 0.0091\n",
      "Epoch 35/100\n",
      "235/235 [==============================] - 3s 12ms/step - loss: 0.0040 - Accuracy: 0.0108 - val_loss: 0.8951 - val_Accuracy: 0.0143\n",
      "Epoch 36/100\n",
      "235/235 [==============================] - 3s 12ms/step - loss: 0.0040 - Accuracy: 0.0106 - val_loss: 0.8969 - val_Accuracy: 0.0161\n",
      "Epoch 37/100\n",
      "235/235 [==============================] - 3s 12ms/step - loss: 0.0040 - Accuracy: 0.0112 - val_loss: 0.8962 - val_Accuracy: 0.0034\n",
      "Epoch 38/100\n",
      "235/235 [==============================] - 3s 12ms/step - loss: 0.0040 - Accuracy: 0.0111 - val_loss: 0.8937 - val_Accuracy: 0.0161\n",
      "Epoch 39/100\n",
      "235/235 [==============================] - 3s 12ms/step - loss: 0.0040 - Accuracy: 0.0100 - val_loss: 0.8957 - val_Accuracy: 0.0161\n",
      "Epoch 40/100\n",
      "235/235 [==============================] - 3s 12ms/step - loss: 0.0040 - Accuracy: 0.0100 - val_loss: 0.8931 - val_Accuracy: 0.0037\n",
      "Epoch 41/100\n",
      "235/235 [==============================] - 3s 13ms/step - loss: 0.0040 - Accuracy: 0.0099 - val_loss: 0.8957 - val_Accuracy: 0.0037\n",
      "Epoch 42/100\n",
      "235/235 [==============================] - 3s 12ms/step - loss: 0.0040 - Accuracy: 0.0109 - val_loss: 0.8923 - val_Accuracy: 0.0065\n",
      "Epoch 43/100\n",
      "235/235 [==============================] - 3s 13ms/step - loss: 0.0040 - Accuracy: 0.0094 - val_loss: 0.8958 - val_Accuracy: 0.0161\n",
      "Epoch 44/100\n",
      "235/235 [==============================] - 3s 12ms/step - loss: 0.0040 - Accuracy: 0.0099 - val_loss: 0.8895 - val_Accuracy: 0.0037\n",
      "Epoch 45/100\n",
      "235/235 [==============================] - 3s 12ms/step - loss: 0.0040 - Accuracy: 0.0098 - val_loss: 0.8941 - val_Accuracy: 0.0034\n",
      "Epoch 46/100\n",
      "235/235 [==============================] - 3s 12ms/step - loss: 0.0040 - Accuracy: 0.0106 - val_loss: 0.8993 - val_Accuracy: 0.0161\n",
      "Epoch 47/100\n",
      "235/235 [==============================] - 3s 12ms/step - loss: 0.0040 - Accuracy: 0.0094 - val_loss: 0.8931 - val_Accuracy: 0.0162\n",
      "Epoch 48/100\n",
      "235/235 [==============================] - 3s 12ms/step - loss: 0.0040 - Accuracy: 0.0092 - val_loss: 0.8892 - val_Accuracy: 0.0049\n",
      "Epoch 49/100\n",
      "235/235 [==============================] - 3s 12ms/step - loss: 0.0040 - Accuracy: 0.0092 - val_loss: 0.8956 - val_Accuracy: 0.0161\n",
      "Epoch 50/100\n",
      "235/235 [==============================] - 3s 12ms/step - loss: 0.0040 - Accuracy: 0.0106 - val_loss: 0.8969 - val_Accuracy: 0.0059\n",
      "Epoch 51/100\n",
      "235/235 [==============================] - 3s 12ms/step - loss: 0.0040 - Accuracy: 0.0098 - val_loss: 0.8931 - val_Accuracy: 0.0049\n",
      "Epoch 52/100\n",
      "235/235 [==============================] - 3s 12ms/step - loss: 0.0040 - Accuracy: 0.0103 - val_loss: 0.8978 - val_Accuracy: 0.0161\n",
      "Epoch 53/100\n",
      "235/235 [==============================] - 3s 12ms/step - loss: 0.0040 - Accuracy: 0.0100 - val_loss: 0.8949 - val_Accuracy: 0.0037\n",
      "Epoch 54/100\n",
      "235/235 [==============================] - 3s 12ms/step - loss: 0.0040 - Accuracy: 0.0089 - val_loss: 0.8933 - val_Accuracy: 0.0112\n",
      "Epoch 55/100\n",
      "235/235 [==============================] - 3s 12ms/step - loss: 0.0040 - Accuracy: 0.0107 - val_loss: 0.8949 - val_Accuracy: 0.0161\n",
      "Epoch 56/100\n",
      "235/235 [==============================] - 3s 12ms/step - loss: 0.0040 - Accuracy: 0.0106 - val_loss: 0.8951 - val_Accuracy: 0.0143\n",
      "Epoch 57/100\n",
      "235/235 [==============================] - 3s 11ms/step - loss: 0.0040 - Accuracy: 0.0096 - val_loss: 0.8904 - val_Accuracy: 0.0037\n",
      "Epoch 58/100\n",
      "235/235 [==============================] - 3s 11ms/step - loss: 0.0040 - Accuracy: 0.0099 - val_loss: 0.8956 - val_Accuracy: 0.0037\n",
      "Epoch 59/100\n",
      "235/235 [==============================] - 3s 12ms/step - loss: 0.0040 - Accuracy: 0.0104 - val_loss: 0.8943 - val_Accuracy: 0.0161\n",
      "Epoch 60/100\n",
      "235/235 [==============================] - 3s 11ms/step - loss: 0.0040 - Accuracy: 0.0107 - val_loss: 0.8969 - val_Accuracy: 0.0083\n",
      "Epoch 61/100\n",
      "235/235 [==============================] - 3s 11ms/step - loss: 0.0040 - Accuracy: 0.0104 - val_loss: 0.8930 - val_Accuracy: 0.0143\n",
      "Epoch 62/100\n",
      "235/235 [==============================] - 3s 11ms/step - loss: 0.0040 - Accuracy: 0.0092 - val_loss: 0.8977 - val_Accuracy: 0.0143\n",
      "Epoch 63/100\n",
      "235/235 [==============================] - 3s 12ms/step - loss: 0.0040 - Accuracy: 0.0095 - val_loss: 0.8935 - val_Accuracy: 0.0143\n",
      "Epoch 64/100\n",
      "235/235 [==============================] - 3s 12ms/step - loss: 0.0040 - Accuracy: 0.0108 - val_loss: 0.8949 - val_Accuracy: 0.0143\n",
      "Epoch 65/100\n",
      "235/235 [==============================] - 3s 12ms/step - loss: 0.0040 - Accuracy: 0.0102 - val_loss: 0.8938 - val_Accuracy: 0.0083\n",
      "Epoch 66/100\n",
      "235/235 [==============================] - 3s 12ms/step - loss: 0.0040 - Accuracy: 0.0109 - val_loss: 0.8937 - val_Accuracy: 0.0034\n",
      "Epoch 67/100\n",
      "235/235 [==============================] - 3s 12ms/step - loss: 0.0040 - Accuracy: 0.0105 - val_loss: 0.8931 - val_Accuracy: 0.0161\n",
      "Epoch 68/100\n",
      "235/235 [==============================] - 3s 12ms/step - loss: 0.0040 - Accuracy: 0.0095 - val_loss: 0.8974 - val_Accuracy: 0.0143\n",
      "Epoch 69/100\n",
      "235/235 [==============================] - 3s 11ms/step - loss: 0.0040 - Accuracy: 0.0100 - val_loss: 0.8956 - val_Accuracy: 0.0143\n",
      "Epoch 70/100\n",
      "235/235 [==============================] - 3s 12ms/step - loss: 0.0040 - Accuracy: 0.0098 - val_loss: 0.8963 - val_Accuracy: 0.0161\n",
      "Epoch 71/100\n",
      "235/235 [==============================] - 3s 11ms/step - loss: 0.0040 - Accuracy: 0.0110 - val_loss: 0.8906 - val_Accuracy: 0.0040\n",
      "Epoch 72/100\n",
      "235/235 [==============================] - 3s 12ms/step - loss: 0.0040 - Accuracy: 0.0101 - val_loss: 0.8944 - val_Accuracy: 0.0022\n",
      "Epoch 73/100\n",
      "235/235 [==============================] - 3s 11ms/step - loss: 0.0040 - Accuracy: 0.0093 - val_loss: 0.8979 - val_Accuracy: 0.0037\n",
      "Epoch 74/100\n",
      "235/235 [==============================] - 3s 12ms/step - loss: 0.0040 - Accuracy: 0.0106 - val_loss: 0.8928 - val_Accuracy: 0.0161\n",
      "Epoch 75/100\n",
      "235/235 [==============================] - 3s 12ms/step - loss: 0.0040 - Accuracy: 0.0092 - val_loss: 0.8980 - val_Accuracy: 0.0065\n",
      "Epoch 76/100\n",
      "235/235 [==============================] - 3s 12ms/step - loss: 0.0040 - Accuracy: 0.0097 - val_loss: 0.8982 - val_Accuracy: 0.0143\n",
      "Epoch 77/100\n",
      "235/235 [==============================] - 3s 12ms/step - loss: 0.0040 - Accuracy: 0.0100 - val_loss: 0.8937 - val_Accuracy: 0.0031\n",
      "Epoch 78/100\n",
      "235/235 [==============================] - 3s 12ms/step - loss: 0.0040 - Accuracy: 0.0100 - val_loss: 0.8967 - val_Accuracy: 0.0143\n",
      "Epoch 79/100\n",
      "235/235 [==============================] - 3s 12ms/step - loss: 0.0040 - Accuracy: 0.0104 - val_loss: 0.8937 - val_Accuracy: 0.0065\n",
      "Epoch 80/100\n",
      "235/235 [==============================] - 3s 11ms/step - loss: 0.0040 - Accuracy: 0.0103 - val_loss: 0.8943 - val_Accuracy: 0.0065\n",
      "Epoch 81/100\n",
      "235/235 [==============================] - 3s 12ms/step - loss: 0.0040 - Accuracy: 0.0110 - val_loss: 0.8942 - val_Accuracy: 0.0143\n",
      "Epoch 82/100\n",
      "235/235 [==============================] - 3s 11ms/step - loss: 0.0040 - Accuracy: 0.0100 - val_loss: 0.8906 - val_Accuracy: 0.0143\n",
      "Epoch 83/100\n",
      "235/235 [==============================] - 3s 12ms/step - loss: 0.0040 - Accuracy: 0.0105 - val_loss: 0.8968 - val_Accuracy: 0.0143\n",
      "Epoch 84/100\n",
      "235/235 [==============================] - 3s 11ms/step - loss: 0.0040 - Accuracy: 0.0104 - val_loss: 0.8937 - val_Accuracy: 0.0161\n",
      "Epoch 85/100\n",
      "235/235 [==============================] - 3s 12ms/step - loss: 0.0040 - Accuracy: 0.0103 - val_loss: 0.8923 - val_Accuracy: 0.0161\n",
      "Epoch 86/100\n",
      "235/235 [==============================] - 3s 12ms/step - loss: 0.0040 - Accuracy: 0.0108 - val_loss: 0.8947 - val_Accuracy: 0.0161\n",
      "Epoch 87/100\n",
      "235/235 [==============================] - 3s 12ms/step - loss: 0.0040 - Accuracy: 0.0096 - val_loss: 0.9008 - val_Accuracy: 0.0143\n",
      "Epoch 88/100\n",
      "235/235 [==============================] - 3s 12ms/step - loss: 0.0040 - Accuracy: 0.0098 - val_loss: 0.8950 - val_Accuracy: 0.0161\n",
      "Epoch 89/100\n",
      "235/235 [==============================] - 3s 12ms/step - loss: 0.0040 - Accuracy: 0.0102 - val_loss: 0.8948 - val_Accuracy: 0.0161\n",
      "Epoch 90/100\n",
      "235/235 [==============================] - 3s 12ms/step - loss: 0.0040 - Accuracy: 0.0106 - val_loss: 0.8940 - val_Accuracy: 0.0143\n",
      "Epoch 91/100\n",
      "235/235 [==============================] - 3s 12ms/step - loss: 0.0040 - Accuracy: 0.0107 - val_loss: 0.8917 - val_Accuracy: 0.0143\n",
      "Epoch 92/100\n",
      "235/235 [==============================] - 3s 12ms/step - loss: 0.0040 - Accuracy: 0.0096 - val_loss: 0.8936 - val_Accuracy: 0.0143\n",
      "Epoch 93/100\n",
      "235/235 [==============================] - 3s 12ms/step - loss: 0.0040 - Accuracy: 0.0103 - val_loss: 0.8968 - val_Accuracy: 0.0049\n",
      "Epoch 94/100\n",
      "235/235 [==============================] - 3s 12ms/step - loss: 0.0040 - Accuracy: 0.0104 - val_loss: 0.8895 - val_Accuracy: 0.0161\n",
      "Epoch 95/100\n",
      "235/235 [==============================] - 3s 12ms/step - loss: 0.0040 - Accuracy: 0.0093 - val_loss: 0.8979 - val_Accuracy: 0.0083\n",
      "Epoch 96/100\n",
      "235/235 [==============================] - 3s 12ms/step - loss: 0.0040 - Accuracy: 0.0104 - val_loss: 0.8936 - val_Accuracy: 0.0083\n",
      "Epoch 97/100\n",
      "235/235 [==============================] - 3s 11ms/step - loss: 0.0040 - Accuracy: 0.0097 - val_loss: 0.8980 - val_Accuracy: 0.0143\n",
      "Epoch 98/100\n",
      "235/235 [==============================] - 3s 12ms/step - loss: 0.0040 - Accuracy: 0.0111 - val_loss: 0.8936 - val_Accuracy: 0.0040\n",
      "Epoch 99/100\n",
      "235/235 [==============================] - 3s 12ms/step - loss: 0.0040 - Accuracy: 0.0108 - val_loss: 0.8918 - val_Accuracy: 0.0161\n",
      "Epoch 100/100\n",
      "235/235 [==============================] - 3s 12ms/step - loss: 0.0040 - Accuracy: 0.0112 - val_loss: 0.8944 - val_Accuracy: 0.0065\n"
     ]
    },
    {
     "data": {
      "text/plain": [
       "<keras.callbacks.History at 0x1b83ddd67c0>"
      ]
     },
     "execution_count": 16,
     "metadata": {},
     "output_type": "execute_result"
    }
   ],
   "source": [
    "model.fit(X_train,\n",
    "          X_train,\n",
    "         epochs = 100,\n",
    "         batch_size = 256,\n",
    "         shuffle = True,\n",
    "         validation_data = (X_test, X_test))"
   ]
  },
  {
   "cell_type": "markdown",
   "metadata": {},
   "source": [
    "# PREDICTING THE AUTOENCODER VALUES"
   ]
  },
  {
   "cell_type": "code",
   "execution_count": 37,
   "metadata": {},
   "outputs": [
    {
     "name": "stdout",
     "output_type": "stream",
     "text": [
      "[[ 0.         4.0561056 11.544729  ... 28.261303   0.         0.       ]\n",
      " [ 0.         4.5728674 12.699517  ... 30.740177   0.         0.       ]\n",
      " [ 0.         3.360636   8.621525  ... 21.330652   0.         0.       ]\n",
      " ...\n",
      " [ 0.         6.5935163 17.71076   ... 43.186825   0.         0.       ]\n",
      " [ 0.         5.5943437 15.288896  ... 37.317764   0.         0.       ]\n",
      " [ 0.         6.8006043 18.217926  ... 44.62705    0.         0.       ]]\n"
     ]
    }
   ],
   "source": [
    "# predicting all the encoder values\n",
    "pred_encoder = encoder.predict(X_test)\n",
    "print(pred_encoder)"
   ]
  },
  {
   "cell_type": "code",
   "execution_count": 38,
   "metadata": {},
   "outputs": [
    {
     "name": "stdout",
     "output_type": "stream",
     "text": [
      "[[1.1065363e-07 1.0527654e-07 9.6931849e-08 ... 1.0435472e-07\n",
      "  1.0711813e-07 1.0785927e-07]\n",
      " [1.1065363e-07 1.0527654e-07 9.6931849e-08 ... 1.0435472e-07\n",
      "  1.0711813e-07 1.0785927e-07]\n",
      " [1.1065363e-07 1.0527654e-07 9.6931849e-08 ... 1.0435472e-07\n",
      "  1.0711813e-07 1.0785927e-07]\n",
      " ...\n",
      " [1.1065363e-07 1.0527654e-07 9.6931849e-08 ... 1.0435472e-07\n",
      "  1.0711813e-07 1.0785927e-07]\n",
      " [1.1065363e-07 1.0527654e-07 9.6931849e-08 ... 1.0435472e-07\n",
      "  1.0711813e-07 1.0785927e-07]\n",
      " [1.1065363e-07 1.0527654e-07 9.6931849e-08 ... 1.0435472e-07\n",
      "  1.0711813e-07 1.0785927e-07]]\n"
     ]
    }
   ],
   "source": [
    "# predicting all the autoencoder values\n",
    "pred_autoencoder = model.predict(X_test)\n",
    "print(pred_autoencoder)"
   ]
  },
  {
   "cell_type": "markdown",
   "metadata": {},
   "source": [
    "# PLOTTING ALL THE AUTOENCODER VALUES"
   ]
  },
  {
   "cell_type": "code",
   "execution_count": 39,
   "metadata": {},
   "outputs": [
    {
     "data": {
      "image/png": "[encoded data removed]",
      "text/plain": [
       "<Figure size 2880x288 with 30 Axes>"
      ]
     },
     "metadata": {
      "needs_background": "light"
     },
     "output_type": "display_data"
    }
   ],
   "source": [
    "import matplotlib.pyplot as plt\n",
    "\n",
    "plt.figure(figsize=(40, 4))\n",
    "for i in range(10):\n",
    "    # Display original\n",
    "    ax = plt.subplot(3, 20, i + 1)\n",
    "    plt.imshow(X_test[i].reshape(28, 28))\n",
    "    plt.gray()\n",
    "    ax.get_xaxis().set_visible(False)\n",
    "    ax.get_yaxis().set_visible(False)\n",
    "    \n",
    "    # Display encoded\n",
    "    ax = plt.subplot(3, 20, i + 1 + 20)\n",
    "    plt.imshow(pred_encoder[i].reshape(8, 4))\n",
    "    plt.gray()\n",
    "    ax.get_xaxis().set_visible(False)\n",
    "    ax.get_yaxis().set_visible(False)\n",
    "\n",
    "    # Display decoded\n",
    "    ax = plt.subplot(3, 20, 2 * 20 + i + 1)\n",
    "    plt.imshow(pred_autoencoder[i].reshape(28, 28))\n",
    "    plt.gray()\n",
    "    ax.get_xaxis().set_visible(False)\n",
    "    ax.get_yaxis().set_visible(False)\n",
    "    \n",
    "plt.show()"
   ]
  },
  {
   "cell_type": "code",
   "execution_count": null,
   "metadata": {},
   "outputs": [],
   "source": []
  }
 ],
 "metadata": {
  "kernelspec": {
   "display_name": "Python 3",
   "language": "python",
   "name": "python3"
  },
  "language_info": {
   "codemirror_mode": {
    "name": "ipython",
    "version": 3
   },
   "file_extension": ".py",
   "mimetype": "text/x-python",
   "name": "python",
   "nbconvert_exporter": "python",
   "pygments_lexer": "ipython3",
   "version": "3.8.3"
  }
 },
 "nbformat": 4,
 "nbformat_minor": 4
}
