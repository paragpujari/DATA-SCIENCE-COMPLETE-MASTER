{
 "cells": [
  {
   "cell_type": "code",
   "execution_count": 1,
   "metadata": {},
   "outputs": [],
   "source": [
    "# import all the necessary libraries\n",
    "\n",
    "import numpy as np\n",
    "import pandas as pd\n",
    "import matplotlib.pyplot as plt\n",
    "%matplotlib inline"
   ]
  },
  {
   "cell_type": "code",
   "execution_count": 2,
   "metadata": {},
   "outputs": [],
   "source": [
    "# load the dataset\n",
    "data = pd.read_csv('Height_Weight_Dataset.csv')"
   ]
  },
  {
   "cell_type": "code",
   "execution_count": 3,
   "metadata": {},
   "outputs": [
    {
     "data": {
      "text/html": [
       "<div>\n",
       "<style scoped>\n",
       "    .dataframe tbody tr th:only-of-type {\n",
       "        vertical-align: middle;\n",
       "    }\n",
       "\n",
       "    .dataframe tbody tr th {\n",
       "        vertical-align: top;\n",
       "    }\n",
       "\n",
       "    .dataframe thead th {\n",
       "        text-align: right;\n",
       "    }\n",
       "</style>\n",
       "<table border=\"1\" class=\"dataframe\">\n",
       "  <thead>\n",
       "    <tr style=\"text-align: right;\">\n",
       "      <th></th>\n",
       "      <th>Age</th>\n",
       "      <th>Height</th>\n",
       "    </tr>\n",
       "  </thead>\n",
       "  <tbody>\n",
       "    <tr>\n",
       "      <th>0</th>\n",
       "      <td>10</td>\n",
       "      <td>138</td>\n",
       "    </tr>\n",
       "    <tr>\n",
       "      <th>1</th>\n",
       "      <td>11</td>\n",
       "      <td>138</td>\n",
       "    </tr>\n",
       "    <tr>\n",
       "      <th>2</th>\n",
       "      <td>12</td>\n",
       "      <td>138</td>\n",
       "    </tr>\n",
       "    <tr>\n",
       "      <th>3</th>\n",
       "      <td>13</td>\n",
       "      <td>139</td>\n",
       "    </tr>\n",
       "    <tr>\n",
       "      <th>4</th>\n",
       "      <td>14</td>\n",
       "      <td>139</td>\n",
       "    </tr>\n",
       "  </tbody>\n",
       "</table>\n",
       "</div>"
      ],
      "text/plain": [
       "   Age  Height\n",
       "0   10     138\n",
       "1   11     138\n",
       "2   12     138\n",
       "3   13     139\n",
       "4   14     139"
      ]
     },
     "execution_count": 3,
     "metadata": {},
     "output_type": "execute_result"
    }
   ],
   "source": [
    "# load the first five rows of the dataset\n",
    "data.head()"
   ]
  },
  {
   "cell_type": "code",
   "execution_count": 4,
   "metadata": {},
   "outputs": [
    {
     "data": {
      "text/html": [
       "<div>\n",
       "<style scoped>\n",
       "    .dataframe tbody tr th:only-of-type {\n",
       "        vertical-align: middle;\n",
       "    }\n",
       "\n",
       "    .dataframe tbody tr th {\n",
       "        vertical-align: top;\n",
       "    }\n",
       "\n",
       "    .dataframe thead th {\n",
       "        text-align: right;\n",
       "    }\n",
       "</style>\n",
       "<table border=\"1\" class=\"dataframe\">\n",
       "  <thead>\n",
       "    <tr style=\"text-align: right;\">\n",
       "      <th></th>\n",
       "      <th>Age</th>\n",
       "      <th>Height</th>\n",
       "    </tr>\n",
       "  </thead>\n",
       "  <tbody>\n",
       "    <tr>\n",
       "      <th>66</th>\n",
       "      <td>76</td>\n",
       "      <td>204</td>\n",
       "    </tr>\n",
       "    <tr>\n",
       "      <th>67</th>\n",
       "      <td>77</td>\n",
       "      <td>205</td>\n",
       "    </tr>\n",
       "    <tr>\n",
       "      <th>68</th>\n",
       "      <td>78</td>\n",
       "      <td>206</td>\n",
       "    </tr>\n",
       "    <tr>\n",
       "      <th>69</th>\n",
       "      <td>79</td>\n",
       "      <td>207</td>\n",
       "    </tr>\n",
       "    <tr>\n",
       "      <th>70</th>\n",
       "      <td>80</td>\n",
       "      <td>208</td>\n",
       "    </tr>\n",
       "  </tbody>\n",
       "</table>\n",
       "</div>"
      ],
      "text/plain": [
       "    Age  Height\n",
       "66   76     204\n",
       "67   77     205\n",
       "68   78     206\n",
       "69   79     207\n",
       "70   80     208"
      ]
     },
     "execution_count": 4,
     "metadata": {},
     "output_type": "execute_result"
    }
   ],
   "source": [
    "# load the last five rows of the dataset\n",
    "data.tail()"
   ]
  },
  {
   "cell_type": "code",
   "execution_count": 6,
   "metadata": {},
   "outputs": [
    {
     "data": {
      "text/plain": [
       "(71, 2)"
      ]
     },
     "execution_count": 6,
     "metadata": {},
     "output_type": "execute_result"
    }
   ],
   "source": [
    "# shape of the dataset\n",
    "data.shape"
   ]
  },
  {
   "cell_type": "code",
   "execution_count": 7,
   "metadata": {},
   "outputs": [
    {
     "data": {
      "text/plain": [
       "Age       0\n",
       "Height    0\n",
       "dtype: int64"
      ]
     },
     "execution_count": 7,
     "metadata": {},
     "output_type": "execute_result"
    }
   ],
   "source": [
    "# To check if there are any null values in the column\n",
    "data.isnull().sum()"
   ]
  },
  {
   "cell_type": "markdown",
   "metadata": {},
   "source": [
    "## So from the above observation, it is clear that there are no NULL values in the dataset"
   ]
  },
  {
   "cell_type": "code",
   "execution_count": 8,
   "metadata": {},
   "outputs": [
    {
     "name": "stdout",
     "output_type": "stream",
     "text": [
      "[[10]\n",
      " [11]\n",
      " [12]\n",
      " [13]\n",
      " [14]\n",
      " [15]\n",
      " [16]\n",
      " [17]\n",
      " [18]\n",
      " [19]\n",
      " [20]\n",
      " [21]\n",
      " [22]\n",
      " [23]\n",
      " [24]\n",
      " [25]\n",
      " [26]\n",
      " [27]\n",
      " [28]\n",
      " [29]\n",
      " [30]\n",
      " [31]\n",
      " [32]\n",
      " [33]\n",
      " [34]\n",
      " [35]\n",
      " [36]\n",
      " [37]\n",
      " [38]\n",
      " [39]\n",
      " [40]\n",
      " [41]\n",
      " [42]\n",
      " [43]\n",
      " [44]\n",
      " [45]\n",
      " [46]\n",
      " [47]\n",
      " [48]\n",
      " [49]\n",
      " [50]\n",
      " [51]\n",
      " [52]\n",
      " [53]\n",
      " [54]\n",
      " [55]\n",
      " [56]\n",
      " [57]\n",
      " [58]\n",
      " [59]\n",
      " [60]\n",
      " [61]\n",
      " [62]\n",
      " [63]\n",
      " [64]\n",
      " [65]\n",
      " [66]\n",
      " [67]\n",
      " [68]\n",
      " [69]\n",
      " [70]\n",
      " [71]\n",
      " [72]\n",
      " [73]\n",
      " [74]\n",
      " [75]\n",
      " [76]\n",
      " [77]\n",
      " [78]\n",
      " [79]\n",
      " [80]]\n"
     ]
    }
   ],
   "source": [
    "# Divide the dataset into independent and dependent variables\n",
    "X = data.iloc[:,0:1].values\n",
    "print(X)\n",
    "\n",
    "Y = data.iloc[:,1].values\n"
   ]
  },
  {
   "cell_type": "code",
   "execution_count": 9,
   "metadata": {},
   "outputs": [
    {
     "name": "stdout",
     "output_type": "stream",
     "text": [
      "[138 138 138 139 139 139 140 140 140 141 141 141 142 142 142 143 143 143\n",
      " 144 144 145 145 146 146 147 147 148 148 149 149 150 150 151 152 153 155\n",
      " 156 157 158 159 160 161 162 163 164 164 165 166 167 168 169 170 171 172\n",
      " 173 175 178 180 183 185 188 190 193 195 199 203 204 205 206 207 208]\n"
     ]
    }
   ],
   "source": [
    "print(Y)"
   ]
  },
  {
   "cell_type": "code",
   "execution_count": 10,
   "metadata": {},
   "outputs": [],
   "source": [
    "# Divide the dataset into training and testing data\n",
    "from sklearn.model_selection import train_test_split\n",
    "\n",
    "X_train, X_test, Y_train, Y_test = train_test_split(X,Y,test_size = 0.3, random_state = 0)"
   ]
  },
  {
   "cell_type": "code",
   "execution_count": 11,
   "metadata": {},
   "outputs": [],
   "source": [
    "# Train the data using Linear Regression model\n",
    "from sklearn.linear_model import LinearRegression\n",
    "\n",
    "lin = LinearRegression()"
   ]
  },
  {
   "cell_type": "code",
   "execution_count": 12,
   "metadata": {},
   "outputs": [
    {
     "data": {
      "text/plain": [
       "LinearRegression()"
      ]
     },
     "execution_count": 12,
     "metadata": {},
     "output_type": "execute_result"
    }
   ],
   "source": [
    "# train the model using training data\n",
    "lin.fit(X_train, Y_train)"
   ]
  },
  {
   "cell_type": "code",
   "execution_count": 13,
   "metadata": {},
   "outputs": [
    {
     "name": "stdout",
     "output_type": "stream",
     "text": [
      "[130.83473492 165.77149667 139.10923113 131.75412339 178.6429352\n",
      " 170.368439   138.18984266 166.69088513 174.04599287 177.72354674\n",
      " 181.4011006  158.41638893 141.86739653 191.51437374 146.46433886\n",
      " 155.65822353 176.80415827 161.17455433 145.5449504  128.99595799\n",
      " 142.78678499 133.59290033 143.70617346 147.38372733 189.67559681\n",
      " 136.35106573 140.94800806 151.98066966 163.01333127 144.62556193\n",
      " 184.15926601 171.28782747 186.91743141 164.8521082  163.93271973\n",
      " 129.91534646 182.32048907 140.02861959 185.07865447 151.0612812\n",
      " 134.51228879 150.14189273 162.0939428  148.3031158  137.27045419\n",
      " 190.59498527 187.83681987 172.20721594 169.44905053]\n"
     ]
    }
   ],
   "source": [
    "# predict the training data\n",
    "y_pred_train = lin.predict(X_train)\n",
    "print(y_pred_train)"
   ]
  },
  {
   "cell_type": "code",
   "execution_count": 14,
   "metadata": {},
   "outputs": [
    {
     "name": "stdout",
     "output_type": "stream",
     "text": [
      "[152.90005813 153.8194466  173.1266044  149.22250426 156.577612\n",
      " 175.8847698  135.43167726 183.23987754 160.25516587 193.35315067\n",
      " 180.48171214 154.73883506 157.49700047 167.6102736  159.3357774\n",
      " 179.56232367 192.43376221 185.99804294 168.52966207 132.67351186\n",
      " 188.75620834 174.96538134]\n"
     ]
    }
   ],
   "source": [
    "# predict the testing data\n",
    "y_pred_test = lin.predict(X_test)\n",
    "print(y_pred_test)"
   ]
  },
  {
   "cell_type": "code",
   "execution_count": 15,
   "metadata": {},
   "outputs": [
    {
     "data": {
      "image/png": "[encoded data removed]",
      "text/plain": [
       "<Figure size 432x288 with 1 Axes>"
      ]
     },
     "metadata": {
      "needs_background": "light"
     },
     "output_type": "display_data"
    }
   ],
   "source": [
    "# Visulaize the training data\n",
    "plt.scatter(X_train, Y_train, color = 'blue')\n",
    "# plot the line of best fit for the training data\n",
    "plt.plot(X_train, lin.predict(X_train), color = 'red')\n",
    "# x-axis\n",
    "plt.xlabel('Age')\n",
    "#y-axis\n",
    "plt.ylabel('Height')\n",
    "#title of the graph\n",
    "plt.title('Simple Linear Regression for training data')\n",
    "# display the graph\n",
    "plt.show()"
   ]
  },
  {
   "cell_type": "code",
   "execution_count": 16,
   "metadata": {},
   "outputs": [
    {
     "data": {
      "image/png": "[encoded data removed]",
      "text/plain": [
       "<Figure size 432x288 with 1 Axes>"
      ]
     },
     "metadata": {
      "needs_background": "light"
     },
     "output_type": "display_data"
    }
   ],
   "source": [
    "# Visulaize the testing data\n",
    "plt.scatter(X_test, Y_test, color = 'blue')\n",
    "# plot the line of best fit for the training data\n",
    "plt.plot(X_test, lin.predict(X_test), color = 'red')\n",
    "# x-axis\n",
    "plt.xlabel('Age')\n",
    "#y-axis\n",
    "plt.ylabel('Height')\n",
    "#title of the graph\n",
    "plt.title('Simple Linear Regression for testing data')\n",
    "# display the graph\n",
    "plt.show()"
   ]
  },
  {
   "cell_type": "code",
   "execution_count": 20,
   "metadata": {},
   "outputs": [
    {
     "name": "stdout",
     "output_type": "stream",
     "text": [
      "90.2527818811204\n"
     ]
    }
   ],
   "source": [
    "# To depict how close the actual training data is close to the predicted training data\n",
    "\n",
    "from sklearn.metrics import r2_score\n",
    "accuracy_train = (r2_score(Y_train, y_pred_train))*100.0\n",
    "print(accuracy_train)"
   ]
  },
  {
   "cell_type": "code",
   "execution_count": 21,
   "metadata": {},
   "outputs": [
    {
     "name": "stdout",
     "output_type": "stream",
     "text": [
      "87.27873738671586\n"
     ]
    }
   ],
   "source": [
    "# To depict how close the actual testing data is close to the predicted testing data\n",
    "\n",
    "from sklearn.metrics import r2_score\n",
    "accuracy_test = (r2_score(Y_test, y_pred_test))*100.0\n",
    "print(accuracy_test)"
   ]
  },
  {
   "cell_type": "markdown",
   "metadata": {},
   "source": [
    "# Polynomial Regression"
   ]
  },
  {
   "cell_type": "code",
   "execution_count": 24,
   "metadata": {},
   "outputs": [
    {
     "name": "stdout",
     "output_type": "stream",
     "text": [
      "[[1.000e+00 1.200e+01 1.440e+02]\n",
      " [1.000e+00 5.000e+01 2.500e+03]\n",
      " [1.000e+00 2.100e+01 4.410e+02]\n",
      " [1.000e+00 1.300e+01 1.690e+02]\n",
      " [1.000e+00 6.400e+01 4.096e+03]\n",
      " [1.000e+00 5.500e+01 3.025e+03]\n",
      " [1.000e+00 2.000e+01 4.000e+02]\n",
      " [1.000e+00 5.100e+01 2.601e+03]\n",
      " [1.000e+00 5.900e+01 3.481e+03]\n",
      " [1.000e+00 6.300e+01 3.969e+03]\n",
      " [1.000e+00 6.700e+01 4.489e+03]\n",
      " [1.000e+00 4.200e+01 1.764e+03]\n",
      " [1.000e+00 2.400e+01 5.760e+02]\n",
      " [1.000e+00 7.800e+01 6.084e+03]\n",
      " [1.000e+00 2.900e+01 8.410e+02]\n",
      " [1.000e+00 3.900e+01 1.521e+03]\n",
      " [1.000e+00 6.200e+01 3.844e+03]\n",
      " [1.000e+00 4.500e+01 2.025e+03]\n",
      " [1.000e+00 2.800e+01 7.840e+02]\n",
      " [1.000e+00 1.000e+01 1.000e+02]\n",
      " [1.000e+00 2.500e+01 6.250e+02]\n",
      " [1.000e+00 1.500e+01 2.250e+02]\n",
      " [1.000e+00 2.600e+01 6.760e+02]\n",
      " [1.000e+00 3.000e+01 9.000e+02]\n",
      " [1.000e+00 7.600e+01 5.776e+03]\n",
      " [1.000e+00 1.800e+01 3.240e+02]\n",
      " [1.000e+00 2.300e+01 5.290e+02]\n",
      " [1.000e+00 3.500e+01 1.225e+03]\n",
      " [1.000e+00 4.700e+01 2.209e+03]\n",
      " [1.000e+00 2.700e+01 7.290e+02]\n",
      " [1.000e+00 7.000e+01 4.900e+03]\n",
      " [1.000e+00 5.600e+01 3.136e+03]\n",
      " [1.000e+00 7.300e+01 5.329e+03]\n",
      " [1.000e+00 4.900e+01 2.401e+03]\n",
      " [1.000e+00 4.800e+01 2.304e+03]\n",
      " [1.000e+00 1.100e+01 1.210e+02]\n",
      " [1.000e+00 6.800e+01 4.624e+03]\n",
      " [1.000e+00 2.200e+01 4.840e+02]\n",
      " [1.000e+00 7.100e+01 5.041e+03]\n",
      " [1.000e+00 3.400e+01 1.156e+03]\n",
      " [1.000e+00 1.600e+01 2.560e+02]\n",
      " [1.000e+00 3.300e+01 1.089e+03]\n",
      " [1.000e+00 4.600e+01 2.116e+03]\n",
      " [1.000e+00 3.100e+01 9.610e+02]\n",
      " [1.000e+00 1.900e+01 3.610e+02]\n",
      " [1.000e+00 7.700e+01 5.929e+03]\n",
      " [1.000e+00 7.400e+01 5.476e+03]\n",
      " [1.000e+00 5.700e+01 3.249e+03]\n",
      " [1.000e+00 5.400e+01 2.916e+03]]\n"
     ]
    }
   ],
   "source": [
    "from sklearn.preprocessing import PolynomialFeatures\n",
    "\n",
    "# add the Polynomial Features of degree 2 to the simple linear equation\n",
    "polynom = PolynomialFeatures(degree = 2)\n",
    "\n",
    "# using the polynomial regression object, convert the simple linear training data into polynomial training data\n",
    "X_polynom_train = polynom.fit_transform(X_train)\n",
    "\n",
    "print(X_polynom_train)"
   ]
  },
  {
   "cell_type": "code",
   "execution_count": 25,
   "metadata": {},
   "outputs": [
    {
     "name": "stdout",
     "output_type": "stream",
     "text": [
      "[[1.000e+00 3.600e+01 1.296e+03]\n",
      " [1.000e+00 3.700e+01 1.369e+03]\n",
      " [1.000e+00 5.800e+01 3.364e+03]\n",
      " [1.000e+00 3.200e+01 1.024e+03]\n",
      " [1.000e+00 4.000e+01 1.600e+03]\n",
      " [1.000e+00 6.100e+01 3.721e+03]\n",
      " [1.000e+00 1.700e+01 2.890e+02]\n",
      " [1.000e+00 6.900e+01 4.761e+03]\n",
      " [1.000e+00 4.400e+01 1.936e+03]\n",
      " [1.000e+00 8.000e+01 6.400e+03]\n",
      " [1.000e+00 6.600e+01 4.356e+03]\n",
      " [1.000e+00 3.800e+01 1.444e+03]\n",
      " [1.000e+00 4.100e+01 1.681e+03]\n",
      " [1.000e+00 5.200e+01 2.704e+03]\n",
      " [1.000e+00 4.300e+01 1.849e+03]\n",
      " [1.000e+00 6.500e+01 4.225e+03]\n",
      " [1.000e+00 7.900e+01 6.241e+03]\n",
      " [1.000e+00 7.200e+01 5.184e+03]\n",
      " [1.000e+00 5.300e+01 2.809e+03]\n",
      " [1.000e+00 1.400e+01 1.960e+02]\n",
      " [1.000e+00 7.500e+01 5.625e+03]\n",
      " [1.000e+00 6.000e+01 3.600e+03]]\n"
     ]
    }
   ],
   "source": [
    "from sklearn.preprocessing import PolynomialFeatures\n",
    "\n",
    "# add the Polynomial Features of degree 2 to the simple linear equation\n",
    "polynom = PolynomialFeatures(degree = 2)\n",
    "\n",
    "# using the polynomial regression object, convert the simple linear training data into polynomial training data\n",
    "X_polynom_test = polynom.fit_transform(X_test)\n",
    "\n",
    "print(X_polynom_test)"
   ]
  },
  {
   "cell_type": "code",
   "execution_count": 29,
   "metadata": {},
   "outputs": [
    {
     "data": {
      "text/plain": [
       "LinearRegression()"
      ]
     },
     "execution_count": 29,
     "metadata": {},
     "output_type": "execute_result"
    }
   ],
   "source": [
    "# Train the model using the polynomial training data\n",
    "from sklearn.linear_model import LinearRegression\n",
    "\n",
    "Polyreg = LinearRegression()\n",
    "\n",
    "Polyreg.fit(X_polynom_train, Y_train)"
   ]
  },
  {
   "cell_type": "code",
   "execution_count": 32,
   "metadata": {},
   "outputs": [
    {
     "name": "stdout",
     "output_type": "stream",
     "text": [
      "[140.30766833 159.29470102 140.5097378  140.1984773  178.26945458\n",
      " 165.33090573 140.35564244 160.43612036 170.75226389 176.70019484\n",
      " 183.17469858 151.34813504 141.16948868 203.69472483 142.92728947\n",
      " 148.911201   175.1638459  154.08126629 142.50990771 140.6247828\n",
      " 141.45522724 140.07882763 141.77387659 143.37758202 199.66761377\n",
      " 140.14618412 140.91666092 146.12270679 156.06790778 142.12543675\n",
      " 188.37613978 166.63687907 193.87377818 158.18619247 157.11059473\n",
      " 140.44977017 184.87560152 140.69674396 190.17577512 145.50786024\n",
      " 140.06836899 144.92592448 155.05813163 143.86078538 140.23445788\n",
      " 201.6647139  195.77214591 167.97576321 164.05784319]\n"
     ]
    }
   ],
   "source": [
    "# predict the data for the transformed input data\n",
    "Y_pred_poly_train = Polyreg.predict(X_polynom_train)\n",
    "print(Y_pred_poly_train)"
   ]
  },
  {
   "cell_type": "code",
   "execution_count": 34,
   "metadata": {},
   "outputs": [
    {
     "data": {
      "image/png": "[encoded data removed]",
      "text/plain": [
       "<Figure size 432x288 with 1 Axes>"
      ]
     },
     "metadata": {
      "needs_background": "light"
     },
     "output_type": "display_data"
    }
   ],
   "source": [
    "# Visulaize the training data\n",
    "plt.scatter(X_train, Y_train, color = 'blue')\n",
    "# plot the line of best fit for the training data\n",
    "plt.plot((X_train), Polyreg.predict(X_polynom_train), color = 'red')\n",
    "# x-axis\n",
    "plt.xlabel('Age')\n",
    "#y-axis\n",
    "plt.ylabel('Height')\n",
    "#title of the graph\n",
    "plt.title('Polynomial Linear Regression for training data')\n",
    "# display the graph\n",
    "plt.show()"
   ]
  },
  {
   "cell_type": "code",
   "execution_count": 35,
   "metadata": {},
   "outputs": [
    {
     "data": {
      "image/png": "[encoded data removed]",
      "text/plain": [
       "<Figure size 432x288 with 1 Axes>"
      ]
     },
     "metadata": {
      "needs_background": "light"
     },
     "output_type": "display_data"
    }
   ],
   "source": [
    "# Visulaize the training data\n",
    "plt.scatter(X_test, Y_test, color = 'blue')\n",
    "# plot the line of best fit for the training data\n",
    "plt.plot((X_test), Polyreg.predict(X_polynom_test), color = 'red')\n",
    "# x-axis\n",
    "plt.xlabel('Age')\n",
    "#y-axis\n",
    "plt.ylabel('Height')\n",
    "#title of the graph\n",
    "plt.title('Polynomial Linear Regression for testing data')\n",
    "# display the graph\n",
    "plt.show()"
   ]
  },
  {
   "cell_type": "code",
   "execution_count": 37,
   "metadata": {},
   "outputs": [
    {
     "name": "stdout",
     "output_type": "stream",
     "text": [
      "99.03416257227849\n"
     ]
    }
   ],
   "source": [
    "# To depict how close the actual training data is close to the predicted training data\n",
    "\n",
    "from sklearn.metrics import r2_score\n",
    "accuracy_train = (r2_score(Y_train, Y_pred_poly_train))*100.0\n",
    "print(accuracy_train)"
   ]
  },
  {
   "cell_type": "code",
   "execution_count": null,
   "metadata": {},
   "outputs": [],
   "source": []
  }
 ],
 "metadata": {
  "kernelspec": {
   "display_name": "Python 3",
   "language": "python",
   "name": "python3"
  },
  "language_info": {
   "codemirror_mode": {
    "name": "ipython",
    "version": 3
   },
   "file_extension": ".py",
   "mimetype": "text/x-python",
   "name": "python",
   "nbconvert_exporter": "python",
   "pygments_lexer": "ipython3",
   "version": "3.8.3"
  }
 },
 "nbformat": 4,
 "nbformat_minor": 4
}
