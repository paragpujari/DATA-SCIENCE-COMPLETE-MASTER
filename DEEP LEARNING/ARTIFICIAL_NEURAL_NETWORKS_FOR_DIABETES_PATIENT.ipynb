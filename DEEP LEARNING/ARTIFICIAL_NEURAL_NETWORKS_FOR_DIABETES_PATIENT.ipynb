{
 "cells": [
  {
   "cell_type": "code",
   "execution_count": 52,
   "metadata": {
    "id": "JmYSn5g3Lsvk"
   },
   "outputs": [],
   "source": [
    "# AIM OF THE PROJECT\n",
    "\n",
    "## 1. The main aim of the project is to predict whether the person has diabetes or not.\n",
    "## This is done by using a simple artificial neural networks."
   ]
  },
  {
   "cell_type": "code",
   "execution_count": 53,
   "metadata": {
    "id": "Ig4C70cMjjk5"
   },
   "outputs": [],
   "source": [
    "# import all the necessary libraries\n",
    "\n",
    "import numpy as np\n",
    "import pandas as pd\n",
    "import matplotlib.pyplot as plt\n",
    "%matplotlib inline"
   ]
  },
  {
   "cell_type": "code",
   "execution_count": 54,
   "metadata": {
    "id": "gqXM-Fhyjwl1"
   },
   "outputs": [],
   "source": [
    "# load the dataset\n",
    "data = pd.read_csv('/content/diabetes.csv')"
   ]
  },
  {
   "cell_type": "code",
   "execution_count": 55,
   "metadata": {
    "colab": {
     "base_uri": "https://localhost:8080/"
    },
    "id": "fl66vD9tj2er",
    "outputId": "aaa52713-597f-4e46-82ba-4bdc8b96793b"
   },
   "outputs": [
    {
     "name": "stdout",
     "output_type": "stream",
     "text": [
      "     Pregnancies  Glucose  BloodPressure  SkinThickness  Insulin   BMI  \\\n",
      "0              6      148             72             35        0  33.6   \n",
      "1              1       85             66             29        0  26.6   \n",
      "2              8      183             64              0        0  23.3   \n",
      "3              1       89             66             23       94  28.1   \n",
      "4              0      137             40             35      168  43.1   \n",
      "..           ...      ...            ...            ...      ...   ...   \n",
      "763           10      101             76             48      180  32.9   \n",
      "764            2      122             70             27        0  36.8   \n",
      "765            5      121             72             23      112  26.2   \n",
      "766            1      126             60              0        0  30.1   \n",
      "767            1       93             70             31        0  30.4   \n",
      "\n",
      "     DiabetesPedigreeFunction  Age  Outcome  \n",
      "0                       0.627   50        1  \n",
      "1                       0.351   31        0  \n",
      "2                       0.672   32        1  \n",
      "3                       0.167   21        0  \n",
      "4                       2.288   33        1  \n",
      "..                        ...  ...      ...  \n",
      "763                     0.171   63        0  \n",
      "764                     0.340   27        0  \n",
      "765                     0.245   30        0  \n",
      "766                     0.349   47        1  \n",
      "767                     0.315   23        0  \n",
      "\n",
      "[768 rows x 9 columns]\n"
     ]
    }
   ],
   "source": [
    "# print the data\n",
    "print(data)"
   ]
  },
  {
   "cell_type": "code",
   "execution_count": 56,
   "metadata": {
    "colab": {
     "base_uri": "https://localhost:8080/"
    },
    "id": "viYwyYfDkDW8",
    "outputId": "34af18fb-1860-4b1f-c506-54305030e815"
   },
   "outputs": [
    {
     "name": "stdout",
     "output_type": "stream",
     "text": [
      "   Pregnancies  Glucose  BloodPressure  SkinThickness  Insulin   BMI  \\\n",
      "0            6      148             72             35        0  33.6   \n",
      "1            1       85             66             29        0  26.6   \n",
      "2            8      183             64              0        0  23.3   \n",
      "3            1       89             66             23       94  28.1   \n",
      "4            0      137             40             35      168  43.1   \n",
      "\n",
      "   DiabetesPedigreeFunction  Age  Outcome  \n",
      "0                     0.627   50        1  \n",
      "1                     0.351   31        0  \n",
      "2                     0.672   32        1  \n",
      "3                     0.167   21        0  \n",
      "4                     2.288   33        1  \n"
     ]
    }
   ],
   "source": [
    "# display top five rows of the dataset\n",
    "print(data.head())"
   ]
  },
  {
   "cell_type": "code",
   "execution_count": 57,
   "metadata": {
    "colab": {
     "base_uri": "https://localhost:8080/"
    },
    "id": "V6JzHhPzkILq",
    "outputId": "48a7734e-ca1b-4dc6-c569-e958ffbd0f24"
   },
   "outputs": [
    {
     "name": "stdout",
     "output_type": "stream",
     "text": [
      "     Pregnancies  Glucose  BloodPressure  SkinThickness  Insulin   BMI  \\\n",
      "763           10      101             76             48      180  32.9   \n",
      "764            2      122             70             27        0  36.8   \n",
      "765            5      121             72             23      112  26.2   \n",
      "766            1      126             60              0        0  30.1   \n",
      "767            1       93             70             31        0  30.4   \n",
      "\n",
      "     DiabetesPedigreeFunction  Age  Outcome  \n",
      "763                     0.171   63        0  \n",
      "764                     0.340   27        0  \n",
      "765                     0.245   30        0  \n",
      "766                     0.349   47        1  \n",
      "767                     0.315   23        0  \n"
     ]
    }
   ],
   "source": [
    "# display last five rows of the dataset\n",
    "print(data.tail())"
   ]
  },
  {
   "cell_type": "code",
   "execution_count": 58,
   "metadata": {
    "colab": {
     "base_uri": "https://localhost:8080/"
    },
    "id": "xTRNzvbxkPaA",
    "outputId": "471eb9a0-a225-43c3-fef1-379e13c37901"
   },
   "outputs": [
    {
     "name": "stdout",
     "output_type": "stream",
     "text": [
      "(768, 9)\n"
     ]
    }
   ],
   "source": [
    "# shape of the dataset\n",
    "print(data.shape)"
   ]
  },
  {
   "cell_type": "code",
   "execution_count": 59,
   "metadata": {
    "colab": {
     "base_uri": "https://localhost:8080/"
    },
    "id": "TmxPCi1qkVZh",
    "outputId": "b9c50d57-f262-49f3-c71a-861831b8de68"
   },
   "outputs": [
    {
     "name": "stdout",
     "output_type": "stream",
     "text": [
      "Pregnancies                 0\n",
      "Glucose                     0\n",
      "BloodPressure               0\n",
      "SkinThickness               0\n",
      "Insulin                     0\n",
      "BMI                         0\n",
      "DiabetesPedigreeFunction    0\n",
      "Age                         0\n",
      "Outcome                     0\n",
      "dtype: int64\n"
     ]
    }
   ],
   "source": [
    "# To check if there are any NULL Values in the dataset\n",
    "print(data.isnull().sum())"
   ]
  },
  {
   "cell_type": "code",
   "execution_count": 60,
   "metadata": {
    "id": "eFGcYuAokcaI"
   },
   "outputs": [],
   "source": [
    "# So from the above observation, it is clear that there are no NULL Values in the dataset"
   ]
  },
  {
   "cell_type": "code",
   "execution_count": 61,
   "metadata": {
    "id": "nZev8v5-khqD"
   },
   "outputs": [],
   "source": [
    "# Use the count plot to display the summary statistics of the persons who are diabetic or non-diabetic"
   ]
  },
  {
   "cell_type": "code",
   "execution_count": 62,
   "metadata": {
    "colab": {
     "base_uri": "https://localhost:8080/",
     "height": 442
    },
    "id": "2rWuc8f4kw_p",
    "outputId": "1077184d-4d7d-4519-96db-191c6c947311"
   },
   "outputs": [
    {
     "data": {
      "text/plain": [
       "<Axes: >"
      ]
     },
     "execution_count": 62,
     "metadata": {},
     "output_type": "execute_result"
    },
    {
     "data": {
      "image/png": "[encoded data removed]",
      "text/plain": [
       "<Figure size 640x480 with 1 Axes>"
      ]
     },
     "metadata": {},
     "output_type": "display_data"
    }
   ],
   "source": [
    "data['Outcome'].value_counts().plot(kind = 'bar')"
   ]
  },
  {
   "cell_type": "code",
   "execution_count": 63,
   "metadata": {
    "colab": {
     "base_uri": "https://localhost:8080/"
    },
    "id": "tjT2zMUmmUG6",
    "outputId": "eb3dc110-ca2b-4381-b6ac-12c76d1451b1"
   },
   "outputs": [
    {
     "name": "stdout",
     "output_type": "stream",
     "text": [
      "[[  6.    148.     72.    ...  33.6     0.627  50.   ]\n",
      " [  1.     85.     66.    ...  26.6     0.351  31.   ]\n",
      " [  8.    183.     64.    ...  23.3     0.672  32.   ]\n",
      " ...\n",
      " [  5.    121.     72.    ...  26.2     0.245  30.   ]\n",
      " [  1.    126.     60.    ...  30.1     0.349  47.   ]\n",
      " [  1.     93.     70.    ...  30.4     0.315  23.   ]]\n",
      "[1 0 1 0 1 0 1 0 1 1 0 1 0 1 1 1 1 1 0 1 0 0 1 1 1 1 1 0 0 0 0 1 0 0 0 0 0\n",
      " 1 1 1 0 0 0 1 0 1 0 0 1 0 0 0 0 1 0 0 1 0 0 0 0 1 0 0 1 0 1 0 0 0 1 0 1 0\n",
      " 0 0 0 0 1 0 0 0 0 0 1 0 0 0 1 0 0 0 0 1 0 0 0 0 0 1 1 0 0 0 0 0 0 0 0 1 1\n",
      " 1 0 0 1 1 1 0 0 0 1 0 0 0 1 1 0 0 1 1 1 1 1 0 0 0 0 0 0 0 0 0 0 1 0 0 0 0\n",
      " 0 0 0 0 1 0 1 1 0 0 0 1 0 0 0 0 1 1 0 0 0 0 1 1 0 0 0 1 0 1 0 1 0 0 0 0 0\n",
      " 1 1 1 1 1 0 0 1 1 0 1 0 1 1 1 0 0 0 0 0 0 1 1 0 1 0 0 0 1 1 1 1 0 1 1 1 1\n",
      " 0 0 0 0 0 1 0 0 1 1 0 0 0 1 1 1 1 0 0 0 1 1 0 1 0 0 0 0 0 0 0 0 1 1 0 0 0\n",
      " 1 0 1 0 0 1 0 1 0 0 1 1 0 0 0 0 0 1 0 0 0 1 0 0 1 1 0 0 1 0 0 0 1 1 1 0 0\n",
      " 1 0 1 0 1 1 0 1 0 0 1 0 1 1 0 0 1 0 1 0 0 1 0 1 0 1 1 1 0 0 1 0 1 0 0 0 1\n",
      " 0 0 0 0 1 1 1 0 0 0 0 0 0 0 0 0 1 0 0 0 0 0 1 1 1 0 1 1 0 0 1 0 0 1 0 0 1\n",
      " 1 0 0 0 0 1 0 0 1 0 0 0 0 0 0 0 1 1 1 0 0 1 0 0 1 0 0 1 0 1 1 0 1 0 1 0 1\n",
      " 0 1 1 0 0 0 0 1 1 0 1 0 1 0 0 0 0 1 1 0 1 0 1 0 0 0 0 0 1 0 0 0 0 1 0 0 1\n",
      " 1 1 0 0 1 0 0 1 0 0 0 1 0 0 1 0 0 0 0 0 0 0 0 0 1 0 0 0 0 0 0 0 1 0 0 0 1\n",
      " 0 0 0 1 1 0 0 0 0 0 0 0 1 0 0 0 0 1 0 0 0 1 0 0 0 1 0 0 0 1 0 0 0 0 1 1 0\n",
      " 0 0 0 0 0 1 0 0 0 0 0 0 0 0 0 0 0 1 0 0 0 1 1 1 1 0 0 1 1 0 0 0 0 0 0 0 0\n",
      " 0 0 0 0 0 1 1 0 0 0 0 0 0 0 1 0 0 0 0 0 0 0 1 0 1 1 0 0 0 1 0 1 0 1 0 1 0\n",
      " 1 0 0 1 0 0 1 0 0 0 0 1 1 0 1 0 0 0 0 1 1 0 1 0 0 0 1 1 0 0 0 0 0 0 0 0 0\n",
      " 0 1 0 0 0 0 1 0 0 1 0 0 0 1 0 0 0 1 1 1 0 0 0 0 0 0 1 0 0 0 1 0 1 1 1 1 0\n",
      " 1 1 0 0 0 0 0 0 0 1 1 0 1 0 0 1 0 1 0 0 0 0 0 1 0 1 0 1 0 1 1 0 0 0 0 1 1\n",
      " 0 0 0 1 0 1 1 0 0 1 0 0 1 1 0 0 1 0 0 1 0 0 0 0 0 0 0 1 1 1 0 0 0 0 0 0 1\n",
      " 1 0 0 1 0 0 1 0 1 1 1 0 0 1 1 1 0 1 0 1 0 1 0 0 0 0 1 0]\n"
     ]
    }
   ],
   "source": [
    "predictors = data.iloc[:,0:8].values\n",
    "print(predictors)\n",
    "\n",
    "\n",
    "response = data.iloc[:,8].values\n",
    "print(response)"
   ]
  },
  {
   "cell_type": "code",
   "execution_count": 64,
   "metadata": {
    "id": "vEbdGtkrmumQ"
   },
   "outputs": [],
   "source": [
    "# Split the dataset into training and testing data\n",
    "from sklearn.model_selection import train_test_split\n",
    "X_train, X_test, Y_train, Y_test = train_test_split(predictors, response, test_size = 0.2, random_state = 0)"
   ]
  },
  {
   "cell_type": "code",
   "execution_count": 65,
   "metadata": {
    "id": "NuorRQtQgh5E"
   },
   "outputs": [],
   "source": [
    "# BUILD AND TRAIN THE ARTIFICIAL NEURAL NETWORKS\n",
    "\n",
    "# import all the libraries for ANN\n",
    "import keras\n",
    "from keras.models import Sequential\n",
    "from keras.layers import Dense\n",
    "\n",
    "\n",
    "# Initialize the model for ANN\n",
    "annmodel = Sequential()\n",
    "\n",
    "# Construct the first ANN Model\n",
    "\n",
    "# Add the first hidden layer\n",
    "annmodel.add(Dense(12,activation = 'relu',input_dim = 8))\n",
    "\n",
    "# Add the second hidden layer\n",
    "annmodel.add(Dense(8, activation = 'relu'))\n",
    "\n",
    "# Add the output layer\n",
    "annmodel.add(Dense(1, activation = 'sigmoid'))"
   ]
  },
  {
   "cell_type": "code",
   "execution_count": 66,
   "metadata": {
    "id": "d1EP6-XEl1-Y"
   },
   "outputs": [],
   "source": [
    "# COMPILE THE ARTIFICIAL NEURAL NETWORKS\n",
    "\n",
    "annmodel.compile(loss = 'binary_crossentropy',optimizer = 'adam', metrics = ['accuracy'])"
   ]
  },
  {
   "cell_type": "code",
   "execution_count": 67,
   "metadata": {
    "colab": {
     "base_uri": "https://localhost:8080/"
    },
    "id": "OnS9PZEFnwxB",
    "outputId": "4dbe0492-0f37-4b50-987b-659fa7c1dbfa"
   },
   "outputs": [
    {
     "name": "stdout",
     "output_type": "stream",
     "text": [
      "Epoch 1/150\n",
      "62/62 [==============================] - 1s 2ms/step - loss: 3.9573 - accuracy: 0.5326\n",
      "Epoch 2/150\n",
      "62/62 [==============================] - 0s 2ms/step - loss: 1.9316 - accuracy: 0.5326\n",
      "Epoch 3/150\n",
      "62/62 [==============================] - 0s 2ms/step - loss: 1.6094 - accuracy: 0.5570\n",
      "Epoch 4/150\n",
      "62/62 [==============================] - 0s 2ms/step - loss: 1.3485 - accuracy: 0.5603\n",
      "Epoch 5/150\n",
      "62/62 [==============================] - 0s 2ms/step - loss: 1.1302 - accuracy: 0.5863\n",
      "Epoch 6/150\n",
      "62/62 [==============================] - 0s 2ms/step - loss: 0.9995 - accuracy: 0.5945\n",
      "Epoch 7/150\n",
      "62/62 [==============================] - 0s 2ms/step - loss: 0.8814 - accuracy: 0.6140\n",
      "Epoch 8/150\n",
      "62/62 [==============================] - 0s 2ms/step - loss: 0.7787 - accuracy: 0.6303\n",
      "Epoch 9/150\n",
      "62/62 [==============================] - 0s 2ms/step - loss: 0.7166 - accuracy: 0.6319\n",
      "Epoch 10/150\n",
      "62/62 [==============================] - 0s 2ms/step - loss: 0.7292 - accuracy: 0.6205\n",
      "Epoch 11/150\n",
      "62/62 [==============================] - 0s 2ms/step - loss: 0.6800 - accuracy: 0.6401\n",
      "Epoch 12/150\n",
      "62/62 [==============================] - 0s 3ms/step - loss: 0.6644 - accuracy: 0.6482\n",
      "Epoch 13/150\n",
      "62/62 [==============================] - 0s 3ms/step - loss: 0.6518 - accuracy: 0.6466\n",
      "Epoch 14/150\n",
      "62/62 [==============================] - 0s 3ms/step - loss: 0.6655 - accuracy: 0.6401\n",
      "Epoch 15/150\n",
      "62/62 [==============================] - 0s 3ms/step - loss: 0.6515 - accuracy: 0.6629\n",
      "Epoch 16/150\n",
      "62/62 [==============================] - 0s 3ms/step - loss: 0.6332 - accuracy: 0.6629\n",
      "Epoch 17/150\n",
      "62/62 [==============================] - 0s 2ms/step - loss: 0.6252 - accuracy: 0.6612\n",
      "Epoch 18/150\n",
      "62/62 [==============================] - 0s 3ms/step - loss: 0.6478 - accuracy: 0.6401\n",
      "Epoch 19/150\n",
      "62/62 [==============================] - 0s 3ms/step - loss: 0.6231 - accuracy: 0.6564\n",
      "Epoch 20/150\n",
      "62/62 [==============================] - 0s 3ms/step - loss: 0.6165 - accuracy: 0.6515\n",
      "Epoch 21/150\n",
      "62/62 [==============================] - 0s 3ms/step - loss: 0.6266 - accuracy: 0.6612\n",
      "Epoch 22/150\n",
      "62/62 [==============================] - 0s 2ms/step - loss: 0.6190 - accuracy: 0.6661\n",
      "Epoch 23/150\n",
      "62/62 [==============================] - 0s 3ms/step - loss: 0.6136 - accuracy: 0.6612\n",
      "Epoch 24/150\n",
      "62/62 [==============================] - 0s 3ms/step - loss: 0.6140 - accuracy: 0.6792\n",
      "Epoch 25/150\n",
      "62/62 [==============================] - 0s 3ms/step - loss: 0.6334 - accuracy: 0.6547\n",
      "Epoch 26/150\n",
      "62/62 [==============================] - 0s 3ms/step - loss: 0.6290 - accuracy: 0.6547\n",
      "Epoch 27/150\n",
      "62/62 [==============================] - 0s 3ms/step - loss: 0.6262 - accuracy: 0.6596\n",
      "Epoch 28/150\n",
      "62/62 [==============================] - 0s 3ms/step - loss: 0.6039 - accuracy: 0.6726\n",
      "Epoch 29/150\n",
      "62/62 [==============================] - 0s 2ms/step - loss: 0.5937 - accuracy: 0.6710\n",
      "Epoch 30/150\n",
      "62/62 [==============================] - 0s 2ms/step - loss: 0.6172 - accuracy: 0.6678\n",
      "Epoch 31/150\n",
      "62/62 [==============================] - 0s 2ms/step - loss: 0.5969 - accuracy: 0.6661\n",
      "Epoch 32/150\n",
      "62/62 [==============================] - 0s 2ms/step - loss: 0.5866 - accuracy: 0.7003\n",
      "Epoch 33/150\n",
      "62/62 [==============================] - 0s 2ms/step - loss: 0.5929 - accuracy: 0.6873\n",
      "Epoch 34/150\n",
      "62/62 [==============================] - 0s 2ms/step - loss: 0.5919 - accuracy: 0.6954\n",
      "Epoch 35/150\n",
      "62/62 [==============================] - 0s 3ms/step - loss: 0.5910 - accuracy: 0.6759\n",
      "Epoch 36/150\n",
      "62/62 [==============================] - 0s 4ms/step - loss: 0.6103 - accuracy: 0.6743\n",
      "Epoch 37/150\n",
      "62/62 [==============================] - 0s 3ms/step - loss: 0.5903 - accuracy: 0.6840\n",
      "Epoch 38/150\n",
      "62/62 [==============================] - 0s 4ms/step - loss: 0.5745 - accuracy: 0.6824\n",
      "Epoch 39/150\n",
      "62/62 [==============================] - 0s 4ms/step - loss: 0.5966 - accuracy: 0.6906\n",
      "Epoch 40/150\n",
      "62/62 [==============================] - 0s 4ms/step - loss: 0.6057 - accuracy: 0.6726\n",
      "Epoch 41/150\n",
      "62/62 [==============================] - 0s 3ms/step - loss: 0.5854 - accuracy: 0.6792\n",
      "Epoch 42/150\n",
      "62/62 [==============================] - 0s 3ms/step - loss: 0.6070 - accuracy: 0.6629\n",
      "Epoch 43/150\n",
      "62/62 [==============================] - 0s 5ms/step - loss: 0.5703 - accuracy: 0.6922\n",
      "Epoch 44/150\n",
      "62/62 [==============================] - 0s 3ms/step - loss: 0.5851 - accuracy: 0.6678\n",
      "Epoch 45/150\n",
      "62/62 [==============================] - 0s 4ms/step - loss: 0.6028 - accuracy: 0.6694\n",
      "Epoch 46/150\n",
      "62/62 [==============================] - 0s 4ms/step - loss: 0.5907 - accuracy: 0.6840\n",
      "Epoch 47/150\n",
      "62/62 [==============================] - 0s 4ms/step - loss: 0.5810 - accuracy: 0.6775\n",
      "Epoch 48/150\n",
      "62/62 [==============================] - 0s 4ms/step - loss: 0.6150 - accuracy: 0.6694\n",
      "Epoch 49/150\n",
      "62/62 [==============================] - 0s 4ms/step - loss: 0.5958 - accuracy: 0.6889\n",
      "Epoch 50/150\n",
      "62/62 [==============================] - 0s 3ms/step - loss: 0.6073 - accuracy: 0.6840\n",
      "Epoch 51/150\n",
      "62/62 [==============================] - 0s 3ms/step - loss: 0.6332 - accuracy: 0.6840\n",
      "Epoch 52/150\n",
      "62/62 [==============================] - 0s 2ms/step - loss: 0.5724 - accuracy: 0.7020\n",
      "Epoch 53/150\n",
      "62/62 [==============================] - 0s 3ms/step - loss: 0.5837 - accuracy: 0.6743\n",
      "Epoch 54/150\n",
      "62/62 [==============================] - 0s 3ms/step - loss: 0.5824 - accuracy: 0.6840\n",
      "Epoch 55/150\n",
      "62/62 [==============================] - 0s 3ms/step - loss: 0.5840 - accuracy: 0.6971\n",
      "Epoch 56/150\n",
      "62/62 [==============================] - 0s 3ms/step - loss: 0.6337 - accuracy: 0.6596\n",
      "Epoch 57/150\n",
      "62/62 [==============================] - 0s 4ms/step - loss: 0.5896 - accuracy: 0.6824\n",
      "Epoch 58/150\n",
      "62/62 [==============================] - 0s 3ms/step - loss: 0.5790 - accuracy: 0.6759\n",
      "Epoch 59/150\n",
      "62/62 [==============================] - 0s 3ms/step - loss: 0.5700 - accuracy: 0.7085\n",
      "Epoch 60/150\n",
      "62/62 [==============================] - 0s 3ms/step - loss: 0.5802 - accuracy: 0.6922\n",
      "Epoch 61/150\n",
      "62/62 [==============================] - 0s 3ms/step - loss: 0.5686 - accuracy: 0.7020\n",
      "Epoch 62/150\n",
      "62/62 [==============================] - 0s 3ms/step - loss: 0.5708 - accuracy: 0.7020\n",
      "Epoch 63/150\n",
      "62/62 [==============================] - 0s 3ms/step - loss: 0.5719 - accuracy: 0.7052\n",
      "Epoch 64/150\n",
      "62/62 [==============================] - 0s 4ms/step - loss: 0.5807 - accuracy: 0.6857\n",
      "Epoch 65/150\n",
      "62/62 [==============================] - 0s 4ms/step - loss: 0.5669 - accuracy: 0.6938\n",
      "Epoch 66/150\n",
      "62/62 [==============================] - 0s 3ms/step - loss: 0.5826 - accuracy: 0.6938\n",
      "Epoch 67/150\n",
      "62/62 [==============================] - 0s 3ms/step - loss: 0.5672 - accuracy: 0.7199\n",
      "Epoch 68/150\n",
      "62/62 [==============================] - 0s 4ms/step - loss: 0.5624 - accuracy: 0.7003\n",
      "Epoch 69/150\n",
      "62/62 [==============================] - 0s 4ms/step - loss: 0.5547 - accuracy: 0.7101\n",
      "Epoch 70/150\n",
      "62/62 [==============================] - 0s 3ms/step - loss: 0.5642 - accuracy: 0.7036\n",
      "Epoch 71/150\n",
      "62/62 [==============================] - 0s 4ms/step - loss: 0.5753 - accuracy: 0.7003\n",
      "Epoch 72/150\n",
      "62/62 [==============================] - 0s 3ms/step - loss: 0.5553 - accuracy: 0.7003\n",
      "Epoch 73/150\n",
      "62/62 [==============================] - 0s 3ms/step - loss: 0.5788 - accuracy: 0.6954\n",
      "Epoch 74/150\n",
      "62/62 [==============================] - 0s 3ms/step - loss: 0.5699 - accuracy: 0.6922\n",
      "Epoch 75/150\n",
      "62/62 [==============================] - 0s 3ms/step - loss: 0.5615 - accuracy: 0.7085\n",
      "Epoch 76/150\n",
      "62/62 [==============================] - 0s 5ms/step - loss: 0.5574 - accuracy: 0.6987\n",
      "Epoch 77/150\n",
      "62/62 [==============================] - 0s 6ms/step - loss: 0.5589 - accuracy: 0.7134\n",
      "Epoch 78/150\n",
      "62/62 [==============================] - 0s 5ms/step - loss: 0.5848 - accuracy: 0.6922\n",
      "Epoch 79/150\n",
      "62/62 [==============================] - 0s 6ms/step - loss: 0.5593 - accuracy: 0.7068\n",
      "Epoch 80/150\n",
      "62/62 [==============================] - 0s 6ms/step - loss: 0.5476 - accuracy: 0.7085\n",
      "Epoch 81/150\n",
      "62/62 [==============================] - 0s 5ms/step - loss: 0.5464 - accuracy: 0.7101\n",
      "Epoch 82/150\n",
      "62/62 [==============================] - 0s 5ms/step - loss: 0.5573 - accuracy: 0.7199\n",
      "Epoch 83/150\n",
      "62/62 [==============================] - 0s 6ms/step - loss: 0.5425 - accuracy: 0.7085\n",
      "Epoch 84/150\n",
      "62/62 [==============================] - 0s 6ms/step - loss: 0.5537 - accuracy: 0.7182\n",
      "Epoch 85/150\n",
      "62/62 [==============================] - 0s 5ms/step - loss: 0.5698 - accuracy: 0.6906\n",
      "Epoch 86/150\n",
      "62/62 [==============================] - 0s 5ms/step - loss: 0.5775 - accuracy: 0.6954\n",
      "Epoch 87/150\n",
      "62/62 [==============================] - 0s 5ms/step - loss: 0.5795 - accuracy: 0.6954\n",
      "Epoch 88/150\n",
      "62/62 [==============================] - 0s 3ms/step - loss: 0.5692 - accuracy: 0.7003\n",
      "Epoch 89/150\n",
      "62/62 [==============================] - 0s 3ms/step - loss: 0.5597 - accuracy: 0.7036\n",
      "Epoch 90/150\n",
      "62/62 [==============================] - 0s 3ms/step - loss: 0.5499 - accuracy: 0.7085\n",
      "Epoch 91/150\n",
      "62/62 [==============================] - 0s 3ms/step - loss: 0.5516 - accuracy: 0.7052\n",
      "Epoch 92/150\n",
      "62/62 [==============================] - 0s 4ms/step - loss: 0.5683 - accuracy: 0.7020\n",
      "Epoch 93/150\n",
      "62/62 [==============================] - 0s 2ms/step - loss: 0.5495 - accuracy: 0.7248\n",
      "Epoch 94/150\n",
      "62/62 [==============================] - 0s 3ms/step - loss: 0.5638 - accuracy: 0.7068\n",
      "Epoch 95/150\n",
      "62/62 [==============================] - 0s 3ms/step - loss: 0.5498 - accuracy: 0.7101\n",
      "Epoch 96/150\n",
      "62/62 [==============================] - 0s 3ms/step - loss: 0.5498 - accuracy: 0.7117\n",
      "Epoch 97/150\n",
      "62/62 [==============================] - 0s 3ms/step - loss: 0.5509 - accuracy: 0.7134\n",
      "Epoch 98/150\n",
      "62/62 [==============================] - 0s 3ms/step - loss: 0.5397 - accuracy: 0.7068\n",
      "Epoch 99/150\n",
      "62/62 [==============================] - 0s 3ms/step - loss: 0.5429 - accuracy: 0.7231\n",
      "Epoch 100/150\n",
      "62/62 [==============================] - 0s 3ms/step - loss: 0.5485 - accuracy: 0.7134\n",
      "Epoch 101/150\n",
      "62/62 [==============================] - 0s 4ms/step - loss: 0.5429 - accuracy: 0.7296\n",
      "Epoch 102/150\n",
      "62/62 [==============================] - 0s 3ms/step - loss: 0.5568 - accuracy: 0.7003\n",
      "Epoch 103/150\n",
      "62/62 [==============================] - 0s 3ms/step - loss: 0.5508 - accuracy: 0.7117\n",
      "Epoch 104/150\n",
      "62/62 [==============================] - 0s 4ms/step - loss: 0.5481 - accuracy: 0.7182\n",
      "Epoch 105/150\n",
      "62/62 [==============================] - 0s 4ms/step - loss: 0.5442 - accuracy: 0.7215\n",
      "Epoch 106/150\n",
      "62/62 [==============================] - 0s 4ms/step - loss: 0.5358 - accuracy: 0.7215\n",
      "Epoch 107/150\n",
      "62/62 [==============================] - 0s 4ms/step - loss: 0.5557 - accuracy: 0.7166\n",
      "Epoch 108/150\n",
      "62/62 [==============================] - 0s 3ms/step - loss: 0.5402 - accuracy: 0.7182\n",
      "Epoch 109/150\n",
      "62/62 [==============================] - 0s 3ms/step - loss: 0.5557 - accuracy: 0.7134\n",
      "Epoch 110/150\n",
      "62/62 [==============================] - 0s 3ms/step - loss: 0.5383 - accuracy: 0.7166\n",
      "Epoch 111/150\n",
      "62/62 [==============================] - 0s 4ms/step - loss: 0.5530 - accuracy: 0.7199\n",
      "Epoch 112/150\n",
      "62/62 [==============================] - 0s 3ms/step - loss: 0.5319 - accuracy: 0.7394\n",
      "Epoch 113/150\n",
      "62/62 [==============================] - 0s 5ms/step - loss: 0.5403 - accuracy: 0.7215\n",
      "Epoch 114/150\n",
      "62/62 [==============================] - 0s 4ms/step - loss: 0.5328 - accuracy: 0.7296\n",
      "Epoch 115/150\n",
      "62/62 [==============================] - 0s 3ms/step - loss: 0.5356 - accuracy: 0.7264\n",
      "Epoch 116/150\n",
      "62/62 [==============================] - 0s 3ms/step - loss: 0.5311 - accuracy: 0.7345\n",
      "Epoch 117/150\n",
      "62/62 [==============================] - 0s 3ms/step - loss: 0.5373 - accuracy: 0.7182\n",
      "Epoch 118/150\n",
      "62/62 [==============================] - 0s 4ms/step - loss: 0.5324 - accuracy: 0.7248\n",
      "Epoch 119/150\n",
      "62/62 [==============================] - 0s 4ms/step - loss: 0.5474 - accuracy: 0.7296\n",
      "Epoch 120/150\n",
      "62/62 [==============================] - 0s 3ms/step - loss: 0.5533 - accuracy: 0.7068\n",
      "Epoch 121/150\n",
      "62/62 [==============================] - 0s 5ms/step - loss: 0.5428 - accuracy: 0.7280\n",
      "Epoch 122/150\n",
      "62/62 [==============================] - 0s 4ms/step - loss: 0.5398 - accuracy: 0.7182\n",
      "Epoch 123/150\n",
      "62/62 [==============================] - 0s 4ms/step - loss: 0.5428 - accuracy: 0.7101\n",
      "Epoch 124/150\n",
      "62/62 [==============================] - 0s 4ms/step - loss: 0.5260 - accuracy: 0.7248\n",
      "Epoch 125/150\n",
      "62/62 [==============================] - 0s 6ms/step - loss: 0.5473 - accuracy: 0.7134\n",
      "Epoch 126/150\n",
      "62/62 [==============================] - 0s 4ms/step - loss: 0.5456 - accuracy: 0.7134\n",
      "Epoch 127/150\n",
      "62/62 [==============================] - 0s 5ms/step - loss: 0.5253 - accuracy: 0.7443\n",
      "Epoch 128/150\n",
      "62/62 [==============================] - 0s 8ms/step - loss: 0.5409 - accuracy: 0.7150\n",
      "Epoch 129/150\n",
      "62/62 [==============================] - 0s 5ms/step - loss: 0.5380 - accuracy: 0.7378\n",
      "Epoch 130/150\n",
      "62/62 [==============================] - 0s 6ms/step - loss: 0.5248 - accuracy: 0.7427\n",
      "Epoch 131/150\n",
      "62/62 [==============================] - 0s 4ms/step - loss: 0.5376 - accuracy: 0.7199\n",
      "Epoch 132/150\n",
      "62/62 [==============================] - 0s 6ms/step - loss: 0.5307 - accuracy: 0.7329\n",
      "Epoch 133/150\n",
      "62/62 [==============================] - 0s 6ms/step - loss: 0.5584 - accuracy: 0.7199\n",
      "Epoch 134/150\n",
      "62/62 [==============================] - 0s 6ms/step - loss: 0.5494 - accuracy: 0.7182\n",
      "Epoch 135/150\n",
      "62/62 [==============================] - 0s 6ms/step - loss: 0.5416 - accuracy: 0.7101\n",
      "Epoch 136/150\n",
      "62/62 [==============================] - 1s 9ms/step - loss: 0.5345 - accuracy: 0.7264\n",
      "Epoch 137/150\n",
      "62/62 [==============================] - 1s 11ms/step - loss: 0.5422 - accuracy: 0.7003\n",
      "Epoch 138/150\n",
      "62/62 [==============================] - 0s 7ms/step - loss: 0.5352 - accuracy: 0.7150\n",
      "Epoch 139/150\n",
      "62/62 [==============================] - 0s 5ms/step - loss: 0.5316 - accuracy: 0.7443\n",
      "Epoch 140/150\n",
      "62/62 [==============================] - 0s 3ms/step - loss: 0.5325 - accuracy: 0.7134\n",
      "Epoch 141/150\n",
      "62/62 [==============================] - 0s 3ms/step - loss: 0.5138 - accuracy: 0.7329\n",
      "Epoch 142/150\n",
      "62/62 [==============================] - 0s 3ms/step - loss: 0.5165 - accuracy: 0.7345\n",
      "Epoch 143/150\n",
      "62/62 [==============================] - 0s 3ms/step - loss: 0.5233 - accuracy: 0.7329\n",
      "Epoch 144/150\n",
      "62/62 [==============================] - 0s 4ms/step - loss: 0.5288 - accuracy: 0.7248\n",
      "Epoch 145/150\n",
      "62/62 [==============================] - 0s 4ms/step - loss: 0.5249 - accuracy: 0.7329\n",
      "Epoch 146/150\n",
      "62/62 [==============================] - 0s 3ms/step - loss: 0.5180 - accuracy: 0.7362\n",
      "Epoch 147/150\n",
      "62/62 [==============================] - 0s 3ms/step - loss: 0.5290 - accuracy: 0.7296\n",
      "Epoch 148/150\n",
      "62/62 [==============================] - 0s 3ms/step - loss: 0.5204 - accuracy: 0.7329\n",
      "Epoch 149/150\n",
      "62/62 [==============================] - 0s 4ms/step - loss: 0.5152 - accuracy: 0.7394\n",
      "Epoch 150/150\n",
      "62/62 [==============================] - 0s 4ms/step - loss: 0.5288 - accuracy: 0.7410\n"
     ]
    },
    {
     "data": {
      "text/plain": [
       "<keras.callbacks.History at 0x7f051be0ed40>"
      ]
     },
     "execution_count": 67,
     "metadata": {},
     "output_type": "execute_result"
    }
   ],
   "source": [
    "# TRAIN THE ANN Model\n",
    "annmodel.fit(X_train, Y_train, batch_size = 10, epochs = 150)"
   ]
  },
  {
   "cell_type": "code",
   "execution_count": 68,
   "metadata": {
    "colab": {
     "base_uri": "https://localhost:8080/"
    },
    "id": "eWQe_mnnpEXf",
    "outputId": "2ab9a6c4-2899-4264-f730-d21adccde549"
   },
   "outputs": [
    {
     "name": "stdout",
     "output_type": "stream",
     "text": [
      "20/20 [==============================] - 0s 2ms/step - loss: 0.5052 - accuracy: 0.7476\n",
      "Accuracy is: 74.7556984424591\n"
     ]
    }
   ],
   "source": [
    "# BEST TRAINING ACCURACY\n",
    "_, result = annmodel.evaluate(X_train, Y_train)\n",
    "print(\"Accuracy is:\", (result*100.0))"
   ]
  },
  {
   "cell_type": "code",
   "execution_count": 69,
   "metadata": {
    "colab": {
     "base_uri": "https://localhost:8080/"
    },
    "id": "pz4UWEMUpTz-",
    "outputId": "a96df707-2f3b-484c-f678-70ec465bf77c"
   },
   "outputs": [
    {
     "name": "stdout",
     "output_type": "stream",
     "text": [
      "5/5 [==============================] - 0s 2ms/step\n",
      "[[8.50971818e-01]\n",
      " [1.62230238e-01]\n",
      " [1.82895198e-01]\n",
      " [6.19308114e-01]\n",
      " [2.32567191e-01]\n",
      " [4.57450263e-02]\n",
      " [5.46298206e-01]\n",
      " [7.30713964e-01]\n",
      " [4.39475596e-01]\n",
      " [3.64171177e-01]\n",
      " [8.76038134e-01]\n",
      " [7.82298148e-01]\n",
      " [2.86047846e-01]\n",
      " [3.03287476e-01]\n",
      " [1.75455108e-01]\n",
      " [2.44577348e-01]\n",
      " [8.91312480e-01]\n",
      " [1.33002371e-01]\n",
      " [3.21908385e-01]\n",
      " [4.39309150e-01]\n",
      " [5.04848957e-01]\n",
      " [3.45320165e-01]\n",
      " [4.93806362e-01]\n",
      " [8.93361941e-02]\n",
      " [3.39068413e-01]\n",
      " [4.19479519e-01]\n",
      " [1.47942185e-01]\n",
      " [7.15919793e-01]\n",
      " [2.58841366e-01]\n",
      " [2.74041027e-01]\n",
      " [6.02607906e-01]\n",
      " [2.79416949e-01]\n",
      " [1.33832082e-01]\n",
      " [6.03196144e-01]\n",
      " [2.10972711e-01]\n",
      " [6.39295220e-01]\n",
      " [4.36793596e-01]\n",
      " [4.61187735e-02]\n",
      " [4.20514256e-01]\n",
      " [5.94670951e-01]\n",
      " [3.56358230e-01]\n",
      " [2.22913623e-01]\n",
      " [1.75216690e-01]\n",
      " [7.59710252e-01]\n",
      " [6.21242940e-01]\n",
      " [1.04583085e-01]\n",
      " [1.29920155e-01]\n",
      " [4.20511007e-01]\n",
      " [4.49277073e-01]\n",
      " [3.40984941e-01]\n",
      " [4.94388491e-01]\n",
      " [3.20647985e-01]\n",
      " [9.69784975e-01]\n",
      " [4.36042875e-01]\n",
      " [3.88827801e-01]\n",
      " [2.53940463e-01]\n",
      " [1.52571380e-01]\n",
      " [3.16511750e-01]\n",
      " [3.79962534e-01]\n",
      " [4.17961099e-04]\n",
      " [4.05314922e-01]\n",
      " [4.69852030e-01]\n",
      " [2.55513191e-01]\n",
      " [7.81154037e-01]\n",
      " [6.47729158e-01]\n",
      " [8.28788996e-01]\n",
      " [5.86945295e-01]\n",
      " [2.38024801e-01]\n",
      " [4.25649732e-01]\n",
      " [1.77505001e-01]\n",
      " [2.49981627e-01]\n",
      " [6.53483868e-01]\n",
      " [1.76214680e-01]\n",
      " [7.62669683e-01]\n",
      " [7.03479171e-01]\n",
      " [3.54338080e-01]\n",
      " [1.40935913e-01]\n",
      " [9.50317562e-01]\n",
      " [1.31167009e-01]\n",
      " [2.28209019e-01]\n",
      " [2.95108646e-01]\n",
      " [5.03439367e-01]\n",
      " [3.64506364e-01]\n",
      " [8.03735703e-02]\n",
      " [2.89989203e-01]\n",
      " [2.10341275e-01]\n",
      " [4.70166087e-01]\n",
      " [6.65459335e-01]\n",
      " [3.97914886e-01]\n",
      " [4.00658280e-01]\n",
      " [2.73831606e-01]\n",
      " [2.65710503e-01]\n",
      " [5.07292867e-01]\n",
      " [4.43359241e-02]\n",
      " [2.31400236e-01]\n",
      " [1.53087735e-01]\n",
      " [3.51770788e-01]\n",
      " [4.50270206e-01]\n",
      " [3.69543463e-01]\n",
      " [2.78757483e-01]\n",
      " [4.38692331e-01]\n",
      " [2.74918914e-01]\n",
      " [2.20832810e-01]\n",
      " [6.67773560e-02]\n",
      " [5.38000286e-01]\n",
      " [3.92204672e-01]\n",
      " [1.01213358e-01]\n",
      " [3.83904904e-01]\n",
      " [3.61963212e-02]\n",
      " [7.64298439e-01]\n",
      " [1.64356977e-01]\n",
      " [3.46797556e-01]\n",
      " [5.57546735e-01]\n",
      " [9.20109302e-02]\n",
      " [5.47552168e-01]\n",
      " [5.19823790e-01]\n",
      " [4.37213719e-01]\n",
      " [9.58430529e-01]\n",
      " [1.84466437e-01]\n",
      " [8.23447466e-01]\n",
      " [3.21315825e-01]\n",
      " [1.79360181e-01]\n",
      " [3.53663772e-01]\n",
      " [4.13086534e-01]\n",
      " [1.86865285e-01]\n",
      " [1.62812531e-01]\n",
      " [3.18931341e-01]\n",
      " [3.68945688e-01]\n",
      " [4.13499504e-01]\n",
      " [4.77258354e-01]\n",
      " [4.30094063e-01]\n",
      " [7.40076008e-04]\n",
      " [1.65215105e-01]\n",
      " [5.96607387e-01]\n",
      " [3.84272635e-01]\n",
      " [3.62729043e-01]\n",
      " [2.80863017e-01]\n",
      " [3.86636972e-01]\n",
      " [7.88589001e-01]\n",
      " [3.50086004e-01]\n",
      " [1.44690529e-01]\n",
      " [6.57422066e-01]\n",
      " [2.15471432e-01]\n",
      " [1.88340709e-01]\n",
      " [3.65974516e-01]\n",
      " [2.27707520e-01]\n",
      " [1.14639737e-01]\n",
      " [1.86540484e-01]\n",
      " [2.39725754e-01]\n",
      " [3.54589850e-01]\n",
      " [1.14768721e-01]\n",
      " [4.97604579e-01]\n",
      " [1.61467701e-01]\n",
      " [1.74880117e-01]]\n"
     ]
    }
   ],
   "source": [
    "# To get the predicted output\n",
    "Y_pred_test = annmodel.predict(X_test)\n",
    "print(Y_pred_test)"
   ]
  },
  {
   "cell_type": "code",
   "execution_count": 70,
   "metadata": {
    "colab": {
     "base_uri": "https://localhost:8080/"
    },
    "id": "HleI8ZbRqQKW",
    "outputId": "a99da979-891e-4285-86cb-f15a21ba0dbb"
   },
   "outputs": [
    {
     "name": "stdout",
     "output_type": "stream",
     "text": [
      "[[False]\n",
      " [False]\n",
      " [False]\n",
      " [False]\n",
      " [False]\n",
      " [False]\n",
      " [False]\n",
      " [False]\n",
      " [False]\n",
      " [False]\n",
      " [False]\n",
      " [False]\n",
      " [False]\n",
      " [False]\n",
      " [False]\n",
      " [False]\n",
      " [False]\n",
      " [False]\n",
      " [False]\n",
      " [False]\n",
      " [False]\n",
      " [False]\n",
      " [False]\n",
      " [False]\n",
      " [False]\n",
      " [False]\n",
      " [False]\n",
      " [False]\n",
      " [False]\n",
      " [False]\n",
      " [False]\n",
      " [False]\n",
      " [False]\n",
      " [False]\n",
      " [False]\n",
      " [False]\n",
      " [False]\n",
      " [False]\n",
      " [False]\n",
      " [False]\n",
      " [False]\n",
      " [False]\n",
      " [False]\n",
      " [False]\n",
      " [False]\n",
      " [False]\n",
      " [False]\n",
      " [False]\n",
      " [False]\n",
      " [False]\n",
      " [False]\n",
      " [False]\n",
      " [ True]\n",
      " [False]\n",
      " [False]\n",
      " [False]\n",
      " [False]\n",
      " [False]\n",
      " [False]\n",
      " [False]\n",
      " [False]\n",
      " [False]\n",
      " [False]\n",
      " [False]\n",
      " [False]\n",
      " [False]\n",
      " [False]\n",
      " [False]\n",
      " [False]\n",
      " [False]\n",
      " [False]\n",
      " [False]\n",
      " [False]\n",
      " [False]\n",
      " [False]\n",
      " [False]\n",
      " [False]\n",
      " [ True]\n",
      " [False]\n",
      " [False]\n",
      " [False]\n",
      " [False]\n",
      " [False]\n",
      " [False]\n",
      " [False]\n",
      " [False]\n",
      " [False]\n",
      " [False]\n",
      " [False]\n",
      " [False]\n",
      " [False]\n",
      " [False]\n",
      " [False]\n",
      " [False]\n",
      " [False]\n",
      " [False]\n",
      " [False]\n",
      " [False]\n",
      " [False]\n",
      " [False]\n",
      " [False]\n",
      " [False]\n",
      " [False]\n",
      " [False]\n",
      " [False]\n",
      " [False]\n",
      " [False]\n",
      " [False]\n",
      " [False]\n",
      " [False]\n",
      " [False]\n",
      " [False]\n",
      " [False]\n",
      " [False]\n",
      " [False]\n",
      " [False]\n",
      " [False]\n",
      " [ True]\n",
      " [False]\n",
      " [False]\n",
      " [False]\n",
      " [False]\n",
      " [False]\n",
      " [False]\n",
      " [False]\n",
      " [False]\n",
      " [False]\n",
      " [False]\n",
      " [False]\n",
      " [False]\n",
      " [False]\n",
      " [False]\n",
      " [False]\n",
      " [False]\n",
      " [False]\n",
      " [False]\n",
      " [False]\n",
      " [False]\n",
      " [False]\n",
      " [False]\n",
      " [False]\n",
      " [False]\n",
      " [False]\n",
      " [False]\n",
      " [False]\n",
      " [False]\n",
      " [False]\n",
      " [False]\n",
      " [False]\n",
      " [False]\n",
      " [False]\n",
      " [False]\n",
      " [False]\n",
      " [False]]\n"
     ]
    }
   ],
   "source": [
    "Y_pred_test = (Y_pred_test > 0.9)\n",
    "\n",
    "\n",
    "print(Y_pred_test)"
   ]
  },
  {
   "cell_type": "code",
   "execution_count": 71,
   "metadata": {
    "colab": {
     "base_uri": "https://localhost:8080/"
    },
    "id": "GledVv5lpq43",
    "outputId": "b1bcf41a-d46b-458d-96b4-3aafe9506897"
   },
   "outputs": [
    {
     "name": "stdout",
     "output_type": "stream",
     "text": [
      "Accuracy score is: 10600.0\n"
     ]
    }
   ],
   "source": [
    "# ACCURACY SCORE BETWEEN ACTUAL OUTPUT AND PREDICTED OUTPUT\n",
    "from sklearn.metrics import accuracy_score\n",
    "ac = accuracy_score(Y_test, Y_pred_test, normalize = False)\n",
    "print(\"Accuracy score is:\", (ac * 100.0))"
   ]
  },
  {
   "cell_type": "code",
   "execution_count": 72,
   "metadata": {
    "colab": {
     "base_uri": "https://localhost:8080/"
    },
    "id": "_VMCdnMEraDG",
    "outputId": "258c6573-44a6-482c-cfff-a2f6843d6658"
   },
   "outputs": [
    {
     "name": "stdout",
     "output_type": "stream",
     "text": [
      "[[105   2]\n",
      " [ 46   1]]\n"
     ]
    }
   ],
   "source": [
    "# CONFUSION MATRIX BETWEEN ACTUAL OUTPUT AND PREDICTED OUTPUT\n",
    "\n",
    "from sklearn.metrics import confusion_matrix\n",
    "\n",
    "cm = confusion_matrix(Y_test, Y_pred_test)\n",
    "\n",
    "print(cm)"
   ]
  },
  {
   "cell_type": "code",
   "execution_count": 73,
   "metadata": {
    "colab": {
     "base_uri": "https://localhost:8080/",
     "height": 447
    },
    "id": "wIzIDF1brlsG",
    "outputId": "2886d2cb-8d99-49c6-8626-0a9a1d634f98"
   },
   "outputs": [
    {
     "data": {
      "text/plain": [
       "<Axes: >"
      ]
     },
     "execution_count": 73,
     "metadata": {},
     "output_type": "execute_result"
    },
    {
     "data": {
      "image/png": "[encoded data removed]",
      "text/plain": [
       "<Figure size 640x480 with 2 Axes>"
      ]
     },
     "metadata": {},
     "output_type": "display_data"
    }
   ],
   "source": [
    "# To graphically see the confusion matrix using heat map\n",
    "import seaborn as sns\n",
    "sns.heatmap(cm, annot = True)"
   ]
  }
 ],
 "metadata": {
  "colab": {
   "provenance": []
  },
  "kernelspec": {
   "display_name": "Python 3",
   "language": "python",
   "name": "python3"
  },
  "language_info": {
   "codemirror_mode": {
    "name": "ipython",
    "version": 3
   },
   "file_extension": ".py",
   "mimetype": "text/x-python",
   "name": "python",
   "nbconvert_exporter": "python",
   "pygments_lexer": "ipython3",
   "version": "3.8.3"
  }
 },
 "nbformat": 4,
 "nbformat_minor": 1
}
