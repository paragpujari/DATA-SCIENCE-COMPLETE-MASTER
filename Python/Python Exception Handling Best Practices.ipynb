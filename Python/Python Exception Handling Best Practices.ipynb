{
 "cells": [
  {
   "cell_type": "markdown",
   "id": "f4706679-c2bd-4c78-85de-219ee173916d",
   "metadata": {},
   "source": [
    "# Best Practices for Exception Handling"
   ]
  },
  {
   "cell_type": "markdown",
   "id": "07f308b7-581b-4fc6-b3fc-77d916d8dcbe",
   "metadata": {},
   "source": [
    "1. Always write a specific case exception and never write a generic exception.\n",
    "\n",
    "2. Print always a proper and valid message.\n",
    "\n",
    "3. Always try to log the exception so that it will always be available.\n",
    "\n",
    "4. Always avoid to write a multiple exception handling.\n",
    "\n",
    "5. Always try to prepare a proper documentation.\n",
    "\n",
    "6. Clean up all the resources."
   ]
  },
  {
   "cell_type": "code",
   "execution_count": null,
   "id": "b70d797b-2786-4f84-9e30-90fe7f2d2876",
   "metadata": {},
   "outputs": [],
   "source": []
  },
  {
   "cell_type": "code",
   "execution_count": null,
   "id": "acf6dce8-d946-4825-a42e-6bb009a7e9ea",
   "metadata": {},
   "outputs": [],
   "source": []
  }
 ],
 "metadata": {
  "kernelspec": {
   "display_name": "Python 3 (ipykernel)",
   "language": "python",
   "name": "python3"
  },
  "language_info": {
   "codemirror_mode": {
    "name": "ipython",
    "version": 3
   },
   "file_extension": ".py",
   "mimetype": "text/x-python",
   "name": "python",
   "nbconvert_exporter": "python",
   "pygments_lexer": "ipython3",
   "version": "3.10.8"
  }
 },
 "nbformat": 4,
 "nbformat_minor": 5
}
