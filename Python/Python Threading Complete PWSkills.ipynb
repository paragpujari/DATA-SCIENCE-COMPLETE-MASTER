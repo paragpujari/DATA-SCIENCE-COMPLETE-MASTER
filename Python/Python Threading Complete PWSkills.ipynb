{
 "cells": [
  {
   "cell_type": "code",
   "execution_count": 1,
   "id": "50193cea-0be3-4293-84f4-639b26713fcf",
   "metadata": {},
   "outputs": [],
   "source": [
    "import threading"
   ]
  },
  {
   "cell_type": "code",
   "execution_count": 2,
   "id": "4e0b9f4c-c7c3-46dc-9815-70191450a6c0",
   "metadata": {},
   "outputs": [],
   "source": [
    "# function\n",
    "def function(id):\n",
    "    print(\"This is my test id % d\" % id)"
   ]
  },
  {
   "cell_type": "code",
   "execution_count": 3,
   "id": "20484c2a-9186-4e78-8945-ee0305ec75b0",
   "metadata": {},
   "outputs": [
    {
     "name": "stdout",
     "output_type": "stream",
     "text": [
      "This is my test id  10\n"
     ]
    }
   ],
   "source": [
    "function(10)"
   ]
  },
  {
   "cell_type": "code",
   "execution_count": 4,
   "id": "3d3ea3d7-dbf5-4092-bde2-672a2fe133d7",
   "metadata": {},
   "outputs": [
    {
     "name": "stdout",
     "output_type": "stream",
     "text": [
      "This is my test id  1\n"
     ]
    }
   ],
   "source": [
    "function(1)"
   ]
  },
  {
   "cell_type": "code",
   "execution_count": 5,
   "id": "6c38e1fb-c218-4d31-9531-5a756c2252e1",
   "metadata": {},
   "outputs": [
    {
     "name": "stdout",
     "output_type": "stream",
     "text": [
      "This is my test id  3\n"
     ]
    }
   ],
   "source": [
    "function(3)"
   ]
  },
  {
   "cell_type": "code",
   "execution_count": 6,
   "id": "7b208d9b-c64c-4379-bfea-053472fa8fd5",
   "metadata": {},
   "outputs": [],
   "source": [
    "# To call all the three functions using threads\n",
    "threads = [threading.Thread(target = function, args = (i,)) for i in [10,3,1]]"
   ]
  },
  {
   "cell_type": "code",
   "execution_count": 7,
   "id": "6472a90f-4afd-479f-901c-4d2150407f25",
   "metadata": {},
   "outputs": [
    {
     "name": "stdout",
     "output_type": "stream",
     "text": [
      "[<Thread(Thread-5 (function), initial)>, <Thread(Thread-6 (function), initial)>, <Thread(Thread-7 (function), initial)>]\n"
     ]
    }
   ],
   "source": [
    "print(threads)"
   ]
  },
  {
   "cell_type": "code",
   "execution_count": 8,
   "id": "86810b00-24ff-46db-8306-c5722f88d0a3",
   "metadata": {},
   "outputs": [
    {
     "name": "stdout",
     "output_type": "stream",
     "text": [
      "<Thread(Thread-5 (function), initial)>\n",
      "<Thread(Thread-6 (function), initial)>\n",
      "<Thread(Thread-7 (function), initial)>\n"
     ]
    }
   ],
   "source": [
    "# To print all the three threads\n",
    "for i in threads:\n",
    "    print(i)"
   ]
  },
  {
   "cell_type": "code",
   "execution_count": 9,
   "id": "92fb0365-ff22-4505-b93a-7f4f5856810d",
   "metadata": {},
   "outputs": [
    {
     "name": "stdout",
     "output_type": "stream",
     "text": [
      "This is my test id  10\n",
      "This is my test id  3\n",
      "This is my test id  1\n"
     ]
    }
   ],
   "source": [
    "# To start all the three threads all at once\n",
    "for i in threads:\n",
    "    i.start()"
   ]
  },
  {
   "cell_type": "code",
   "execution_count": 30,
   "id": "4ded57cd-127b-48a7-8dde-b660fd37d83f",
   "metadata": {},
   "outputs": [],
   "source": [
    "# To request all the data from all the three datasets and store it in a local file\n",
    "import urllib.request\n",
    "\n",
    "# To download the file from a url\n",
    "def file_download(url, filename):\n",
    "    urllib.request.urlretrieve(url, filename)"
   ]
  },
  {
   "cell_type": "code",
   "execution_count": 31,
   "id": "c45deeab-1464-487f-8822-efaaab9e7018",
   "metadata": {},
   "outputs": [],
   "source": [
    "file_download('https://raw.githubusercontent.com/itsfoss/text-files/master/agatha.txt', 'test1.txt')"
   ]
  },
  {
   "cell_type": "code",
   "execution_count": 32,
   "id": "e7e81909-bb2e-4297-8da8-958782ab2692",
   "metadata": {},
   "outputs": [],
   "source": [
    "# list of all the url\n",
    "url_list = ['https://raw.githubusercontent.com/itsfoss/text-files/master/agatha.txt' , 'https://raw.githubusercontent.com/itsfoss/text-files/master/sherlock.txt' ,'https://raw.githubusercontent.com/itsfoss/text-files/master/sample_log_file.txt' ]"
   ]
  },
  {
   "cell_type": "code",
   "execution_count": 33,
   "id": "1ea1c4a8-bb17-4f4e-9c2a-52c6039a6afc",
   "metadata": {},
   "outputs": [
    {
     "name": "stdout",
     "output_type": "stream",
     "text": [
      "['https://raw.githubusercontent.com/itsfoss/text-files/master/agatha.txt', 'https://raw.githubusercontent.com/itsfoss/text-files/master/sherlock.txt', 'https://raw.githubusercontent.com/itsfoss/text-files/master/sample_log_file.txt']\n"
     ]
    }
   ],
   "source": [
    "print(url_list)"
   ]
  },
  {
   "cell_type": "code",
   "execution_count": 34,
   "id": "cce83376-8572-404f-8b18-f19920115628",
   "metadata": {},
   "outputs": [],
   "source": [
    "# list of all the data files\n",
    "data_file_list = ['data1.txt', 'data2.txt', 'data3.txt']"
   ]
  },
  {
   "cell_type": "code",
   "execution_count": 35,
   "id": "cd1f0600-0bde-46c7-aab2-79a235c40a39",
   "metadata": {},
   "outputs": [
    {
     "name": "stdout",
     "output_type": "stream",
     "text": [
      "['data1.txt', 'data2.txt', 'data3.txt']\n"
     ]
    }
   ],
   "source": [
    "print(data_file_list)"
   ]
  },
  {
   "cell_type": "code",
   "execution_count": 36,
   "id": "36e9eeda-5c11-4efd-8db0-857dfa3d4619",
   "metadata": {},
   "outputs": [],
   "source": [
    "# To create the thread to call the data from the three datasets ans store it in a local file using threads\n",
    "threads_new = [threading.Thread(target = file_download, args = (url_list[i], data_file_list[i])) for i in range(len(url_list))]"
   ]
  },
  {
   "cell_type": "code",
   "execution_count": 37,
   "id": "a8be949b-d6af-471a-9447-5d9b6a0c74a4",
   "metadata": {},
   "outputs": [
    {
     "name": "stdout",
     "output_type": "stream",
     "text": [
      "[<Thread(Thread-11 (file_download), initial)>, <Thread(Thread-12 (file_download), initial)>, <Thread(Thread-13 (file_download), initial)>]\n"
     ]
    }
   ],
   "source": [
    "print(threads_new)"
   ]
  },
  {
   "cell_type": "code",
   "execution_count": 38,
   "id": "f2385d68-3b26-4d2f-ad1d-4bd69ec8ae27",
   "metadata": {},
   "outputs": [
    {
     "name": "stdout",
     "output_type": "stream",
     "text": [
      "<Thread(Thread-11 (file_download), initial)>\n",
      "<Thread(Thread-12 (file_download), initial)>\n",
      "<Thread(Thread-13 (file_download), initial)>\n"
     ]
    }
   ],
   "source": [
    "# To print all the threads\n",
    "for i in threads_new:\n",
    "    print(i)"
   ]
  },
  {
   "cell_type": "code",
   "execution_count": 39,
   "id": "9f05cfe5-fa06-4709-8e94-b6e9703f1cbb",
   "metadata": {},
   "outputs": [],
   "source": [
    "# To start all the three threads at once\n",
    "for t in threads_new:\n",
    "    t.start()"
   ]
  },
  {
   "cell_type": "code",
   "execution_count": 40,
   "id": "9f0ad02d-780f-4ef2-afa8-db81ced04382",
   "metadata": {},
   "outputs": [],
   "source": [
    "import time"
   ]
  },
  {
   "cell_type": "code",
   "execution_count": 41,
   "id": "ad894f1a-f773-4482-9757-80b8381f8d3a",
   "metadata": {},
   "outputs": [],
   "source": [
    "def functions2(x):\n",
    "    for i in range(10):\n",
    "        print(\"test1 print the value of x %d and print the value of i %d\", (x,i))\n",
    "        time.sleep(1)"
   ]
  },
  {
   "cell_type": "code",
   "execution_count": 42,
   "id": "c98eb025-4e17-4b8f-a016-cb16e324c74d",
   "metadata": {},
   "outputs": [],
   "source": [
    "# To create the thread and call the values for all the functions at once\n",
    "th = [threading.Thread(target = functions2, args = (i,)) for i in [100, 20, 10, 5]]"
   ]
  },
  {
   "cell_type": "code",
   "execution_count": 43,
   "id": "9702c919-2957-42c1-b777-eff389857121",
   "metadata": {},
   "outputs": [
    {
     "name": "stdout",
     "output_type": "stream",
     "text": [
      "<Thread(Thread-14 (functions2), initial)>\n",
      "<Thread(Thread-15 (functions2), initial)>\n",
      "<Thread(Thread-16 (functions2), initial)>\n",
      "<Thread(Thread-17 (functions2), initial)>\n"
     ]
    }
   ],
   "source": [
    "# To call the threads\n",
    "for i in th:\n",
    "    print(i)"
   ]
  },
  {
   "cell_type": "code",
   "execution_count": 44,
   "id": "2619b3c1-a7f0-4934-ad40-58e7975ceda8",
   "metadata": {},
   "outputs": [
    {
     "name": "stdout",
     "output_type": "stream",
     "text": [
      "test1 print the value of x %d and print the value of i %d (100, 0)\n",
      "None\n",
      "test1 print the value of x %d and print the value of i %d (20, 0)\n",
      "None\n",
      "test1 print the value of x %d and print the value of i %d (10, 0)\n",
      "None\n",
      "test1 print the value of x %d and print the value of i %d (5, 0)\n",
      "None\n",
      "test1 print the value of x %d and print the value of i %d (100, 1)\n",
      "test1 print the value of x %d and print the value of i %d (20, 1)\n",
      "test1 print the value of x %d and print the value of i %d (10, 1)\n",
      "test1 print the value of x %d and print the value of i %d (5, 1)\n",
      "test1 print the value of x %d and print the value of i %d (100, 2)\n",
      "test1 print the value of x %d and print the value of i %d (20, 2)\n",
      "test1 print the value of x %d and print the value of i %d (10, 2)\n",
      "test1 print the value of x %d and print the value of i %d (5, 2)\n",
      "test1 print the value of x %d and print the value of i %d (100, 3)\n",
      "test1 print the value of x %d and print the value of i %d (20, 3)\n",
      "test1 print the value of x %d and print the value of i %d (10, 3)\n",
      "test1 print the value of x %d and print the value of i %d (5, 3)\n",
      "test1 print the value of x %d and print the value of i %d (100, 4)\n",
      "test1 print the value of x %d and print the value of i %d (20, 4)\n",
      "test1 print the value of x %d and print the value of i %d (10, 4)\n",
      "test1 print the value of x %d and print the value of i %d (5, 4)\n",
      "test1 print the value of x %d and print the value of i %d (100, 5)\n",
      "test1 print the value of x %d and print the value of i %d (20, 5)\n",
      "test1 print the value of x %d and print the value of i %d (10, 5)\n",
      "test1 print the value of x %d and print the value of i %d (5, 5)\n",
      "test1 print the value of x %d and print the value of i %d (100, 6)\n",
      "test1 print the value of x %d and print the value of i %d (20, 6)\n",
      "test1 print the value of x %d and print the value of i %d (5, 6)\n",
      "test1 print the value of x %d and print the value of i %d (10, 6)\n",
      "test1 print the value of x %d and print the value of i %d (100, 7)\n",
      "test1 print the value of x %d and print the value of i %d (20, 7)\n",
      "test1 print the value of x %d and print the value of i %d (5, 7)\n",
      "test1 print the value of x %d and print the value of i %d (10, 7)\n",
      "test1 print the value of x %d and print the value of i %d (100, 8)\n",
      "test1 print the value of x %d and print the value of i %d (20, 8)\n",
      "test1 print the value of x %d and print the value of i %d (5, 8)\n",
      "test1 print the value of x %d and print the value of i %d (10, 8)\n",
      "test1 print the value of x %d and print the value of i %d (100, 9)\n",
      "test1 print the value of x %d and print the value of i %d (20, 9)\n",
      "test1 print the value of x %d and print the value of i %d (5, 9)\n",
      "test1 print the value of x %d and print the value of i %d (10, 9)\n"
     ]
    }
   ],
   "source": [
    "# To start all the sub modules in a thread at once\n",
    "for i in th:\n",
    "    print(i.start())"
   ]
  },
  {
   "cell_type": "code",
   "execution_count": 51,
   "id": "b8a18767-2ea4-45ad-b647-f9cb93e60124",
   "metadata": {},
   "outputs": [],
   "source": [
    "shared_var = 0\n",
    "lock_var = threading.Lock() # pt a lock on the variable\n",
    "\n",
    "def func(x):\n",
    "    global shared_var \n",
    "    with   lock_var:\n",
    "        shared_var = shared_var + 1\n",
    "        print(\"Value of x %d and Value of shared_var %d\", (x, shared_var))\n",
    "        time.sleep(1)"
   ]
  },
  {
   "cell_type": "code",
   "execution_count": 52,
   "id": "aabaf16a-5394-46d3-af44-34c4aba8a9da",
   "metadata": {},
   "outputs": [
    {
     "name": "stdout",
     "output_type": "stream",
     "text": [
      "Value of x %d and Value of shared_var %d (2, 1)\n"
     ]
    }
   ],
   "source": [
    "func(2)"
   ]
  },
  {
   "cell_type": "code",
   "execution_count": 53,
   "id": "5054ba81-5fd1-44b7-911a-eb4c2004ba99",
   "metadata": {},
   "outputs": [
    {
     "name": "stdout",
     "output_type": "stream",
     "text": [
      "Value of x %d and Value of shared_var %d (3, 2)\n"
     ]
    }
   ],
   "source": [
    "func(3)"
   ]
  },
  {
   "cell_type": "code",
   "execution_count": 54,
   "id": "5463eeb5-643c-4b47-a09a-827b1dfafd23",
   "metadata": {},
   "outputs": [],
   "source": [
    "# creating the thread for the shared variables\n",
    "thredas = [threading.Thread(target = func , args = (i,)) for i in [1,2,3,4,5]]"
   ]
  },
  {
   "cell_type": "code",
   "execution_count": 55,
   "id": "d93e648b-6050-4fb4-af89-5f7dce9e85dc",
   "metadata": {},
   "outputs": [
    {
     "name": "stdout",
     "output_type": "stream",
     "text": [
      "<Thread(Thread-18 (func), initial)>\n",
      "<Thread(Thread-19 (func), initial)>\n",
      "<Thread(Thread-20 (func), initial)>\n",
      "<Thread(Thread-21 (func), initial)>\n",
      "<Thread(Thread-22 (func), initial)>\n"
     ]
    }
   ],
   "source": [
    "# To call all the threads\n",
    "for i in thredas:\n",
    "    print(i)"
   ]
  },
  {
   "cell_type": "code",
   "execution_count": 56,
   "id": "1b19efdb-cf08-4a08-b648-b6ebefe29448",
   "metadata": {},
   "outputs": [
    {
     "name": "stdout",
     "output_type": "stream",
     "text": [
      "Value of x %d and Value of shared_var %d (1, 3)\n",
      "None\n",
      "None\n",
      "None\n",
      "None\n",
      "None\n",
      "Value of x %d and Value of shared_var %d (2, 4)\n",
      "Value of x %d and Value of shared_var %d (3, 5)\n",
      "Value of x %d and Value of shared_var %d (4, 6)\n",
      "Value of x %d and Value of shared_var %d (5, 7)\n"
     ]
    }
   ],
   "source": [
    "# To start all the threads at once\n",
    "for i in thredas:\n",
    "    print(i.start())"
   ]
  },
  {
   "cell_type": "code",
   "execution_count": null,
   "id": "2ad94516-6956-4831-814f-ac3813a260ba",
   "metadata": {},
   "outputs": [],
   "source": []
  }
 ],
 "metadata": {
  "kernelspec": {
   "display_name": "Python 3 (ipykernel)",
   "language": "python",
   "name": "python3"
  },
  "language_info": {
   "codemirror_mode": {
    "name": "ipython",
    "version": 3
   },
   "file_extension": ".py",
   "mimetype": "text/x-python",
   "name": "python",
   "nbconvert_exporter": "python",
   "pygments_lexer": "ipython3",
   "version": "3.10.8"
  }
 },
 "nbformat": 4,
 "nbformat_minor": 5
}
