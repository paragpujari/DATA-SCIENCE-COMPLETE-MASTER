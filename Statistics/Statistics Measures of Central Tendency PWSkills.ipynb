{
 "cells": [
  {
   "cell_type": "markdown",
   "metadata": {},
   "source": [
    "# Measure of Central Tendency"
   ]
  },
  {
   "cell_type": "markdown",
   "metadata": {},
   "source": [
    "## Mean(Average)"
   ]
  },
  {
   "cell_type": "code",
   "execution_count": 1,
   "metadata": {},
   "outputs": [
    {
     "name": "stdout",
     "output_type": "stream",
     "text": [
      "Mean of all the elements is: 16.8\n"
     ]
    }
   ],
   "source": [
    "age = [12,13,14,21,24]\n",
    "# mean of all the elements\n",
    "\n",
    "import numpy as np\n",
    "res = np.mean(age)\n",
    "print(\"Mean of all the elements is:\", res)"
   ]
  },
  {
   "cell_type": "code",
   "execution_count": 2,
   "metadata": {},
   "outputs": [
    {
     "name": "stdout",
     "output_type": "stream",
     "text": [
      "Mean of all the weights is: 61.666666666666664\n"
     ]
    }
   ],
   "source": [
    "weights = [45,34, 58,76,45,35,89,98,75]\n",
    "\n",
    "res = np.mean(weights)\n",
    "print(\"Mean of all the weights is:\", res)"
   ]
  },
  {
   "cell_type": "code",
   "execution_count": 3,
   "metadata": {},
   "outputs": [
    {
     "name": "stdout",
     "output_type": "stream",
     "text": [
      "Mean of all the weights is: 155.5\n"
     ]
    }
   ],
   "source": [
    "weights = [45,34, 58,76,45,35,89,98,75,1000] # addition of an outlier\n",
    "\n",
    "results = np.mean(weights)\n",
    "print(\"Mean of all the weights is:\", results)"
   ]
  },
  {
   "cell_type": "markdown",
   "metadata": {},
   "source": [
    "# Median"
   ]
  },
  {
   "cell_type": "code",
   "execution_count": 4,
   "metadata": {},
   "outputs": [
    {
     "name": "stdout",
     "output_type": "stream",
     "text": [
      "Median of all the weights is: 66.5\n"
     ]
    }
   ],
   "source": [
    "weights = [45,34, 58,76,45,35,89,98,75,1000] # addition of an outlier\n",
    "\n",
    "res = np.median(weights)\n",
    "print(\"Median of all the weights is:\", res)"
   ]
  },
  {
   "cell_type": "markdown",
   "metadata": {},
   "source": [
    "## Mode"
   ]
  },
  {
   "cell_type": "code",
   "execution_count": 5,
   "metadata": {},
   "outputs": [
    {
     "name": "stdout",
     "output_type": "stream",
     "text": [
      "Mode of all the weights is: ModeResult(mode=array([45]), count=array([2]))\n"
     ]
    }
   ],
   "source": [
    "from scipy import stats\n",
    "\n",
    "results = stats.mode(weights)\n",
    "print(\"Mode of all the weights is:\", results)"
   ]
  },
  {
   "cell_type": "code",
   "execution_count": null,
   "metadata": {},
   "outputs": [],
   "source": []
  }
 ],
 "metadata": {
  "kernelspec": {
   "display_name": "Python 3",
   "language": "python",
   "name": "python3"
  },
  "language_info": {
   "codemirror_mode": {
    "name": "ipython",
    "version": 3
   },
   "file_extension": ".py",
   "mimetype": "text/x-python",
   "name": "python",
   "nbconvert_exporter": "python",
   "pygments_lexer": "ipython3",
   "version": "3.8.3"
  }
 },
 "nbformat": 4,
 "nbformat_minor": 4
}
