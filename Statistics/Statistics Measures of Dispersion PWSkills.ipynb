{
 "cells": [
  {
   "cell_type": "markdown",
   "id": "5ec1c494-38a8-4433-a169-428649e2cfe8",
   "metadata": {},
   "source": [
    "# Measures of Dispersion\n"
   ]
  },
  {
   "cell_type": "code",
   "execution_count": 1,
   "id": "a6569e9d-4edc-4ad3-be7c-a1e4f514f0da",
   "metadata": {},
   "outputs": [],
   "source": [
    "# Variance\n",
    "ages = [23, 43, 22, 56, 74, 32, 68, 98, 45, 32]"
   ]
  },
  {
   "cell_type": "code",
   "execution_count": 2,
   "id": "1296a842-7dec-40ba-b138-0dc4a39d64af",
   "metadata": {},
   "outputs": [],
   "source": [
    "import numpy as np"
   ]
  },
  {
   "cell_type": "code",
   "execution_count": 3,
   "id": "dd9138d0-ae08-4478-83d0-9c77183fb4a3",
   "metadata": {},
   "outputs": [],
   "source": [
    "mean = np.mean(ages)"
   ]
  },
  {
   "cell_type": "code",
   "execution_count": 4,
   "id": "270657cc-d1e2-49a1-99f0-92989e6091b2",
   "metadata": {},
   "outputs": [
    {
     "data": {
      "text/plain": [
       "49.3"
      ]
     },
     "execution_count": 4,
     "metadata": {},
     "output_type": "execute_result"
    }
   ],
   "source": [
    "mean"
   ]
  },
  {
   "cell_type": "code",
   "execution_count": 5,
   "id": "7b97b2a9-da5f-49a4-9862-5b097ae05aa0",
   "metadata": {},
   "outputs": [],
   "source": [
    "var = np.var(ages)"
   ]
  },
  {
   "cell_type": "code",
   "execution_count": 6,
   "id": "cac68e57-93eb-4c69-a12d-dea25790fd77",
   "metadata": {},
   "outputs": [
    {
     "data": {
      "text/plain": [
       "547.01"
      ]
     },
     "execution_count": 6,
     "metadata": {},
     "output_type": "execute_result"
    }
   ],
   "source": [
    "var"
   ]
  },
  {
   "cell_type": "code",
   "execution_count": 7,
   "id": "a9128e68-e950-47cc-971b-ee1eb7e2c1cd",
   "metadata": {},
   "outputs": [],
   "source": [
    "std = np.std(ages)\n"
   ]
  },
  {
   "cell_type": "code",
   "execution_count": 8,
   "id": "98bdc2e1-faa9-41c1-886a-51bcf6a62341",
   "metadata": {},
   "outputs": [
    {
     "data": {
      "text/plain": [
       "23.388244910638335"
      ]
     },
     "execution_count": 8,
     "metadata": {},
     "output_type": "execute_result"
    }
   ],
   "source": [
    "std"
   ]
  },
  {
   "cell_type": "code",
   "execution_count": 9,
   "id": "8add4f0a-6ee1-4d60-b49b-0f650aa09c13",
   "metadata": {},
   "outputs": [],
   "source": [
    "import pandas as pd"
   ]
  },
  {
   "cell_type": "code",
   "execution_count": 16,
   "id": "2878bfd4-a6b5-4e50-9dbf-2d8f37101a12",
   "metadata": {},
   "outputs": [],
   "source": [
    "data = [[10, 12, 13], [43, 23,45], [32, 34, 21]]"
   ]
  },
  {
   "cell_type": "code",
   "execution_count": 17,
   "id": "4f8f0ba3-a36c-458a-99b8-aaa45ba94abf",
   "metadata": {},
   "outputs": [],
   "source": [
    "data = pd.DataFrame(data, columns = [\"A\",\"B\",\"C\"])"
   ]
  },
  {
   "cell_type": "code",
   "execution_count": 18,
   "id": "0a86eaf7-3933-4f67-ac32-98ec13ce128c",
   "metadata": {},
   "outputs": [
    {
     "data": {
      "text/html": [
       "<div>\n",
       "<style scoped>\n",
       "    .dataframe tbody tr th:only-of-type {\n",
       "        vertical-align: middle;\n",
       "    }\n",
       "\n",
       "    .dataframe tbody tr th {\n",
       "        vertical-align: top;\n",
       "    }\n",
       "\n",
       "    .dataframe thead th {\n",
       "        text-align: right;\n",
       "    }\n",
       "</style>\n",
       "<table border=\"1\" class=\"dataframe\">\n",
       "  <thead>\n",
       "    <tr style=\"text-align: right;\">\n",
       "      <th></th>\n",
       "      <th>A</th>\n",
       "      <th>B</th>\n",
       "      <th>C</th>\n",
       "    </tr>\n",
       "  </thead>\n",
       "  <tbody>\n",
       "    <tr>\n",
       "      <th>0</th>\n",
       "      <td>10</td>\n",
       "      <td>12</td>\n",
       "      <td>13</td>\n",
       "    </tr>\n",
       "    <tr>\n",
       "      <th>1</th>\n",
       "      <td>43</td>\n",
       "      <td>23</td>\n",
       "      <td>45</td>\n",
       "    </tr>\n",
       "    <tr>\n",
       "      <th>2</th>\n",
       "      <td>32</td>\n",
       "      <td>34</td>\n",
       "      <td>21</td>\n",
       "    </tr>\n",
       "  </tbody>\n",
       "</table>\n",
       "</div>"
      ],
      "text/plain": [
       "    A   B   C\n",
       "0  10  12  13\n",
       "1  43  23  45\n",
       "2  32  34  21"
      ]
     },
     "execution_count": 18,
     "metadata": {},
     "output_type": "execute_result"
    }
   ],
   "source": [
    "data"
   ]
  },
  {
   "cell_type": "code",
   "execution_count": 19,
   "id": "008c754a-5ad8-4339-b012-357020fc219a",
   "metadata": {},
   "outputs": [
    {
     "data": {
      "text/plain": [
       "A    282.333333\n",
       "B    121.000000\n",
       "C    277.333333\n",
       "dtype: float64"
      ]
     },
     "execution_count": 19,
     "metadata": {},
     "output_type": "execute_result"
    }
   ],
   "source": [
    "# To get the variance for the dataset columns wise\n",
    "data.var(axis = 0)"
   ]
  },
  {
   "cell_type": "code",
   "execution_count": 20,
   "id": "fa9308c5-af73-4d8c-93ef-01560560e59d",
   "metadata": {},
   "outputs": [
    {
     "data": {
      "text/plain": [
       "0      2.333333\n",
       "1    148.000000\n",
       "2     49.000000\n",
       "dtype: float64"
      ]
     },
     "execution_count": 20,
     "metadata": {},
     "output_type": "execute_result"
    }
   ],
   "source": [
    "data.var(axis = 1)"
   ]
  },
  {
   "cell_type": "code",
   "execution_count": null,
   "id": "62db40a6-4117-4e4b-a3b7-6395d0410327",
   "metadata": {},
   "outputs": [],
   "source": []
  }
 ],
 "metadata": {
  "kernelspec": {
   "display_name": "Python 3 (ipykernel)",
   "language": "python",
   "name": "python3"
  },
  "language_info": {
   "codemirror_mode": {
    "name": "ipython",
    "version": 3
   },
   "file_extension": ".py",
   "mimetype": "text/x-python",
   "name": "python",
   "nbconvert_exporter": "python",
   "pygments_lexer": "ipython3",
   "version": "3.10.8"
  }
 },
 "nbformat": 4,
 "nbformat_minor": 5
}
