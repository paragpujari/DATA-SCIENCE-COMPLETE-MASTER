{
 "cells": [
  {
   "cell_type": "markdown",
   "id": "9ddc7642-fc9b-4050-b69c-dbfc3069d951",
   "metadata": {},
   "source": [
    "# Statistics Chi Square Test PWSkills"
   ]
  },
  {
   "cell_type": "code",
   "execution_count": 1,
   "id": "2609f144-b9eb-4007-9840-84ebbf84f599",
   "metadata": {},
   "outputs": [],
   "source": [
    "import scipy.stats as stat"
   ]
  },
  {
   "cell_type": "code",
   "execution_count": 2,
   "id": "0249549d-af13-4569-ac69-eb61f52ab6a6",
   "metadata": {},
   "outputs": [],
   "source": [
    "import numpy as np"
   ]
  },
  {
   "cell_type": "code",
   "execution_count": 3,
   "id": "4dac3170-389e-475d-a40a-bc2735cd673b",
   "metadata": {},
   "outputs": [],
   "source": [
    "expected_data = [8,6,7,9,6,9,7]"
   ]
  },
  {
   "cell_type": "code",
   "execution_count": 4,
   "id": "dfb45fad-3736-4863-9a9f-aff4a9c9009e",
   "metadata": {},
   "outputs": [],
   "source": [
    "observed_data = [7,8,6,9,9,6,7]"
   ]
  },
  {
   "cell_type": "code",
   "execution_count": 5,
   "id": "d8a9710e-bd30-4221-a4c0-69ff72bbfe6d",
   "metadata": {},
   "outputs": [
    {
     "data": {
      "text/plain": [
       "(52, 52)"
      ]
     },
     "execution_count": 5,
     "metadata": {},
     "output_type": "execute_result"
    }
   ],
   "source": [
    "sum(expected_data), sum(observed_data)"
   ]
  },
  {
   "cell_type": "code",
   "execution_count": 6,
   "id": "236786ca-bece-4cee-b1f5-02038faf41e0",
   "metadata": {},
   "outputs": [],
   "source": [
    "# Chi Square Goodness of Fit\n",
    "chisquare_test_statistics, p_value = stat.chisquare(observed_data, expected_data)"
   ]
  },
  {
   "cell_type": "code",
   "execution_count": 7,
   "id": "bb107ba3-4ce4-48ba-8bee-80b6870f6b7a",
   "metadata": {},
   "outputs": [
    {
     "name": "stdout",
     "output_type": "stream",
     "text": [
      "chisquare_test_statistics is: 3.4345238095238093\n",
      "p_value is: 0.7526596580922865\n"
     ]
    },
    {
     "data": {
      "text/plain": [
       "(None, None)"
      ]
     },
     "execution_count": 7,
     "metadata": {},
     "output_type": "execute_result"
    }
   ],
   "source": [
    "print(\"chisquare_test_statistics is:\", chisquare_test_statistics) , print(\"p_value is:\", p_value)"
   ]
  },
  {
   "cell_type": "code",
   "execution_count": 10,
   "id": "e9263527-a4b8-4303-80ca-ee90433c5473",
   "metadata": {},
   "outputs": [],
   "source": [
    "# find the critical value\n",
    "significance = 0.05\n",
    "df = len(observed_data)-1\n",
    "critical_value = stat.chi2.ppf(1-significance, df)"
   ]
  },
  {
   "cell_type": "code",
   "execution_count": 11,
   "id": "935d7c5f-ed7b-478f-82af-45239e84a333",
   "metadata": {},
   "outputs": [
    {
     "name": "stdout",
     "output_type": "stream",
     "text": [
      "critical_value is: 12.591587243743977\n"
     ]
    }
   ],
   "source": [
    "print(\"critical_value is:\", critical_value)"
   ]
  },
  {
   "cell_type": "code",
   "execution_count": 12,
   "id": "86e04c71-6e0a-4d23-9955-22ed633774ba",
   "metadata": {},
   "outputs": [
    {
     "name": "stdout",
     "output_type": "stream",
     "text": [
      "accept the Null Hypothesis:\n"
     ]
    }
   ],
   "source": [
    "if(chisquare_test_statistics > critical_value):\n",
    "    print(\"Reject the Null Hypothesis:\")\n",
    "else:\n",
    "    print(\"accept the Null Hypothesis:\")"
   ]
  },
  {
   "cell_type": "code",
   "execution_count": null,
   "id": "c7b800ea-e812-4b97-94bd-b4f374113968",
   "metadata": {},
   "outputs": [],
   "source": []
  }
 ],
 "metadata": {
  "kernelspec": {
   "display_name": "Python 3 (ipykernel)",
   "language": "python",
   "name": "python3"
  },
  "language_info": {
   "codemirror_mode": {
    "name": "ipython",
    "version": 3
   },
   "file_extension": ".py",
   "mimetype": "text/x-python",
   "name": "python",
   "nbconvert_exporter": "python",
   "pygments_lexer": "ipython3",
   "version": "3.10.8"
  }
 },
 "nbformat": 4,
 "nbformat_minor": 5
}
