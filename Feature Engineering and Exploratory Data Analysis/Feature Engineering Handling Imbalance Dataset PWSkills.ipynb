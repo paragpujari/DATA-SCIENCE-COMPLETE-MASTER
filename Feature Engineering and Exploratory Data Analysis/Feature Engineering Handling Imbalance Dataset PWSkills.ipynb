{
 "cells": [
  {
   "cell_type": "markdown",
   "id": "c6daa4da-aed3-4016-952d-b98b2da5c72b",
   "metadata": {},
   "source": [
    "# Handling Imbalance Dataset"
   ]
  },
  {
   "cell_type": "markdown",
   "id": "f20adf37-1568-442d-89d8-1d0baf1fb3ad",
   "metadata": {},
   "source": [
    "## 1. UpSampling \n",
    "\n",
    "It referes to the technique where we try to increase the minority data points.\n",
    "\n",
    "\n",
    "## 2. DownSampling\n",
    "\n",
    "It refers to the technique where  we try to decrease the majority data points."
   ]
  },
  {
   "cell_type": "code",
   "execution_count": 5,
   "id": "f67312cd-67c5-4ef6-a510-1708b81c5686",
   "metadata": {},
   "outputs": [],
   "source": [
    "import numpy as np\n",
    "import pandas as pd\n",
    "\n",
    "# select the random values\n",
    "np.random.seed(123)\n",
    "\n",
    "\n",
    "# total samples\n",
    "n_samples = 1000\n",
    "class_0_ratio = 0.9\n",
    "n_class_0 = int(n_samples * class_0_ratio)\n",
    "n_class_1 = int(n_samples - n_class_0)"
   ]
  },
  {
   "cell_type": "code",
   "execution_count": 6,
   "id": "6288030f-d2b7-4b50-988b-02981d213bbb",
   "metadata": {},
   "outputs": [
    {
     "data": {
      "text/plain": [
       "(900, 100)"
      ]
     },
     "execution_count": 6,
     "metadata": {},
     "output_type": "execute_result"
    }
   ],
   "source": [
    "n_class_0, n_class_1"
   ]
  },
  {
   "cell_type": "code",
   "execution_count": 9,
   "id": "1f265c62-7c78-4974-8249-45f93049797f",
   "metadata": {},
   "outputs": [],
   "source": [
    "# Creating the  Imbalance Dataset\n",
    "class_0 = pd.DataFrame({\n",
    " 'feature_1' : np.random.normal(loc = 0, scale = 1, size = n_class_0),\n",
    " 'feature_2' : np.random.normal(loc = 0, scale = 1, size = n_class_0),\n",
    " 'target'    : [0] * n_class_0\n",
    "})\n",
    "\n",
    "class_1 = pd.DataFrame({\n",
    "   'feature_1' : np.random.normal(loc = 0, scale = 1, size = n_class_1),\n",
    "   'feature_2' : np.random.normal(loc = 0, scale = 1, size = n_class_1),\n",
    "   'target'    : [1] * n_class_1\n",
    "})"
   ]
  },
  {
   "cell_type": "code",
   "execution_count": 11,
   "id": "c60509e8-eb0d-4362-b861-b251dfee324d",
   "metadata": {},
   "outputs": [
    {
     "data": {
      "text/plain": [
       "(     feature_1  feature_2  target\n",
       " 0    -0.300232   0.667532       0\n",
       " 1    -0.632261   0.100458       0\n",
       " 2    -0.204317  -0.012610       0\n",
       " 3     0.213696   0.219907       0\n",
       " 4     1.033878   0.813623       0\n",
       " ..         ...        ...     ...\n",
       " 895   0.356445  -0.486628       0\n",
       " 896  -0.266376  -0.818430       0\n",
       " 897   0.804753  -1.138029       0\n",
       " 898  -1.750640   1.062592       0\n",
       " 899   1.539891  -0.831040       0\n",
       " \n",
       " [900 rows x 3 columns],\n",
       "     feature_1  feature_2  target\n",
       " 0   -0.367419   1.300921       1\n",
       " 1    0.575273  -0.930652       1\n",
       " 2    0.439351  -0.851313       1\n",
       " 3   -0.728152   0.136584       1\n",
       " 4   -0.888530  -0.424254       1\n",
       " ..        ...        ...     ...\n",
       " 95  -1.561866   2.540514       1\n",
       " 96  -0.767819  -0.082706       1\n",
       " 97   0.387223   0.444621       1\n",
       " 98  -1.212918   1.896404       1\n",
       " 99   2.018714   0.237581       1\n",
       " \n",
       " [100 rows x 3 columns])"
      ]
     },
     "execution_count": 11,
     "metadata": {},
     "output_type": "execute_result"
    }
   ],
   "source": [
    "class_0, class_1"
   ]
  },
  {
   "cell_type": "code",
   "execution_count": 19,
   "id": "885653ee-8770-44bb-b7ca-6bfcdcc72dac",
   "metadata": {},
   "outputs": [],
   "source": [
    "# concat the two dataframes\n",
    "df = pd.concat([class_0, class_1]).reset_index(drop = True)"
   ]
  },
  {
   "cell_type": "code",
   "execution_count": 21,
   "id": "34a2f0df-b111-45eb-a82e-a2aa6c218245",
   "metadata": {},
   "outputs": [
    {
     "name": "stdout",
     "output_type": "stream",
     "text": [
      "     feature_1  feature_2  target\n",
      "0    -0.300232   0.667532       0\n",
      "1    -0.632261   0.100458       0\n",
      "2    -0.204317  -0.012610       0\n",
      "3     0.213696   0.219907       0\n",
      "4     1.033878   0.813623       0\n",
      "..         ...        ...     ...\n",
      "995  -1.561866   2.540514       1\n",
      "996  -0.767819  -0.082706       1\n",
      "997   0.387223   0.444621       1\n",
      "998  -1.212918   1.896404       1\n",
      "999   2.018714   0.237581       1\n",
      "\n",
      "[1000 rows x 3 columns]\n"
     ]
    }
   ],
   "source": [
    "print(df)"
   ]
  },
  {
   "cell_type": "code",
   "execution_count": 22,
   "id": "ec426951-a591-4b68-909c-a40ae37d78a8",
   "metadata": {},
   "outputs": [
    {
     "data": {
      "text/html": [
       "<div>\n",
       "<style scoped>\n",
       "    .dataframe tbody tr th:only-of-type {\n",
       "        vertical-align: middle;\n",
       "    }\n",
       "\n",
       "    .dataframe tbody tr th {\n",
       "        vertical-align: top;\n",
       "    }\n",
       "\n",
       "    .dataframe thead th {\n",
       "        text-align: right;\n",
       "    }\n",
       "</style>\n",
       "<table border=\"1\" class=\"dataframe\">\n",
       "  <thead>\n",
       "    <tr style=\"text-align: right;\">\n",
       "      <th></th>\n",
       "      <th>feature_1</th>\n",
       "      <th>feature_2</th>\n",
       "      <th>target</th>\n",
       "    </tr>\n",
       "  </thead>\n",
       "  <tbody>\n",
       "    <tr>\n",
       "      <th>995</th>\n",
       "      <td>-1.561866</td>\n",
       "      <td>2.540514</td>\n",
       "      <td>1</td>\n",
       "    </tr>\n",
       "    <tr>\n",
       "      <th>996</th>\n",
       "      <td>-0.767819</td>\n",
       "      <td>-0.082706</td>\n",
       "      <td>1</td>\n",
       "    </tr>\n",
       "    <tr>\n",
       "      <th>997</th>\n",
       "      <td>0.387223</td>\n",
       "      <td>0.444621</td>\n",
       "      <td>1</td>\n",
       "    </tr>\n",
       "    <tr>\n",
       "      <th>998</th>\n",
       "      <td>-1.212918</td>\n",
       "      <td>1.896404</td>\n",
       "      <td>1</td>\n",
       "    </tr>\n",
       "    <tr>\n",
       "      <th>999</th>\n",
       "      <td>2.018714</td>\n",
       "      <td>0.237581</td>\n",
       "      <td>1</td>\n",
       "    </tr>\n",
       "  </tbody>\n",
       "</table>\n",
       "</div>"
      ],
      "text/plain": [
       "     feature_1  feature_2  target\n",
       "995  -1.561866   2.540514       1\n",
       "996  -0.767819  -0.082706       1\n",
       "997   0.387223   0.444621       1\n",
       "998  -1.212918   1.896404       1\n",
       "999   2.018714   0.237581       1"
      ]
     },
     "execution_count": 22,
     "metadata": {},
     "output_type": "execute_result"
    }
   ],
   "source": [
    "# last five entities of the dataframe\n",
    "df.tail()"
   ]
  },
  {
   "cell_type": "code",
   "execution_count": 25,
   "id": "a018bee6-6ad1-44d5-8f9f-8ae75a7ce829",
   "metadata": {},
   "outputs": [
    {
     "data": {
      "text/plain": [
       "0    900\n",
       "1    100\n",
       "Name: target, dtype: int64"
      ]
     },
     "execution_count": 25,
     "metadata": {},
     "output_type": "execute_result"
    }
   ],
   "source": [
    "# count the target values\n",
    "df['target'].value_counts()"
   ]
  },
  {
   "cell_type": "code",
   "execution_count": 27,
   "id": "3bb7b522-0ff0-444a-b2c5-7d1d055c1582",
   "metadata": {},
   "outputs": [],
   "source": [
    "# Upsampling\n",
    "df_minority = df[df['target'] == 1]\n",
    "df_majority = df[df['target'] == 0]"
   ]
  },
  {
   "cell_type": "code",
   "execution_count": 29,
   "id": "4a825ffc-9819-49dc-a7d1-0fcc41b0f1bf",
   "metadata": {},
   "outputs": [],
   "source": [
    "from sklearn.utils import resample\n",
    "df_minority_resample = resample(df_minority, replace = True, n_samples = len(df_majority), random_state = 42)"
   ]
  },
  {
   "cell_type": "code",
   "execution_count": 32,
   "id": "d257f849-7b71-4333-a1a1-3adfece6b3be",
   "metadata": {},
   "outputs": [
    {
     "data": {
      "text/html": [
       "<div>\n",
       "<style scoped>\n",
       "    .dataframe tbody tr th:only-of-type {\n",
       "        vertical-align: middle;\n",
       "    }\n",
       "\n",
       "    .dataframe tbody tr th {\n",
       "        vertical-align: top;\n",
       "    }\n",
       "\n",
       "    .dataframe thead th {\n",
       "        text-align: right;\n",
       "    }\n",
       "</style>\n",
       "<table border=\"1\" class=\"dataframe\">\n",
       "  <thead>\n",
       "    <tr style=\"text-align: right;\">\n",
       "      <th></th>\n",
       "      <th>feature_1</th>\n",
       "      <th>feature_2</th>\n",
       "      <th>target</th>\n",
       "    </tr>\n",
       "  </thead>\n",
       "  <tbody>\n",
       "    <tr>\n",
       "      <th>951</th>\n",
       "      <td>-0.831334</td>\n",
       "      <td>0.305451</td>\n",
       "      <td>1</td>\n",
       "    </tr>\n",
       "    <tr>\n",
       "      <th>992</th>\n",
       "      <td>-0.114295</td>\n",
       "      <td>0.954339</td>\n",
       "      <td>1</td>\n",
       "    </tr>\n",
       "    <tr>\n",
       "      <th>914</th>\n",
       "      <td>2.417832</td>\n",
       "      <td>1.790856</td>\n",
       "      <td>1</td>\n",
       "    </tr>\n",
       "    <tr>\n",
       "      <th>971</th>\n",
       "      <td>1.666319</td>\n",
       "      <td>-0.268754</td>\n",
       "      <td>1</td>\n",
       "    </tr>\n",
       "    <tr>\n",
       "      <th>960</th>\n",
       "      <td>-1.009337</td>\n",
       "      <td>-0.694636</td>\n",
       "      <td>1</td>\n",
       "    </tr>\n",
       "    <tr>\n",
       "      <th>...</th>\n",
       "      <td>...</td>\n",
       "      <td>...</td>\n",
       "      <td>...</td>\n",
       "    </tr>\n",
       "    <tr>\n",
       "      <th>952</th>\n",
       "      <td>-0.216024</td>\n",
       "      <td>-1.372905</td>\n",
       "      <td>1</td>\n",
       "    </tr>\n",
       "    <tr>\n",
       "      <th>965</th>\n",
       "      <td>0.165885</td>\n",
       "      <td>-1.094016</td>\n",
       "      <td>1</td>\n",
       "    </tr>\n",
       "    <tr>\n",
       "      <th>976</th>\n",
       "      <td>-0.078676</td>\n",
       "      <td>-1.519595</td>\n",
       "      <td>1</td>\n",
       "    </tr>\n",
       "    <tr>\n",
       "      <th>942</th>\n",
       "      <td>-0.481843</td>\n",
       "      <td>-0.687439</td>\n",
       "      <td>1</td>\n",
       "    </tr>\n",
       "    <tr>\n",
       "      <th>974</th>\n",
       "      <td>-0.098231</td>\n",
       "      <td>-0.226684</td>\n",
       "      <td>1</td>\n",
       "    </tr>\n",
       "  </tbody>\n",
       "</table>\n",
       "<p>900 rows × 3 columns</p>\n",
       "</div>"
      ],
      "text/plain": [
       "     feature_1  feature_2  target\n",
       "951  -0.831334   0.305451       1\n",
       "992  -0.114295   0.954339       1\n",
       "914   2.417832   1.790856       1\n",
       "971   1.666319  -0.268754       1\n",
       "960  -1.009337  -0.694636       1\n",
       "..         ...        ...     ...\n",
       "952  -0.216024  -1.372905       1\n",
       "965   0.165885  -1.094016       1\n",
       "976  -0.078676  -1.519595       1\n",
       "942  -0.481843  -0.687439       1\n",
       "974  -0.098231  -0.226684       1\n",
       "\n",
       "[900 rows x 3 columns]"
      ]
     },
     "execution_count": 32,
     "metadata": {},
     "output_type": "execute_result"
    }
   ],
   "source": [
    "df_minority_resample"
   ]
  },
  {
   "cell_type": "code",
   "execution_count": 33,
   "id": "27edcf39-ca44-456e-8951-ee3bff4fd9db",
   "metadata": {},
   "outputs": [
    {
     "data": {
      "text/plain": [
       "900"
      ]
     },
     "execution_count": 33,
     "metadata": {},
     "output_type": "execute_result"
    }
   ],
   "source": [
    "len(df_minority_resample)"
   ]
  },
  {
   "cell_type": "code",
   "execution_count": 34,
   "id": "d06ca520-eff0-4e82-aab4-2053cccc4e94",
   "metadata": {},
   "outputs": [
    {
     "data": {
      "text/html": [
       "<div>\n",
       "<style scoped>\n",
       "    .dataframe tbody tr th:only-of-type {\n",
       "        vertical-align: middle;\n",
       "    }\n",
       "\n",
       "    .dataframe tbody tr th {\n",
       "        vertical-align: top;\n",
       "    }\n",
       "\n",
       "    .dataframe thead th {\n",
       "        text-align: right;\n",
       "    }\n",
       "</style>\n",
       "<table border=\"1\" class=\"dataframe\">\n",
       "  <thead>\n",
       "    <tr style=\"text-align: right;\">\n",
       "      <th></th>\n",
       "      <th>feature_1</th>\n",
       "      <th>feature_2</th>\n",
       "      <th>target</th>\n",
       "    </tr>\n",
       "  </thead>\n",
       "  <tbody>\n",
       "    <tr>\n",
       "      <th>951</th>\n",
       "      <td>-0.831334</td>\n",
       "      <td>0.305451</td>\n",
       "      <td>1</td>\n",
       "    </tr>\n",
       "    <tr>\n",
       "      <th>992</th>\n",
       "      <td>-0.114295</td>\n",
       "      <td>0.954339</td>\n",
       "      <td>1</td>\n",
       "    </tr>\n",
       "    <tr>\n",
       "      <th>914</th>\n",
       "      <td>2.417832</td>\n",
       "      <td>1.790856</td>\n",
       "      <td>1</td>\n",
       "    </tr>\n",
       "    <tr>\n",
       "      <th>971</th>\n",
       "      <td>1.666319</td>\n",
       "      <td>-0.268754</td>\n",
       "      <td>1</td>\n",
       "    </tr>\n",
       "    <tr>\n",
       "      <th>960</th>\n",
       "      <td>-1.009337</td>\n",
       "      <td>-0.694636</td>\n",
       "      <td>1</td>\n",
       "    </tr>\n",
       "  </tbody>\n",
       "</table>\n",
       "</div>"
      ],
      "text/plain": [
       "     feature_1  feature_2  target\n",
       "951  -0.831334   0.305451       1\n",
       "992  -0.114295   0.954339       1\n",
       "914   2.417832   1.790856       1\n",
       "971   1.666319  -0.268754       1\n",
       "960  -1.009337  -0.694636       1"
      ]
     },
     "execution_count": 34,
     "metadata": {},
     "output_type": "execute_result"
    }
   ],
   "source": [
    "df_minority_resample.head()"
   ]
  },
  {
   "cell_type": "code",
   "execution_count": 36,
   "id": "28e3a250-2a32-44df-bd88-4430c0d1a38b",
   "metadata": {},
   "outputs": [
    {
     "data": {
      "text/plain": [
       "(900, 3)"
      ]
     },
     "execution_count": 36,
     "metadata": {},
     "output_type": "execute_result"
    }
   ],
   "source": [
    "df_minority_resample.shape"
   ]
  },
  {
   "cell_type": "code",
   "execution_count": 38,
   "id": "cff9fff3-6a9f-47ec-8bdf-89b1ef2eba8d",
   "metadata": {},
   "outputs": [],
   "source": [
    "df = pd.concat([df_majority, df_minority_resample]).reset_index(drop = True)"
   ]
  },
  {
   "cell_type": "code",
   "execution_count": 39,
   "id": "ed2dc21e-f178-451c-9349-d3881ac4e2b4",
   "metadata": {},
   "outputs": [
    {
     "data": {
      "text/html": [
       "<div>\n",
       "<style scoped>\n",
       "    .dataframe tbody tr th:only-of-type {\n",
       "        vertical-align: middle;\n",
       "    }\n",
       "\n",
       "    .dataframe tbody tr th {\n",
       "        vertical-align: top;\n",
       "    }\n",
       "\n",
       "    .dataframe thead th {\n",
       "        text-align: right;\n",
       "    }\n",
       "</style>\n",
       "<table border=\"1\" class=\"dataframe\">\n",
       "  <thead>\n",
       "    <tr style=\"text-align: right;\">\n",
       "      <th></th>\n",
       "      <th>feature_1</th>\n",
       "      <th>feature_2</th>\n",
       "      <th>target</th>\n",
       "    </tr>\n",
       "  </thead>\n",
       "  <tbody>\n",
       "    <tr>\n",
       "      <th>0</th>\n",
       "      <td>-0.300232</td>\n",
       "      <td>0.667532</td>\n",
       "      <td>0</td>\n",
       "    </tr>\n",
       "    <tr>\n",
       "      <th>1</th>\n",
       "      <td>-0.632261</td>\n",
       "      <td>0.100458</td>\n",
       "      <td>0</td>\n",
       "    </tr>\n",
       "    <tr>\n",
       "      <th>2</th>\n",
       "      <td>-0.204317</td>\n",
       "      <td>-0.012610</td>\n",
       "      <td>0</td>\n",
       "    </tr>\n",
       "    <tr>\n",
       "      <th>3</th>\n",
       "      <td>0.213696</td>\n",
       "      <td>0.219907</td>\n",
       "      <td>0</td>\n",
       "    </tr>\n",
       "    <tr>\n",
       "      <th>4</th>\n",
       "      <td>1.033878</td>\n",
       "      <td>0.813623</td>\n",
       "      <td>0</td>\n",
       "    </tr>\n",
       "    <tr>\n",
       "      <th>...</th>\n",
       "      <td>...</td>\n",
       "      <td>...</td>\n",
       "      <td>...</td>\n",
       "    </tr>\n",
       "    <tr>\n",
       "      <th>1795</th>\n",
       "      <td>-0.216024</td>\n",
       "      <td>-1.372905</td>\n",
       "      <td>1</td>\n",
       "    </tr>\n",
       "    <tr>\n",
       "      <th>1796</th>\n",
       "      <td>0.165885</td>\n",
       "      <td>-1.094016</td>\n",
       "      <td>1</td>\n",
       "    </tr>\n",
       "    <tr>\n",
       "      <th>1797</th>\n",
       "      <td>-0.078676</td>\n",
       "      <td>-1.519595</td>\n",
       "      <td>1</td>\n",
       "    </tr>\n",
       "    <tr>\n",
       "      <th>1798</th>\n",
       "      <td>-0.481843</td>\n",
       "      <td>-0.687439</td>\n",
       "      <td>1</td>\n",
       "    </tr>\n",
       "    <tr>\n",
       "      <th>1799</th>\n",
       "      <td>-0.098231</td>\n",
       "      <td>-0.226684</td>\n",
       "      <td>1</td>\n",
       "    </tr>\n",
       "  </tbody>\n",
       "</table>\n",
       "<p>1800 rows × 3 columns</p>\n",
       "</div>"
      ],
      "text/plain": [
       "      feature_1  feature_2  target\n",
       "0     -0.300232   0.667532       0\n",
       "1     -0.632261   0.100458       0\n",
       "2     -0.204317  -0.012610       0\n",
       "3      0.213696   0.219907       0\n",
       "4      1.033878   0.813623       0\n",
       "...         ...        ...     ...\n",
       "1795  -0.216024  -1.372905       1\n",
       "1796   0.165885  -1.094016       1\n",
       "1797  -0.078676  -1.519595       1\n",
       "1798  -0.481843  -0.687439       1\n",
       "1799  -0.098231  -0.226684       1\n",
       "\n",
       "[1800 rows x 3 columns]"
      ]
     },
     "execution_count": 39,
     "metadata": {},
     "output_type": "execute_result"
    }
   ],
   "source": [
    "df"
   ]
  },
  {
   "cell_type": "code",
   "execution_count": 40,
   "id": "dca1b097-41ea-4b65-8eef-41ee08438a21",
   "metadata": {},
   "outputs": [
    {
     "data": {
      "text/plain": [
       "0    900\n",
       "1    900\n",
       "Name: target, dtype: int64"
      ]
     },
     "execution_count": 40,
     "metadata": {},
     "output_type": "execute_result"
    }
   ],
   "source": [
    "df['target'].value_counts()"
   ]
  },
  {
   "cell_type": "code",
   "execution_count": 41,
   "id": "039e5e39-d389-412f-a733-3e8655accc2d",
   "metadata": {},
   "outputs": [
    {
     "name": "stdout",
     "output_type": "stream",
     "text": [
      "0    900\n",
      "1    100\n",
      "Name: target, dtype: int64\n"
     ]
    }
   ],
   "source": [
    "import pandas as pd\n",
    "\n",
    "# Set the random seed for reproducibility\n",
    "np.random.seed(123)\n",
    "\n",
    "# Create a dataframe with two classes\n",
    "n_samples = 1000\n",
    "class_0_ratio = 0.9\n",
    "n_class_0 = int(n_samples * class_0_ratio)\n",
    "n_class_1 = n_samples - n_class_0\n",
    "\n",
    "class_0 = pd.DataFrame({\n",
    "    'feature_1': np.random.normal(loc=0, scale=1, size=n_class_0),\n",
    "    'feature_2': np.random.normal(loc=0, scale=1, size=n_class_0),\n",
    "    'target': [0] * n_class_0\n",
    "})\n",
    "\n",
    "class_1 = pd.DataFrame({\n",
    "    'feature_1': np.random.normal(loc=2, scale=1, size=n_class_1),\n",
    "    'feature_2': np.random.normal(loc=2, scale=1, size=n_class_1),\n",
    "    'target': [1] * n_class_1\n",
    "})\n",
    "\n",
    "df = pd.concat([class_0, class_1]).reset_index(drop=True)\n",
    "\n",
    "# Check the class distribution\n",
    "print(df['target'].value_counts())"
   ]
  },
  {
   "cell_type": "code",
   "execution_count": 43,
   "id": "c037fe5f-d3bc-49ac-875a-a5d7c8ca40b2",
   "metadata": {},
   "outputs": [],
   "source": [
    "# Downsampling\n",
    "df_minority = df[df['target'] == 1]\n",
    "df_majority = df[df['target'] == 0]"
   ]
  },
  {
   "cell_type": "code",
   "execution_count": 44,
   "id": "cdba1597-85b4-4742-972e-0b12b99a487f",
   "metadata": {},
   "outputs": [],
   "source": [
    "from sklearn.utils import resample"
   ]
  },
  {
   "cell_type": "code",
   "execution_count": 45,
   "id": "8100a8aa-e44c-47af-943f-4ea9466c5461",
   "metadata": {},
   "outputs": [],
   "source": [
    "df_minority_resample = resample(df_majority, replace = False, n_samples = len(df_minority), random_state = 42)"
   ]
  },
  {
   "cell_type": "code",
   "execution_count": 46,
   "id": "c0822484-4988-49fa-a585-7056dd37f22b",
   "metadata": {},
   "outputs": [
    {
     "data": {
      "text/plain": [
       "(100, 3)"
      ]
     },
     "execution_count": 46,
     "metadata": {},
     "output_type": "execute_result"
    }
   ],
   "source": [
    "df_minority_resample.shape"
   ]
  },
  {
   "cell_type": "code",
   "execution_count": 47,
   "id": "07378f82-f304-4230-a397-a34c0598a6c6",
   "metadata": {},
   "outputs": [],
   "source": [
    "df = pd.concat([df_minority, df_minority_resample]).reset_index(drop = False)"
   ]
  },
  {
   "cell_type": "code",
   "execution_count": 48,
   "id": "0cc44995-2b5d-49b0-b3f8-5e332e1a531d",
   "metadata": {},
   "outputs": [
    {
     "data": {
      "text/plain": [
       "1    100\n",
       "0    100\n",
       "Name: target, dtype: int64"
      ]
     },
     "execution_count": 48,
     "metadata": {},
     "output_type": "execute_result"
    }
   ],
   "source": [
    "df['target'].value_counts()"
   ]
  },
  {
   "cell_type": "code",
   "execution_count": null,
   "id": "ad28a421-8100-409b-983d-d6f9e043cf64",
   "metadata": {},
   "outputs": [],
   "source": []
  }
 ],
 "metadata": {
  "kernelspec": {
   "display_name": "Python 3 (ipykernel)",
   "language": "python",
   "name": "python3"
  },
  "language_info": {
   "codemirror_mode": {
    "name": "ipython",
    "version": 3
   },
   "file_extension": ".py",
   "mimetype": "text/x-python",
   "name": "python",
   "nbconvert_exporter": "python",
   "pygments_lexer": "ipython3",
   "version": "3.10.8"
  }
 },
 "nbformat": 4,
 "nbformat_minor": 5
}
