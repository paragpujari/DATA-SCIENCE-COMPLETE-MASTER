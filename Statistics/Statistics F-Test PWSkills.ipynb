{
 "cells": [
  {
   "cell_type": "markdown",
   "id": "116f2605-40df-49ac-a0ab-a0a4f7be4fe6",
   "metadata": {},
   "source": [
    "# F-Test WITH Python"
   ]
  },
  {
   "cell_type": "code",
   "execution_count": 1,
   "id": "a6b2898f-1323-4f1d-9906-cbe7d2592920",
   "metadata": {},
   "outputs": [],
   "source": [
    "# Evidence to say that the two population variance are not equal\n",
    "# Can we come to the conclusion whether one  worker is better than the other\n",
    "\n",
    "worker1 = [18, 19, 22, 25, 27, 28, 41, 45, 51, 55]\n",
    "worker2 = [14, 15, 15, 17, 18, 22, 25, 25, 27, 34]"
   ]
  },
  {
   "cell_type": "code",
   "execution_count": 2,
   "id": "a0d3163e-4cb7-41cd-8651-c4cfb24537a0",
   "metadata": {},
   "outputs": [],
   "source": [
    "# Calculate the F-Test Value\n",
    "import numpy as np\n",
    "f_test = np.var(worker1)/np.var(worker2)"
   ]
  },
  {
   "cell_type": "code",
   "execution_count": 3,
   "id": "fdf7d141-12a1-4cf9-82dd-917341522013",
   "metadata": {},
   "outputs": [
    {
     "name": "stdout",
     "output_type": "stream",
     "text": [
      "F-Test Value is: 4.387122002085506\n"
     ]
    }
   ],
   "source": [
    "print(\"F-Test Value is:\", f_test)"
   ]
  },
  {
   "cell_type": "code",
   "execution_count": 4,
   "id": "7762a39e-58df-42d6-a70a-f9022e31611d",
   "metadata": {},
   "outputs": [],
   "source": [
    "# Calculate the degree of freedom\n",
    "df1 = len(worker1) - 1\n",
    "df2 = len(worker2) - 1"
   ]
  },
  {
   "cell_type": "code",
   "execution_count": 9,
   "id": "8b05034c-a1a9-4ed6-a047-5b75053c5fb9",
   "metadata": {},
   "outputs": [],
   "source": [
    "# To get the critical value\n",
    "import scipy.stats as stat\n",
    "significance_value = 0.05"
   ]
  },
  {
   "cell_type": "code",
   "execution_count": 10,
   "id": "27396033-232e-4720-9db6-9ebab83fb045",
   "metadata": {},
   "outputs": [],
   "source": [
    "critical_value = stat.f.ppf(q = 1 - significance_value, dfn = df1, dfd = df2 )"
   ]
  },
  {
   "cell_type": "code",
   "execution_count": 11,
   "id": "a1cfc504-54d1-4f3f-9b5d-ef56cc3eb065",
   "metadata": {},
   "outputs": [
    {
     "name": "stdout",
     "output_type": "stream",
     "text": [
      "Critical Value is: 3.178893104458269\n"
     ]
    }
   ],
   "source": [
    "print(\"Critical Value is:\",critical_value)"
   ]
  },
  {
   "cell_type": "code",
   "execution_count": 12,
   "id": "b3c84fa1-f78d-46fb-896d-f794a01c1c75",
   "metadata": {},
   "outputs": [
    {
     "name": "stdout",
     "output_type": "stream",
     "text": [
      "Reject the Null Hypothesis:\n"
     ]
    }
   ],
   "source": [
    "if(f_test > critical_value):\n",
    "    print(\"Reject the Null Hypothesis:\")\n",
    "else:\n",
    "    print(\"Fail to Reject the Null Hypothesis:\")"
   ]
  },
  {
   "cell_type": "code",
   "execution_count": null,
   "id": "c3f146bf-4700-48e3-9faf-d43770401464",
   "metadata": {},
   "outputs": [],
   "source": []
  }
 ],
 "metadata": {
  "kernelspec": {
   "display_name": "Python 3 (ipykernel)",
   "language": "python",
   "name": "python3"
  },
  "language_info": {
   "codemirror_mode": {
    "name": "ipython",
    "version": 3
   },
   "file_extension": ".py",
   "mimetype": "text/x-python",
   "name": "python",
   "nbconvert_exporter": "python",
   "pygments_lexer": "ipython3",
   "version": "3.10.8"
  }
 },
 "nbformat": 4,
 "nbformat_minor": 5
}
