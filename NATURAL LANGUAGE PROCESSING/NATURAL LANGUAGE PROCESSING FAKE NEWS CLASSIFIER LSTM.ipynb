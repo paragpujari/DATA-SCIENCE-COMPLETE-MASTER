{
 "cells": [
  {
   "cell_type": "code",
   "execution_count": 1,
   "metadata": {},
   "outputs": [],
   "source": [
    "# import all the necessary libraries\n",
    "\n",
    "import numpy as np\n",
    "import pandas as pd\n",
    "import matplotlib.pyplot as plt\n",
    "%matplotlib inline"
   ]
  },
  {
   "cell_type": "code",
   "execution_count": 2,
   "metadata": {},
   "outputs": [],
   "source": [
    "# load the data\n",
    "data = pd.read_csv('fake-news-train.csv')"
   ]
  },
  {
   "cell_type": "code",
   "execution_count": 3,
   "metadata": {},
   "outputs": [
    {
     "name": "stdout",
     "output_type": "stream",
     "text": [
      "   id                                              title              author  \\\n",
      "0   0  House Dem Aide: We Didn’t Even See Comey’s Let...       Darrell Lucus   \n",
      "1   1  FLYNN: Hillary Clinton, Big Woman on Campus - ...     Daniel J. Flynn   \n",
      "2   2                  Why the Truth Might Get You Fired  Consortiumnews.com   \n",
      "3   3  15 Civilians Killed In Single US Airstrike Hav...     Jessica Purkiss   \n",
      "4   4  Iranian woman jailed for fictional unpublished...      Howard Portnoy   \n",
      "\n",
      "                                                text  label  \n",
      "0  House Dem Aide: We Didn’t Even See Comey’s Let...      1  \n",
      "1  Ever get the feeling your life circles the rou...      0  \n",
      "2  Why the Truth Might Get You Fired October 29, ...      1  \n",
      "3  Videos 15 Civilians Killed In Single US Airstr...      1  \n",
      "4  Print \\nAn Iranian woman has been sentenced to...      1  \n"
     ]
    }
   ],
   "source": [
    "# display the first five rows of the dataset\n",
    "print(data.head())"
   ]
  },
  {
   "cell_type": "code",
   "execution_count": 4,
   "metadata": {},
   "outputs": [
    {
     "name": "stdout",
     "output_type": "stream",
     "text": [
      "          id                                              title  \\\n",
      "20795  20795  Rapper T.I.: Trump a ’Poster Child For White S...   \n",
      "20796  20796  N.F.L. Playoffs: Schedule, Matchups and Odds -...   \n",
      "20797  20797  Macy’s Is Said to Receive Takeover Approach by...   \n",
      "20798  20798  NATO, Russia To Hold Parallel Exercises In Bal...   \n",
      "20799  20799                          What Keeps the F-35 Alive   \n",
      "\n",
      "                                          author  \\\n",
      "20795                              Jerome Hudson   \n",
      "20796                           Benjamin Hoffman   \n",
      "20797  Michael J. de la Merced and Rachel Abrams   \n",
      "20798                                Alex Ansary   \n",
      "20799                              David Swanson   \n",
      "\n",
      "                                                    text  label  \n",
      "20795  Rapper T. I. unloaded on black celebrities who...      0  \n",
      "20796  When the Green Bay Packers lost to the Washing...      0  \n",
      "20797  The Macy’s of today grew from the union of sev...      0  \n",
      "20798  NATO, Russia To Hold Parallel Exercises In Bal...      1  \n",
      "20799    David Swanson is an author, activist, journa...      1  \n"
     ]
    }
   ],
   "source": [
    "# display the last five rows of the dataset\n",
    "print(data.tail())"
   ]
  },
  {
   "cell_type": "code",
   "execution_count": 5,
   "metadata": {},
   "outputs": [
    {
     "name": "stdout",
     "output_type": "stream",
     "text": [
      "(20800, 5)\n"
     ]
    }
   ],
   "source": [
    "# display the shape of the dataset\n",
    "print(data.shape)"
   ]
  },
  {
   "cell_type": "code",
   "execution_count": 6,
   "metadata": {},
   "outputs": [
    {
     "name": "stdout",
     "output_type": "stream",
     "text": [
      "<class 'pandas.core.frame.DataFrame'>\n",
      "RangeIndex: 20800 entries, 0 to 20799\n",
      "Data columns (total 5 columns):\n",
      " #   Column  Non-Null Count  Dtype \n",
      "---  ------  --------------  ----- \n",
      " 0   id      20800 non-null  int64 \n",
      " 1   title   20242 non-null  object\n",
      " 2   author  18843 non-null  object\n",
      " 3   text    20761 non-null  object\n",
      " 4   label   20800 non-null  int64 \n",
      "dtypes: int64(2), object(3)\n",
      "memory usage: 812.6+ KB\n",
      "None\n"
     ]
    }
   ],
   "source": [
    "# depict the detailed information about all the columns in the entire dataset\n",
    "print(data.info())"
   ]
  },
  {
   "cell_type": "code",
   "execution_count": 7,
   "metadata": {},
   "outputs": [
    {
     "name": "stdout",
     "output_type": "stream",
     "text": [
      "                 id         label\n",
      "count  20800.000000  20800.000000\n",
      "mean   10399.500000      0.500625\n",
      "std     6004.587135      0.500012\n",
      "min        0.000000      0.000000\n",
      "25%     5199.750000      0.000000\n",
      "50%    10399.500000      1.000000\n",
      "75%    15599.250000      1.000000\n",
      "max    20799.000000      1.000000\n"
     ]
    }
   ],
   "source": [
    "# To depict the descriptive summary for the entire dataset\n",
    "print(data.describe())"
   ]
  },
  {
   "cell_type": "code",
   "execution_count": 8,
   "metadata": {},
   "outputs": [
    {
     "name": "stdout",
     "output_type": "stream",
     "text": [
      "id           0\n",
      "title      558\n",
      "author    1957\n",
      "text        39\n",
      "label        0\n",
      "dtype: int64\n"
     ]
    }
   ],
   "source": [
    "# To check if there are any NULL Values in the dataset\n",
    "print(data.isnull().sum())"
   ]
  },
  {
   "cell_type": "markdown",
   "metadata": {},
   "source": [
    "# Observation:\n",
    "\n",
    "From the above observation, it is clear that there are 3 columns i.e. title, author and text columns in the dataset that are not null."
   ]
  },
  {
   "cell_type": "code",
   "execution_count": 9,
   "metadata": {},
   "outputs": [],
   "source": [
    "# Drop the NAN Values\n",
    "data = data.dropna()"
   ]
  },
  {
   "cell_type": "code",
   "execution_count": 10,
   "metadata": {},
   "outputs": [
    {
     "name": "stdout",
     "output_type": "stream",
     "text": [
      "   id                                              title              author  \\\n",
      "0   0  House Dem Aide: We Didn’t Even See Comey’s Let...       Darrell Lucus   \n",
      "1   1  FLYNN: Hillary Clinton, Big Woman on Campus - ...     Daniel J. Flynn   \n",
      "2   2                  Why the Truth Might Get You Fired  Consortiumnews.com   \n",
      "3   3  15 Civilians Killed In Single US Airstrike Hav...     Jessica Purkiss   \n",
      "4   4  Iranian woman jailed for fictional unpublished...      Howard Portnoy   \n",
      "\n",
      "                                                text  label  \n",
      "0  House Dem Aide: We Didn’t Even See Comey’s Let...      1  \n",
      "1  Ever get the feeling your life circles the rou...      0  \n",
      "2  Why the Truth Might Get You Fired October 29, ...      1  \n",
      "3  Videos 15 Civilians Killed In Single US Airstr...      1  \n",
      "4  Print \\nAn Iranian woman has been sentenced to...      1  \n"
     ]
    }
   ],
   "source": [
    "print(data.head())"
   ]
  },
  {
   "cell_type": "code",
   "execution_count": 11,
   "metadata": {},
   "outputs": [
    {
     "name": "stdout",
     "output_type": "stream",
     "text": [
      "id        0\n",
      "title     0\n",
      "author    0\n",
      "text      0\n",
      "label     0\n",
      "dtype: int64\n"
     ]
    }
   ],
   "source": [
    "# To check if there are any NULL Values in the dataset\n",
    "print(data.isnull().sum())"
   ]
  },
  {
   "cell_type": "markdown",
   "metadata": {},
   "source": [
    "# Observation:\n",
    "\n",
    "There are now no NULL Values in the dataset."
   ]
  },
  {
   "cell_type": "code",
   "execution_count": 12,
   "metadata": {},
   "outputs": [
    {
     "name": "stdout",
     "output_type": "stream",
     "text": [
      "          id                                              title  \\\n",
      "0          0  House Dem Aide: We Didn’t Even See Comey’s Let...   \n",
      "1          1  FLYNN: Hillary Clinton, Big Woman on Campus - ...   \n",
      "2          2                  Why the Truth Might Get You Fired   \n",
      "3          3  15 Civilians Killed In Single US Airstrike Hav...   \n",
      "4          4  Iranian woman jailed for fictional unpublished...   \n",
      "...      ...                                                ...   \n",
      "20795  20795  Rapper T.I.: Trump a ’Poster Child For White S...   \n",
      "20796  20796  N.F.L. Playoffs: Schedule, Matchups and Odds -...   \n",
      "20797  20797  Macy’s Is Said to Receive Takeover Approach by...   \n",
      "20798  20798  NATO, Russia To Hold Parallel Exercises In Bal...   \n",
      "20799  20799                          What Keeps the F-35 Alive   \n",
      "\n",
      "                                          author  \\\n",
      "0                                  Darrell Lucus   \n",
      "1                                Daniel J. Flynn   \n",
      "2                             Consortiumnews.com   \n",
      "3                                Jessica Purkiss   \n",
      "4                                 Howard Portnoy   \n",
      "...                                          ...   \n",
      "20795                              Jerome Hudson   \n",
      "20796                           Benjamin Hoffman   \n",
      "20797  Michael J. de la Merced and Rachel Abrams   \n",
      "20798                                Alex Ansary   \n",
      "20799                              David Swanson   \n",
      "\n",
      "                                                    text  \n",
      "0      House Dem Aide: We Didn’t Even See Comey’s Let...  \n",
      "1      Ever get the feeling your life circles the rou...  \n",
      "2      Why the Truth Might Get You Fired October 29, ...  \n",
      "3      Videos 15 Civilians Killed In Single US Airstr...  \n",
      "4      Print \\nAn Iranian woman has been sentenced to...  \n",
      "...                                                  ...  \n",
      "20795  Rapper T. I. unloaded on black celebrities who...  \n",
      "20796  When the Green Bay Packers lost to the Washing...  \n",
      "20797  The Macy’s of today grew from the union of sev...  \n",
      "20798  NATO, Russia To Hold Parallel Exercises In Bal...  \n",
      "20799    David Swanson is an author, activist, journa...  \n",
      "\n",
      "[18285 rows x 4 columns]\n"
     ]
    }
   ],
   "source": [
    "# Get all the independent features\n",
    "X = data.drop(columns = 'label', axis = 1)\n",
    "print(X)"
   ]
  },
  {
   "cell_type": "code",
   "execution_count": 13,
   "metadata": {},
   "outputs": [],
   "source": [
    "Y = data['label']"
   ]
  },
  {
   "cell_type": "code",
   "execution_count": 14,
   "metadata": {},
   "outputs": [
    {
     "name": "stdout",
     "output_type": "stream",
     "text": [
      "0        1\n",
      "1        0\n",
      "2        1\n",
      "3        1\n",
      "4        1\n",
      "        ..\n",
      "20795    0\n",
      "20796    0\n",
      "20797    0\n",
      "20798    1\n",
      "20799    1\n",
      "Name: label, Length: 18285, dtype: int64\n"
     ]
    }
   ],
   "source": [
    "print(Y)"
   ]
  },
  {
   "cell_type": "code",
   "execution_count": 15,
   "metadata": {},
   "outputs": [
    {
     "name": "stdout",
     "output_type": "stream",
     "text": [
      "(18285, 4)\n"
     ]
    }
   ],
   "source": [
    "print(X.shape)"
   ]
  },
  {
   "cell_type": "code",
   "execution_count": 16,
   "metadata": {},
   "outputs": [
    {
     "name": "stdout",
     "output_type": "stream",
     "text": [
      "(18285,)\n"
     ]
    }
   ],
   "source": [
    "print(Y.shape)"
   ]
  },
  {
   "cell_type": "code",
   "execution_count": 17,
   "metadata": {},
   "outputs": [],
   "source": [
    "import tensorflow as tf"
   ]
  },
  {
   "cell_type": "code",
   "execution_count": 18,
   "metadata": {},
   "outputs": [
    {
     "data": {
      "text/plain": [
       "'2.7.0'"
      ]
     },
     "execution_count": 18,
     "metadata": {},
     "output_type": "execute_result"
    }
   ],
   "source": [
    "tf.__version__"
   ]
  },
  {
   "cell_type": "code",
   "execution_count": 19,
   "metadata": {},
   "outputs": [],
   "source": [
    "from tensorflow.keras.layers import Embedding\n",
    "from tensorflow.keras.preprocessing.sequence import pad_sequences\n",
    "from tensorflow.keras.models import Sequential\n",
    "from tensorflow.keras.preprocessing.text import one_hot\n",
    "from tensorflow.keras.layers import LSTM\n",
    "from tensorflow.keras.layers import Dense"
   ]
  },
  {
   "cell_type": "code",
   "execution_count": 20,
   "metadata": {},
   "outputs": [],
   "source": [
    "# Vocabulary size\n",
    "voc_size = 5000"
   ]
  },
  {
   "cell_type": "markdown",
   "metadata": {},
   "source": [
    "# One Hot Representation"
   ]
  },
  {
   "cell_type": "code",
   "execution_count": 21,
   "metadata": {},
   "outputs": [],
   "source": [
    "messages = X.copy()"
   ]
  },
  {
   "cell_type": "code",
   "execution_count": 22,
   "metadata": {},
   "outputs": [
    {
     "data": {
      "text/html": [
       "<div>\n",
       "<style scoped>\n",
       "    .dataframe tbody tr th:only-of-type {\n",
       "        vertical-align: middle;\n",
       "    }\n",
       "\n",
       "    .dataframe tbody tr th {\n",
       "        vertical-align: top;\n",
       "    }\n",
       "\n",
       "    .dataframe thead th {\n",
       "        text-align: right;\n",
       "    }\n",
       "</style>\n",
       "<table border=\"1\" class=\"dataframe\">\n",
       "  <thead>\n",
       "    <tr style=\"text-align: right;\">\n",
       "      <th></th>\n",
       "      <th>id</th>\n",
       "      <th>title</th>\n",
       "      <th>author</th>\n",
       "      <th>text</th>\n",
       "    </tr>\n",
       "  </thead>\n",
       "  <tbody>\n",
       "    <tr>\n",
       "      <th>0</th>\n",
       "      <td>0</td>\n",
       "      <td>House Dem Aide: We Didn’t Even See Comey’s Let...</td>\n",
       "      <td>Darrell Lucus</td>\n",
       "      <td>House Dem Aide: We Didn’t Even See Comey’s Let...</td>\n",
       "    </tr>\n",
       "    <tr>\n",
       "      <th>1</th>\n",
       "      <td>1</td>\n",
       "      <td>FLYNN: Hillary Clinton, Big Woman on Campus - ...</td>\n",
       "      <td>Daniel J. Flynn</td>\n",
       "      <td>Ever get the feeling your life circles the rou...</td>\n",
       "    </tr>\n",
       "    <tr>\n",
       "      <th>2</th>\n",
       "      <td>2</td>\n",
       "      <td>Why the Truth Might Get You Fired</td>\n",
       "      <td>Consortiumnews.com</td>\n",
       "      <td>Why the Truth Might Get You Fired October 29, ...</td>\n",
       "    </tr>\n",
       "    <tr>\n",
       "      <th>3</th>\n",
       "      <td>3</td>\n",
       "      <td>15 Civilians Killed In Single US Airstrike Hav...</td>\n",
       "      <td>Jessica Purkiss</td>\n",
       "      <td>Videos 15 Civilians Killed In Single US Airstr...</td>\n",
       "    </tr>\n",
       "    <tr>\n",
       "      <th>4</th>\n",
       "      <td>4</td>\n",
       "      <td>Iranian woman jailed for fictional unpublished...</td>\n",
       "      <td>Howard Portnoy</td>\n",
       "      <td>Print \\nAn Iranian woman has been sentenced to...</td>\n",
       "    </tr>\n",
       "    <tr>\n",
       "      <th>...</th>\n",
       "      <td>...</td>\n",
       "      <td>...</td>\n",
       "      <td>...</td>\n",
       "      <td>...</td>\n",
       "    </tr>\n",
       "    <tr>\n",
       "      <th>20795</th>\n",
       "      <td>20795</td>\n",
       "      <td>Rapper T.I.: Trump a ’Poster Child For White S...</td>\n",
       "      <td>Jerome Hudson</td>\n",
       "      <td>Rapper T. I. unloaded on black celebrities who...</td>\n",
       "    </tr>\n",
       "    <tr>\n",
       "      <th>20796</th>\n",
       "      <td>20796</td>\n",
       "      <td>N.F.L. Playoffs: Schedule, Matchups and Odds -...</td>\n",
       "      <td>Benjamin Hoffman</td>\n",
       "      <td>When the Green Bay Packers lost to the Washing...</td>\n",
       "    </tr>\n",
       "    <tr>\n",
       "      <th>20797</th>\n",
       "      <td>20797</td>\n",
       "      <td>Macy’s Is Said to Receive Takeover Approach by...</td>\n",
       "      <td>Michael J. de la Merced and Rachel Abrams</td>\n",
       "      <td>The Macy’s of today grew from the union of sev...</td>\n",
       "    </tr>\n",
       "    <tr>\n",
       "      <th>20798</th>\n",
       "      <td>20798</td>\n",
       "      <td>NATO, Russia To Hold Parallel Exercises In Bal...</td>\n",
       "      <td>Alex Ansary</td>\n",
       "      <td>NATO, Russia To Hold Parallel Exercises In Bal...</td>\n",
       "    </tr>\n",
       "    <tr>\n",
       "      <th>20799</th>\n",
       "      <td>20799</td>\n",
       "      <td>What Keeps the F-35 Alive</td>\n",
       "      <td>David Swanson</td>\n",
       "      <td>David Swanson is an author, activist, journa...</td>\n",
       "    </tr>\n",
       "  </tbody>\n",
       "</table>\n",
       "<p>18285 rows × 4 columns</p>\n",
       "</div>"
      ],
      "text/plain": [
       "          id                                              title  \\\n",
       "0          0  House Dem Aide: We Didn’t Even See Comey’s Let...   \n",
       "1          1  FLYNN: Hillary Clinton, Big Woman on Campus - ...   \n",
       "2          2                  Why the Truth Might Get You Fired   \n",
       "3          3  15 Civilians Killed In Single US Airstrike Hav...   \n",
       "4          4  Iranian woman jailed for fictional unpublished...   \n",
       "...      ...                                                ...   \n",
       "20795  20795  Rapper T.I.: Trump a ’Poster Child For White S...   \n",
       "20796  20796  N.F.L. Playoffs: Schedule, Matchups and Odds -...   \n",
       "20797  20797  Macy’s Is Said to Receive Takeover Approach by...   \n",
       "20798  20798  NATO, Russia To Hold Parallel Exercises In Bal...   \n",
       "20799  20799                          What Keeps the F-35 Alive   \n",
       "\n",
       "                                          author  \\\n",
       "0                                  Darrell Lucus   \n",
       "1                                Daniel J. Flynn   \n",
       "2                             Consortiumnews.com   \n",
       "3                                Jessica Purkiss   \n",
       "4                                 Howard Portnoy   \n",
       "...                                          ...   \n",
       "20795                              Jerome Hudson   \n",
       "20796                           Benjamin Hoffman   \n",
       "20797  Michael J. de la Merced and Rachel Abrams   \n",
       "20798                                Alex Ansary   \n",
       "20799                              David Swanson   \n",
       "\n",
       "                                                    text  \n",
       "0      House Dem Aide: We Didn’t Even See Comey’s Let...  \n",
       "1      Ever get the feeling your life circles the rou...  \n",
       "2      Why the Truth Might Get You Fired October 29, ...  \n",
       "3      Videos 15 Civilians Killed In Single US Airstr...  \n",
       "4      Print \\nAn Iranian woman has been sentenced to...  \n",
       "...                                                  ...  \n",
       "20795  Rapper T. I. unloaded on black celebrities who...  \n",
       "20796  When the Green Bay Packers lost to the Washing...  \n",
       "20797  The Macy’s of today grew from the union of sev...  \n",
       "20798  NATO, Russia To Hold Parallel Exercises In Bal...  \n",
       "20799    David Swanson is an author, activist, journa...  \n",
       "\n",
       "[18285 rows x 4 columns]"
      ]
     },
     "execution_count": 22,
     "metadata": {},
     "output_type": "execute_result"
    }
   ],
   "source": [
    "messages"
   ]
  },
  {
   "cell_type": "code",
   "execution_count": 23,
   "metadata": {},
   "outputs": [],
   "source": [
    "# place the indexes in the messages dataset\n",
    "messages.reset_index(inplace = True)"
   ]
  },
  {
   "cell_type": "code",
   "execution_count": 24,
   "metadata": {},
   "outputs": [
    {
     "data": {
      "text/html": [
       "<div>\n",
       "<style scoped>\n",
       "    .dataframe tbody tr th:only-of-type {\n",
       "        vertical-align: middle;\n",
       "    }\n",
       "\n",
       "    .dataframe tbody tr th {\n",
       "        vertical-align: top;\n",
       "    }\n",
       "\n",
       "    .dataframe thead th {\n",
       "        text-align: right;\n",
       "    }\n",
       "</style>\n",
       "<table border=\"1\" class=\"dataframe\">\n",
       "  <thead>\n",
       "    <tr style=\"text-align: right;\">\n",
       "      <th></th>\n",
       "      <th>index</th>\n",
       "      <th>id</th>\n",
       "      <th>title</th>\n",
       "      <th>author</th>\n",
       "      <th>text</th>\n",
       "    </tr>\n",
       "  </thead>\n",
       "  <tbody>\n",
       "    <tr>\n",
       "      <th>0</th>\n",
       "      <td>0</td>\n",
       "      <td>0</td>\n",
       "      <td>House Dem Aide: We Didn’t Even See Comey’s Let...</td>\n",
       "      <td>Darrell Lucus</td>\n",
       "      <td>House Dem Aide: We Didn’t Even See Comey’s Let...</td>\n",
       "    </tr>\n",
       "    <tr>\n",
       "      <th>1</th>\n",
       "      <td>1</td>\n",
       "      <td>1</td>\n",
       "      <td>FLYNN: Hillary Clinton, Big Woman on Campus - ...</td>\n",
       "      <td>Daniel J. Flynn</td>\n",
       "      <td>Ever get the feeling your life circles the rou...</td>\n",
       "    </tr>\n",
       "    <tr>\n",
       "      <th>2</th>\n",
       "      <td>2</td>\n",
       "      <td>2</td>\n",
       "      <td>Why the Truth Might Get You Fired</td>\n",
       "      <td>Consortiumnews.com</td>\n",
       "      <td>Why the Truth Might Get You Fired October 29, ...</td>\n",
       "    </tr>\n",
       "    <tr>\n",
       "      <th>3</th>\n",
       "      <td>3</td>\n",
       "      <td>3</td>\n",
       "      <td>15 Civilians Killed In Single US Airstrike Hav...</td>\n",
       "      <td>Jessica Purkiss</td>\n",
       "      <td>Videos 15 Civilians Killed In Single US Airstr...</td>\n",
       "    </tr>\n",
       "    <tr>\n",
       "      <th>4</th>\n",
       "      <td>4</td>\n",
       "      <td>4</td>\n",
       "      <td>Iranian woman jailed for fictional unpublished...</td>\n",
       "      <td>Howard Portnoy</td>\n",
       "      <td>Print \\nAn Iranian woman has been sentenced to...</td>\n",
       "    </tr>\n",
       "  </tbody>\n",
       "</table>\n",
       "</div>"
      ],
      "text/plain": [
       "   index  id                                              title  \\\n",
       "0      0   0  House Dem Aide: We Didn’t Even See Comey’s Let...   \n",
       "1      1   1  FLYNN: Hillary Clinton, Big Woman on Campus - ...   \n",
       "2      2   2                  Why the Truth Might Get You Fired   \n",
       "3      3   3  15 Civilians Killed In Single US Airstrike Hav...   \n",
       "4      4   4  Iranian woman jailed for fictional unpublished...   \n",
       "\n",
       "               author                                               text  \n",
       "0       Darrell Lucus  House Dem Aide: We Didn’t Even See Comey’s Let...  \n",
       "1     Daniel J. Flynn  Ever get the feeling your life circles the rou...  \n",
       "2  Consortiumnews.com  Why the Truth Might Get You Fired October 29, ...  \n",
       "3     Jessica Purkiss  Videos 15 Civilians Killed In Single US Airstr...  \n",
       "4      Howard Portnoy  Print \\nAn Iranian woman has been sentenced to...  "
      ]
     },
     "execution_count": 24,
     "metadata": {},
     "output_type": "execute_result"
    }
   ],
   "source": [
    "messages.head()"
   ]
  },
  {
   "cell_type": "code",
   "execution_count": 25,
   "metadata": {},
   "outputs": [],
   "source": [
    "answer = messages.head(100)"
   ]
  },
  {
   "cell_type": "code",
   "execution_count": 26,
   "metadata": {},
   "outputs": [],
   "source": [
    "# Performing the Data Preprocessing on the Corpus text\n",
    "import nltk\n",
    "import re\n",
    "from nltk.corpus import stopwords"
   ]
  },
  {
   "cell_type": "code",
   "execution_count": 27,
   "metadata": {},
   "outputs": [
    {
     "name": "stderr",
     "output_type": "stream",
     "text": [
      "[nltk_data] Downloading package stopwords to\n",
      "[nltk_data]     C:\\Users\\DELL\\AppData\\Roaming\\nltk_data...\n",
      "[nltk_data]   Package stopwords is already up-to-date!\n"
     ]
    },
    {
     "data": {
      "text/plain": [
       "True"
      ]
     },
     "execution_count": 27,
     "metadata": {},
     "output_type": "execute_result"
    }
   ],
   "source": [
    "nltk.download('stopwords')"
   ]
  },
  {
   "cell_type": "code",
   "execution_count": 28,
   "metadata": {},
   "outputs": [
    {
     "name": "stdout",
     "output_type": "stream",
     "text": [
      "0\n",
      "1\n",
      "2\n",
      "3\n",
      "4\n",
      "5\n",
      "6\n",
      "7\n",
      "8\n",
      "9\n",
      "10\n",
      "11\n",
      "12\n",
      "13\n",
      "14\n",
      "15\n",
      "16\n",
      "17\n",
      "18\n",
      "19\n",
      "20\n",
      "21\n",
      "22\n",
      "23\n",
      "24\n",
      "25\n",
      "26\n",
      "27\n",
      "28\n",
      "29\n",
      "30\n",
      "31\n",
      "32\n",
      "33\n",
      "34\n",
      "35\n",
      "36\n",
      "37\n",
      "38\n",
      "39\n",
      "40\n",
      "41\n",
      "42\n",
      "43\n",
      "44\n",
      "45\n",
      "46\n",
      "47\n",
      "48\n",
      "49\n",
      "50\n",
      "51\n",
      "52\n",
      "53\n",
      "54\n",
      "55\n",
      "56\n",
      "57\n",
      "58\n",
      "59\n",
      "60\n",
      "61\n",
      "62\n",
      "63\n",
      "64\n",
      "65\n",
      "66\n",
      "67\n",
      "68\n",
      "69\n",
      "70\n",
      "71\n",
      "72\n",
      "73\n",
      "74\n",
      "75\n",
      "76\n",
      "77\n",
      "78\n",
      "79\n",
      "80\n",
      "81\n",
      "82\n",
      "83\n",
      "84\n",
      "85\n",
      "86\n",
      "87\n",
      "88\n",
      "89\n",
      "90\n",
      "91\n",
      "92\n",
      "93\n",
      "94\n",
      "95\n",
      "96\n",
      "97\n",
      "98\n",
      "99\n"
     ]
    }
   ],
   "source": [
    "# Preprocessing of the data\n",
    "from nltk.stem.porter import PorterStemmer\n",
    "\n",
    "# create the object for porter stemmer\n",
    "ps = PorterStemmer()\n",
    "\n",
    "corpus = []\n",
    "\n",
    "for i in range(0, len(answer)):\n",
    "    print(i)\n",
    "    # remove all the special characters with ' '\n",
    "    review = re.sub('[^a-zA-Z]', ' ', answer['title'][i])\n",
    "    # convert the text into lower case\n",
    "    review = review.lower()\n",
    "    # split the text into words\n",
    "    review = review.split()\n",
    "    \n",
    "    \n",
    "    # extract all the non stop words and perform the stemming operation on it\n",
    "    review = [ps.stem(word) for word in review if(word not in stopwords.words('english'))]\n",
    "    # join all the words in the review\n",
    "    review = ' '.join(review)\n",
    "    # append all the words in the corpus\n",
    "    corpus.append(review)"
   ]
  },
  {
   "cell_type": "code",
   "execution_count": 29,
   "metadata": {},
   "outputs": [
    {
     "name": "stdout",
     "output_type": "stream",
     "text": [
      "['hous dem aid even see comey letter jason chaffetz tweet', 'flynn hillari clinton big woman campu breitbart', 'truth might get fire', 'civilian kill singl us airstrik identifi', 'iranian woman jail fiction unpublish stori woman stone death adulteri', 'jacki mason hollywood would love trump bomb north korea lack tran bathroom exclus video breitbart', 'beno hamon win french socialist parti presidenti nomin new york time', 'back channel plan ukrain russia courtesi trump associ new york time', 'obama organ action partner soro link indivis disrupt trump agenda', 'bbc comedi sketch real housew isi caus outrag', 'russian research discov secret nazi militari base treasur hunter arctic photo', 'us offici see link trump russia', 'ye paid govern troll social media blog forum websit', 'major leagu soccer argentin find home success new york time', 'well fargo chief abruptli step new york time', 'anonym donor pay million releas everyon arrest dakota access pipelin', 'fbi close hillari', 'chuck todd buzzfe donald trump polit favor breitbart', 'monica lewinski clinton sex scandal set american crime stori', 'rob reiner trump mental unstabl breitbart', 'abort pill order rise latin american nation zika alert new york time', 'nuke un histor treati ban nuclear weapon', 'exclus islam state support vow shake west follow manchest terrorist massacr breitbart', 'humili hillari tri hide camera caught min ralli', 'andrea tantaro fox news claim retali sex harass complaint new york time', 'hillari clinton becam hawk new york time', 'chuck todd buzzfe eic publish fake news breitbart', 'bori johnson brexit leader fumbl new york time', 'texa oil field rebound price lull job left behind new york time', 'bayer deal monsanto follow agribusi trend rais worri farmer new york time', 'russia move ban jehovah wit extremist new york time', 'still danger zone januari th', 'open thread u elect', 'democrat gutierrez blame chicago gun violenc nra breitbart', 'avoid peanut avoid allergi bad strategi new york time', 'mri show detail imag week unborn babi breitbart', 'best kind milk dairi', 'ryan locht drop speedo usa retail new york time', 'conserv urg session clean obama civil right divis breitbart', 'intern inquiri seal fate roger ail fox new york time', 'press tv debat duff lebanon hezbollah aoun presid video', 'samsung combust galaxi note unveil new smartphon new york time', 'poland vow referendum migrant quota amidst eu pressur public voic heard breitbart', 'spark inner revolut', 'studi half car crash involv driver distract cell phone breitbart', 'trump elect spark individu collect heal', 'ep fade black jimmi church w laura eisenhow restor balanc video', 'cognit true islam book review', 'donald trump win elect biggest miracl us polit histori', 'mind eat way fight bing new york time', 'major potenti impact corpor tax overhaul new york time', 'wonder glp like day elect', 'maker world smallest machin award nobel prize chemistri new york time', 'massiv anti trump protest union squar nyc live stream', 'review lion bring tear lost boy wipe dri googl new york time', 'u gener islam state chemic attack impact u forc', 'juri find oregon standoff defend guilti feder conspiraci gun charg', 'clinton campaign stun fbi reportedli reopen probe hillari clinton email', 'penc speak anti abort ralli new york time', 'berni sander say media trump gutless polit coward', 'make briquett daili wast', 'treason nyt vow reded report', 'dress like woman mean new york time', 'ella brennan still feed lead new orlean new york time', 'press asia agenda obama tread lightli human right new york time', 'democrat percent chanc retak senat new york time', 'judg spank transgend obsess obama lie redflag news', 'u diplomat urg strike assad syria new york time', 'franken call independ investig trump putin crush breitbart', 'louisiana simon bile u presidenti race tuesday even brief new york time', 'turkey threaten open migrant land passag europ row dutch', 'huma weiner dog hillari', 'colin kaepernick start black panther inspir youth camp wow', 'trump immigr polici explain new york time', 'mari tyler moor mourn dick van dyke star new york time', 'poison', 'trump fan ralli across nation support presid new york time', 'fox biz report help bash clinton ralli cover trump pack event day', 'fiction podcast worth listen new york time', 'mike birbiglia tip make small hollywood anywher new york time', 'invest strategist forecast collaps timelin last gasp econom cycl come', 'venezuela muzzl legislatur move closer one man rule new york time', 'whether john mccain mitt romney donald trump democrat alway run war women tactic destroy republican candid', 'breitbart news daili trump boom breitbart', 'white hous confirm gitmo transfer obama leav offic', 'poll voter heard democrat elect candid breitbart', 'migrant confront judgment day old deport order new york time', 'n u yale su retir plan fee new york time', 'technocraci real reason un want control internet', 'american driver regain appetit ga guzzler new york time', 'hillari clinton build million war chest doubl donald trump new york time', 'trump catch sick report snuck interview priceless respons', 'senat contact russian govern week', 'imag perfectli illustr struggl dakota access pipelin', 'washington state take refuge muslim rest countri take refuge muslim breitbart', 'ncaa big keep watch eye texa bathroom bill breitbart', 'massiv espn financi subscrib loss drag disney first quarter sale breitbart', 'megyn kelli contract set expir next year prime big show new york time', 'teacher suspend allow student hit trump pinata cinco de mayo', 'break trump express concern anthoni weiner illeg access classifi info month ago truthfe']\n"
     ]
    }
   ],
   "source": [
    "print(corpus)"
   ]
  },
  {
   "cell_type": "code",
   "execution_count": 30,
   "metadata": {},
   "outputs": [],
   "source": [
    "# convert the words into one hot representation\n",
    "onehot_representation = [one_hot(words, voc_size) for words in corpus]"
   ]
  },
  {
   "cell_type": "code",
   "execution_count": 31,
   "metadata": {},
   "outputs": [
    {
     "name": "stdout",
     "output_type": "stream",
     "text": [
      "[[4307, 14, 480, 4130, 2480, 1239, 549, 620, 1205, 3360], [950, 1462, 3580, 651, 4968, 4606, 3631], [329, 4157, 1938, 3790], [658, 4199, 1460, 3864, 3607, 178], [1858, 4968, 3634, 1475, 2453, 2395, 4968, 3491, 3263, 534], [652, 4449, 4257, 3528, 2892, 4867, 1153, 4339, 3567, 2434, 1849, 4284, 4951, 2831, 3631], [3008, 3969, 338, 185, 1124, 3905, 3952, 3100, 1933, 1714, 1344], [4201, 4430, 4587, 2496, 3688, 4838, 4867, 3908, 1933, 1714, 1344], [4883, 1217, 2312, 2882, 4502, 766, 3394, 3, 4867, 2346], [2333, 2649, 2173, 1391, 4349, 4275, 1327, 2491], [2229, 4750, 3790, 3042, 1595, 115, 4434, 1155, 1474, 1057, 1817], [3864, 2322, 2480, 766, 4867, 3688], [1456, 3200, 4939, 3553, 1348, 4233, 4503, 4083, 959], [1416, 93, 3728, 833, 3161, 4086, 2914, 1933, 1714, 1344], [3669, 1298, 1824, 2738, 341, 1933, 1714, 1344], [4502, 1560, 2544, 764, 524, 1752, 466, 281, 2826, 607], [3479, 3574, 1462], [4626, 1168, 1366, 981, 4867, 220, 4846, 3631], [3179, 3803, 3580, 2794, 4699, 2514, 1718, 4526, 2395], [2699, 3129, 4867, 1724, 2615, 3631], [1037, 4128, 3599, 3023, 2655, 1718, 81, 3816, 3952, 1933, 1714, 1344], [3326, 684, 813, 325, 2980, 2574, 891], [4951, 2265, 2245, 1911, 3761, 962, 4765, 3421, 888, 100, 1637, 3631], [2415, 1462, 2364, 4610, 3189, 2387, 1804, 4998], [2780, 56, 450, 110, 2678, 4525, 2794, 733, 94, 1933, 1714, 1344], [1462, 3580, 3829, 626, 1933, 1714, 1344], [4626, 1168, 1366, 4503, 3410, 3887, 110, 3631], [83, 2688, 3371, 4394, 3666, 1933, 1714, 1344], [3856, 4564, 4141, 180, 3554, 1821, 140, 4294, 3165, 1933, 1714, 1344], [2232, 1866, 3896, 3421, 994, 1354, 4219, 343, 3698, 1933, 1714, 1344], [3688, 2447, 2980, 2693, 4475, 4181, 1933, 1714, 1344], [2690, 4796, 3249, 3329, 1636], [2983, 3317, 90, 377], [358, 3992, 1034, 849, 536, 3197, 1760, 3631], [2403, 4879, 2403, 2109, 1552, 4848, 1933, 1714, 1344], [4732, 2403, 3368, 239, 2509, 4089, 482, 3631], [4931, 4843, 793, 2809], [1197, 2335, 988, 284, 1817, 4996, 1933, 1714, 1344], [1884, 2170, 3966, 3855, 4883, 3327, 473, 880, 3631], [652, 1138, 2687, 3532, 1518, 1626, 450, 1933, 1714, 1344], [2789, 3176, 687, 2399, 899, 3469, 499, 1763, 2831], [4830, 1913, 36, 3734, 1966, 1933, 69, 1933, 1714, 1344], [1562, 3761, 3940, 3329, 771, 3349, 696, 4086, 273, 2680, 1202, 3631], [4239, 4996, 823], [2475, 3276, 2406, 833, 1526, 2449, 3007, 2274, 2740, 3631], [4867, 377, 4239, 3129, 4449, 3766], [2, 883, 1510, 2937, 4968, 3567, 2872, 2379, 4999, 3924, 2831], [1937, 1299, 2265, 1060, 2231], [981, 4867, 338, 377, 3306, 310, 3864, 220, 2840], [154, 1943, 2323, 3778, 4736, 1933, 1714, 1344], [1416, 1555, 1385, 2097, 762, 39, 1933, 1714, 1344], [987, 2875, 2142, 3508, 377], [390, 595, 1063, 3318, 969, 897, 1060, 3223, 1933, 1714, 1344], [1843, 1202, 4867, 4907, 3263, 1899, 1914, 3112, 2342], [2231, 2782, 1978, 2199, 566, 1654, 414, 2910, 2394, 1933, 1714, 1344], [90, 4330, 2265, 2245, 2464, 453, 1385, 90, 3151], [4457, 3161, 783, 1517, 2104, 2159, 3539, 3874, 536, 3825], [3580, 4259, 3632, 3479, 2993, 3624, 1659, 1462, 3580, 4460], [1262, 3875, 1202, 1037, 4998, 1933, 1714, 1344], [368, 641, 3573, 4233, 4867, 2267, 220, 2757], [3280, 1980, 2256, 4505], [2326, 2535, 3761, 3813, 4927], [3819, 2142, 4968, 4181, 1933, 1714, 1344], [774, 1027, 2690, 4449, 2779, 1933, 2396, 1933, 1714, 1344], [2789, 3544, 2346, 4883, 2396, 1099, 2040, 473, 1933, 1714, 1344], [358, 719, 4442, 4763, 4794, 1933, 1714, 1344], [2028, 1499, 1069, 3981, 4883, 254, 1092, 110], [90, 1563, 2170, 3430, 4833, 3096, 1933, 1714, 1344], [2225, 1264, 2291, 4408, 4867, 1864, 1771, 3631], [3034, 1555, 1400, 90, 3952, 1599, 1784, 4130, 491, 1933, 1714, 1344], [4486, 473, 2983, 3329, 655, 1195, 4383, 572, 424], [3353, 4576, 3291, 1462], [314, 1080, 1523, 1510, 3533, 1514, 384, 840, 1439], [4867, 2120, 2620, 1455, 1933, 1714, 1344], [4806, 3955, 384, 633, 658, 4001, 2699, 1462, 1933, 1714, 1344], [4036], [4867, 1976, 4998, 1288, 81, 1911, 1763, 1933, 1714, 1344], [450, 2610, 4927, 2401, 4019, 3580, 4998, 1338, 4867, 4870, 2365, 3508], [1475, 2293, 1073, 1008, 1933, 1714, 1344], [1455, 4446, 4567, 3280, 1338, 4257, 4, 1933, 1714, 1344], [3993, 2188, 3126, 3736, 1625, 1952, 2003, 1007, 4753, 2881], [3561, 4887, 3504, 2447, 3017, 2269, 1954, 1744, 1933, 1714, 1344], [3929, 3977, 4173, 4731, 4296, 981, 4867, 358, 71, 806, 3209, 584, 2470, 4914, 2747, 3442], [3631, 110, 2256, 4867, 1273, 3631], [2007, 4307, 3296, 952, 3381, 4883, 1311, 4601], [4963, 3528, 1202, 358, 377, 3442, 3631], [3329, 2968, 446, 3508, 2646, 3370, 3599, 1933, 1714, 1344], [1095, 90, 3047, 3079, 2937, 4587, 4216, 1933, 1714, 1344], [3539, 1391, 3991, 684, 1388, 456, 4804], [1718, 2449, 4507, 4792, 4321, 159, 1933, 1714, 1344], [1462, 3580, 4056, 764, 3209, 654, 4543, 981, 4867, 1933, 1714, 1344], [4867, 4698, 1741, 4927, 1195, 2086, 3108, 3542], [4794, 4085, 2229, 4939, 2509], [239, 1167, 1771, 4278, 281, 2826, 607], [3063, 2245, 1854, 2538, 752, 1893, 4934, 1854, 2538, 752, 3631], [3037, 651, 4199, 529, 695, 3856, 4284, 2496, 3631], [1843, 2225, 4349, 2534, 4728, 613, 515, 3588, 163, 2959, 3631], [3219, 710, 2710, 2514, 1714, 4935, 3888, 681, 651, 2403, 1933, 1714, 1344], [2510, 3849, 4524, 829, 46, 4867, 559, 2813, 704, 3135], [2803, 4867, 1836, 4506, 428, 4576, 858, 2826, 2012, 533, 903, 1316, 2269]]\n"
     ]
    }
   ],
   "source": [
    "print(onehot_representation)"
   ]
  },
  {
   "cell_type": "code",
   "execution_count": 32,
   "metadata": {},
   "outputs": [],
   "source": [
    "# Embedding Representation"
   ]
  },
  {
   "cell_type": "code",
   "execution_count": 33,
   "metadata": {},
   "outputs": [],
   "source": [
    "sent_length = 20\n",
    "embedding_padding_representation = pad_sequences(onehot_representation, padding = 'pre', maxlen = sent_length)"
   ]
  },
  {
   "cell_type": "code",
   "execution_count": 34,
   "metadata": {},
   "outputs": [
    {
     "name": "stdout",
     "output_type": "stream",
     "text": [
      "[[   0    0    0 ...  620 1205 3360]\n",
      " [   0    0    0 ... 4968 4606 3631]\n",
      " [   0    0    0 ... 4157 1938 3790]\n",
      " ...\n",
      " [   0    0    0 ... 1933 1714 1344]\n",
      " [   0    0    0 ... 2813  704 3135]\n",
      " [   0    0    0 ...  903 1316 2269]]\n"
     ]
    }
   ],
   "source": [
    "print(embedding_padding_representation)"
   ]
  },
  {
   "cell_type": "code",
   "execution_count": 35,
   "metadata": {},
   "outputs": [
    {
     "name": "stdout",
     "output_type": "stream",
     "text": [
      "[   0    0    0    0    0    0    0    0    0    0 4307   14  480 4130\n",
      " 2480 1239  549  620 1205 3360]\n"
     ]
    }
   ],
   "source": [
    "# padding representation at index 0 \n",
    "print(embedding_padding_representation[0])"
   ]
  },
  {
   "cell_type": "markdown",
   "metadata": {},
   "source": [
    "# Create the LSTM Model for the embedding layer"
   ]
  },
  {
   "cell_type": "code",
   "execution_count": 40,
   "metadata": {},
   "outputs": [
    {
     "name": "stdout",
     "output_type": "stream",
     "text": [
      "Model: \"sequential_4\"\n",
      "_________________________________________________________________\n",
      " Layer (type)                Output Shape              Param #   \n",
      "=================================================================\n",
      " embedding_2 (Embedding)     (None, 20, 40)            200000    \n",
      "                                                                 \n",
      " lstm_2 (LSTM)               (None, 100)               56400     \n",
      "                                                                 \n",
      " dense_1 (Dense)             (None, 1)                 101       \n",
      "                                                                 \n",
      "=================================================================\n",
      "Total params: 256,501\n",
      "Trainable params: 256,501\n",
      "Non-trainable params: 0\n",
      "_________________________________________________________________\n",
      "None\n"
     ]
    }
   ],
   "source": [
    "embedding_vector_feature = 40\n",
    "# initialize the sequential layer\n",
    "model = Sequential()\n",
    "# add the embedding layer into the model\n",
    "model.add(Embedding(voc_size, embedding_vector_feature, input_length = sent_length))\n",
    "# add the LSTM Layer into the model\n",
    "model.add(LSTM(100))\n",
    "# Add the dense layer into the model\n",
    "model.add(Dense(1, activation = 'sigmoid'))\n",
    "# compile the model\n",
    "model.compile(loss = 'binary_crossentropy', optimizer = 'adam', metrics = ['accuracy'])\n",
    "# get the summary of the model\n",
    "print(model.summary())"
   ]
  },
  {
   "cell_type": "code",
   "execution_count": 48,
   "metadata": {},
   "outputs": [
    {
     "data": {
      "text/plain": [
       "100"
      ]
     },
     "execution_count": 48,
     "metadata": {},
     "output_type": "execute_result"
    }
   ],
   "source": [
    "len(embedding_padding_representation)"
   ]
  },
  {
   "cell_type": "code",
   "execution_count": 49,
   "metadata": {},
   "outputs": [
    {
     "name": "stdout",
     "output_type": "stream",
     "text": [
      "0        1\n",
      "1        0\n",
      "2        1\n",
      "3        1\n",
      "4        1\n",
      "        ..\n",
      "20795    0\n",
      "20796    0\n",
      "20797    0\n",
      "20798    1\n",
      "20799    1\n",
      "Name: label, Length: 18285, dtype: int64\n"
     ]
    }
   ],
   "source": [
    "print(Y)"
   ]
  },
  {
   "cell_type": "code",
   "execution_count": 50,
   "metadata": {},
   "outputs": [
    {
     "data": {
      "text/plain": [
       "(18285,)"
      ]
     },
     "execution_count": 50,
     "metadata": {},
     "output_type": "execute_result"
    }
   ],
   "source": [
    "Y.shape"
   ]
  },
  {
   "cell_type": "code",
   "execution_count": 51,
   "metadata": {},
   "outputs": [],
   "source": [
    "Y = Y.head(100)"
   ]
  },
  {
   "cell_type": "code",
   "execution_count": 52,
   "metadata": {},
   "outputs": [
    {
     "data": {
      "text/plain": [
       "0      1\n",
       "1      0\n",
       "2      1\n",
       "3      1\n",
       "4      1\n",
       "      ..\n",
       "108    0\n",
       "109    0\n",
       "110    0\n",
       "111    0\n",
       "112    1\n",
       "Name: label, Length: 100, dtype: int64"
      ]
     },
     "execution_count": 52,
     "metadata": {},
     "output_type": "execute_result"
    }
   ],
   "source": [
    "Y"
   ]
  },
  {
   "cell_type": "code",
   "execution_count": 54,
   "metadata": {},
   "outputs": [
    {
     "data": {
      "text/plain": [
       "(100,)"
      ]
     },
     "execution_count": 54,
     "metadata": {},
     "output_type": "execute_result"
    }
   ],
   "source": [
    "Y.shape"
   ]
  },
  {
   "cell_type": "code",
   "execution_count": 55,
   "metadata": {},
   "outputs": [],
   "source": [
    "# convere the independent and dependent features into array\n",
    "X_final = np.array(embedding_padding_representation)\n",
    "Y_final = np.array(Y)"
   ]
  },
  {
   "cell_type": "code",
   "execution_count": 57,
   "metadata": {},
   "outputs": [
    {
     "name": "stdout",
     "output_type": "stream",
     "text": [
      "(100, 20)\n",
      "(100,)\n"
     ]
    }
   ],
   "source": [
    "print(X_final.shape)\n",
    "print(Y_final.shape)"
   ]
  },
  {
   "cell_type": "code",
   "execution_count": 59,
   "metadata": {},
   "outputs": [],
   "source": [
    "# Divide the independent and dependent features into training and testing data\n",
    "from sklearn.model_selection import train_test_split\n",
    "\n",
    "X_train, X_test, Y_train, Y_test = train_test_split(X_final, Y_final, test_size = 0.33, random_state = 42)"
   ]
  },
  {
   "cell_type": "markdown",
   "metadata": {},
   "source": [
    "# Model Training"
   ]
  },
  {
   "cell_type": "code",
   "execution_count": 60,
   "metadata": {},
   "outputs": [
    {
     "name": "stdout",
     "output_type": "stream",
     "text": [
      "Epoch 1/10\n",
      "2/2 [==============================] - 3s 404ms/step - loss: 0.6941 - accuracy: 0.2985 - val_loss: 0.6913 - val_accuracy: 0.5455\n",
      "Epoch 2/10\n",
      "2/2 [==============================] - 0s 34ms/step - loss: 0.6849 - accuracy: 0.6567 - val_loss: 0.6890 - val_accuracy: 0.5455\n",
      "Epoch 3/10\n",
      "2/2 [==============================] - 0s 33ms/step - loss: 0.6769 - accuracy: 0.6567 - val_loss: 0.6866 - val_accuracy: 0.5455\n",
      "Epoch 4/10\n",
      "2/2 [==============================] - 0s 33ms/step - loss: 0.6688 - accuracy: 0.6567 - val_loss: 0.6837 - val_accuracy: 0.5455\n",
      "Epoch 5/10\n",
      "2/2 [==============================] - 0s 35ms/step - loss: 0.6579 - accuracy: 0.6567 - val_loss: 0.6807 - val_accuracy: 0.5455\n",
      "Epoch 6/10\n",
      "2/2 [==============================] - 0s 33ms/step - loss: 0.6448 - accuracy: 0.6567 - val_loss: 0.6774 - val_accuracy: 0.5455\n",
      "Epoch 7/10\n",
      "2/2 [==============================] - 0s 52ms/step - loss: 0.6294 - accuracy: 0.6567 - val_loss: 0.6736 - val_accuracy: 0.5455\n",
      "Epoch 8/10\n",
      "2/2 [==============================] - 0s 32ms/step - loss: 0.6073 - accuracy: 0.6567 - val_loss: 0.6708 - val_accuracy: 0.5455\n",
      "Epoch 9/10\n",
      "2/2 [==============================] - 0s 33ms/step - loss: 0.5764 - accuracy: 0.6567 - val_loss: 0.6761 - val_accuracy: 0.5455\n",
      "Epoch 10/10\n",
      "2/2 [==============================] - 0s 36ms/step - loss: 0.5352 - accuracy: 0.6567 - val_loss: 0.7101 - val_accuracy: 0.5455\n"
     ]
    },
    {
     "data": {
      "text/plain": [
       "<keras.callbacks.History at 0x224f1cb05e0>"
      ]
     },
     "execution_count": 60,
     "metadata": {},
     "output_type": "execute_result"
    }
   ],
   "source": [
    "model.fit(X_train, Y_train, validation_data = (X_test, Y_test), epochs = 10, batch_size = 64)"
   ]
  },
  {
   "cell_type": "markdown",
   "metadata": {},
   "source": [
    "# Adding the Dropout layer"
   ]
  },
  {
   "cell_type": "code",
   "execution_count": 61,
   "metadata": {},
   "outputs": [
    {
     "name": "stdout",
     "output_type": "stream",
     "text": [
      "Model: \"sequential_5\"\n",
      "_________________________________________________________________\n",
      " Layer (type)                Output Shape              Param #   \n",
      "=================================================================\n",
      " embedding_3 (Embedding)     (None, 20, 40)            200000    \n",
      "                                                                 \n",
      " lstm_3 (LSTM)               (None, 100)               56400     \n",
      "                                                                 \n",
      " dropout (Dropout)           (None, 100)               0         \n",
      "                                                                 \n",
      " dense_2 (Dense)             (None, 1)                 101       \n",
      "                                                                 \n",
      "=================================================================\n",
      "Total params: 256,501\n",
      "Trainable params: 256,501\n",
      "Non-trainable params: 0\n",
      "_________________________________________________________________\n",
      "None\n"
     ]
    }
   ],
   "source": [
    "from tensorflow.keras.layers import Dropout\n",
    "\n",
    "embedding_vector_feature = 40\n",
    "# initialize the sequential layer\n",
    "model = Sequential()\n",
    "# add the embedding layer into the model\n",
    "model.add(Embedding(voc_size, embedding_vector_feature, input_length = sent_length))\n",
    "# add the LSTM Layer into the model\n",
    "model.add(LSTM(100))\n",
    "# add the dropout layer into the LSTM Model to reduce the number of neurons\n",
    "model.add(Dropout(0.3))\n",
    "# Add the dense layer into the model\n",
    "model.add(Dense(1, activation = 'sigmoid'))\n",
    "# compile the model\n",
    "model.compile(loss = 'binary_crossentropy', optimizer = 'adam', metrics = ['accuracy'])\n",
    "# get the summary of the model\n",
    "print(model.summary())"
   ]
  },
  {
   "cell_type": "markdown",
   "metadata": {},
   "source": [
    "# Performance Metrics and Accuracy"
   ]
  },
  {
   "cell_type": "code",
   "execution_count": 62,
   "metadata": {},
   "outputs": [],
   "source": [
    "from sklearn.metrics import confusion_matrix"
   ]
  },
  {
   "cell_type": "code",
   "execution_count": 63,
   "metadata": {},
   "outputs": [],
   "source": [
    "Y_pred = model.predict(X_test)"
   ]
  },
  {
   "cell_type": "code",
   "execution_count": 81,
   "metadata": {},
   "outputs": [],
   "source": [
    "cm = confusion_matrix(Y_test, Y_pred.round())"
   ]
  },
  {
   "cell_type": "code",
   "execution_count": 82,
   "metadata": {},
   "outputs": [
    {
     "name": "stdout",
     "output_type": "stream",
     "text": [
      "[[ 4 14]\n",
      " [ 4 11]]\n"
     ]
    }
   ],
   "source": [
    "print(cm)"
   ]
  },
  {
   "cell_type": "code",
   "execution_count": 83,
   "metadata": {},
   "outputs": [],
   "source": [
    "from sklearn.metrics import accuracy_score\n",
    "ac = accuracy_score(Y_test,Y_pred.round(), normalize = False)"
   ]
  },
  {
   "cell_type": "code",
   "execution_count": 84,
   "metadata": {},
   "outputs": [
    {
     "name": "stdout",
     "output_type": "stream",
     "text": [
      "15\n"
     ]
    }
   ],
   "source": [
    "print(ac)"
   ]
  },
  {
   "cell_type": "code",
   "execution_count": 87,
   "metadata": {},
   "outputs": [
    {
     "name": "stdout",
     "output_type": "stream",
     "text": [
      "              precision    recall  f1-score   support\n",
      "\n",
      "           0       0.50      0.22      0.31        18\n",
      "           1       0.44      0.73      0.55        15\n",
      "\n",
      "    accuracy                           0.45        33\n",
      "   macro avg       0.47      0.48      0.43        33\n",
      "weighted avg       0.47      0.45      0.42        33\n",
      "\n"
     ]
    }
   ],
   "source": [
    "from sklearn.metrics import classification_report\n",
    "cr = classification_report(Y_test, Y_pred.round())\n",
    "print(cr)"
   ]
  },
  {
   "cell_type": "code",
   "execution_count": null,
   "metadata": {},
   "outputs": [],
   "source": []
  }
 ],
 "metadata": {
  "kernelspec": {
   "display_name": "Python 3",
   "language": "python",
   "name": "python3"
  },
  "language_info": {
   "codemirror_mode": {
    "name": "ipython",
    "version": 3
   },
   "file_extension": ".py",
   "mimetype": "text/x-python",
   "name": "python",
   "nbconvert_exporter": "python",
   "pygments_lexer": "ipython3",
   "version": "3.8.3"
  }
 },
 "nbformat": 4,
 "nbformat_minor": 4
}
