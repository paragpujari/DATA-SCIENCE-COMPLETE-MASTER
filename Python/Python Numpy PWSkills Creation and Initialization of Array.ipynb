{
 "cells": [
  {
   "cell_type": "markdown",
   "id": "ac29a1aa-c64a-40d2-89a1-375cdecd17ce",
   "metadata": {},
   "source": [
    "# NUMPY\n",
    "It is a mathematical function that can perform matrices and array calculations."
   ]
  },
  {
   "cell_type": "code",
   "execution_count": 1,
   "id": "7ccace30-df2f-478d-ac59-7afec67f39ca",
   "metadata": {},
   "outputs": [],
   "source": [
    "import numpy as np"
   ]
  },
  {
   "cell_type": "markdown",
   "id": "0f274e82-74e0-4a6c-b64b-5f0db744b993",
   "metadata": {},
   "source": [
    "# CREATION OF 1-DIMENSIONAL ARRAY"
   ]
  },
  {
   "cell_type": "code",
   "execution_count": 2,
   "id": "40353125-f559-4644-ac8b-c8368aefeca3",
   "metadata": {},
   "outputs": [
    {
     "name": "stdout",
     "output_type": "stream",
     "text": [
      "[1 2 3 4 5]\n"
     ]
    }
   ],
   "source": [
    "a = [1,2,3,4,5]\n",
    "# convert list into numpy array\n",
    "z = np.array(a)\n",
    "print(z)"
   ]
  },
  {
   "cell_type": "code",
   "execution_count": 3,
   "id": "5c46bcd0-9cf7-46c2-84a0-690590ba773f",
   "metadata": {},
   "outputs": [
    {
     "name": "stdout",
     "output_type": "stream",
     "text": [
      "<class 'numpy.ndarray'>\n"
     ]
    }
   ],
   "source": [
    "# type of the numpy array\n",
    "print(type(z))"
   ]
  },
  {
   "cell_type": "code",
   "execution_count": 4,
   "id": "c5951205-8f94-44e5-bd71-d4d569504856",
   "metadata": {},
   "outputs": [
    {
     "name": "stdout",
     "output_type": "stream",
     "text": [
      "5\n"
     ]
    }
   ],
   "source": [
    "# size of the numpy array\n",
    "print(z.size)"
   ]
  },
  {
   "cell_type": "code",
   "execution_count": 5,
   "id": "d00400d6-bf79-48ac-aa8e-3115fd29ca12",
   "metadata": {},
   "outputs": [
    {
     "name": "stdout",
     "output_type": "stream",
     "text": [
      "(5,)\n"
     ]
    }
   ],
   "source": [
    "# shape of the numpy array\n",
    "print(z.shape)"
   ]
  },
  {
   "cell_type": "code",
   "execution_count": 6,
   "id": "d2a54602-4018-4357-a547-a379668e49de",
   "metadata": {},
   "outputs": [
    {
     "name": "stdout",
     "output_type": "stream",
     "text": [
      "1\n"
     ]
    }
   ],
   "source": [
    "# No of dimensions in the numpy array\n",
    "print(z.ndim)"
   ]
  },
  {
   "cell_type": "markdown",
   "id": "b2147b2f-a051-4710-8ea4-07c36cf73fa4",
   "metadata": {},
   "source": [
    "# ANOTHER WAY OF CREATION OF 1-DIMENSIONAL ARRAY"
   ]
  },
  {
   "cell_type": "code",
   "execution_count": 7,
   "id": "52811fe7-0df7-424d-8ee4-0bd57f4307b6",
   "metadata": {},
   "outputs": [
    {
     "name": "stdout",
     "output_type": "stream",
     "text": [
      "[1 2 3 4 5]\n"
     ]
    }
   ],
   "source": [
    "h = np.asarray(a)\n",
    "print(h)"
   ]
  },
  {
   "cell_type": "code",
   "execution_count": 8,
   "id": "24b98632-eed2-428a-8771-5195871a1116",
   "metadata": {},
   "outputs": [
    {
     "name": "stdout",
     "output_type": "stream",
     "text": [
      "[1 2 3 4 5]\n",
      "<class 'numpy.ndarray'>\n",
      "1\n",
      "5\n",
      "(5,)\n"
     ]
    }
   ],
   "source": [
    "print(h)\n",
    "\n",
    "# type of array\n",
    "print(type(h))\n",
    "\n",
    "# dimensions of array\n",
    "print(h.ndim)\n",
    "\n",
    "# size of the array\n",
    "print(h.size)\n",
    "\n",
    "# shape of the array\n",
    "print(h.shape)"
   ]
  },
  {
   "cell_type": "markdown",
   "id": "847c7646-ec8a-44d9-9ed8-91a8d6cc8c09",
   "metadata": {},
   "source": [
    "# CREATION OF 2 DIMENSIONAL ARRAY"
   ]
  },
  {
   "cell_type": "code",
   "execution_count": 10,
   "id": "acf5fa3d-91ed-4049-8909-55f6ba3a5571",
   "metadata": {},
   "outputs": [
    {
     "name": "stdout",
     "output_type": "stream",
     "text": [
      "[[ 1  2  3  4  5]\n",
      " [ 6  7  8  9 10]]\n"
     ]
    }
   ],
   "source": [
    "import numpy as np\n",
    "x = np.array([[1,2,3,4,5],[6,7,8,9,10]])\n",
    "print(x)"
   ]
  },
  {
   "cell_type": "code",
   "execution_count": 11,
   "id": "e191cd39-f006-4b25-a4cd-1fe5c9debc31",
   "metadata": {},
   "outputs": [
    {
     "name": "stdout",
     "output_type": "stream",
     "text": [
      "<class 'numpy.ndarray'>\n"
     ]
    }
   ],
   "source": [
    "# type of the numpy array\n",
    "print(type(x))"
   ]
  },
  {
   "cell_type": "code",
   "execution_count": 12,
   "id": "5a2f1319-2448-4dcc-a2d0-fac90fec1485",
   "metadata": {},
   "outputs": [
    {
     "name": "stdout",
     "output_type": "stream",
     "text": [
      "(2, 5)\n"
     ]
    }
   ],
   "source": [
    "# shape of the numpy array\n",
    "print(x.shape)"
   ]
  },
  {
   "cell_type": "code",
   "execution_count": 13,
   "id": "f958cb2b-968c-4b5a-a432-b84f0363e7d6",
   "metadata": {},
   "outputs": [
    {
     "name": "stdout",
     "output_type": "stream",
     "text": [
      "10\n"
     ]
    }
   ],
   "source": [
    "# size of the numpy array\n",
    "print(x.size)"
   ]
  },
  {
   "cell_type": "code",
   "execution_count": 14,
   "id": "1f545888-75d5-4758-baf9-d8a7dc3f3eec",
   "metadata": {},
   "outputs": [
    {
     "name": "stdout",
     "output_type": "stream",
     "text": [
      "2\n"
     ]
    }
   ],
   "source": [
    "# dimensions of the numpy array\n",
    "print(x.ndim)"
   ]
  },
  {
   "cell_type": "markdown",
   "id": "a6361567-328c-4e26-bcd5-d40b1559a4e6",
   "metadata": {},
   "source": [
    "# INITIALIZATION OF NUMPY ARRAY"
   ]
  },
  {
   "cell_type": "code",
   "execution_count": 16,
   "id": "715f0805-51cf-48a5-8930-060e4421c3e2",
   "metadata": {},
   "outputs": [],
   "source": [
    "# zeros = It is used to initialize the numpy array with zeros with the given dimensions.\n",
    "import numpy as np\n",
    "x = np.zeros((6,7), dtype = 'int')"
   ]
  },
  {
   "cell_type": "code",
   "execution_count": 17,
   "id": "138175cf-bc11-4106-bc00-7e12d4e7277f",
   "metadata": {},
   "outputs": [
    {
     "name": "stdout",
     "output_type": "stream",
     "text": [
      "[[0 0 0 0 0 0 0]\n",
      " [0 0 0 0 0 0 0]\n",
      " [0 0 0 0 0 0 0]\n",
      " [0 0 0 0 0 0 0]\n",
      " [0 0 0 0 0 0 0]\n",
      " [0 0 0 0 0 0 0]]\n"
     ]
    }
   ],
   "source": [
    "print(x)"
   ]
  },
  {
   "cell_type": "code",
   "execution_count": 18,
   "id": "3a14fcb9-969a-4dbf-8fc4-7497fb6f7a4c",
   "metadata": {},
   "outputs": [
    {
     "name": "stdout",
     "output_type": "stream",
     "text": [
      "[[0. 0. 0. 0. 0. 0. 0. 0. 0.]\n",
      " [0. 0. 0. 0. 0. 0. 0. 0. 0.]\n",
      " [0. 0. 0. 0. 0. 0. 0. 0. 0.]\n",
      " [0. 0. 0. 0. 0. 0. 0. 0. 0.]\n",
      " [0. 0. 0. 0. 0. 0. 0. 0. 0.]\n",
      " [0. 0. 0. 0. 0. 0. 0. 0. 0.]\n",
      " [0. 0. 0. 0. 0. 0. 0. 0. 0.]\n",
      " [0. 0. 0. 0. 0. 0. 0. 0. 0.]]\n"
     ]
    }
   ],
   "source": [
    "y = np.zeros((8,9), dtype = 'float')\n",
    "print(y)"
   ]
  },
  {
   "cell_type": "code",
   "execution_count": 19,
   "id": "c54bf3c0-f943-436d-a44b-cc57ed67e5cb",
   "metadata": {},
   "outputs": [
    {
     "name": "stdout",
     "output_type": "stream",
     "text": [
      "[[1 1 1]\n",
      " [1 1 1]]\n"
     ]
    }
   ],
   "source": [
    "# ones = It is used to initialize the numpy array with ones with the given number of dimensions.\n",
    "a = np.ones((2,3), dtype = 'int')\n",
    "print(a)"
   ]
  },
  {
   "cell_type": "code",
   "execution_count": 20,
   "id": "df8397ea-5add-4df6-8612-20658b826f54",
   "metadata": {},
   "outputs": [
    {
     "name": "stdout",
     "output_type": "stream",
     "text": [
      "[[1. 1. 1. 1.]\n",
      " [1. 1. 1. 1.]\n",
      " [1. 1. 1. 1.]]\n"
     ]
    }
   ],
   "source": [
    "b = np.ones((3,4), dtype = 'float')\n",
    "print(b)"
   ]
  },
  {
   "cell_type": "markdown",
   "id": "d08d1467-80b6-44f1-88fc-0852f7a8aa4e",
   "metadata": {},
   "source": [
    "# ARRANGING THE NUMEBRS OF X AND Y WITH THE INTERVAL OF Z"
   ]
  },
  {
   "cell_type": "code",
   "execution_count": 22,
   "id": "5c2b7a0a-5016-45c6-a900-d3bd0372a9a0",
   "metadata": {},
   "outputs": [
    {
     "name": "stdout",
     "output_type": "stream",
     "text": [
      "[ 2  4  6  8 10 12 14 16 18]\n",
      "<class 'numpy.ndarray'>\n"
     ]
    }
   ],
   "source": [
    "import numpy as np\n",
    "z = np.arange(2,20,2)\n",
    "print(z)\n",
    "print(type(z))"
   ]
  },
  {
   "cell_type": "code",
   "execution_count": 23,
   "id": "9ae82819-a4d2-4968-81c1-7a08dc863ad2",
   "metadata": {},
   "outputs": [
    {
     "name": "stdout",
     "output_type": "stream",
     "text": [
      "[ 2  4  6  8 10 12 14 16 18 20 22 24 26 28 30 32 34 36 38 40 42 44 46 48\n",
      " 50 52 54 56 58 60 62 64 66 68 70 72 74 76 78 80 82 84 86 88 90 92 94 96\n",
      " 98]\n"
     ]
    }
   ],
   "source": [
    "t = np.arange(2,100,2)\n",
    "print(t)"
   ]
  },
  {
   "cell_type": "markdown",
   "id": "243316c0-f986-4163-b3e2-c11557696551",
   "metadata": {},
   "source": [
    "# ARRANGING Z BETWEEN X AND Y"
   ]
  },
  {
   "cell_type": "code",
   "execution_count": 24,
   "id": "a96f7198-915d-471b-98e1-41e64d2d14b5",
   "metadata": {},
   "outputs": [
    {
     "name": "stdout",
     "output_type": "stream",
     "text": [
      "[ 2.  4.  6.  8. 10. 12. 14. 16. 18. 20.]\n"
     ]
    }
   ],
   "source": [
    "import numpy as np\n",
    "x = np.linspace(2,20,10)\n",
    "print(x)"
   ]
  },
  {
   "cell_type": "code",
   "execution_count": 25,
   "id": "24f9ef7a-1851-4185-807a-75c131306dc9",
   "metadata": {},
   "outputs": [
    {
     "name": "stdout",
     "output_type": "stream",
     "text": [
      "[ 2.  3.  4.  5.  6.  7.  8.  9. 10.]\n"
     ]
    }
   ],
   "source": [
    "y = np.linspace(2,10,9)\n",
    "print(y)"
   ]
  },
  {
   "cell_type": "code",
   "execution_count": 26,
   "id": "03c19a5e-c54c-491b-ae30-8fdd50910b2e",
   "metadata": {},
   "outputs": [
    {
     "name": "stdout",
     "output_type": "stream",
     "text": [
      "[ 5.          5.26315789  5.52631579  5.78947368  6.05263158  6.31578947\n",
      "  6.57894737  6.84210526  7.10526316  7.36842105  7.63157895  7.89473684\n",
      "  8.15789474  8.42105263  8.68421053  8.94736842  9.21052632  9.47368421\n",
      "  9.73684211 10.        ]\n"
     ]
    }
   ],
   "source": [
    "z = np.linspace(5,10,20)\n",
    "print(z)"
   ]
  },
  {
   "cell_type": "code",
   "execution_count": 27,
   "id": "fa92f7bc-01a5-435f-812e-1e29acf1a2b2",
   "metadata": {},
   "outputs": [
    {
     "name": "stdout",
     "output_type": "stream",
     "text": [
      "[ 0.  2.  4.  6.  8. 10.]\n"
     ]
    }
   ],
   "source": [
    "# even numbers from 0 to 10\n",
    "even = np.linspace(0,10,6)\n",
    "print(even)"
   ]
  },
  {
   "cell_type": "markdown",
   "id": "a795fffd-b8a4-4c70-b4a8-92ac8626f8d8",
   "metadata": {},
   "source": [
    "# FILLING SAME NUMBERS IN THE ARRAY OF DIMENSIONS X * Y"
   ]
  },
  {
   "cell_type": "code",
   "execution_count": 28,
   "id": "82a12a8d-dd16-4e8a-86a3-8aefc9b4119d",
   "metadata": {},
   "outputs": [
    {
     "name": "stdout",
     "output_type": "stream",
     "text": [
      "[[10 10 10 10]\n",
      " [10 10 10 10]\n",
      " [10 10 10 10]]\n"
     ]
    }
   ],
   "source": [
    "import numpy as np\n",
    "x = np.full((3,4), 10)\n",
    "print(x)"
   ]
  },
  {
   "cell_type": "code",
   "execution_count": 29,
   "id": "798300e0-5ca4-40ca-9266-0a211833df61",
   "metadata": {},
   "outputs": [
    {
     "name": "stdout",
     "output_type": "stream",
     "text": [
      "[[12 12 12 12 12 12 12]\n",
      " [12 12 12 12 12 12 12]\n",
      " [12 12 12 12 12 12 12]\n",
      " [12 12 12 12 12 12 12]\n",
      " [12 12 12 12 12 12 12]\n",
      " [12 12 12 12 12 12 12]]\n"
     ]
    }
   ],
   "source": [
    "y = np.full((6,7), 12)\n",
    "print(y)"
   ]
  },
  {
   "cell_type": "code",
   "execution_count": 30,
   "id": "60777c5d-0b8a-4a43-a23d-765b1832c1d8",
   "metadata": {},
   "outputs": [
    {
     "name": "stdout",
     "output_type": "stream",
     "text": [
      "[[19 19 19 19]\n",
      " [19 19 19 19]\n",
      " [19 19 19 19]]\n"
     ]
    }
   ],
   "source": [
    "z = np.full((3,4),19)\n",
    "print(z)"
   ]
  },
  {
   "cell_type": "markdown",
   "id": "74313a6d-80b2-49a6-a2bf-885874711452",
   "metadata": {},
   "source": [
    "# FILLING RANDOM NUMBERS IN THE ARRAY OF DIMENSIONS X * Y"
   ]
  },
  {
   "cell_type": "code",
   "execution_count": 31,
   "id": "ea0844b4-8432-4d67-8540-f12992ddc99c",
   "metadata": {},
   "outputs": [
    {
     "name": "stdout",
     "output_type": "stream",
     "text": [
      "[[0.55399857 0.22575679 0.44913228 0.07004671]\n",
      " [0.72916107 0.11781583 0.58393835 0.9336188 ]\n",
      " [0.53685819 0.01286078 0.35696286 0.59332436]]\n"
     ]
    }
   ],
   "source": [
    "import numpy as np\n",
    "x = np.random.random((3,4))\n",
    "print(x)"
   ]
  },
  {
   "cell_type": "code",
   "execution_count": 32,
   "id": "1f7dc365-c31b-4d08-b1bc-ecab7f8b26dc",
   "metadata": {},
   "outputs": [
    {
     "name": "stdout",
     "output_type": "stream",
     "text": [
      "[[0.66162062 0.35207244 0.41293345 0.91816771 0.44010595 0.6407155\n",
      "  0.26071122 0.18143202]\n",
      " [0.68656765 0.36074118 0.00166083 0.4038593  0.1231154  0.86450491\n",
      "  0.87385235 0.59580088]\n",
      " [0.38533221 0.62643821 0.27704753 0.34679217 0.64396294 0.03843873\n",
      "  0.81979929 0.65361808]\n",
      " [0.12798023 0.24818088 0.76149465 0.75596303 0.32174231 0.59722269\n",
      "  0.51479964 0.72281945]\n",
      " [0.33766876 0.77865271 0.2520282  0.07736911 0.43999098 0.76781217\n",
      "  0.46880407 0.3798005 ]\n",
      " [0.73969809 0.32739484 0.93230108 0.99294586 0.10519299 0.40467582\n",
      "  0.40496025 0.65559941]\n",
      " [0.02869861 0.67696098 0.87410054 0.19493514 0.66212632 0.27663179\n",
      "  0.73318096 0.63121426]]\n"
     ]
    }
   ],
   "source": [
    "y = np.random.random((7,8))\n",
    "print(y)"
   ]
  },
  {
   "cell_type": "code",
   "execution_count": 33,
   "id": "506545ef-2e66-49d8-be5b-4e3c8c9d9930",
   "metadata": {},
   "outputs": [
    {
     "name": "stdout",
     "output_type": "stream",
     "text": [
      "[[0.15196388 0.91926497 0.85870014 0.29651249 0.83566046 0.02982473]\n",
      " [0.71980752 0.23267394 0.63014317 0.68692822 0.74019677 0.78438889]\n",
      " [0.04464522 0.43963651 0.27154467 0.62745461 0.14794919 0.18979182]\n",
      " [0.25825582 0.61278272 0.70841881 0.06100465 0.23341641 0.9053179 ]\n",
      " [0.48091743 0.03396879 0.54326634 0.46542968 0.84455312 0.19231639]\n",
      " [0.38298633 0.59938058 0.89506452 0.88424113 0.28100763 0.11059111]\n",
      " [0.63262098 0.45081041 0.22204545 0.52064917 0.63788672 0.90345329]\n",
      " [0.4801234  0.70955899 0.69894791 0.45595425 0.53906341 0.87547751]]\n"
     ]
    }
   ],
   "source": [
    "c = np.random.random((8,6))\n",
    "print(c)"
   ]
  },
  {
   "cell_type": "markdown",
   "id": "d2f1cf65-8c66-4014-9659-545db69909a5",
   "metadata": {},
   "source": [
    "# INSPECTING THE NUMPY ARRAY"
   ]
  },
  {
   "cell_type": "code",
   "execution_count": 34,
   "id": "fa48cd1c-1523-4ea1-8abe-0093e99a4a75",
   "metadata": {},
   "outputs": [
    {
     "name": "stdout",
     "output_type": "stream",
     "text": [
      "(5,)\n"
     ]
    }
   ],
   "source": [
    "# shape() = It returns the number of rows and columns in the array\n",
    "x = np.array([1,2,3,4,5])\n",
    "print(x.shape)"
   ]
  },
  {
   "cell_type": "code",
   "execution_count": 35,
   "id": "814b57e7-72ab-4f83-b2ec-2328bbc6989b",
   "metadata": {},
   "outputs": [
    {
     "name": "stdout",
     "output_type": "stream",
     "text": [
      "(2, 3)\n"
     ]
    }
   ],
   "source": [
    "x = np.array([[1,2,3],[4,5,6]])\n",
    "print(x.shape)"
   ]
  },
  {
   "cell_type": "code",
   "execution_count": 37,
   "id": "4f61860f-d052-4806-bd99-bbe949e0db83",
   "metadata": {},
   "outputs": [
    {
     "name": "stdout",
     "output_type": "stream",
     "text": [
      "[[ 1  2  3  4]\n",
      " [ 5  6  7  8]\n",
      " [ 9 10 11 12]]\n",
      "(3, 4)\n"
     ]
    }
   ],
   "source": [
    "x = np.array([[1,2,3,4],[5,6,7,8],[9,10,11,12]])\n",
    "print(x)\n",
    "print(x.shape)"
   ]
  },
  {
   "cell_type": "markdown",
   "id": "14771549-e7dc-4c1b-a147-9fba2cf6c247",
   "metadata": {},
   "source": [
    "# RESIZING THE ARRAY"
   ]
  },
  {
   "cell_type": "code",
   "execution_count": 40,
   "id": "f4456e29-dd8c-4107-86de-8bea458127e7",
   "metadata": {},
   "outputs": [
    {
     "name": "stdout",
     "output_type": "stream",
     "text": [
      "[[ 1  2  3  4]\n",
      " [ 5  6  7  8]\n",
      " [ 9 10 11 12]]\n",
      "[[ 1  2  3]\n",
      " [ 4  5  6]\n",
      " [ 7  8  9]\n",
      " [10 11 12]]\n"
     ]
    }
   ],
   "source": [
    "x = np.array([[1,2,3,4],[5,6,7,8],[9,10,11,12]])\n",
    "print(x)\n",
    "# reshape the array\n",
    "ans = x.reshape((4,3))\n",
    "print(ans)"
   ]
  },
  {
   "cell_type": "code",
   "execution_count": 42,
   "id": "32bbec0b-024a-4ca6-9006-db649bbc6eb9",
   "metadata": {},
   "outputs": [
    {
     "name": "stdout",
     "output_type": "stream",
     "text": [
      "[[ 1  2]\n",
      " [ 3  4]\n",
      " [ 5  6]\n",
      " [ 7  8]\n",
      " [ 9 10]\n",
      " [11 12]]\n"
     ]
    }
   ],
   "source": [
    "# reshape the array\n",
    "ans = x.reshape((6,2))\n",
    "print(ans)"
   ]
  },
  {
   "cell_type": "code",
   "execution_count": 43,
   "id": "faade9b4-341b-4798-a28e-08931a00dd08",
   "metadata": {},
   "outputs": [
    {
     "name": "stdout",
     "output_type": "stream",
     "text": [
      "[[ 1]\n",
      " [ 2]\n",
      " [ 3]\n",
      " [ 4]\n",
      " [ 5]\n",
      " [ 6]\n",
      " [ 7]\n",
      " [ 8]\n",
      " [ 9]\n",
      " [10]\n",
      " [11]\n",
      " [12]]\n"
     ]
    }
   ],
   "source": [
    "ans = x.reshape((12,1))\n",
    "print(ans)"
   ]
  },
  {
   "cell_type": "code",
   "execution_count": 44,
   "id": "82c6b204-4382-43a3-8f54-506d5d9405cb",
   "metadata": {},
   "outputs": [
    {
     "name": "stdout",
     "output_type": "stream",
     "text": [
      "[[1 2 3]\n",
      " [4 5 6]]\n"
     ]
    }
   ],
   "source": [
    "x = np.array([[1,2,3],[4,5,6]])\n",
    "print(x)"
   ]
  },
  {
   "cell_type": "code",
   "execution_count": 45,
   "id": "0acb5f6f-38c6-42c7-9135-16946105c7a1",
   "metadata": {},
   "outputs": [
    {
     "name": "stdout",
     "output_type": "stream",
     "text": [
      "[[1 2]\n",
      " [3 4]\n",
      " [5 6]]\n"
     ]
    }
   ],
   "source": [
    "# reshape \n",
    "print(x.reshape(3,2))"
   ]
  },
  {
   "cell_type": "code",
   "execution_count": 46,
   "id": "df6f237c-1451-47db-b8ba-2c11744248fc",
   "metadata": {},
   "outputs": [
    {
     "name": "stdout",
     "output_type": "stream",
     "text": [
      "[[1 2 3 4 5 6]]\n"
     ]
    }
   ],
   "source": [
    "print(x.reshape(1,6))"
   ]
  },
  {
   "cell_type": "code",
   "execution_count": 47,
   "id": "b0d07284-36ca-4316-9838-110d61812a4d",
   "metadata": {},
   "outputs": [
    {
     "name": "stdout",
     "output_type": "stream",
     "text": [
      "[[1]\n",
      " [2]\n",
      " [3]\n",
      " [4]\n",
      " [5]\n",
      " [6]]\n"
     ]
    }
   ],
   "source": [
    "print(x.reshape(6,1))"
   ]
  },
  {
   "cell_type": "markdown",
   "id": "d96aa6b8-3c5c-461a-a2b9-15269a3f762c",
   "metadata": {},
   "source": [
    "# DIMENSIONS OF THE ARRAY"
   ]
  },
  {
   "cell_type": "code",
   "execution_count": 53,
   "id": "9aac6102-c8e6-4330-87ed-13a40af2ba6f",
   "metadata": {},
   "outputs": [
    {
     "name": "stdout",
     "output_type": "stream",
     "text": [
      "[[1 2 3]\n",
      " [4 5 6]]\n",
      "Shape of the array is: (2, 3)\n",
      "Size of the array is: 6\n",
      "Dimensions of the array is: 2\n"
     ]
    }
   ],
   "source": [
    "import numpy as np\n",
    "x = np.array([[1,2,3],[4,5,6]])\n",
    "print(x)\n",
    "\n",
    "print(\"Shape of the array is:\", x.shape)\n",
    "print(\"Size of the array is:\", x.size)\n",
    "print(\"Dimensions of the array is:\", x.ndim)"
   ]
  },
  {
   "cell_type": "code",
   "execution_count": 56,
   "id": "6234196c-4072-4640-b540-bb2db3674ecd",
   "metadata": {},
   "outputs": [
    {
     "name": "stdout",
     "output_type": "stream",
     "text": [
      "[ 1  3  5  7  9 11 13 15 17 19]\n",
      "[[ 1  3]\n",
      " [ 5  7]\n",
      " [ 9 11]\n",
      " [13 15]\n",
      " [17 19]]\n",
      "Shape of the array is: (5, 2)\n",
      "Size of the array is: 10\n",
      "Dimensions of the array is: 2\n"
     ]
    }
   ],
   "source": [
    "x = np.arange(1,20,2)\n",
    "print(x)\n",
    "# reshape the array into the dimension of 5,2\n",
    "z = x.reshape((5,2))\n",
    "print(z)\n",
    "\n",
    "print(\"Shape of the array is:\", z.shape)\n",
    "print(\"Size of the array is:\", z.size)\n",
    "print(\"Dimensions of the array is:\", z.ndim)"
   ]
  },
  {
   "cell_type": "markdown",
   "id": "19587e78-89fb-42e5-94e9-945fc5dccd8a",
   "metadata": {},
   "source": [
    "# RETURN THE NUMBER OF ELEMENTS IN THE ARRAY"
   ]
  },
  {
   "cell_type": "code",
   "execution_count": 63,
   "id": "786e857f-054c-492e-ae20-948a8ffe017e",
   "metadata": {},
   "outputs": [
    {
     "name": "stdout",
     "output_type": "stream",
     "text": [
      "[ 1  3  5  7  9 11 13 15 17 19]\n",
      "Number of elements in the array is: 10\n",
      "Data Type of this array is: int64\n"
     ]
    }
   ],
   "source": [
    "x = np.arange(1,20,2)\n",
    "print(x)\n",
    "\n",
    "print(\"Number of elements in the array is:\", x.size)\n",
    "print(\"Data Type of this array is:\", x.dtype)"
   ]
  },
  {
   "cell_type": "code",
   "execution_count": 64,
   "id": "a12f2a30-d780-4add-bf2b-fa4fd9c81667",
   "metadata": {},
   "outputs": [
    {
     "name": "stdout",
     "output_type": "stream",
     "text": [
      "[[ 1  2  3  4]\n",
      " [ 5  6  7  8]\n",
      " [ 9 10 11 12]]\n",
      "Number of elements in the array is: 12\n",
      "Data Type of this array is: int64\n"
     ]
    }
   ],
   "source": [
    "x = np.array([[1,2,3,4],[5,6,7,8],[9,10,11,12]])\n",
    "print(x)\n",
    "\n",
    "\n",
    "print(\"Number of elements in the array is:\", x.size)\n",
    "print(\"Data Type of this array is:\", x.dtype)"
   ]
  },
  {
   "cell_type": "code",
   "execution_count": 65,
   "id": "9373cb1e-0876-49df-9964-34dcc712a5ae",
   "metadata": {},
   "outputs": [
    {
     "name": "stdout",
     "output_type": "stream",
     "text": [
      "[[1 2 3]\n",
      " [4 5 6]\n",
      " [7 8 9]]\n",
      "Number of elements in the array is: 9\n",
      "Data Type of this array is: int64\n"
     ]
    }
   ],
   "source": [
    "x = np.array([[1,2,3],[4,5,6],[7,8,9]])\n",
    "print(x)\n",
    "\n",
    "\n",
    "print(\"Number of elements in the array is:\", x.size)\n",
    "print(\"Data Type of this array is:\", x.dtype)"
   ]
  },
  {
   "cell_type": "code",
   "execution_count": 66,
   "id": "5171e728-a282-401f-aeca-3b8143d76b37",
   "metadata": {},
   "outputs": [
    {
     "name": "stdout",
     "output_type": "stream",
     "text": [
      "[10 12 14 16 18]\n",
      "Number of elements in the array is: 5\n",
      "Data Type of this array is: int64\n"
     ]
    }
   ],
   "source": [
    "a = np.arange(10,20,2)\n",
    "print(a)\n",
    "\n",
    "\n",
    "print(\"Number of elements in the array is:\", a.size)\n",
    "print(\"Data Type of this array is:\", a.dtype)"
   ]
  },
  {
   "cell_type": "code",
   "execution_count": 67,
   "id": "4ea3c330-2532-405d-a306-c757e48963ef",
   "metadata": {},
   "outputs": [
    {
     "name": "stdout",
     "output_type": "stream",
     "text": [
      "[ 0  1  2  3  4  5  6  7  8  9 10 11 12 13 14 15 16 17 18 19 20 21 22 23\n",
      " 24 25 26 27 28]\n",
      "Number of elements in the array is: 29\n",
      "Data Type of this array is: int64\n"
     ]
    }
   ],
   "source": [
    "b = np.arange(29)\n",
    "print(b)\n",
    "\n",
    "\n",
    "print(\"Number of elements in the array is:\", b.size)\n",
    "print(\"Data Type of this array is:\", b.dtype)"
   ]
  },
  {
   "cell_type": "markdown",
   "id": "69a377f8-7864-40d3-806d-cb1cb2a6a122",
   "metadata": {},
   "source": [
    "# INDEXING AND SLICING IN NUMPY ARRAY"
   ]
  },
  {
   "cell_type": "code",
   "execution_count": 68,
   "id": "8cf16b8e-cbd3-4358-b963-0e5877c6b565",
   "metadata": {},
   "outputs": [
    {
     "name": "stdout",
     "output_type": "stream",
     "text": [
      "['m', 'o', 'n', 't', 'y', '', 'p', 'y', 't', 'h', 'o', 'n']\n"
     ]
    }
   ],
   "source": [
    "a = ['m','o','n','t','y','','p','y','t','h','o','n']\n",
    "print(a)"
   ]
  },
  {
   "cell_type": "code",
   "execution_count": 70,
   "id": "bee42ed7-95bf-40bb-a4e9-864f6a252f13",
   "metadata": {},
   "outputs": [
    {
     "name": "stdout",
     "output_type": "stream",
     "text": [
      "['m', 'o', 'n', 't', 'y']\n",
      "['p', 'y', 't', 'h', 'o', 'n']\n"
     ]
    }
   ],
   "source": [
    "print(a[0:5])\n",
    "print(a[6:])"
   ]
  },
  {
   "cell_type": "code",
   "execution_count": 71,
   "id": "ef1c2b84-0839-44d2-b117-a1fa24e929ae",
   "metadata": {},
   "outputs": [
    {
     "name": "stdout",
     "output_type": "stream",
     "text": [
      "[[1 2 3]\n",
      " [4 5 6]\n",
      " [7 8 9]]\n"
     ]
    }
   ],
   "source": [
    "x = np.array([[1,2,3],[4,5,6],[7,8,9]])\n",
    "print(x)"
   ]
  },
  {
   "cell_type": "code",
   "execution_count": 77,
   "id": "d981284b-370a-4888-a68e-8086e8478ffb",
   "metadata": {},
   "outputs": [
    {
     "name": "stdout",
     "output_type": "stream",
     "text": [
      "[[1 2 3]]\n",
      "[[2 3]]\n",
      "[[2 3]\n",
      " [5 6]]\n",
      "[[5 6]\n",
      " [8 9]]\n"
     ]
    }
   ],
   "source": [
    "print(x[0:1,0:3])\n",
    "print(x[0:1,1:3])\n",
    "print(x[0:2,1:3])\n",
    "print(x[1:3,1:])"
   ]
  },
  {
   "cell_type": "code",
   "execution_count": null,
   "id": "179ebe21-f683-496c-94f2-0fb74a74f9ad",
   "metadata": {},
   "outputs": [],
   "source": []
  }
 ],
 "metadata": {
  "kernelspec": {
   "display_name": "Python 3 (ipykernel)",
   "language": "python",
   "name": "python3"
  },
  "language_info": {
   "codemirror_mode": {
    "name": "ipython",
    "version": 3
   },
   "file_extension": ".py",
   "mimetype": "text/x-python",
   "name": "python",
   "nbconvert_exporter": "python",
   "pygments_lexer": "ipython3",
   "version": "3.10.8"
  }
 },
 "nbformat": 4,
 "nbformat_minor": 5
}
