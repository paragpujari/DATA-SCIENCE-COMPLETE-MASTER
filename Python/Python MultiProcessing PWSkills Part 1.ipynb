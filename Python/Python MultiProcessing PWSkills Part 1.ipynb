{
 "cells": [
  {
   "cell_type": "markdown",
   "id": "4ddb61fe-7a02-4262-8bb0-9008f777f419",
   "metadata": {},
   "source": [
    "# MULTIPROCESSING\n",
    "Running multiple programs in multiple processors is called MultiProcessing"
   ]
  },
  {
   "cell_type": "code",
   "execution_count": 1,
   "id": "005f88f6-78db-46d1-8647-b0cac37e5dca",
   "metadata": {},
   "outputs": [],
   "source": [
    "import multiprocessing"
   ]
  },
  {
   "cell_type": "code",
   "execution_count": 2,
   "id": "e5f29475-22e0-4a02-96b4-77e969a569a0",
   "metadata": {},
   "outputs": [
    {
     "name": "stdout",
     "output_type": "stream",
     "text": [
      "This is my main process\n",
      "This is my multiprocessing child program\n"
     ]
    }
   ],
   "source": [
    "def test():\n",
    "    print(\"This is my multiprocessing child program\")\n",
    "    \n",
    "# main process\n",
    "if __name__ == \"__main__\":\n",
    "    # to create the object for the child process\n",
    "    m = multiprocessing.Process(target = test)\n",
    "    print(\"This is my main process\")\n",
    "    # start the child process\n",
    "    m.start()\n",
    "    # wait until child process terminates and after than the child process gets terminated\n",
    "    m.join()"
   ]
  },
  {
   "cell_type": "code",
   "execution_count": 3,
   "id": "131d2037-c655-41bd-ae2a-4f116c5f74ec",
   "metadata": {},
   "outputs": [
    {
     "name": "stdout",
     "output_type": "stream",
     "text": [
      "This is my multiprocessing child program\n"
     ]
    }
   ],
   "source": [
    "test()"
   ]
  },
  {
   "cell_type": "code",
   "execution_count": 4,
   "id": "02c88b30-c0cd-449e-b0ce-1fd253f8fef9",
   "metadata": {},
   "outputs": [],
   "source": [
    "def text():    # child function\n",
    "    print(\"This is my text for the child process which is to be send:\")"
   ]
  },
  {
   "cell_type": "code",
   "execution_count": 5,
   "id": "0f6c650b-dc32-4983-8d2f-199694a7f44f",
   "metadata": {},
   "outputs": [
    {
     "name": "stdout",
     "output_type": "stream",
     "text": [
      "This is my main process which is to be printed\n",
      "This is my text for the child process which is to be send:\n"
     ]
    }
   ],
   "source": [
    "# main function\n",
    "\n",
    "# main function controlles all the programs in the python module\n",
    "if __name__ == \"__main__\":\n",
    "    # object for the child process\n",
    "    m = multiprocessing.Process(target = text)\n",
    "    print(\"This is my main process which is to be printed\")\n",
    "    # start the child process\n",
    "    m.start()\n",
    "    # wait until the child process gets terminated\n",
    "    m.join()"
   ]
  },
  {
   "cell_type": "code",
   "execution_count": 6,
   "id": "fc5a1eed-f2da-420f-872a-d3bff195a586",
   "metadata": {},
   "outputs": [
    {
     "name": "stdout",
     "output_type": "stream",
     "text": [
      "[9, 16, 25, 36, 36, 49, 7569, 64, 64]\n"
     ]
    }
   ],
   "source": [
    "# Print the square of the numbers using multiprocessing\n",
    "def square(n):\n",
    "    return(n ** 2)\n",
    "\n",
    "if __name__ == \"__main__\":\n",
    "    with multiprocessing.Pool(processes = 5) as pool:\n",
    "        oul = pool.map(square, [3,4,5,6,6,7,87,8,8])\n",
    "        print(oul)"
   ]
  },
  {
   "cell_type": "code",
   "execution_count": null,
   "id": "766214de-735b-4db9-a10e-990c50e0ab56",
   "metadata": {},
   "outputs": [
    {
     "name": "stdout",
     "output_type": "stream",
     "text": [
      "3\n",
      "4\n",
      "5\n",
      "6\n",
      "6\n",
      "7\n",
      "87\n",
      "8\n",
      "8\n",
      "xyz\n"
     ]
    }
   ],
   "source": [
    "# write a program to put all the data in a queue and extract the elements from the queue using multiprocessing\n",
    "\n",
    "import multiprocessing\n",
    "\n",
    "# define the function for producer\n",
    "def producer(q):\n",
    "    for i in [3,4,5,6,6,7,87,8,8]:\n",
    "        # put all the elements in the queue\n",
    "        q.put(i)\n",
    "        \n",
    "# define the function for consumer\n",
    "def consumer(q):\n",
    "    # if all the elements are there in the queue\n",
    "    while(True):\n",
    "        # extract the elements from the queue\n",
    "        item = q.get()\n",
    "        if(item == None):\n",
    "            break\n",
    "        print(item)\n",
    "        \n",
    "        \n",
    "# main program\n",
    "if __name__ == \"__main__\":\n",
    "    # To create the object for child process\n",
    "    Queue = multiprocessing.Queue()\n",
    "    # create the object for the process\n",
    "    m1 = multiprocessing.Process(target = producer, args = (Queue,))\n",
    "    m2 = multiprocessing.Process(target = consumer, args = (Queue,))\n",
    "    \n",
    "    # start the sub processes\n",
    "    m1.start()\n",
    "    m2.start()\n",
    "    \n",
    "    Queue.put(\"xyz\")\n",
    "    \n",
    "    # wait till the process gets compelted\n",
    "    m1.join()\n",
    "    m2.join()"
   ]
  },
  {
   "cell_type": "code",
   "execution_count": null,
   "id": "836060f9-8349-448c-8313-3947b2a15e65",
   "metadata": {},
   "outputs": [],
   "source": []
  },
  {
   "cell_type": "code",
   "execution_count": null,
   "id": "de7b4d3c-45b5-41c9-bc0e-eff3a081b3ba",
   "metadata": {},
   "outputs": [],
   "source": []
  },
  {
   "cell_type": "code",
   "execution_count": null,
   "id": "9a88d1df-bc2d-442e-980d-c07dc49facee",
   "metadata": {},
   "outputs": [],
   "source": []
  },
  {
   "cell_type": "code",
   "execution_count": null,
   "id": "07a6e093-982d-475e-b931-ed3aecff595c",
   "metadata": {},
   "outputs": [],
   "source": []
  }
 ],
 "metadata": {
  "kernelspec": {
   "display_name": "Python 3 (ipykernel)",
   "language": "python",
   "name": "python3"
  },
  "language_info": {
   "codemirror_mode": {
    "name": "ipython",
    "version": 3
   },
   "file_extension": ".py",
   "mimetype": "text/x-python",
   "name": "python",
   "nbconvert_exporter": "python",
   "pygments_lexer": "ipython3",
   "version": "3.10.8"
  }
 },
 "nbformat": 4,
 "nbformat_minor": 5
}
