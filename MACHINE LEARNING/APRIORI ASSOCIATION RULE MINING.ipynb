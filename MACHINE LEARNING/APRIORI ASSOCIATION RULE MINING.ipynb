{
 "cells": [
  {
   "cell_type": "code",
   "execution_count": 1,
   "id": "9511a1b7",
   "metadata": {},
   "outputs": [],
   "source": [
    "# import all the necessary libraries\n",
    "import pandas as pd\n",
    "import numpy as np\n",
    "import matplotlib.pyplot as plt\n",
    "%matplotlib inline\n",
    "from mlxtend.preprocessing import TransactionEncoder"
   ]
  },
  {
   "cell_type": "code",
   "execution_count": 2,
   "id": "c8c7f2f2",
   "metadata": {},
   "outputs": [],
   "source": [
    "# load the dataset\n",
    "data = [['Milk','Onion','Nutneg', 'Kidney Beans', 'Eggs', 'Yogurt'],\n",
    "        ['Dill','Onion','Nutneg', 'Kidney Beans', 'Eggs', 'Yogurt'],\n",
    "        ['Milk', 'Apple','Kidney Beans', 'Eggs'],\n",
    "        ['Milk','Unicorn','Corn', 'Kidney Beans','Yogurt'],\n",
    "        ['Corn','Onion','Onion','Kidney Beans', 'Ice cream', 'Eggs']]"
   ]
  },
  {
   "cell_type": "code",
   "execution_count": 3,
   "id": "10476ed9",
   "metadata": {},
   "outputs": [
    {
     "name": "stdout",
     "output_type": "stream",
     "text": [
      "[['Milk', 'Onion', 'Nutneg', 'Kidney Beans', 'Eggs', 'Yogurt'], ['Dill', 'Onion', 'Nutneg', 'Kidney Beans', 'Eggs', 'Yogurt'], ['Milk', 'Apple', 'Kidney Beans', 'Eggs'], ['Milk', 'Unicorn', 'Corn', 'Kidney Beans', 'Yogurt'], ['Corn', 'Onion', 'Onion', 'Kidney Beans', 'Ice cream', 'Eggs']]\n"
     ]
    }
   ],
   "source": [
    "print(data)"
   ]
  },
  {
   "cell_type": "code",
   "execution_count": 4,
   "id": "a4ff4c54",
   "metadata": {},
   "outputs": [],
   "source": [
    "# call the object for Transaction Encoder\n",
    "te = TransactionEncoder()\n",
    "\n",
    "# train and transform the  dataset\n",
    "tr_transform = te.fit(data).transform(data)"
   ]
  },
  {
   "cell_type": "code",
   "execution_count": 5,
   "id": "2dbeac2e",
   "metadata": {},
   "outputs": [
    {
     "name": "stdout",
     "output_type": "stream",
     "text": [
      "[[False False False  True False  True  True  True  True False  True]\n",
      " [False False  True  True False  True False  True  True False  True]\n",
      " [ True False False  True False  True  True False False False False]\n",
      " [False  True False False False  True  True False False  True  True]\n",
      " [False  True False  True  True  True False False  True False False]]\n"
     ]
    }
   ],
   "source": [
    "print(tr_transform)"
   ]
  },
  {
   "cell_type": "code",
   "execution_count": 6,
   "id": "b89b19db",
   "metadata": {},
   "outputs": [
    {
     "name": "stdout",
     "output_type": "stream",
     "text": [
      "   Apple   Corn   Dill   Eggs  Ice cream  Kidney Beans   Milk  Nutneg  Onion  \\\n",
      "0  False  False  False   True      False          True   True    True   True   \n",
      "1  False  False   True   True      False          True  False    True   True   \n",
      "2   True  False  False   True      False          True   True   False  False   \n",
      "3  False   True  False  False      False          True   True   False  False   \n",
      "4  False   True  False   True       True          True  False   False   True   \n",
      "\n",
      "   Unicorn  Yogurt  \n",
      "0    False    True  \n",
      "1    False    True  \n",
      "2    False   False  \n",
      "3     True    True  \n",
      "4    False   False  \n"
     ]
    }
   ],
   "source": [
    "# convert the transformed data into the dataframe\n",
    "df = pd.DataFrame(tr_transform, columns = te.columns_)\n",
    "print(df)"
   ]
  },
  {
   "cell_type": "markdown",
   "id": "e82051f7",
   "metadata": {},
   "source": [
    "# APRIORI ALGORITHM"
   ]
  },
  {
   "cell_type": "code",
   "execution_count": 15,
   "id": "4be389f4",
   "metadata": {},
   "outputs": [
    {
     "name": "stdout",
     "output_type": "stream",
     "text": [
      "    support                     itemsets\n",
      "0       0.8                       (Eggs)\n",
      "1       1.0               (Kidney Beans)\n",
      "2       0.6                       (Milk)\n",
      "3       0.6                      (Onion)\n",
      "4       0.6                     (Yogurt)\n",
      "5       0.8         (Eggs, Kidney Beans)\n",
      "6       0.6                (Eggs, Onion)\n",
      "7       0.6         (Kidney Beans, Milk)\n",
      "8       0.6        (Onion, Kidney Beans)\n",
      "9       0.6       (Kidney Beans, Yogurt)\n",
      "10      0.6  (Eggs, Onion, Kidney Beans)\n"
     ]
    }
   ],
   "source": [
    "# To generate the frequent items fromthe dataset\n",
    "from mlxtend.frequent_patterns import apriori\n",
    "\n",
    "frequent_items = apriori(df, min_support = 0.6,  use_colnames = True)\n",
    "print(frequent_items)"
   ]
  },
  {
   "cell_type": "code",
   "execution_count": 18,
   "id": "710707ba",
   "metadata": {},
   "outputs": [],
   "source": [
    "# To generate the associative rules from the frequent item sets\n",
    "from mlxtend.frequent_patterns import association_rules"
   ]
  },
  {
   "cell_type": "code",
   "execution_count": 19,
   "id": "d6b6086d",
   "metadata": {},
   "outputs": [
    {
     "name": "stdout",
     "output_type": "stream",
     "text": [
      "              antecedents            consequents  antecedent support  \\\n",
      "0                  (Eggs)         (Kidney Beans)                 0.8   \n",
      "1          (Kidney Beans)                 (Eggs)                 1.0   \n",
      "2                  (Eggs)                (Onion)                 0.8   \n",
      "3                 (Onion)                 (Eggs)                 0.6   \n",
      "4                  (Milk)         (Kidney Beans)                 0.6   \n",
      "5                 (Onion)         (Kidney Beans)                 0.6   \n",
      "6                (Yogurt)         (Kidney Beans)                 0.6   \n",
      "7           (Eggs, Onion)         (Kidney Beans)                 0.6   \n",
      "8    (Eggs, Kidney Beans)                (Onion)                 0.8   \n",
      "9   (Onion, Kidney Beans)                 (Eggs)                 0.6   \n",
      "10                 (Eggs)  (Onion, Kidney Beans)                 0.8   \n",
      "11                (Onion)   (Eggs, Kidney Beans)                 0.6   \n",
      "\n",
      "    consequent support  support  confidence  lift  leverage  conviction  \\\n",
      "0                  1.0      0.8        1.00  1.00      0.00         inf   \n",
      "1                  0.8      0.8        0.80  1.00      0.00         1.0   \n",
      "2                  0.6      0.6        0.75  1.25      0.12         1.6   \n",
      "3                  0.8      0.6        1.00  1.25      0.12         inf   \n",
      "4                  1.0      0.6        1.00  1.00      0.00         inf   \n",
      "5                  1.0      0.6        1.00  1.00      0.00         inf   \n",
      "6                  1.0      0.6        1.00  1.00      0.00         inf   \n",
      "7                  1.0      0.6        1.00  1.00      0.00         inf   \n",
      "8                  0.6      0.6        0.75  1.25      0.12         1.6   \n",
      "9                  0.8      0.6        1.00  1.25      0.12         inf   \n",
      "10                 0.6      0.6        0.75  1.25      0.12         1.6   \n",
      "11                 0.8      0.6        1.00  1.25      0.12         inf   \n",
      "\n",
      "    zhangs_metric  \n",
      "0             0.0  \n",
      "1             0.0  \n",
      "2             1.0  \n",
      "3             0.5  \n",
      "4             0.0  \n",
      "5             0.0  \n",
      "6             0.0  \n",
      "7             0.0  \n",
      "8             1.0  \n",
      "9             0.5  \n",
      "10            1.0  \n",
      "11            0.5  \n"
     ]
    }
   ],
   "source": [
    "rules = association_rules(frequent_items, metric = 'confidence', min_threshold = 0.7)\n",
    "print(rules)"
   ]
  },
  {
   "cell_type": "code",
   "execution_count": 20,
   "id": "c853d668",
   "metadata": {},
   "outputs": [
    {
     "data": {
      "text/html": [
       "<div>\n",
       "<style scoped>\n",
       "    .dataframe tbody tr th:only-of-type {\n",
       "        vertical-align: middle;\n",
       "    }\n",
       "\n",
       "    .dataframe tbody tr th {\n",
       "        vertical-align: top;\n",
       "    }\n",
       "\n",
       "    .dataframe thead th {\n",
       "        text-align: right;\n",
       "    }\n",
       "</style>\n",
       "<table border=\"1\" class=\"dataframe\">\n",
       "  <thead>\n",
       "    <tr style=\"text-align: right;\">\n",
       "      <th></th>\n",
       "      <th>antecedents</th>\n",
       "      <th>consequents</th>\n",
       "      <th>support</th>\n",
       "      <th>confidence</th>\n",
       "      <th>lift</th>\n",
       "    </tr>\n",
       "  </thead>\n",
       "  <tbody>\n",
       "    <tr>\n",
       "      <th>0</th>\n",
       "      <td>(Eggs)</td>\n",
       "      <td>(Kidney Beans)</td>\n",
       "      <td>0.8</td>\n",
       "      <td>1.00</td>\n",
       "      <td>1.00</td>\n",
       "    </tr>\n",
       "    <tr>\n",
       "      <th>1</th>\n",
       "      <td>(Kidney Beans)</td>\n",
       "      <td>(Eggs)</td>\n",
       "      <td>0.8</td>\n",
       "      <td>0.80</td>\n",
       "      <td>1.00</td>\n",
       "    </tr>\n",
       "    <tr>\n",
       "      <th>2</th>\n",
       "      <td>(Eggs)</td>\n",
       "      <td>(Onion)</td>\n",
       "      <td>0.6</td>\n",
       "      <td>0.75</td>\n",
       "      <td>1.25</td>\n",
       "    </tr>\n",
       "    <tr>\n",
       "      <th>3</th>\n",
       "      <td>(Onion)</td>\n",
       "      <td>(Eggs)</td>\n",
       "      <td>0.6</td>\n",
       "      <td>1.00</td>\n",
       "      <td>1.25</td>\n",
       "    </tr>\n",
       "    <tr>\n",
       "      <th>4</th>\n",
       "      <td>(Milk)</td>\n",
       "      <td>(Kidney Beans)</td>\n",
       "      <td>0.6</td>\n",
       "      <td>1.00</td>\n",
       "      <td>1.00</td>\n",
       "    </tr>\n",
       "    <tr>\n",
       "      <th>5</th>\n",
       "      <td>(Onion)</td>\n",
       "      <td>(Kidney Beans)</td>\n",
       "      <td>0.6</td>\n",
       "      <td>1.00</td>\n",
       "      <td>1.00</td>\n",
       "    </tr>\n",
       "    <tr>\n",
       "      <th>6</th>\n",
       "      <td>(Yogurt)</td>\n",
       "      <td>(Kidney Beans)</td>\n",
       "      <td>0.6</td>\n",
       "      <td>1.00</td>\n",
       "      <td>1.00</td>\n",
       "    </tr>\n",
       "    <tr>\n",
       "      <th>7</th>\n",
       "      <td>(Eggs, Onion)</td>\n",
       "      <td>(Kidney Beans)</td>\n",
       "      <td>0.6</td>\n",
       "      <td>1.00</td>\n",
       "      <td>1.00</td>\n",
       "    </tr>\n",
       "    <tr>\n",
       "      <th>8</th>\n",
       "      <td>(Eggs, Kidney Beans)</td>\n",
       "      <td>(Onion)</td>\n",
       "      <td>0.6</td>\n",
       "      <td>0.75</td>\n",
       "      <td>1.25</td>\n",
       "    </tr>\n",
       "    <tr>\n",
       "      <th>9</th>\n",
       "      <td>(Onion, Kidney Beans)</td>\n",
       "      <td>(Eggs)</td>\n",
       "      <td>0.6</td>\n",
       "      <td>1.00</td>\n",
       "      <td>1.25</td>\n",
       "    </tr>\n",
       "    <tr>\n",
       "      <th>10</th>\n",
       "      <td>(Eggs)</td>\n",
       "      <td>(Onion, Kidney Beans)</td>\n",
       "      <td>0.6</td>\n",
       "      <td>0.75</td>\n",
       "      <td>1.25</td>\n",
       "    </tr>\n",
       "    <tr>\n",
       "      <th>11</th>\n",
       "      <td>(Onion)</td>\n",
       "      <td>(Eggs, Kidney Beans)</td>\n",
       "      <td>0.6</td>\n",
       "      <td>1.00</td>\n",
       "      <td>1.25</td>\n",
       "    </tr>\n",
       "  </tbody>\n",
       "</table>\n",
       "</div>"
      ],
      "text/plain": [
       "              antecedents            consequents  support  confidence  lift\n",
       "0                  (Eggs)         (Kidney Beans)      0.8        1.00  1.00\n",
       "1          (Kidney Beans)                 (Eggs)      0.8        0.80  1.00\n",
       "2                  (Eggs)                (Onion)      0.6        0.75  1.25\n",
       "3                 (Onion)                 (Eggs)      0.6        1.00  1.25\n",
       "4                  (Milk)         (Kidney Beans)      0.6        1.00  1.00\n",
       "5                 (Onion)         (Kidney Beans)      0.6        1.00  1.00\n",
       "6                (Yogurt)         (Kidney Beans)      0.6        1.00  1.00\n",
       "7           (Eggs, Onion)         (Kidney Beans)      0.6        1.00  1.00\n",
       "8    (Eggs, Kidney Beans)                (Onion)      0.6        0.75  1.25\n",
       "9   (Onion, Kidney Beans)                 (Eggs)      0.6        1.00  1.25\n",
       "10                 (Eggs)  (Onion, Kidney Beans)      0.6        0.75  1.25\n",
       "11                (Onion)   (Eggs, Kidney Beans)      0.6        1.00  1.25"
      ]
     },
     "execution_count": 20,
     "metadata": {},
     "output_type": "execute_result"
    }
   ],
   "source": [
    "# filter out only antecedents, consequent, support, confidence , lift\n",
    "rules[['antecedents','consequents','support','confidence','lift']]"
   ]
  },
  {
   "cell_type": "code",
   "execution_count": 25,
   "id": "025681e6",
   "metadata": {},
   "outputs": [],
   "source": [
    "# filter out all the records whose confidence >= 1.0\n",
    "results = rules[rules['confidence'] >= 1.00]"
   ]
  },
  {
   "cell_type": "code",
   "execution_count": 26,
   "id": "11f55e5c",
   "metadata": {},
   "outputs": [
    {
     "name": "stdout",
     "output_type": "stream",
     "text": [
      "              antecedents           consequents  antecedent support  \\\n",
      "0                  (Eggs)        (Kidney Beans)                 0.8   \n",
      "3                 (Onion)                (Eggs)                 0.6   \n",
      "4                  (Milk)        (Kidney Beans)                 0.6   \n",
      "5                 (Onion)        (Kidney Beans)                 0.6   \n",
      "6                (Yogurt)        (Kidney Beans)                 0.6   \n",
      "7           (Eggs, Onion)        (Kidney Beans)                 0.6   \n",
      "9   (Onion, Kidney Beans)                (Eggs)                 0.6   \n",
      "11                (Onion)  (Eggs, Kidney Beans)                 0.6   \n",
      "\n",
      "    consequent support  support  confidence  lift  leverage  conviction  \\\n",
      "0                  1.0      0.8         1.0  1.00      0.00         inf   \n",
      "3                  0.8      0.6         1.0  1.25      0.12         inf   \n",
      "4                  1.0      0.6         1.0  1.00      0.00         inf   \n",
      "5                  1.0      0.6         1.0  1.00      0.00         inf   \n",
      "6                  1.0      0.6         1.0  1.00      0.00         inf   \n",
      "7                  1.0      0.6         1.0  1.00      0.00         inf   \n",
      "9                  0.8      0.6         1.0  1.25      0.12         inf   \n",
      "11                 0.8      0.6         1.0  1.25      0.12         inf   \n",
      "\n",
      "    zhangs_metric  \n",
      "0             0.0  \n",
      "3             0.5  \n",
      "4             0.0  \n",
      "5             0.0  \n",
      "6             0.0  \n",
      "7             0.0  \n",
      "9             0.5  \n",
      "11            0.5  \n"
     ]
    }
   ],
   "source": [
    "print(results)"
   ]
  },
  {
   "cell_type": "code",
   "execution_count": null,
   "id": "919e5abd",
   "metadata": {},
   "outputs": [],
   "source": []
  }
 ],
 "metadata": {
  "kernelspec": {
   "display_name": "Python 3 (ipykernel)",
   "language": "python",
   "name": "python3"
  },
  "language_info": {
   "codemirror_mode": {
    "name": "ipython",
    "version": 3
   },
   "file_extension": ".py",
   "mimetype": "text/x-python",
   "name": "python",
   "nbconvert_exporter": "python",
   "pygments_lexer": "ipython3",
   "version": "3.11.4"
  }
 },
 "nbformat": 4,
 "nbformat_minor": 5
}
