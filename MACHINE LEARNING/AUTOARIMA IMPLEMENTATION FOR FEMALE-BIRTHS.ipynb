{
 "cells": [
  {
   "cell_type": "code",
   "execution_count": 10,
   "id": "6fdb3099",
   "metadata": {},
   "outputs": [],
   "source": [
    "# import all the necessary libraries\n",
    "\n",
    "import numpy as np\n",
    "import pandas as pd\n",
    "import matplotlib.pyplot as plt\n",
    "%matplotlib inline"
   ]
  },
  {
   "cell_type": "code",
   "execution_count": 11,
   "id": "33bd5383",
   "metadata": {},
   "outputs": [],
   "source": [
    "# load the dataset\n",
    "data = pd.read_csv('female-births.csv', index_col = 'Date', parse_dates = True)\n",
    "data.index.freq = 'D'"
   ]
  },
  {
   "cell_type": "code",
   "execution_count": 12,
   "id": "d9dfdbe1",
   "metadata": {},
   "outputs": [
    {
     "name": "stdout",
     "output_type": "stream",
     "text": [
      "            Births\n",
      "Date              \n",
      "1959-01-01      35\n",
      "1959-01-02      32\n",
      "1959-01-03      30\n",
      "1959-01-04      31\n",
      "1959-01-05      44\n",
      "...            ...\n",
      "1959-12-27      37\n",
      "1959-12-28      52\n",
      "1959-12-29      48\n",
      "1959-12-30      55\n",
      "1959-12-31      50\n",
      "\n",
      "[365 rows x 1 columns]\n"
     ]
    }
   ],
   "source": [
    "print(data)"
   ]
  },
  {
   "cell_type": "code",
   "execution_count": 13,
   "id": "a1e8cd2e",
   "metadata": {},
   "outputs": [
    {
     "name": "stdout",
     "output_type": "stream",
     "text": [
      "DatetimeIndex(['1959-01-01', '1959-01-02', '1959-01-03', '1959-01-04',\n",
      "               '1959-01-05', '1959-01-06', '1959-01-07', '1959-01-08',\n",
      "               '1959-01-09', '1959-01-10',\n",
      "               ...\n",
      "               '1959-12-22', '1959-12-23', '1959-12-24', '1959-12-25',\n",
      "               '1959-12-26', '1959-12-27', '1959-12-28', '1959-12-29',\n",
      "               '1959-12-30', '1959-12-31'],\n",
      "              dtype='datetime64[ns]', name='Date', length=365, freq='D')\n"
     ]
    }
   ],
   "source": [
    "# display all the indexes of the dataset\n",
    "print(data.index)"
   ]
  },
  {
   "cell_type": "code",
   "execution_count": 14,
   "id": "22bfe3d5",
   "metadata": {},
   "outputs": [
    {
     "name": "stdout",
     "output_type": "stream",
     "text": [
      "            Births\n",
      "Date              \n",
      "1959-01-01      35\n",
      "1959-01-02      32\n",
      "1959-01-03      30\n",
      "1959-01-04      31\n",
      "1959-01-05      44\n"
     ]
    }
   ],
   "source": [
    "# display the first five rows of the dataset\n",
    "print(data.head())"
   ]
  },
  {
   "cell_type": "code",
   "execution_count": 15,
   "id": "87b9a707",
   "metadata": {},
   "outputs": [
    {
     "name": "stdout",
     "output_type": "stream",
     "text": [
      "(365, 1)\n"
     ]
    }
   ],
   "source": [
    "# size of the dataset\n",
    "print(data.shape)"
   ]
  },
  {
   "cell_type": "code",
   "execution_count": 16,
   "id": "7b3e73e6",
   "metadata": {},
   "outputs": [
    {
     "name": "stdout",
     "output_type": "stream",
     "text": [
      "Births    0\n",
      "dtype: int64\n"
     ]
    }
   ],
   "source": [
    "# To check if any NULL Values are present in the dataset\n",
    "print(data.isnull().sum())"
   ]
  },
  {
   "cell_type": "markdown",
   "id": "9c126d27",
   "metadata": {},
   "source": [
    "# So from the above observation, it is clear that there are no NULL Values in the dataset"
   ]
  },
  {
   "cell_type": "code",
   "execution_count": 19,
   "id": "e1138a6c",
   "metadata": {},
   "outputs": [],
   "source": [
    "# ignore all unnecessary warnings\n",
    "import warnings\n",
    "warnings.filterwarnings(\"ignore\")"
   ]
  },
  {
   "cell_type": "markdown",
   "id": "03d790db",
   "metadata": {},
   "source": [
    "# AUTOARIMA FOR FEMALE BIRTHS"
   ]
  },
  {
   "cell_type": "code",
   "execution_count": 21,
   "id": "1c1cb110",
   "metadata": {},
   "outputs": [],
   "source": [
    "from pmdarima import auto_arima"
   ]
  },
  {
   "cell_type": "code",
   "execution_count": 22,
   "id": "3fbed03a",
   "metadata": {},
   "outputs": [
    {
     "name": "stdout",
     "output_type": "stream",
     "text": [
      "Performing stepwise search to minimize aic\n",
      " ARIMA(1,0,1)(0,1,1)[12] intercept   : AIC=inf, Time=1.36 sec\n",
      " ARIMA(0,0,0)(0,1,0)[12] intercept   : AIC=2662.069, Time=0.03 sec\n",
      " ARIMA(1,0,0)(1,1,0)[12] intercept   : AIC=2530.513, Time=0.29 sec\n",
      " ARIMA(0,0,1)(0,1,1)[12] intercept   : AIC=inf, Time=0.83 sec\n",
      " ARIMA(0,0,0)(0,1,0)[12]             : AIC=2660.366, Time=0.03 sec\n",
      " ARIMA(1,0,0)(0,1,0)[12] intercept   : AIC=2653.014, Time=0.07 sec\n",
      " ARIMA(1,0,0)(2,1,0)[12] intercept   : AIC=2483.445, Time=1.81 sec\n",
      " ARIMA(1,0,0)(2,1,1)[12] intercept   : AIC=inf, Time=1.85 sec\n",
      " ARIMA(1,0,0)(1,1,1)[12] intercept   : AIC=inf, Time=0.63 sec\n",
      " ARIMA(0,0,0)(2,1,0)[12] intercept   : AIC=2492.040, Time=2.28 sec\n",
      " ARIMA(2,0,0)(2,1,0)[12] intercept   : AIC=2484.558, Time=1.26 sec\n",
      " ARIMA(1,0,1)(2,1,0)[12] intercept   : AIC=2484.848, Time=1.47 sec\n",
      " ARIMA(0,0,1)(2,1,0)[12] intercept   : AIC=2484.730, Time=1.72 sec\n",
      " ARIMA(2,0,1)(2,1,0)[12] intercept   : AIC=2486.114, Time=2.97 sec\n",
      " ARIMA(1,0,0)(2,1,0)[12]             : AIC=2481.941, Time=0.41 sec\n",
      " ARIMA(1,0,0)(1,1,0)[12]             : AIC=2528.802, Time=0.14 sec\n",
      " ARIMA(1,0,0)(2,1,1)[12]             : AIC=2435.059, Time=1.86 sec\n",
      " ARIMA(1,0,0)(1,1,1)[12]             : AIC=2433.134, Time=0.44 sec\n",
      " ARIMA(1,0,0)(0,1,1)[12]             : AIC=inf, Time=0.18 sec\n",
      " ARIMA(1,0,0)(1,1,2)[12]             : AIC=2435.085, Time=1.81 sec\n",
      " ARIMA(1,0,0)(0,1,0)[12]             : AIC=2651.246, Time=0.05 sec\n",
      " ARIMA(1,0,0)(0,1,2)[12]             : AIC=2433.099, Time=0.98 sec\n",
      " ARIMA(0,0,0)(0,1,2)[12]             : AIC=2444.268, Time=0.70 sec\n",
      " ARIMA(2,0,0)(0,1,2)[12]             : AIC=2431.405, Time=1.43 sec\n",
      " ARIMA(2,0,0)(0,1,1)[12]             : AIC=inf, Time=0.34 sec\n",
      " ARIMA(2,0,0)(1,1,2)[12]             : AIC=2433.395, Time=1.89 sec\n",
      " ARIMA(2,0,0)(1,1,1)[12]             : AIC=2431.580, Time=0.58 sec\n",
      " ARIMA(3,0,0)(0,1,2)[12]             : AIC=2433.355, Time=1.99 sec\n",
      " ARIMA(2,0,1)(0,1,2)[12]             : AIC=inf, Time=3.07 sec\n",
      " ARIMA(1,0,1)(0,1,2)[12]             : AIC=inf, Time=1.78 sec\n",
      " ARIMA(3,0,1)(0,1,2)[12]             : AIC=inf, Time=4.24 sec\n",
      " ARIMA(2,0,0)(0,1,2)[12] intercept   : AIC=inf, Time=1.73 sec\n",
      "\n",
      "Best model:  ARIMA(2,0,0)(0,1,2)[12]          \n",
      "Total fit time: 40.231 seconds\n"
     ]
    }
   ],
   "source": [
    "stepwise_auto = auto_arima(data['Births'],\n",
    "                          start_p = 1, start_q = 1, max_p = 3, max_q = 3, m = 12,\n",
    "                          start_P = 0, seasonal = True,\n",
    "                          d = None, D = 1, trace = True,\n",
    "                          error_action = 'ignore',\n",
    "                          suppress_warnings = True,\n",
    "                          stepwise = True)"
   ]
  },
  {
   "cell_type": "code",
   "execution_count": 23,
   "id": "5a7e0511",
   "metadata": {},
   "outputs": [
    {
     "data": {
      "text/html": [
       "<table class=\"simpletable\">\n",
       "<caption>SARIMAX Results</caption>\n",
       "<tr>\n",
       "  <th>Dep. Variable:</th>                    <td>y</td>                  <th>  No. Observations:  </th>    <td>365</td>   \n",
       "</tr>\n",
       "<tr>\n",
       "  <th>Model:</th>           <td>SARIMAX(2, 0, 0)x(0, 1, [1, 2], 12)</td> <th>  Log Likelihood     </th> <td>-1210.703</td>\n",
       "</tr>\n",
       "<tr>\n",
       "  <th>Date:</th>                     <td>Fri, 30 Jun 2023</td>           <th>  AIC                </th> <td>2431.405</td> \n",
       "</tr>\n",
       "<tr>\n",
       "  <th>Time:</th>                         <td>17:16:58</td>               <th>  BIC                </th> <td>2450.738</td> \n",
       "</tr>\n",
       "<tr>\n",
       "  <th>Sample:</th>                      <td>01-01-1959</td>              <th>  HQIC               </th> <td>2439.098</td> \n",
       "</tr>\n",
       "<tr>\n",
       "  <th></th>                            <td>- 12-31-1959</td>             <th>                     </th>     <td> </td>    \n",
       "</tr>\n",
       "<tr>\n",
       "  <th>Covariance Type:</th>                 <td>opg</td>                 <th>                     </th>     <td> </td>    \n",
       "</tr>\n",
       "</table>\n",
       "<table class=\"simpletable\">\n",
       "<tr>\n",
       "      <td></td>        <th>coef</th>     <th>std err</th>      <th>z</th>      <th>P>|z|</th>  <th>[0.025</th>    <th>0.975]</th>  \n",
       "</tr>\n",
       "<tr>\n",
       "  <th>ar.L1</th>    <td>    0.1754</td> <td>    0.057</td> <td>    3.094</td> <td> 0.002</td> <td>    0.064</td> <td>    0.287</td>\n",
       "</tr>\n",
       "<tr>\n",
       "  <th>ar.L2</th>    <td>    0.1035</td> <td>    0.056</td> <td>    1.850</td> <td> 0.064</td> <td>   -0.006</td> <td>    0.213</td>\n",
       "</tr>\n",
       "<tr>\n",
       "  <th>ma.S.L12</th> <td>   -0.9951</td> <td>    0.055</td> <td>  -18.062</td> <td> 0.000</td> <td>   -1.103</td> <td>   -0.887</td>\n",
       "</tr>\n",
       "<tr>\n",
       "  <th>ma.S.L24</th> <td>    0.1237</td> <td>    0.051</td> <td>    2.423</td> <td> 0.015</td> <td>    0.024</td> <td>    0.224</td>\n",
       "</tr>\n",
       "<tr>\n",
       "  <th>sigma2</th>   <td>   52.8926</td> <td>    3.387</td> <td>   15.616</td> <td> 0.000</td> <td>   46.254</td> <td>   59.531</td>\n",
       "</tr>\n",
       "</table>\n",
       "<table class=\"simpletable\">\n",
       "<tr>\n",
       "  <th>Ljung-Box (L1) (Q):</th>     <td>0.10</td> <th>  Jarque-Bera (JB):  </th> <td>18.53</td>\n",
       "</tr>\n",
       "<tr>\n",
       "  <th>Prob(Q):</th>                <td>0.76</td> <th>  Prob(JB):          </th> <td>0.00</td> \n",
       "</tr>\n",
       "<tr>\n",
       "  <th>Heteroskedasticity (H):</th> <td>1.03</td> <th>  Skew:              </th> <td>0.28</td> \n",
       "</tr>\n",
       "<tr>\n",
       "  <th>Prob(H) (two-sided):</th>    <td>0.87</td> <th>  Kurtosis:          </th> <td>3.97</td> \n",
       "</tr>\n",
       "</table><br/><br/>Warnings:<br/>[1] Covariance matrix calculated using the outer product of gradients (complex-step)."
      ],
      "text/latex": [
       "\\begin{center}\n",
       "\\begin{tabular}{lclc}\n",
       "\\toprule\n",
       "\\textbf{Dep. Variable:}          &                  y                  & \\textbf{  No. Observations:  } &    365      \\\\\n",
       "\\textbf{Model:}                  & SARIMAX(2, 0, 0)x(0, 1, [1, 2], 12) & \\textbf{  Log Likelihood     } & -1210.703   \\\\\n",
       "\\textbf{Date:}                   &           Fri, 30 Jun 2023          & \\textbf{  AIC                } &  2431.405   \\\\\n",
       "\\textbf{Time:}                   &               17:16:58              & \\textbf{  BIC                } &  2450.738   \\\\\n",
       "\\textbf{Sample:}                 &              01-01-1959             & \\textbf{  HQIC               } &  2439.098   \\\\\n",
       "\\textbf{}                        &             - 12-31-1959            & \\textbf{                     } &             \\\\\n",
       "\\textbf{Covariance Type:}        &                 opg                 & \\textbf{                     } &             \\\\\n",
       "\\bottomrule\n",
       "\\end{tabular}\n",
       "\\begin{tabular}{lcccccc}\n",
       "                  & \\textbf{coef} & \\textbf{std err} & \\textbf{z} & \\textbf{P$> |$z$|$} & \\textbf{[0.025} & \\textbf{0.975]}  \\\\\n",
       "\\midrule\n",
       "\\textbf{ar.L1}    &       0.1754  &        0.057     &     3.094  &         0.002        &        0.064    &        0.287     \\\\\n",
       "\\textbf{ar.L2}    &       0.1035  &        0.056     &     1.850  &         0.064        &       -0.006    &        0.213     \\\\\n",
       "\\textbf{ma.S.L12} &      -0.9951  &        0.055     &   -18.062  &         0.000        &       -1.103    &       -0.887     \\\\\n",
       "\\textbf{ma.S.L24} &       0.1237  &        0.051     &     2.423  &         0.015        &        0.024    &        0.224     \\\\\n",
       "\\textbf{sigma2}   &      52.8926  &        3.387     &    15.616  &         0.000        &       46.254    &       59.531     \\\\\n",
       "\\bottomrule\n",
       "\\end{tabular}\n",
       "\\begin{tabular}{lclc}\n",
       "\\textbf{Ljung-Box (L1) (Q):}     & 0.10 & \\textbf{  Jarque-Bera (JB):  } & 18.53  \\\\\n",
       "\\textbf{Prob(Q):}                & 0.76 & \\textbf{  Prob(JB):          } &  0.00  \\\\\n",
       "\\textbf{Heteroskedasticity (H):} & 1.03 & \\textbf{  Skew:              } &  0.28  \\\\\n",
       "\\textbf{Prob(H) (two-sided):}    & 0.87 & \\textbf{  Kurtosis:          } &  3.97  \\\\\n",
       "\\bottomrule\n",
       "\\end{tabular}\n",
       "%\\caption{SARIMAX Results}\n",
       "\\end{center}\n",
       "\n",
       "Warnings: \\newline\n",
       " [1] Covariance matrix calculated using the outer product of gradients (complex-step)."
      ],
      "text/plain": [
       "<class 'statsmodels.iolib.summary.Summary'>\n",
       "\"\"\"\n",
       "                                        SARIMAX Results                                        \n",
       "===============================================================================================\n",
       "Dep. Variable:                                       y   No. Observations:                  365\n",
       "Model:             SARIMAX(2, 0, 0)x(0, 1, [1, 2], 12)   Log Likelihood               -1210.703\n",
       "Date:                                 Fri, 30 Jun 2023   AIC                           2431.405\n",
       "Time:                                         17:16:58   BIC                           2450.738\n",
       "Sample:                                     01-01-1959   HQIC                          2439.098\n",
       "                                          - 12-31-1959                                         \n",
       "Covariance Type:                                   opg                                         \n",
       "==============================================================================\n",
       "                 coef    std err          z      P>|z|      [0.025      0.975]\n",
       "------------------------------------------------------------------------------\n",
       "ar.L1          0.1754      0.057      3.094      0.002       0.064       0.287\n",
       "ar.L2          0.1035      0.056      1.850      0.064      -0.006       0.213\n",
       "ma.S.L12      -0.9951      0.055    -18.062      0.000      -1.103      -0.887\n",
       "ma.S.L24       0.1237      0.051      2.423      0.015       0.024       0.224\n",
       "sigma2        52.8926      3.387     15.616      0.000      46.254      59.531\n",
       "===================================================================================\n",
       "Ljung-Box (L1) (Q):                   0.10   Jarque-Bera (JB):                18.53\n",
       "Prob(Q):                              0.76   Prob(JB):                         0.00\n",
       "Heteroskedasticity (H):               1.03   Skew:                             0.28\n",
       "Prob(H) (two-sided):                  0.87   Kurtosis:                         3.97\n",
       "===================================================================================\n",
       "\n",
       "Warnings:\n",
       "[1] Covariance matrix calculated using the outer product of gradients (complex-step).\n",
       "\"\"\""
      ]
     },
     "execution_count": 23,
     "metadata": {},
     "output_type": "execute_result"
    }
   ],
   "source": [
    "# give the summary for the arima model\n",
    "stepwise_auto.summary()"
   ]
  },
  {
   "cell_type": "markdown",
   "id": "dc24189c",
   "metadata": {},
   "source": [
    "# From the above observation, we can see that the d value is 0 which means no differencing is needed and this model is a stationary model"
   ]
  },
  {
   "cell_type": "code",
   "execution_count": null,
   "id": "3b8097e2",
   "metadata": {},
   "outputs": [],
   "source": []
  }
 ],
 "metadata": {
  "kernelspec": {
   "display_name": "Python 3 (ipykernel)",
   "language": "python",
   "name": "python3"
  },
  "language_info": {
   "codemirror_mode": {
    "name": "ipython",
    "version": 3
   },
   "file_extension": ".py",
   "mimetype": "text/x-python",
   "name": "python",
   "nbconvert_exporter": "python",
   "pygments_lexer": "ipython3",
   "version": "3.11.4"
  }
 },
 "nbformat": 4,
 "nbformat_minor": 5
}
