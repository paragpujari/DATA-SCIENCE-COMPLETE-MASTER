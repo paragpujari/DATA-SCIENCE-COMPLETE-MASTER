{
 "cells": [
  {
   "cell_type": "markdown",
   "id": "7a4c0c40-6b8f-4337-8d0a-75df91997c98",
   "metadata": {},
   "source": [
    "# NUMPY ARRAY : MATHEMATICS"
   ]
  },
  {
   "cell_type": "markdown",
   "id": "bb490f42-32d2-4e96-a4df-299ec6a3678e",
   "metadata": {},
   "source": [
    "# ADDITION"
   ]
  },
  {
   "cell_type": "code",
   "execution_count": 1,
   "id": "1046b380-9e0c-4414-82dd-8c96c1473260",
   "metadata": {},
   "outputs": [
    {
     "name": "stdout",
     "output_type": "stream",
     "text": [
      "15\n"
     ]
    }
   ],
   "source": [
    "import numpy as np\n",
    "a = np.array([1,2,3,4,5])\n",
    "print(np.sum(a))"
   ]
  },
  {
   "cell_type": "code",
   "execution_count": 3,
   "id": "8f4a218c-4089-4752-810b-5d9f7b431e70",
   "metadata": {},
   "outputs": [
    {
     "name": "stdout",
     "output_type": "stream",
     "text": [
      "30\n"
     ]
    }
   ],
   "source": [
    "a , b = 10, 20\n",
    "print(np.sum([a,b]))"
   ]
  },
  {
   "cell_type": "code",
   "execution_count": 4,
   "id": "45a10080-1a51-48e9-ac99-6de1f0fbca30",
   "metadata": {},
   "outputs": [
    {
     "name": "stdout",
     "output_type": "stream",
     "text": [
      "100\n"
     ]
    }
   ],
   "source": [
    "a,b,c,d = 10,20,30,40\n",
    "print(np.sum([a,b,c,d]))"
   ]
  },
  {
   "cell_type": "code",
   "execution_count": 5,
   "id": "181d57c8-a329-4819-bd2f-d567460f971a",
   "metadata": {},
   "outputs": [
    {
     "name": "stdout",
     "output_type": "stream",
     "text": [
      "260\n"
     ]
    }
   ],
   "source": [
    "a,c,e, g = 90,30,60,80\n",
    "print(np.sum([a,c,e,g]))"
   ]
  },
  {
   "cell_type": "code",
   "execution_count": 6,
   "id": "02172eb2-3db8-4faa-a101-8926721de79d",
   "metadata": {},
   "outputs": [
    {
     "name": "stdout",
     "output_type": "stream",
     "text": [
      "220\n"
     ]
    }
   ],
   "source": [
    "c = 10\n",
    "d = 90\n",
    "e = 120\n",
    "print(np.sum([c,d,e]))"
   ]
  },
  {
   "cell_type": "code",
   "execution_count": 7,
   "id": "35a6afdd-beaf-4793-b203-f7b429bc42a0",
   "metadata": {},
   "outputs": [
    {
     "name": "stdout",
     "output_type": "stream",
     "text": [
      "[[1 2]\n",
      " [3 4]]\n"
     ]
    }
   ],
   "source": [
    "a = np.array([[1,2],[3,4]])\n",
    "print(a)"
   ]
  },
  {
   "cell_type": "code",
   "execution_count": 10,
   "id": "93c90031-9656-4d62-b8b4-a9c911a7416d",
   "metadata": {},
   "outputs": [
    {
     "name": "stdout",
     "output_type": "stream",
     "text": [
      "[4 6]\n"
     ]
    }
   ],
   "source": [
    "# addition of elements along the column\n",
    "print(np.sum(a, axis = 0))"
   ]
  },
  {
   "cell_type": "code",
   "execution_count": 11,
   "id": "c3e40237-942e-4c77-9784-0a837f0d5a02",
   "metadata": {},
   "outputs": [
    {
     "name": "stdout",
     "output_type": "stream",
     "text": [
      "[3 7]\n"
     ]
    }
   ],
   "source": [
    "# addition of elements along the row\n",
    "print(np.sum(a, axis = 1))"
   ]
  },
  {
   "cell_type": "code",
   "execution_count": 12,
   "id": "e54366ff-ca82-4527-991f-6546ad68952b",
   "metadata": {},
   "outputs": [
    {
     "name": "stdout",
     "output_type": "stream",
     "text": [
      "[[1, 2, 3, 4], [5, 6, 7, 8], [9, 10, 11, 12]]\n"
     ]
    }
   ],
   "source": [
    "c = [[1,2,3,4],[5,6,7,8],[9,10,11,12]]\n",
    "print(c)"
   ]
  },
  {
   "cell_type": "code",
   "execution_count": 13,
   "id": "cc918b98-a741-4eb0-a8c5-c8b70dc3d2c8",
   "metadata": {},
   "outputs": [
    {
     "name": "stdout",
     "output_type": "stream",
     "text": [
      "[10 26 42]\n"
     ]
    }
   ],
   "source": [
    "# addition of elements along the row\n",
    "print(np.sum(c, axis = 1))"
   ]
  },
  {
   "cell_type": "code",
   "execution_count": 14,
   "id": "5fdf1d62-8c69-48f9-8bad-81a08ef4433e",
   "metadata": {},
   "outputs": [
    {
     "name": "stdout",
     "output_type": "stream",
     "text": [
      "[15 18 21 24]\n"
     ]
    }
   ],
   "source": [
    "# addition of elements alog the column\n",
    "print(np.sum(c, axis = 0))"
   ]
  },
  {
   "cell_type": "markdown",
   "id": "58f5e47b-b94b-43de-b217-0f2714ec5af4",
   "metadata": {},
   "source": [
    "# SUBSTRACTION"
   ]
  },
  {
   "cell_type": "code",
   "execution_count": 16,
   "id": "94b991c4-11dc-4349-baf2-5c79ec70d2ae",
   "metadata": {},
   "outputs": [
    {
     "name": "stdout",
     "output_type": "stream",
     "text": [
      "10\n"
     ]
    }
   ],
   "source": [
    "import numpy as np\n",
    "print(np.subtract(20,10))"
   ]
  },
  {
   "cell_type": "code",
   "execution_count": 17,
   "id": "a16d8128-faed-4f51-a6d7-2202ee030bd1",
   "metadata": {},
   "outputs": [
    {
     "name": "stdout",
     "output_type": "stream",
     "text": [
      "77\n"
     ]
    }
   ],
   "source": [
    "x = 90\n",
    "y = 13\n",
    "print(np.subtract(x,y))"
   ]
  },
  {
   "cell_type": "code",
   "execution_count": 18,
   "id": "f8e94cd2-0bd8-4845-bb84-a4bc00e4eed2",
   "metadata": {},
   "outputs": [
    {
     "name": "stdout",
     "output_type": "stream",
     "text": [
      "74\n"
     ]
    }
   ],
   "source": [
    "import numpy as np\n",
    "print(np.subtract(80,6))"
   ]
  },
  {
   "cell_type": "markdown",
   "id": "3800b109-ac19-49b6-b768-4b86312f632e",
   "metadata": {},
   "source": [
    "# MULTIPLICATION"
   ]
  },
  {
   "cell_type": "code",
   "execution_count": 19,
   "id": "0443a39a-e2cf-462d-8390-1216799ccec2",
   "metadata": {},
   "outputs": [
    {
     "name": "stdout",
     "output_type": "stream",
     "text": [
      "6\n"
     ]
    }
   ],
   "source": [
    "import numpy as np\n",
    "print(np.multiply(2,3))"
   ]
  },
  {
   "cell_type": "code",
   "execution_count": 20,
   "id": "971d8d88-d228-411e-bde3-d0c9a974357f",
   "metadata": {},
   "outputs": [
    {
     "name": "stdout",
     "output_type": "stream",
     "text": [
      "20\n"
     ]
    }
   ],
   "source": [
    "print(np.multiply(4,5))"
   ]
  },
  {
   "cell_type": "code",
   "execution_count": 21,
   "id": "de4f2a63-009b-4348-b537-9d785048307f",
   "metadata": {},
   "outputs": [
    {
     "name": "stdout",
     "output_type": "stream",
     "text": [
      "72\n"
     ]
    }
   ],
   "source": [
    "print(np.multiply(8,9))"
   ]
  },
  {
   "cell_type": "markdown",
   "id": "5a145f63-26d3-43a4-9392-b9e9ebd3a8a5",
   "metadata": {},
   "source": [
    "# DIVISION"
   ]
  },
  {
   "cell_type": "code",
   "execution_count": 22,
   "id": "70af9e63-ff58-46c3-a3aa-7deb9fc8a36e",
   "metadata": {},
   "outputs": [
    {
     "name": "stdout",
     "output_type": "stream",
     "text": [
      "5.0\n"
     ]
    }
   ],
   "source": [
    "import numpy as np\n",
    "print(np.divide(10,2))"
   ]
  },
  {
   "cell_type": "code",
   "execution_count": 23,
   "id": "fe6dbe9a-aeb0-48f6-8876-742ab87e33f1",
   "metadata": {},
   "outputs": [
    {
     "name": "stdout",
     "output_type": "stream",
     "text": [
      "[2. 2. 2.]\n"
     ]
    }
   ],
   "source": [
    "a = np.array([2,4,6])\n",
    "b = np.array([1,2,3])\n",
    "print(np.divide(a,b))"
   ]
  },
  {
   "cell_type": "code",
   "execution_count": 24,
   "id": "95797baa-5d44-4de4-ad34-c0eba9fe2535",
   "metadata": {},
   "outputs": [
    {
     "name": "stdout",
     "output_type": "stream",
     "text": [
      "[10. 10. 10. 10. 10.]\n"
     ]
    }
   ],
   "source": [
    "c = np.array([10,20,30,40,50])\n",
    "d = np.array([1,2,3,4,5])\n",
    "print(np.divide(c,d))"
   ]
  },
  {
   "cell_type": "markdown",
   "id": "1ee6b141-be0d-4265-a488-65f0dbdbbcd0",
   "metadata": {},
   "source": [
    "# EXPONENT"
   ]
  },
  {
   "cell_type": "code",
   "execution_count": 28,
   "id": "d4e57d70-3700-421a-98fe-f9215824fc81",
   "metadata": {},
   "outputs": [
    {
     "name": "stdout",
     "output_type": "stream",
     "text": [
      "[  7.3890561   54.59815003 403.42879349]\n",
      "[ 2.71828183  7.3890561  20.08553692]\n",
      "[2.20264658e+04 4.85165195e+08 1.06864746e+13 2.35385267e+17\n",
      " 5.18470553e+21]\n",
      "[  2.71828183   7.3890561   20.08553692  54.59815003 148.4131591 ]\n"
     ]
    }
   ],
   "source": [
    "# exponent value of a\n",
    "print(np.exp(a))\n",
    "\n",
    "# exponent value of b\n",
    "print(np.exp(b))\n",
    "\n",
    "# exponent value of c\n",
    "print(np.exp(c))\n",
    "\n",
    "# exponent value of d\n",
    "print(np.exp(d))"
   ]
  },
  {
   "cell_type": "markdown",
   "id": "600fc2de-d4e7-4481-a8ba-958b588b6615",
   "metadata": {},
   "source": [
    "# SQUARE ROOT"
   ]
  },
  {
   "cell_type": "code",
   "execution_count": 32,
   "id": "392f2825-3ade-4d49-ab2b-db60f32af93d",
   "metadata": {},
   "outputs": [
    {
     "name": "stdout",
     "output_type": "stream",
     "text": [
      "[1.41421356 2.         2.44948974]\n",
      "[1.         1.41421356 1.73205081]\n",
      "[3.16227766 4.47213595 5.47722558 6.32455532 7.07106781]\n",
      "[1.         1.41421356 1.73205081 2.         2.23606798]\n"
     ]
    }
   ],
   "source": [
    "# square root of of a\n",
    "print(np.sqrt(a))\n",
    "\n",
    "# square root of b\n",
    "print(np.sqrt(b))\n",
    "\n",
    "# square root of c\n",
    "print(np.sqrt(c))\n",
    "\n",
    "# square root of d\n",
    "print(np.sqrt(d))"
   ]
  },
  {
   "cell_type": "markdown",
   "id": "5eda3784-99d1-4f22-a375-d7d8e764ad01",
   "metadata": {},
   "source": [
    "# SIN VALUE"
   ]
  },
  {
   "cell_type": "code",
   "execution_count": 36,
   "id": "33499ae0-b385-4d40-8c51-28fe5073c19d",
   "metadata": {},
   "outputs": [
    {
     "name": "stdout",
     "output_type": "stream",
     "text": [
      "[ 0.90929743 -0.7568025  -0.2794155 ]\n",
      "[0.84147098 0.90929743 0.14112001]\n",
      "[-0.54402111  0.91294525 -0.98803162  0.74511316 -0.26237485]\n",
      "[ 0.84147098  0.90929743  0.14112001 -0.7568025  -0.95892427]\n"
     ]
    }
   ],
   "source": [
    "# sin value of a\n",
    "print(np.sin(a))\n",
    "\n",
    "# sin value of b\n",
    "print(np.sin(b))\n",
    "\n",
    "# sin value of c\n",
    "print(np.sin(c))\n",
    "\n",
    "# sin value of d\n",
    "print(np.sin(d))"
   ]
  },
  {
   "cell_type": "markdown",
   "id": "47db6732-7714-47b8-aa3f-5b0cbf8b6d93",
   "metadata": {},
   "source": [
    "# COS VALUE"
   ]
  },
  {
   "cell_type": "code",
   "execution_count": 40,
   "id": "336fb0e3-a18d-4248-b4cc-9eadf32c331c",
   "metadata": {},
   "outputs": [
    {
     "name": "stdout",
     "output_type": "stream",
     "text": [
      "[-0.41614684 -0.65364362  0.96017029]\n",
      "[ 0.54030231 -0.41614684 -0.9899925 ]\n",
      "[-0.83907153  0.40808206  0.15425145 -0.66693806  0.96496603]\n",
      "[ 0.54030231 -0.41614684 -0.9899925  -0.65364362  0.28366219]\n"
     ]
    }
   ],
   "source": [
    "# cos value of a\n",
    "print(np.cos(a))\n",
    "\n",
    "# cos value of b\n",
    "print(np.cos(b))\n",
    "\n",
    "# cos value of c\n",
    "print(np.cos(c))\n",
    "\n",
    "# cos value of d\n",
    "print(np.cos(d))"
   ]
  },
  {
   "cell_type": "markdown",
   "id": "8a44f866-75e3-48ff-b891-b19a1fcda3f3",
   "metadata": {},
   "source": [
    "# LOG VALUE"
   ]
  },
  {
   "cell_type": "code",
   "execution_count": 44,
   "id": "ec55ddf6-e3df-450b-9fbe-7490be6f80b1",
   "metadata": {},
   "outputs": [
    {
     "name": "stdout",
     "output_type": "stream",
     "text": [
      "[0.69314718 1.38629436 1.79175947]\n",
      "[0.         0.69314718 1.09861229]\n",
      "[2.30258509 2.99573227 3.40119738 3.68887945 3.91202301]\n",
      "[0.         0.69314718 1.09861229 1.38629436 1.60943791]\n"
     ]
    }
   ],
   "source": [
    "# log value of a\n",
    "print(np.log(a))\n",
    "\n",
    "# log value of b\n",
    "print(np.log(b))\n",
    "\n",
    "# log value of c\n",
    "print(np.log(c))\n",
    "\n",
    "# log value of d\n",
    "print(np.log(d))"
   ]
  },
  {
   "cell_type": "markdown",
   "id": "c892d405-8c34-4514-b766-a016ce51ce11",
   "metadata": {},
   "source": [
    "# ARRAY COMPARISION"
   ]
  },
  {
   "cell_type": "markdown",
   "id": "6ceafe73-542c-4fb5-b507-cd65f224d463",
   "metadata": {},
   "source": [
    "## 1. ELEMENT WISE ARRAY COMPARISION"
   ]
  },
  {
   "cell_type": "code",
   "execution_count": 45,
   "id": "07eef9af-32b1-4635-acdb-c5593f084854",
   "metadata": {},
   "outputs": [],
   "source": [
    "a = np.array([1,2,4])\n",
    "b = np.array([2,2,4])\n",
    "c = np.array([1,2,4])"
   ]
  },
  {
   "cell_type": "code",
   "execution_count": 46,
   "id": "9e93ceff-b68d-4ae7-b8d3-4f42f517da27",
   "metadata": {},
   "outputs": [
    {
     "name": "stdout",
     "output_type": "stream",
     "text": [
      "[False  True  True]\n"
     ]
    }
   ],
   "source": [
    "print(np.equal(a,b))"
   ]
  },
  {
   "cell_type": "code",
   "execution_count": 47,
   "id": "f01de319-e7e9-4e62-a7aa-96c269745d6e",
   "metadata": {},
   "outputs": [
    {
     "name": "stdout",
     "output_type": "stream",
     "text": [
      "[False  True  True]\n"
     ]
    }
   ],
   "source": [
    "print(np.equal(b,c))"
   ]
  },
  {
   "cell_type": "code",
   "execution_count": 48,
   "id": "e386bc27-f722-470e-be75-a5f0a9cb8757",
   "metadata": {},
   "outputs": [
    {
     "name": "stdout",
     "output_type": "stream",
     "text": [
      "[ True  True  True]\n"
     ]
    }
   ],
   "source": [
    "print(np.equal(a,c))"
   ]
  },
  {
   "cell_type": "markdown",
   "id": "28cd3f9d-203d-4db4-823c-2a963539fa05",
   "metadata": {},
   "source": [
    "## 2. ARRAY WISE ARRAY COMPARISION"
   ]
  },
  {
   "cell_type": "code",
   "execution_count": 49,
   "id": "0713e073-0ac9-4805-88a6-48fc534d8f3e",
   "metadata": {},
   "outputs": [
    {
     "name": "stdout",
     "output_type": "stream",
     "text": [
      "False\n"
     ]
    }
   ],
   "source": [
    "print(np.array_equal(a,b))"
   ]
  },
  {
   "cell_type": "code",
   "execution_count": 50,
   "id": "90af7df3-c89b-4f37-982f-06ce977d1bea",
   "metadata": {},
   "outputs": [
    {
     "name": "stdout",
     "output_type": "stream",
     "text": [
      "False\n"
     ]
    }
   ],
   "source": [
    "print(np.array_equal(b,c))"
   ]
  },
  {
   "cell_type": "code",
   "execution_count": 52,
   "id": "07ef13d7-a487-4a99-b18a-e73717c5d96b",
   "metadata": {},
   "outputs": [
    {
     "name": "stdout",
     "output_type": "stream",
     "text": [
      "True\n"
     ]
    }
   ],
   "source": [
    "print(np.array_equal(a,c))"
   ]
  },
  {
   "cell_type": "markdown",
   "id": "04b7e486-e21c-4b16-961e-1a0240dd37cd",
   "metadata": {},
   "source": [
    "# AGGREGRATE FUNCTIONS"
   ]
  },
  {
   "cell_type": "code",
   "execution_count": 78,
   "id": "9534b613-0434-466f-b2ab-f0a52b8a07d1",
   "metadata": {},
   "outputs": [
    {
     "name": "stdout",
     "output_type": "stream",
     "text": [
      "Sum of all elements is: 7\n",
      "Sum of all elements is: 8\n",
      "Sum of all elements is: 7\n",
      "Mean of all elements is: 2.3333333333333335\n",
      "Mean of all elements is: 2.6666666666666665\n",
      "Mean of all elements is: 2.3333333333333335\n",
      "Median of all elements is: 2.0\n",
      "Median of all elements is: 2.0\n",
      "Median of all elements is: 2.0\n",
      "Minimum of all elements is: 1\n",
      "Minimum of all elements is: 2\n",
      "Minimum of all elements is: 1\n",
      "Maximum of all elements is: 4\n",
      "Maximum of all elements is: 4\n",
      "Maximum of all elements is: 4\n",
      "Variance of all elements is: 1.5555555555555554\n",
      "Variance of all elements is: 0.8888888888888888\n",
      "Variance of all elements is: 1.5555555555555554\n",
      "Standard Deviation of all elements is: 1.247219128924647\n",
      "Standard Deviation of all elements is: 0.9428090415820634\n",
      "Standard Deviation of all elements is: 1.247219128924647\n"
     ]
    }
   ],
   "source": [
    "a = np.array([1,2,4])\n",
    "b = np.array([2,2,4])\n",
    "c = np.array([1,2,4])\n",
    "\n",
    "# sum of all the  elements in the array\n",
    "print(\"Sum of all elements is:\", np.sum(a))\n",
    "print(\"Sum of all elements is:\",np.sum(b))\n",
    "print(\"Sum of all elements is:\",np.sum(c))\n",
    "\n",
    "# mean of all the elements in the array\n",
    "print(\"Mean of all elements is:\", np.mean(a))\n",
    "print(\"Mean of all elements is:\", np.mean(b))\n",
    "print(\"Mean of all elements is:\", np.mean(c))\n",
    "\n",
    "# median of all the elements in the array\n",
    "print(\"Median of all elements is:\", np.median(a))\n",
    "print(\"Median of all elements is:\", np.median(b))\n",
    "print(\"Median of all elements is:\", np.median(c))\n",
    "\n",
    "# minimum of all the elements in the array\n",
    "print(\"Minimum of all elements is:\", np.min(a))\n",
    "print(\"Minimum of all elements is:\", np.min(b))\n",
    "print(\"Minimum of all elements is:\", np.min(c))\n",
    "\n",
    "# maximum of all the elements in the array\n",
    "print(\"Maximum of all elements is:\", np.max(a))\n",
    "print(\"Maximum of all elements is:\", np.max(b))\n",
    "print(\"Maximum of all elements is:\", np.max(c))\n",
    "\n",
    "# variance of all the elements in the array\n",
    "print(\"Variance of all elements is:\", np.var(a))\n",
    "print(\"Variance of all elements is:\", np.var(b))\n",
    "print(\"Variance of all elements is:\", np.var(c))\n",
    "\n",
    "# standard deviation of all the elements in the array\n",
    "print(\"Standard Deviation of all elements is:\", np.std(a))\n",
    "print(\"Standard Deviation of all elements is:\", np.std(b))\n",
    "print(\"Standard Deviation of all elements is:\", np.std(c))"
   ]
  },
  {
   "cell_type": "markdown",
   "id": "a0fcf9d5-5869-4b88-8c69-1be7ee974210",
   "metadata": {},
   "source": [
    "# BROADCASTING"
   ]
  },
  {
   "cell_type": "code",
   "execution_count": 82,
   "id": "bed2b9bc-b568-4162-be0f-d9169754bddd",
   "metadata": {},
   "outputs": [
    {
     "name": "stdout",
     "output_type": "stream",
     "text": [
      "[[0 0 0]\n",
      " [1 2 3]\n",
      " [4 5 6]\n",
      " [7 8 9]]\n",
      "[0 1 2]\n",
      "[[ 0  1  2]\n",
      " [ 1  3  5]\n",
      " [ 4  6  8]\n",
      " [ 7  9 11]]\n"
     ]
    }
   ],
   "source": [
    "import numpy as np\n",
    "a = np.array([[0, 0, 0], [1, 2, 3], [4, 5, 6], [7, 8, 9]])\n",
    "print(a)\n",
    "\n",
    "b = np.array([0, 1, 2])\n",
    "print(b)\n",
    "\n",
    "print(a + b)"
   ]
  },
  {
   "cell_type": "markdown",
   "id": "fad22060-c1ef-42f9-b16d-de739f5145f8",
   "metadata": {},
   "source": [
    "# ARRAY MANIPULATION"
   ]
  },
  {
   "cell_type": "code",
   "execution_count": 84,
   "id": "6df51940-edf6-402d-aa98-03a7f2e1efba",
   "metadata": {},
   "outputs": [
    {
     "name": "stdout",
     "output_type": "stream",
     "text": [
      "Concatenation of two arrays : [ 1  2  3  4  5  6  7  8  9 10]\n"
     ]
    }
   ],
   "source": [
    "# Concatenation of two arrays\n",
    "a = np.array([1,2,3,4,5])\n",
    "b = np.array([6,7,8,9,10])\n",
    "\n",
    "print(\"Concatenation of two arrays :\", np.concatenate((a,b)))"
   ]
  },
  {
   "cell_type": "code",
   "execution_count": 86,
   "id": "bff1ffaf-cdee-4bf0-8aa7-cf4c132ff489",
   "metadata": {},
   "outputs": [
    {
     "name": "stdout",
     "output_type": "stream",
     "text": [
      "Concatenation of two arrays : [10 20 30 40 50 60]\n"
     ]
    }
   ],
   "source": [
    "c = np.array([10, 20, 30])\n",
    "d = np.array([40, 50, 60])\n",
    "\n",
    "print(\"Concatenation of two arrays :\", np.concatenate((c,d)))"
   ]
  },
  {
   "cell_type": "code",
   "execution_count": 87,
   "id": "f1446593-54aa-4f9f-9ed2-d977e7ebec34",
   "metadata": {},
   "outputs": [
    {
     "name": "stdout",
     "output_type": "stream",
     "text": [
      "Concatenation of two arrays : [ 1  2  3  4  5 10 20 30]\n"
     ]
    }
   ],
   "source": [
    "print(\"Concatenation of two arrays :\", np.concatenate((a,c)))"
   ]
  },
  {
   "cell_type": "code",
   "execution_count": 88,
   "id": "6cea7783-961f-4ea6-a41b-036b5b9d1b0a",
   "metadata": {},
   "outputs": [
    {
     "name": "stdout",
     "output_type": "stream",
     "text": [
      "Concatenation of two arrays : [ 6  7  8  9 10 40 50 60]\n"
     ]
    }
   ],
   "source": [
    "print(\"Concatenation of two arrays :\", np.concatenate((b,d)))"
   ]
  },
  {
   "cell_type": "code",
   "execution_count": 89,
   "id": "d2692329-f7fd-4a10-8082-1bdf7642fefb",
   "metadata": {},
   "outputs": [
    {
     "name": "stdout",
     "output_type": "stream",
     "text": [
      "[1 2 3 4 5]\n",
      "[ 6  7  8  9 10]\n"
     ]
    }
   ],
   "source": [
    "print(a)\n",
    "print(b)"
   ]
  },
  {
   "cell_type": "code",
   "execution_count": 92,
   "id": "8916c61d-6483-497e-8702-5ace3b99c566",
   "metadata": {},
   "outputs": [
    {
     "name": "stdout",
     "output_type": "stream",
     "text": [
      "[[ 1  2  3  4  5]\n",
      " [ 6  7  8  9 10]]\n"
     ]
    }
   ],
   "source": [
    "# stack arrays row wise vertically\n",
    "print(np.vstack((a,b)))"
   ]
  },
  {
   "cell_type": "code",
   "execution_count": 93,
   "id": "52948521-1ef4-4b7e-812f-cbc0a1af402b",
   "metadata": {},
   "outputs": [
    {
     "name": "stdout",
     "output_type": "stream",
     "text": [
      "[ 1  2  3  4  5  6  7  8  9 10]\n"
     ]
    }
   ],
   "source": [
    "# stack arrays row wise horizontally\n",
    "print(np.hstack((a,b)))"
   ]
  },
  {
   "cell_type": "code",
   "execution_count": 94,
   "id": "9248906b-6fb1-4ce2-ac0b-f0eda8f4e1e4",
   "metadata": {},
   "outputs": [
    {
     "name": "stdout",
     "output_type": "stream",
     "text": [
      "[[ 1  6]\n",
      " [ 2  7]\n",
      " [ 3  8]\n",
      " [ 4  9]\n",
      " [ 5 10]]\n"
     ]
    }
   ],
   "source": [
    "# stacking arrays column wise\n",
    "print(np.column_stack((a,b)))"
   ]
  },
  {
   "cell_type": "code",
   "execution_count": 95,
   "id": "a8dd96ae-20f7-4855-86e1-3f80720fd6b7",
   "metadata": {},
   "outputs": [
    {
     "name": "stdout",
     "output_type": "stream",
     "text": [
      "[[10 40]\n",
      " [20 50]\n",
      " [30 60]]\n"
     ]
    }
   ],
   "source": [
    "print(np.column_stack((c,d)))"
   ]
  },
  {
   "cell_type": "code",
   "execution_count": 96,
   "id": "2e043239-746f-41b2-82af-bf5e697e3f59",
   "metadata": {},
   "outputs": [
    {
     "name": "stdout",
     "output_type": "stream",
     "text": [
      "[[40 10]\n",
      " [50 20]\n",
      " [60 30]]\n"
     ]
    }
   ],
   "source": [
    "print(np.column_stack((d,c)))"
   ]
  },
  {
   "cell_type": "code",
   "execution_count": 99,
   "id": "da9c8fb3-cef4-4302-9d95-3a3294875a0b",
   "metadata": {},
   "outputs": [
    {
     "name": "stdout",
     "output_type": "stream",
     "text": [
      "[[10 20 30]\n",
      " [40 50 60]]\n"
     ]
    }
   ],
   "source": [
    "# stack the arrays vertically\n",
    "print(np.vstack((c,d)))"
   ]
  },
  {
   "cell_type": "code",
   "execution_count": 101,
   "id": "f8a34369-12ec-4587-90e9-6ef6b1121dc5",
   "metadata": {},
   "outputs": [
    {
     "name": "stdout",
     "output_type": "stream",
     "text": [
      "[10 20 30 40 50 60]\n"
     ]
    }
   ],
   "source": [
    "# stack the arrays horizontally\n",
    "print(np.hstack((c,d)))"
   ]
  },
  {
   "cell_type": "markdown",
   "id": "0dea28f2-ff3f-4ce3-b35b-88c0ecd08d8a",
   "metadata": {},
   "source": [
    "# SPLITTING THE ARRAY"
   ]
  },
  {
   "cell_type": "code",
   "execution_count": 131,
   "id": "c63b32f2-5355-4625-b3e6-d5a6df3206b7",
   "metadata": {},
   "outputs": [
    {
     "name": "stdout",
     "output_type": "stream",
     "text": [
      "[ 0  1  2  3  4  5  6  7  8  9 10 11 12 13 14 15]\n",
      "[[ 0  1  2  3]\n",
      " [ 4  5  6  7]\n",
      " [ 8  9 10 11]\n",
      " [12 13 14 15]]\n",
      "[array([[ 0,  1],\n",
      "       [ 4,  5],\n",
      "       [ 8,  9],\n",
      "       [12, 13]]), array([[ 2,  3],\n",
      "       [ 6,  7],\n",
      "       [10, 11],\n",
      "       [14, 15]])]\n",
      "[array([[ 0,  1,  2],\n",
      "       [ 4,  5,  6],\n",
      "       [ 8,  9, 10],\n",
      "       [12, 13, 14]]), array([[ 3],\n",
      "       [ 7],\n",
      "       [11],\n",
      "       [15]])]\n",
      "[ 0  1  2  3  4  5  6  7  8  9 10 11 12 13 14 15]\n",
      "[array([0, 1]), array([2]), array([ 3,  4,  5,  6,  7,  8,  9, 10, 11, 12, 13, 14, 15])]\n"
     ]
    }
   ],
   "source": [
    "x = np.arange(16)\n",
    "print(x)\n",
    "# reshape the array into 4 * 4 dimensions\n",
    "ans = x.reshape(4,4)\n",
    "print(ans)\n",
    "\n",
    "# split the array horizontally from position 2\n",
    "res = np.hsplit(ans,2)\n",
    "print(res)\n",
    "\n",
    "# split the array horizontally in the last column\n",
    "ans = np.hsplit(ans, np.array([3]))\n",
    "print(ans)\n",
    "\n",
    "# split array horizontally in three seperate columns\n",
    "print(x)\n",
    "print(np.hsplit(x, np.array([2, 3])))"
   ]
  },
  {
   "cell_type": "code",
   "execution_count": null,
   "id": "829c2360-dd22-440a-9054-67c46f07ff2b",
   "metadata": {},
   "outputs": [],
   "source": []
  }
 ],
 "metadata": {
  "kernelspec": {
   "display_name": "Python 3 (ipykernel)",
   "language": "python",
   "name": "python3"
  },
  "language_info": {
   "codemirror_mode": {
    "name": "ipython",
    "version": 3
   },
   "file_extension": ".py",
   "mimetype": "text/x-python",
   "name": "python",
   "nbconvert_exporter": "python",
   "pygments_lexer": "ipython3",
   "version": "3.10.8"
  }
 },
 "nbformat": 4,
 "nbformat_minor": 5
}
