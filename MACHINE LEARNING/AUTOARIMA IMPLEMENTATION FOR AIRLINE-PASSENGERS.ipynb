{
 "cells": [
  {
   "cell_type": "code",
   "execution_count": 4,
   "id": "24c277ac",
   "metadata": {},
   "outputs": [],
   "source": [
    "# import all the necessary libraries\n",
    "import numpy as np\n",
    "import pandas as pd\n",
    "import matplotlib.pyplot as plt\n",
    "%matplotlib inline"
   ]
  },
  {
   "cell_type": "code",
   "execution_count": 5,
   "id": "4eb52e89",
   "metadata": {},
   "outputs": [],
   "source": [
    "# load the dataset\n",
    "data1 = pd.read_csv('airline-passengers.csv', index_col = 'Month', parse_dates = True)"
   ]
  },
  {
   "cell_type": "code",
   "execution_count": 6,
   "id": "0419515d",
   "metadata": {},
   "outputs": [
    {
     "name": "stdout",
     "output_type": "stream",
     "text": [
      "            Passengers\n",
      "Month                 \n",
      "1949-01-01         112\n",
      "1949-02-01         118\n",
      "1949-03-01         132\n",
      "1949-04-01         129\n",
      "1949-05-01         121\n",
      "...                ...\n",
      "1960-08-01         606\n",
      "1960-09-01         508\n",
      "1960-10-01         461\n",
      "1960-11-01         390\n",
      "1960-12-01         432\n",
      "\n",
      "[144 rows x 1 columns]\n"
     ]
    }
   ],
   "source": [
    "print(data1)"
   ]
  },
  {
   "cell_type": "code",
   "execution_count": 7,
   "id": "0127764b",
   "metadata": {},
   "outputs": [
    {
     "name": "stdout",
     "output_type": "stream",
     "text": [
      "            Passengers\n",
      "Month                 \n",
      "1949-01-01         112\n",
      "1949-02-01         118\n",
      "1949-03-01         132\n",
      "1949-04-01         129\n",
      "1949-05-01         121\n"
     ]
    }
   ],
   "source": [
    "# To display top 5 rows of the dataset\n",
    "print(data1.head())"
   ]
  },
  {
   "cell_type": "code",
   "execution_count": 8,
   "id": "2f62682a",
   "metadata": {},
   "outputs": [
    {
     "name": "stdout",
     "output_type": "stream",
     "text": [
      "            Passengers\n",
      "Month                 \n",
      "1960-08-01         606\n",
      "1960-09-01         508\n",
      "1960-10-01         461\n",
      "1960-11-01         390\n",
      "1960-12-01         432\n"
     ]
    }
   ],
   "source": [
    "# To display bottom 5 rows of the dataset\n",
    "print(data1.tail())"
   ]
  },
  {
   "cell_type": "code",
   "execution_count": 9,
   "id": "b0914b19",
   "metadata": {},
   "outputs": [
    {
     "name": "stdout",
     "output_type": "stream",
     "text": [
      "Passengers    0\n",
      "dtype: int64\n"
     ]
    }
   ],
   "source": [
    "# To check if there are any NULL Vlauesin the dataset\n",
    "print(data1.isnull().sum())"
   ]
  },
  {
   "cell_type": "code",
   "execution_count": 10,
   "id": "cc7c0ee9",
   "metadata": {},
   "outputs": [],
   "source": [
    "# So from the above observatiuon, it is concluded that there are no NULL Values in the dataset"
   ]
  },
  {
   "cell_type": "code",
   "execution_count": 11,
   "id": "8a908a51",
   "metadata": {},
   "outputs": [
    {
     "name": "stdout",
     "output_type": "stream",
     "text": [
      "(144, 1)\n"
     ]
    }
   ],
   "source": [
    "print(data1.shape)"
   ]
  },
  {
   "cell_type": "code",
   "execution_count": 13,
   "id": "9251d995",
   "metadata": {},
   "outputs": [
    {
     "name": "stdout",
     "output_type": "stream",
     "text": [
      "DatetimeIndex(['1949-01-01', '1949-02-01', '1949-03-01', '1949-04-01',\n",
      "               '1949-05-01', '1949-06-01', '1949-07-01', '1949-08-01',\n",
      "               '1949-09-01', '1949-10-01',\n",
      "               ...\n",
      "               '1960-03-01', '1960-04-01', '1960-05-01', '1960-06-01',\n",
      "               '1960-07-01', '1960-08-01', '1960-09-01', '1960-10-01',\n",
      "               '1960-11-01', '1960-12-01'],\n",
      "              dtype='datetime64[ns]', name='Month', length=144, freq=None)\n"
     ]
    }
   ],
   "source": [
    "# To display all the indexes of the dataset\n",
    "print(data1.index)\n",
    "data1.index.freq = 'MS'"
   ]
  },
  {
   "cell_type": "code",
   "execution_count": 14,
   "id": "a8415ccc",
   "metadata": {},
   "outputs": [
    {
     "name": "stdout",
     "output_type": "stream",
     "text": [
      "DatetimeIndex(['1949-01-01', '1949-02-01', '1949-03-01', '1949-04-01',\n",
      "               '1949-05-01', '1949-06-01', '1949-07-01', '1949-08-01',\n",
      "               '1949-09-01', '1949-10-01',\n",
      "               ...\n",
      "               '1960-03-01', '1960-04-01', '1960-05-01', '1960-06-01',\n",
      "               '1960-07-01', '1960-08-01', '1960-09-01', '1960-10-01',\n",
      "               '1960-11-01', '1960-12-01'],\n",
      "              dtype='datetime64[ns]', name='Month', length=144, freq='MS')\n"
     ]
    }
   ],
   "source": [
    "print(data1.index)"
   ]
  },
  {
   "cell_type": "markdown",
   "id": "82b6e67d",
   "metadata": {},
   "source": [
    "# IMPLEMENT AUTO ARIMA MODEL"
   ]
  },
  {
   "cell_type": "code",
   "execution_count": 17,
   "id": "8bcc41d7",
   "metadata": {},
   "outputs": [],
   "source": [
    "from pmdarima import auto_arima"
   ]
  },
  {
   "cell_type": "code",
   "execution_count": 19,
   "id": "1d45a572",
   "metadata": {},
   "outputs": [
    {
     "name": "stdout",
     "output_type": "stream",
     "text": [
      "Performing stepwise search to minimize aic\n",
      " ARIMA(1,1,1)(0,1,1)[12]             : AIC=1022.896, Time=0.31 sec\n",
      " ARIMA(0,1,0)(0,1,0)[12]             : AIC=1031.508, Time=0.00 sec\n",
      " ARIMA(1,1,0)(1,1,0)[12]             : AIC=1020.393, Time=0.19 sec\n",
      " ARIMA(0,1,1)(0,1,1)[12]             : AIC=1021.003, Time=0.21 sec\n",
      " ARIMA(1,1,0)(0,1,0)[12]             : AIC=1020.393, Time=0.02 sec\n",
      " ARIMA(1,1,0)(2,1,0)[12]             : AIC=1019.239, Time=0.38 sec\n",
      " ARIMA(1,1,0)(2,1,1)[12]             : AIC=inf, Time=1.92 sec\n",
      " ARIMA(1,1,0)(1,1,1)[12]             : AIC=1020.493, Time=0.35 sec\n",
      " ARIMA(0,1,0)(2,1,0)[12]             : AIC=1032.120, Time=0.30 sec\n",
      " ARIMA(2,1,0)(2,1,0)[12]             : AIC=1021.120, Time=0.44 sec\n",
      " ARIMA(1,1,1)(2,1,0)[12]             : AIC=1021.032, Time=0.59 sec\n",
      " ARIMA(0,1,1)(2,1,0)[12]             : AIC=1019.178, Time=0.36 sec\n",
      " ARIMA(0,1,1)(1,1,0)[12]             : AIC=1020.425, Time=0.12 sec\n",
      " ARIMA(0,1,1)(2,1,1)[12]             : AIC=inf, Time=1.72 sec\n",
      " ARIMA(0,1,1)(1,1,1)[12]             : AIC=1020.327, Time=0.29 sec\n",
      " ARIMA(0,1,2)(2,1,0)[12]             : AIC=1021.148, Time=0.42 sec\n",
      " ARIMA(1,1,2)(2,1,0)[12]             : AIC=1022.805, Time=0.66 sec\n",
      " ARIMA(0,1,1)(2,1,0)[12] intercept   : AIC=1021.017, Time=0.55 sec\n",
      "\n",
      "Best model:  ARIMA(0,1,1)(2,1,0)[12]          \n",
      "Total fit time: 8.849 seconds\n"
     ]
    }
   ],
   "source": [
    "stepwise_auto = auto_arima(data1['Passengers'],start_p = 1, start_q = 1, max_p = 3, max_q = 3, m = 12,\n",
    "                          start_P = 0, seasonal = True,\n",
    "                          d = None, D = 1, trace = True,\n",
    "                          error_action = 'ignore',\n",
    "                          suppress_warnings = True,\n",
    "                          stepwise = True)"
   ]
  },
  {
   "cell_type": "markdown",
   "id": "e797d58f",
   "metadata": {},
   "source": [
    "# SUMMARY OF ARIMA MODEL"
   ]
  },
  {
   "cell_type": "code",
   "execution_count": 20,
   "id": "0ad7a542",
   "metadata": {},
   "outputs": [
    {
     "data": {
      "text/html": [
       "<table class=\"simpletable\">\n",
       "<caption>SARIMAX Results</caption>\n",
       "<tr>\n",
       "  <th>Dep. Variable:</th>                  <td>y</td>                <th>  No. Observations:  </th>    <td>144</td>  \n",
       "</tr>\n",
       "<tr>\n",
       "  <th>Model:</th>           <td>SARIMAX(0, 1, 1)x(2, 1, [], 12)</td> <th>  Log Likelihood     </th> <td>-505.589</td>\n",
       "</tr>\n",
       "<tr>\n",
       "  <th>Date:</th>                   <td>Fri, 30 Jun 2023</td>         <th>  AIC                </th> <td>1019.178</td>\n",
       "</tr>\n",
       "<tr>\n",
       "  <th>Time:</th>                       <td>16:25:15</td>             <th>  BIC                </th> <td>1030.679</td>\n",
       "</tr>\n",
       "<tr>\n",
       "  <th>Sample:</th>                    <td>01-01-1949</td>            <th>  HQIC               </th> <td>1023.851</td>\n",
       "</tr>\n",
       "<tr>\n",
       "  <th></th>                          <td>- 12-01-1960</td>           <th>                     </th>     <td> </td>   \n",
       "</tr>\n",
       "<tr>\n",
       "  <th>Covariance Type:</th>               <td>opg</td>               <th>                     </th>     <td> </td>   \n",
       "</tr>\n",
       "</table>\n",
       "<table class=\"simpletable\">\n",
       "<tr>\n",
       "      <td></td>        <th>coef</th>     <th>std err</th>      <th>z</th>      <th>P>|z|</th>  <th>[0.025</th>    <th>0.975]</th>  \n",
       "</tr>\n",
       "<tr>\n",
       "  <th>ma.L1</th>    <td>   -0.3634</td> <td>    0.074</td> <td>   -4.945</td> <td> 0.000</td> <td>   -0.508</td> <td>   -0.219</td>\n",
       "</tr>\n",
       "<tr>\n",
       "  <th>ar.S.L12</th> <td>   -0.1239</td> <td>    0.090</td> <td>   -1.372</td> <td> 0.170</td> <td>   -0.301</td> <td>    0.053</td>\n",
       "</tr>\n",
       "<tr>\n",
       "  <th>ar.S.L24</th> <td>    0.1911</td> <td>    0.107</td> <td>    1.783</td> <td> 0.075</td> <td>   -0.019</td> <td>    0.401</td>\n",
       "</tr>\n",
       "<tr>\n",
       "  <th>sigma2</th>   <td>  130.4480</td> <td>   15.527</td> <td>    8.402</td> <td> 0.000</td> <td>  100.016</td> <td>  160.880</td>\n",
       "</tr>\n",
       "</table>\n",
       "<table class=\"simpletable\">\n",
       "<tr>\n",
       "  <th>Ljung-Box (L1) (Q):</th>     <td>0.01</td> <th>  Jarque-Bera (JB):  </th> <td>4.59</td>\n",
       "</tr>\n",
       "<tr>\n",
       "  <th>Prob(Q):</th>                <td>0.92</td> <th>  Prob(JB):          </th> <td>0.10</td>\n",
       "</tr>\n",
       "<tr>\n",
       "  <th>Heteroskedasticity (H):</th> <td>2.70</td> <th>  Skew:              </th> <td>0.15</td>\n",
       "</tr>\n",
       "<tr>\n",
       "  <th>Prob(H) (two-sided):</th>    <td>0.00</td> <th>  Kurtosis:          </th> <td>3.87</td>\n",
       "</tr>\n",
       "</table><br/><br/>Warnings:<br/>[1] Covariance matrix calculated using the outer product of gradients (complex-step)."
      ],
      "text/latex": [
       "\\begin{center}\n",
       "\\begin{tabular}{lclc}\n",
       "\\toprule\n",
       "\\textbf{Dep. Variable:}          &                y                & \\textbf{  No. Observations:  } &    144      \\\\\n",
       "\\textbf{Model:}                  & SARIMAX(0, 1, 1)x(2, 1, [], 12) & \\textbf{  Log Likelihood     } &  -505.589   \\\\\n",
       "\\textbf{Date:}                   &         Fri, 30 Jun 2023        & \\textbf{  AIC                } &  1019.178   \\\\\n",
       "\\textbf{Time:}                   &             16:25:15            & \\textbf{  BIC                } &  1030.679   \\\\\n",
       "\\textbf{Sample:}                 &            01-01-1949           & \\textbf{  HQIC               } &  1023.851   \\\\\n",
       "\\textbf{}                        &           - 12-01-1960          & \\textbf{                     } &             \\\\\n",
       "\\textbf{Covariance Type:}        &               opg               & \\textbf{                     } &             \\\\\n",
       "\\bottomrule\n",
       "\\end{tabular}\n",
       "\\begin{tabular}{lcccccc}\n",
       "                  & \\textbf{coef} & \\textbf{std err} & \\textbf{z} & \\textbf{P$> |$z$|$} & \\textbf{[0.025} & \\textbf{0.975]}  \\\\\n",
       "\\midrule\n",
       "\\textbf{ma.L1}    &      -0.3634  &        0.074     &    -4.945  &         0.000        &       -0.508    &       -0.219     \\\\\n",
       "\\textbf{ar.S.L12} &      -0.1239  &        0.090     &    -1.372  &         0.170        &       -0.301    &        0.053     \\\\\n",
       "\\textbf{ar.S.L24} &       0.1911  &        0.107     &     1.783  &         0.075        &       -0.019    &        0.401     \\\\\n",
       "\\textbf{sigma2}   &     130.4480  &       15.527     &     8.402  &         0.000        &      100.016    &      160.880     \\\\\n",
       "\\bottomrule\n",
       "\\end{tabular}\n",
       "\\begin{tabular}{lclc}\n",
       "\\textbf{Ljung-Box (L1) (Q):}     & 0.01 & \\textbf{  Jarque-Bera (JB):  } & 4.59  \\\\\n",
       "\\textbf{Prob(Q):}                & 0.92 & \\textbf{  Prob(JB):          } & 0.10  \\\\\n",
       "\\textbf{Heteroskedasticity (H):} & 2.70 & \\textbf{  Skew:              } & 0.15  \\\\\n",
       "\\textbf{Prob(H) (two-sided):}    & 0.00 & \\textbf{  Kurtosis:          } & 3.87  \\\\\n",
       "\\bottomrule\n",
       "\\end{tabular}\n",
       "%\\caption{SARIMAX Results}\n",
       "\\end{center}\n",
       "\n",
       "Warnings: \\newline\n",
       " [1] Covariance matrix calculated using the outer product of gradients (complex-step)."
      ],
      "text/plain": [
       "<class 'statsmodels.iolib.summary.Summary'>\n",
       "\"\"\"\n",
       "                                      SARIMAX Results                                      \n",
       "===========================================================================================\n",
       "Dep. Variable:                                   y   No. Observations:                  144\n",
       "Model:             SARIMAX(0, 1, 1)x(2, 1, [], 12)   Log Likelihood                -505.589\n",
       "Date:                             Fri, 30 Jun 2023   AIC                           1019.178\n",
       "Time:                                     16:25:15   BIC                           1030.679\n",
       "Sample:                                 01-01-1949   HQIC                          1023.851\n",
       "                                      - 12-01-1960                                         \n",
       "Covariance Type:                               opg                                         \n",
       "==============================================================================\n",
       "                 coef    std err          z      P>|z|      [0.025      0.975]\n",
       "------------------------------------------------------------------------------\n",
       "ma.L1         -0.3634      0.074     -4.945      0.000      -0.508      -0.219\n",
       "ar.S.L12      -0.1239      0.090     -1.372      0.170      -0.301       0.053\n",
       "ar.S.L24       0.1911      0.107      1.783      0.075      -0.019       0.401\n",
       "sigma2       130.4480     15.527      8.402      0.000     100.016     160.880\n",
       "===================================================================================\n",
       "Ljung-Box (L1) (Q):                   0.01   Jarque-Bera (JB):                 4.59\n",
       "Prob(Q):                              0.92   Prob(JB):                         0.10\n",
       "Heteroskedasticity (H):               2.70   Skew:                             0.15\n",
       "Prob(H) (two-sided):                  0.00   Kurtosis:                         3.87\n",
       "===================================================================================\n",
       "\n",
       "Warnings:\n",
       "[1] Covariance matrix calculated using the outer product of gradients (complex-step).\n",
       "\"\"\""
      ]
     },
     "execution_count": 20,
     "metadata": {},
     "output_type": "execute_result"
    }
   ],
   "source": [
    "stepwise_auto.summary()"
   ]
  },
  {
   "cell_type": "code",
   "execution_count": null,
   "id": "50da4c71",
   "metadata": {},
   "outputs": [],
   "source": []
  }
 ],
 "metadata": {
  "kernelspec": {
   "display_name": "Python 3 (ipykernel)",
   "language": "python",
   "name": "python3"
  },
  "language_info": {
   "codemirror_mode": {
    "name": "ipython",
    "version": 3
   },
   "file_extension": ".py",
   "mimetype": "text/x-python",
   "name": "python",
   "nbconvert_exporter": "python",
   "pygments_lexer": "ipython3",
   "version": "3.11.4"
  }
 },
 "nbformat": 4,
 "nbformat_minor": 5
}
