{
 "cells": [
  {
   "cell_type": "markdown",
   "metadata": {},
   "source": [
    "# SERIES\n",
    "A series object can be defined as the one dimensional labelled array.\n",
    "\n",
    "It has elements of same or different types. It is much similar to lists."
   ]
  },
  {
   "cell_type": "code",
   "execution_count": 1,
   "metadata": {},
   "outputs": [],
   "source": [
    "import pandas as pd"
   ]
  },
  {
   "cell_type": "code",
   "execution_count": 2,
   "metadata": {},
   "outputs": [
    {
     "name": "stdout",
     "output_type": "stream",
     "text": [
      "0    1\n",
      "1    2\n",
      "2    3\n",
      "3    4\n",
      "4    5\n",
      "dtype: int64\n"
     ]
    }
   ],
   "source": [
    "data = [1, 2, 3, 4, 5]\n",
    "\n",
    "# creating the series object from the list\n",
    "series_obj = pd.Series(data)\n",
    "print(series_obj)"
   ]
  },
  {
   "cell_type": "code",
   "execution_count": 3,
   "metadata": {},
   "outputs": [
    {
     "name": "stdout",
     "output_type": "stream",
     "text": [
      "<class 'pandas.core.series.Series'>\n"
     ]
    }
   ],
   "source": [
    "# checking the data type of the data\n",
    "print(type(series_obj))"
   ]
  },
  {
   "cell_type": "code",
   "execution_count": 4,
   "metadata": {},
   "outputs": [
    {
     "name": "stdout",
     "output_type": "stream",
     "text": [
      "a    1\n",
      "b    2\n",
      "c    3\n",
      "d    4\n",
      "e    5\n",
      "dtype: int64\n"
     ]
    }
   ],
   "source": [
    "# changing the index name in series object\n",
    "obj = pd.Series(data, index = ['a','b','c','d','e'])\n",
    "print(obj)"
   ]
  },
  {
   "cell_type": "code",
   "execution_count": 6,
   "metadata": {},
   "outputs": [
    {
     "name": "stdout",
     "output_type": "stream",
     "text": [
      "a1    1\n",
      "b1    2\n",
      "c1    3\n",
      "d1    4\n",
      "e1    5\n",
      "dtype: int64\n"
     ]
    }
   ],
   "source": [
    "# changing another set of index names in the series onject\n",
    "obj1 = pd.Series(data, index = ['a1','b1','c1','d1','e1'])\n",
    "print(obj1)"
   ]
  },
  {
   "cell_type": "markdown",
   "metadata": {},
   "source": [
    "# DATAFRAME"
   ]
  },
  {
   "cell_type": "markdown",
   "metadata": {},
   "source": [
    "A Dataframe can be defined as a two dimensional array of elements with different types\n",
    "\n",
    "mutuable size\n",
    "\n",
    "labelled axis\n",
    "\n",
    "arithmetic operations on rows and columns"
   ]
  },
  {
   "cell_type": "code",
   "execution_count": 1,
   "metadata": {},
   "outputs": [
    {
     "name": "stdout",
     "output_type": "stream",
     "text": [
      "   0\n",
      "0  1\n",
      "1  2\n",
      "2  3\n",
      "3  4\n",
      "4  5\n"
     ]
    }
   ],
   "source": [
    "import pandas as pd\n",
    "\n",
    "data = [1, 2, 3, 4, 5]\n",
    "\n",
    "# creation of dataframe using list\n",
    "\n",
    "df = pd.DataFrame(data)\n",
    "print(df)"
   ]
  },
  {
   "cell_type": "code",
   "execution_count": 3,
   "metadata": {},
   "outputs": [
    {
     "name": "stdout",
     "output_type": "stream",
     "text": [
      "{'fruits': ['apple', 'banana', 'guava', 'oranges', 'papaya'], 'count': [10, 20, 30, 40, 50]}\n",
      "    fruits  count\n",
      "0    apple     10\n",
      "1   banana     20\n",
      "2    guava     30\n",
      "3  oranges     40\n",
      "4   papaya     50\n"
     ]
    }
   ],
   "source": [
    "# creation of dataframe using dictionary\n",
    "dict = {'fruits': ['apple','banana','guava','oranges','papaya'], 'count' : [10, 20, 30, 40, 50]}\n",
    "print(dict)\n",
    "\n",
    "df1 = pd.DataFrame(dict)\n",
    "print(df1)"
   ]
  },
  {
   "cell_type": "code",
   "execution_count": 5,
   "metadata": {},
   "outputs": [
    {
     "name": "stdout",
     "output_type": "stream",
     "text": [
      "a    10\n",
      "b    20\n",
      "c    30\n",
      "d    40\n",
      "e    50\n",
      "dtype: int64\n",
      "    0\n",
      "a  10\n",
      "b  20\n",
      "c  30\n",
      "d  40\n",
      "e  50\n"
     ]
    }
   ],
   "source": [
    "# creation of series\n",
    "ser = pd.Series([10, 20, 30, 40, 50], index = ['a','b','c','d','e'])\n",
    "print(ser)\n",
    "\n",
    "# convert the series into DataFrame\n",
    "df = pd.DataFrame(ser)\n",
    "print(df)"
   ]
  },
  {
   "cell_type": "code",
   "execution_count": 12,
   "metadata": {},
   "outputs": [
    {
     "name": "stdout",
     "output_type": "stream",
     "text": [
      "[['Parag' 'Ayush']\n",
      " ['98657' '467964']]\n",
      "    name  mobile\n",
      "0  Parag   98657\n",
      "1  Ayush  467964\n"
     ]
    }
   ],
   "source": [
    "# creation of DataFrame using numpy array\n",
    "import numpy as np\n",
    "import pandas as pd\n",
    "x= np.array([[\"Parag\",\"Ayush\"] , [98657,467964]])\n",
    "print(x)\n",
    "# convert the numpy array into DataFrame\n",
    "df = pd.DataFrame({'name' : x[0] , 'mobile' : x[1]})\n",
    "print(df)"
   ]
  },
  {
   "cell_type": "code",
   "execution_count": null,
   "metadata": {},
   "outputs": [],
   "source": []
  }
 ],
 "metadata": {
  "kernelspec": {
   "display_name": "Python 3",
   "language": "python",
   "name": "python3"
  },
  "language_info": {
   "codemirror_mode": {
    "name": "ipython",
    "version": 3
   },
   "file_extension": ".py",
   "mimetype": "text/x-python",
   "name": "python",
   "nbconvert_exporter": "python",
   "pygments_lexer": "ipython3",
   "version": "3.8.3"
  }
 },
 "nbformat": 4,
 "nbformat_minor": 5
}
