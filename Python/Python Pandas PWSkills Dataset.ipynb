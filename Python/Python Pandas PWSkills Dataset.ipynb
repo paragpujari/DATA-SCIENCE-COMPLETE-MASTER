{
 "cells": [
  {
   "cell_type": "markdown",
   "metadata": {},
   "source": [
    "# IMPORTING AND ANALYZING THE DATASET"
   ]
  },
  {
   "cell_type": "code",
   "execution_count": 1,
   "metadata": {},
   "outputs": [],
   "source": [
    "import pandas as pd\n",
    "import numpy as np"
   ]
  },
  {
   "cell_type": "code",
   "execution_count": 2,
   "metadata": {},
   "outputs": [
    {
     "name": "stdout",
     "output_type": "stream",
     "text": [
      "    S.No                model   mpg  cyl   disp   hp  drat     wt   qsec  vs  \\\n",
      "0      1            Mazda RX4  21.0    6  160.0  110  3.90  2.620  16.46   0   \n",
      "1      2        Mazda RX4 Wag  21.0    6  160.0  110  3.90  2.875  17.02   0   \n",
      "2      3           Datsun 710  22.8    4  108.0   93  3.85  2.320  18.61   1   \n",
      "3      4       Hornet 4 Drive  21.4    6  258.0  110  3.08  3.215  19.44   1   \n",
      "4      5    Hornet Sportabout  18.7    8  360.0  175  3.15  3.440  17.02   0   \n",
      "5      6              Valiant  18.1    6  225.0  105  2.76  3.460    NaN   1   \n",
      "6      7           Duster 360  14.3    8  360.0  245  3.21  3.570  15.84   0   \n",
      "7      8            Merc 240D  24.4    4  146.7   62  3.69  3.190  20.00   1   \n",
      "8      9             Merc 230  22.8    4  140.8   95  3.92  3.150  22.90   1   \n",
      "9     10             Merc 280  19.2    6  167.6  123  3.92  3.440  18.30   1   \n",
      "10    11            Merc 280C  17.8    6  167.6  123  3.92  3.440  18.90   1   \n",
      "11    12           Merc 450SE  16.4    8  275.8  180  3.07  4.070  17.40   0   \n",
      "12    13           Merc 450SL  17.3    8  275.8  180  3.07  3.730  17.60   0   \n",
      "13    14          Merc 450SLC  15.2    8  275.8  180  3.07  3.780  18.00   0   \n",
      "14    15   Cadillac Fleetwood  10.4    8  472.0  205  2.93  5.250  17.98   0   \n",
      "15    16  Lincoln Continental  10.4    8  460.0  215  3.00  5.424  17.82   0   \n",
      "16    17    Chrysler Imperial  14.7    8  440.0  230  3.23  5.345  17.42   0   \n",
      "17    18             Fiat 128  32.4    4   78.7   66  4.08  2.200    NaN   1   \n",
      "18    19          Honda Civic  30.4    4   75.7   52  4.93  1.615  18.52   1   \n",
      "19    20       Toyota Corolla  33.9    4   71.1   65  4.22  1.835  19.90   1   \n",
      "20    21        Toyota Corona  21.5    4  120.1   97  3.70  2.465  20.01   1   \n",
      "21    22     Dodge Challenger  15.5    8  318.0  150  2.76  3.520  16.87   0   \n",
      "22    23          AMC Javelin  15.2    8  304.0  150  3.15  3.435  17.30   0   \n",
      "23    24           Camaro Z28  13.3    8  350.0  245  3.73  3.840  15.41   0   \n",
      "24    25     Pontiac Firebird  19.2    8  400.0  175  3.08  3.845  17.05   0   \n",
      "25    26            Fiat X1-9  27.3    4   79.0   66  4.08  1.935    NaN   1   \n",
      "26    27        Porsche 914-2  26.0    4  120.3   91  4.43  2.140  16.70   0   \n",
      "27    28         Lotus Europa  30.4    4   95.1  113  3.77  1.513  16.90   1   \n",
      "28    29       Ford Pantera L  15.8    8  351.0  264  4.22  3.170  14.50   0   \n",
      "29    30         Ferrari Dino  19.7    6  145.0  175  3.62  2.770  15.50   0   \n",
      "30    31        Maserati Bora  15.0    8  301.0  335  3.54  3.570  14.60   0   \n",
      "31    32           Volvo 142E  21.4    4  121.0  109  4.11  2.780  18.60   1   \n",
      "\n",
      "    am  gear  carb  \n",
      "0    1     4     4  \n",
      "1    1     4     4  \n",
      "2    1     4     1  \n",
      "3    0     3     1  \n",
      "4    0     3     2  \n",
      "5    0     3     1  \n",
      "6    0     3     4  \n",
      "7    0     4     2  \n",
      "8    0     4     2  \n",
      "9    0     4     4  \n",
      "10   0     4     4  \n",
      "11   0     3     3  \n",
      "12   0     3     3  \n",
      "13   0     3     3  \n",
      "14   0     3     4  \n",
      "15   0     3     4  \n",
      "16   0     3     4  \n",
      "17   1     4     1  \n",
      "18   1     4     2  \n",
      "19   1     4     1  \n",
      "20   0     3     1  \n",
      "21   0     3     2  \n",
      "22   0     3     2  \n",
      "23   0     3     4  \n",
      "24   0     3     2  \n",
      "25   1     4     1  \n",
      "26   1     5     2  \n",
      "27   1     5     2  \n",
      "28   1     5     4  \n",
      "29   1     5     6  \n",
      "30   1     5     8  \n",
      "31   1     4     2  \n"
     ]
    }
   ],
   "source": [
    "# load and read the dataset\n",
    "data = pd.read_csv('cars.csv')\n",
    "print(data)"
   ]
  },
  {
   "cell_type": "code",
   "execution_count": 4,
   "metadata": {},
   "outputs": [
    {
     "name": "stdout",
     "output_type": "stream",
     "text": [
      "<class 'pandas.core.frame.DataFrame'>\n"
     ]
    }
   ],
   "source": [
    "# checking the datatype of the dataset\n",
    "print(type(data))"
   ]
  },
  {
   "cell_type": "code",
   "execution_count": 5,
   "metadata": {},
   "outputs": [
    {
     "name": "stdout",
     "output_type": "stream",
     "text": [
      "   S.No              model   mpg  cyl   disp   hp  drat     wt   qsec  vs  am  \\\n",
      "0     1          Mazda RX4  21.0    6  160.0  110  3.90  2.620  16.46   0   1   \n",
      "1     2      Mazda RX4 Wag  21.0    6  160.0  110  3.90  2.875  17.02   0   1   \n",
      "2     3         Datsun 710  22.8    4  108.0   93  3.85  2.320  18.61   1   1   \n",
      "3     4     Hornet 4 Drive  21.4    6  258.0  110  3.08  3.215  19.44   1   0   \n",
      "4     5  Hornet Sportabout  18.7    8  360.0  175  3.15  3.440  17.02   0   0   \n",
      "\n",
      "   gear  carb  \n",
      "0     4     4  \n",
      "1     4     4  \n",
      "2     4     1  \n",
      "3     3     1  \n",
      "4     3     2  \n"
     ]
    }
   ],
   "source": [
    "# get the first five records from the dataset\n",
    "print(data.head(5))"
   ]
  },
  {
   "cell_type": "code",
   "execution_count": 6,
   "metadata": {},
   "outputs": [
    {
     "name": "stdout",
     "output_type": "stream",
     "text": [
      "   S.No              model   mpg  cyl   disp   hp  drat     wt   qsec  vs  am  \\\n",
      "0     1          Mazda RX4  21.0    6  160.0  110  3.90  2.620  16.46   0   1   \n",
      "1     2      Mazda RX4 Wag  21.0    6  160.0  110  3.90  2.875  17.02   0   1   \n",
      "2     3         Datsun 710  22.8    4  108.0   93  3.85  2.320  18.61   1   1   \n",
      "3     4     Hornet 4 Drive  21.4    6  258.0  110  3.08  3.215  19.44   1   0   \n",
      "4     5  Hornet Sportabout  18.7    8  360.0  175  3.15  3.440  17.02   0   0   \n",
      "5     6            Valiant  18.1    6  225.0  105  2.76  3.460    NaN   1   0   \n",
      "6     7         Duster 360  14.3    8  360.0  245  3.21  3.570  15.84   0   0   \n",
      "7     8          Merc 240D  24.4    4  146.7   62  3.69  3.190  20.00   1   0   \n",
      "8     9           Merc 230  22.8    4  140.8   95  3.92  3.150  22.90   1   0   \n",
      "9    10           Merc 280  19.2    6  167.6  123  3.92  3.440  18.30   1   0   \n",
      "\n",
      "   gear  carb  \n",
      "0     4     4  \n",
      "1     4     4  \n",
      "2     4     1  \n",
      "3     3     1  \n",
      "4     3     2  \n",
      "5     3     1  \n",
      "6     3     4  \n",
      "7     4     2  \n",
      "8     4     2  \n",
      "9     4     4  \n"
     ]
    }
   ],
   "source": [
    "# get the first ten records from the dataset\n",
    "print(data.head(10))"
   ]
  },
  {
   "cell_type": "code",
   "execution_count": 7,
   "metadata": {},
   "outputs": [
    {
     "name": "stdout",
     "output_type": "stream",
     "text": [
      "    S.No           model   mpg  cyl   disp   hp  drat     wt  qsec  vs  am  \\\n",
      "27    28    Lotus Europa  30.4    4   95.1  113  3.77  1.513  16.9   1   1   \n",
      "28    29  Ford Pantera L  15.8    8  351.0  264  4.22  3.170  14.5   0   1   \n",
      "29    30    Ferrari Dino  19.7    6  145.0  175  3.62  2.770  15.5   0   1   \n",
      "30    31   Maserati Bora  15.0    8  301.0  335  3.54  3.570  14.6   0   1   \n",
      "31    32      Volvo 142E  21.4    4  121.0  109  4.11  2.780  18.6   1   1   \n",
      "\n",
      "    gear  carb  \n",
      "27     5     2  \n",
      "28     5     4  \n",
      "29     5     6  \n",
      "30     5     8  \n",
      "31     4     2  \n"
     ]
    }
   ],
   "source": [
    "# get the last five records from the dataset\n",
    "print(data.tail(5))"
   ]
  },
  {
   "cell_type": "code",
   "execution_count": 8,
   "metadata": {},
   "outputs": [
    {
     "name": "stdout",
     "output_type": "stream",
     "text": [
      "    S.No             model   mpg  cyl   disp   hp  drat     wt   qsec  vs  am  \\\n",
      "22    23       AMC Javelin  15.2    8  304.0  150  3.15  3.435  17.30   0   0   \n",
      "23    24        Camaro Z28  13.3    8  350.0  245  3.73  3.840  15.41   0   0   \n",
      "24    25  Pontiac Firebird  19.2    8  400.0  175  3.08  3.845  17.05   0   0   \n",
      "25    26         Fiat X1-9  27.3    4   79.0   66  4.08  1.935    NaN   1   1   \n",
      "26    27     Porsche 914-2  26.0    4  120.3   91  4.43  2.140  16.70   0   1   \n",
      "27    28      Lotus Europa  30.4    4   95.1  113  3.77  1.513  16.90   1   1   \n",
      "28    29    Ford Pantera L  15.8    8  351.0  264  4.22  3.170  14.50   0   1   \n",
      "29    30      Ferrari Dino  19.7    6  145.0  175  3.62  2.770  15.50   0   1   \n",
      "30    31     Maserati Bora  15.0    8  301.0  335  3.54  3.570  14.60   0   1   \n",
      "31    32        Volvo 142E  21.4    4  121.0  109  4.11  2.780  18.60   1   1   \n",
      "\n",
      "    gear  carb  \n",
      "22     3     2  \n",
      "23     3     4  \n",
      "24     3     2  \n",
      "25     4     1  \n",
      "26     5     2  \n",
      "27     5     2  \n",
      "28     5     4  \n",
      "29     5     6  \n",
      "30     5     8  \n",
      "31     4     2  \n"
     ]
    }
   ],
   "source": [
    "# get the last ten records from the dataset\n",
    "print(data.tail(10))"
   ]
  },
  {
   "cell_type": "code",
   "execution_count": 9,
   "metadata": {},
   "outputs": [
    {
     "name": "stdout",
     "output_type": "stream",
     "text": [
      "(32, 13)\n"
     ]
    }
   ],
   "source": [
    "# To determine the number of rows and columns in the dataset\n",
    "print(data.shape)"
   ]
  },
  {
   "cell_type": "code",
   "execution_count": 11,
   "metadata": {},
   "outputs": [
    {
     "name": "stdout",
     "output_type": "stream",
     "text": [
      "<class 'pandas.core.frame.DataFrame'>\n",
      "RangeIndex: 32 entries, 0 to 31\n",
      "Data columns (total 13 columns):\n",
      " #   Column  Non-Null Count  Dtype  \n",
      "---  ------  --------------  -----  \n",
      " 0   S.No    32 non-null     int64  \n",
      " 1   model   32 non-null     object \n",
      " 2   mpg     32 non-null     float64\n",
      " 3   cyl     32 non-null     int64  \n",
      " 4   disp    32 non-null     float64\n",
      " 5   hp      32 non-null     int64  \n",
      " 6   drat    32 non-null     float64\n",
      " 7   wt      32 non-null     float64\n",
      " 8   qsec    29 non-null     float64\n",
      " 9   vs      32 non-null     int64  \n",
      " 10  am      32 non-null     int64  \n",
      " 11  gear    32 non-null     int64  \n",
      " 12  carb    32 non-null     int64  \n",
      "dtypes: float64(5), int64(7), object(1)\n",
      "memory usage: 3.4+ KB\n",
      "None\n"
     ]
    }
   ],
   "source": [
    "# To give the concise summary of the dataset\n",
    "print(data.info(null_counts = True))"
   ]
  },
  {
   "cell_type": "code",
   "execution_count": 14,
   "metadata": {},
   "outputs": [
    {
     "name": "stdout",
     "output_type": "stream",
     "text": [
      "S.No     16.500000\n",
      "mpg      20.090625\n",
      "cyl       6.187500\n",
      "disp    230.721875\n",
      "hp      146.687500\n",
      "drat      3.596563\n",
      "wt        3.217250\n",
      "qsec     17.674828\n",
      "vs        0.437500\n",
      "am        0.406250\n",
      "gear      3.687500\n",
      "carb      2.812500\n",
      "dtype: float64\n"
     ]
    }
   ],
   "source": [
    "# To get the mean value of all the attributes in the dataset\n",
    "print(data.mean())"
   ]
  },
  {
   "cell_type": "code",
   "execution_count": 15,
   "metadata": {},
   "outputs": [
    {
     "name": "stdout",
     "output_type": "stream",
     "text": [
      "S.No     16.500\n",
      "mpg      19.200\n",
      "cyl       6.000\n",
      "disp    196.300\n",
      "hp      123.000\n",
      "drat      3.695\n",
      "wt        3.325\n",
      "qsec     17.420\n",
      "vs        0.000\n",
      "am        0.000\n",
      "gear      4.000\n",
      "carb      2.000\n",
      "dtype: float64\n"
     ]
    }
   ],
   "source": [
    "# To get the median value of all the attributes in the dataset\n",
    "print(data.median())"
   ]
  },
  {
   "cell_type": "code",
   "execution_count": 16,
   "metadata": {},
   "outputs": [
    {
     "name": "stdout",
     "output_type": "stream",
     "text": [
      "S.No      9.380832\n",
      "mpg       6.026948\n",
      "cyl       1.785922\n",
      "disp    123.938694\n",
      "hp       68.562868\n",
      "drat      0.534679\n",
      "wt        0.978457\n",
      "qsec      1.780394\n",
      "vs        0.504016\n",
      "am        0.498991\n",
      "gear      0.737804\n",
      "carb      1.615200\n",
      "dtype: float64\n"
     ]
    }
   ],
   "source": [
    "# To get the standard deviation of all the columns in the dataset\n",
    "print(data.std())"
   ]
  },
  {
   "cell_type": "code",
   "execution_count": 17,
   "metadata": {},
   "outputs": [
    {
     "name": "stdout",
     "output_type": "stream",
     "text": [
      "S.No       88.000000\n",
      "mpg        36.324103\n",
      "cyl         3.189516\n",
      "disp    15360.799829\n",
      "hp       4700.866935\n",
      "drat        0.285881\n",
      "wt          0.957379\n",
      "qsec        3.169804\n",
      "vs          0.254032\n",
      "am          0.248992\n",
      "gear        0.544355\n",
      "carb        2.608871\n",
      "dtype: float64\n"
     ]
    }
   ],
   "source": [
    "# To get the variance of all the columns in the dataset\n",
    "print(data.var())"
   ]
  },
  {
   "cell_type": "code",
   "execution_count": 18,
   "metadata": {},
   "outputs": [
    {
     "name": "stdout",
     "output_type": "stream",
     "text": [
      "S.No               1\n",
      "model    AMC Javelin\n",
      "mpg             10.4\n",
      "cyl                4\n",
      "disp            71.1\n",
      "hp                52\n",
      "drat            2.76\n",
      "wt             1.513\n",
      "qsec            14.5\n",
      "vs                 0\n",
      "am                 0\n",
      "gear               3\n",
      "carb               1\n",
      "dtype: object\n"
     ]
    }
   ],
   "source": [
    "# To get the minimum value of all the columns in the dataset\n",
    "print(data.min())"
   ]
  },
  {
   "cell_type": "code",
   "execution_count": 19,
   "metadata": {},
   "outputs": [
    {
     "name": "stdout",
     "output_type": "stream",
     "text": [
      "S.No             32\n",
      "model    Volvo 142E\n",
      "mpg            33.9\n",
      "cyl               8\n",
      "disp            472\n",
      "hp              335\n",
      "drat           4.93\n",
      "wt            5.424\n",
      "qsec           22.9\n",
      "vs                1\n",
      "am                1\n",
      "gear              5\n",
      "carb              8\n",
      "dtype: object\n"
     ]
    }
   ],
   "source": [
    "# To get the maximum value of all the columns in the dataset\n",
    "print(data.max())"
   ]
  },
  {
   "cell_type": "code",
   "execution_count": 20,
   "metadata": {},
   "outputs": [
    {
     "name": "stdout",
     "output_type": "stream",
     "text": [
      "S.No     32\n",
      "model    32\n",
      "mpg      32\n",
      "cyl      32\n",
      "disp     32\n",
      "hp       32\n",
      "drat     32\n",
      "wt       32\n",
      "qsec     29\n",
      "vs       32\n",
      "am       32\n",
      "gear     32\n",
      "carb     32\n",
      "dtype: int64\n"
     ]
    }
   ],
   "source": [
    "# To count the not null attributes in each column\n",
    "print(data.count())"
   ]
  },
  {
   "cell_type": "code",
   "execution_count": 21,
   "metadata": {},
   "outputs": [
    {
     "name": "stdout",
     "output_type": "stream",
     "text": [
      "            S.No        mpg        cyl        disp          hp       drat  \\\n",
      "count  32.000000  32.000000  32.000000   32.000000   32.000000  32.000000   \n",
      "mean   16.500000  20.090625   6.187500  230.721875  146.687500   3.596563   \n",
      "std     9.380832   6.026948   1.785922  123.938694   68.562868   0.534679   \n",
      "min     1.000000  10.400000   4.000000   71.100000   52.000000   2.760000   \n",
      "25%     8.750000  15.425000   4.000000  120.825000   96.500000   3.080000   \n",
      "50%    16.500000  19.200000   6.000000  196.300000  123.000000   3.695000   \n",
      "75%    24.250000  22.800000   8.000000  326.000000  180.000000   3.920000   \n",
      "max    32.000000  33.900000   8.000000  472.000000  335.000000   4.930000   \n",
      "\n",
      "              wt       qsec         vs         am       gear     carb  \n",
      "count  32.000000  29.000000  32.000000  32.000000  32.000000  32.0000  \n",
      "mean    3.217250  17.674828   0.437500   0.406250   3.687500   2.8125  \n",
      "std     0.978457   1.780394   0.504016   0.498991   0.737804   1.6152  \n",
      "min     1.513000  14.500000   0.000000   0.000000   3.000000   1.0000  \n",
      "25%     2.581250  16.870000   0.000000   0.000000   3.000000   2.0000  \n",
      "50%     3.325000  17.420000   0.000000   0.000000   4.000000   2.0000  \n",
      "75%     3.610000  18.600000   1.000000   1.000000   4.000000   4.0000  \n",
      "max     5.424000  22.900000   1.000000   1.000000   5.000000   8.0000  \n"
     ]
    }
   ],
   "source": [
    "# descriptive summary statistics\n",
    "print(data.describe())"
   ]
  },
  {
   "cell_type": "code",
   "execution_count": null,
   "metadata": {},
   "outputs": [],
   "source": []
  }
 ],
 "metadata": {
  "kernelspec": {
   "display_name": "Python 3",
   "language": "python",
   "name": "python3"
  },
  "language_info": {
   "codemirror_mode": {
    "name": "ipython",
    "version": 3
   },
   "file_extension": ".py",
   "mimetype": "text/x-python",
   "name": "python",
   "nbconvert_exporter": "python",
   "pygments_lexer": "ipython3",
   "version": "3.8.3"
  }
 },
 "nbformat": 4,
 "nbformat_minor": 4
}
