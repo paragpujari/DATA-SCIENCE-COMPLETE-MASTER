{
 "cells": [
  {
   "cell_type": "markdown",
   "metadata": {},
   "source": [
    "# MERGE OPERATIONS IN DATAFRAME"
   ]
  },
  {
   "cell_type": "code",
   "execution_count": 9,
   "metadata": {},
   "outputs": [
    {
     "name": "stdout",
     "output_type": "stream",
     "text": [
      "    Player  Points  Title\n",
      "0  player1       8  Game1\n",
      "1  player2       9  Game2\n",
      "2  player3       6  Game3\n"
     ]
    }
   ],
   "source": [
    "import pandas as pd\n",
    "import numpy as np\n",
    "# three lists\n",
    "player = ['player1' , 'player2', 'player3']\n",
    "points = [8,9,6]\n",
    "title =  ['Game1' , 'Game2', 'Game3']\n",
    "# creating the dataframe from the lists\n",
    "df1 = pd.DataFrame({'Player' : player, 'Points' : points, 'Title' : title})\n",
    "print(df1)"
   ]
  },
  {
   "cell_type": "code",
   "execution_count": 10,
   "metadata": {},
   "outputs": [
    {
     "name": "stdout",
     "output_type": "stream",
     "text": [
      "    Player  Power  Title\n",
      "0  Player1  Punch  Game1\n",
      "1  Player5   Kick  Game5\n",
      "2  Player6  Elbow  Game6\n"
     ]
    }
   ],
   "source": [
    "player = ['Player1','Player5','Player6']\n",
    "power = ['Punch','Kick','Elbow']\n",
    "title = ['Game1', 'Game5', 'Game6']\n",
    "# creating the dataframe using the lists\n",
    "df2 = pd.DataFrame({'Player' : player, 'Power' : power, 'Title' : title})\n",
    "print(df2)"
   ]
  },
  {
   "cell_type": "code",
   "execution_count": 11,
   "metadata": {},
   "outputs": [
    {
     "name": "stdout",
     "output_type": "stream",
     "text": [
      "  Player_x  Points  Title Player_y  Power\n",
      "0  player1       8  Game1  Player1  Punch\n"
     ]
    }
   ],
   "source": [
    "# perform inner merge between two dataframes\n",
    "print(df1.merge(df2, on = 'Title', how = 'inner'))"
   ]
  },
  {
   "cell_type": "code",
   "execution_count": 13,
   "metadata": {},
   "outputs": [
    {
     "name": "stdout",
     "output_type": "stream",
     "text": [
      "  Player_x  Points  Title Player_y  Power\n",
      "0  player1       8  Game1  Player1  Punch\n",
      "1  player2       9  Game2      NaN    NaN\n",
      "2  player3       6  Game3      NaN    NaN\n"
     ]
    }
   ],
   "source": [
    "# perform left merge between two dataframes\n",
    "print(df1.merge(df2, on = 'Title', how = 'left'))"
   ]
  },
  {
   "cell_type": "code",
   "execution_count": 14,
   "metadata": {},
   "outputs": [
    {
     "name": "stdout",
     "output_type": "stream",
     "text": [
      "  Player_x  Points  Title Player_y  Power\n",
      "0  player1     8.0  Game1  Player1  Punch\n",
      "1      NaN     NaN  Game5  Player5   Kick\n",
      "2      NaN     NaN  Game6  Player6  Elbow\n"
     ]
    }
   ],
   "source": [
    "# perform right merge between two dataframes\n",
    "print(df1.merge(df2, on = 'Title', how = 'right'))"
   ]
  },
  {
   "cell_type": "code",
   "execution_count": 15,
   "metadata": {},
   "outputs": [
    {
     "name": "stdout",
     "output_type": "stream",
     "text": [
      "  Player_x  Points  Title Player_y  Power\n",
      "0  player1     8.0  Game1  Player1  Punch\n",
      "1  player2     9.0  Game2      NaN    NaN\n",
      "2  player3     6.0  Game3      NaN    NaN\n",
      "3      NaN     NaN  Game5  Player5   Kick\n",
      "4      NaN     NaN  Game6  Player6  Elbow\n"
     ]
    }
   ],
   "source": [
    "# perform outer merge between two dataframes\n",
    "print(df1.merge(df2, on = 'Title', how = 'outer'))"
   ]
  },
  {
   "cell_type": "markdown",
   "metadata": {},
   "source": [
    "# CONCAT OPERATION IN DATAFRAMES"
   ]
  },
  {
   "cell_type": "code",
   "execution_count": 16,
   "metadata": {},
   "outputs": [
    {
     "name": "stdout",
     "output_type": "stream",
     "text": [
      "     Player  Points  Title\n",
      "L1  player1       8  Game1\n",
      "L2  player2       9  Game2\n",
      "L3  player3       6  Game3\n"
     ]
    }
   ],
   "source": [
    "import pandas as pd\n",
    "import numpy as np\n",
    "# three lists\n",
    "player = ['player1' , 'player2', 'player3']\n",
    "points = [8,9,6]\n",
    "title =  ['Game1' , 'Game2', 'Game3']\n",
    "df3 = pd.DataFrame({'Player' : player, 'Points' : points, 'Title' : title}, index = ['L1','L2','L3'])\n",
    "print(df3)"
   ]
  },
  {
   "cell_type": "code",
   "execution_count": 17,
   "metadata": {},
   "outputs": [
    {
     "name": "stdout",
     "output_type": "stream",
     "text": [
      "    Players  Power Titles\n",
      "L2  Player1  Punch  Game1\n",
      "L3  Player5   Kick  Game5\n",
      "L4  Player6  Elbow  Game6\n"
     ]
    }
   ],
   "source": [
    "player = ['Player1','Player5','Player6']\n",
    "power = ['Punch','Kick','Elbow']\n",
    "title = ['Game1', 'Game5', 'Game6']\n",
    "df4 = pd.DataFrame({'Players': player, 'Power' : power, 'Titles' : title}, index = ['L2','L3','L4'])\n",
    "print(df4)"
   ]
  },
  {
   "cell_type": "code",
   "execution_count": 18,
   "metadata": {},
   "outputs": [
    {
     "name": "stdout",
     "output_type": "stream",
     "text": [
      "     Player  Points  Title  Players  Power Titles\n",
      "L1  player1     8.0  Game1      NaN    NaN    NaN\n",
      "L2  player2     9.0  Game2      NaN    NaN    NaN\n",
      "L3  player3     6.0  Game3      NaN    NaN    NaN\n",
      "L2      NaN     NaN    NaN  Player1  Punch  Game1\n",
      "L3      NaN     NaN    NaN  Player5   Kick  Game5\n",
      "L4      NaN     NaN    NaN  Player6  Elbow  Game6\n"
     ]
    }
   ],
   "source": [
    "# To concat the two dataframes\n",
    "print(pd.concat([df3, df4]))"
   ]
  },
  {
   "cell_type": "markdown",
   "metadata": {},
   "source": [
    "# JOIN OPERATION IN DATAFRAMES"
   ]
  },
  {
   "cell_type": "code",
   "execution_count": 19,
   "metadata": {},
   "outputs": [
    {
     "name": "stdout",
     "output_type": "stream",
     "text": [
      "     Player  Points  Title  Players  Power Titles\n",
      "L2  player2       9  Game2  Player1  Punch  Game1\n",
      "L3  player3       6  Game3  Player5   Kick  Game5\n"
     ]
    }
   ],
   "source": [
    "# To perform the inner join between the two dataframes\n",
    "print(df3.join(df4, how = 'inner'))"
   ]
  },
  {
   "cell_type": "code",
   "execution_count": 20,
   "metadata": {},
   "outputs": [
    {
     "name": "stdout",
     "output_type": "stream",
     "text": [
      "     Player  Points  Title  Players  Power Titles\n",
      "L1  player1       8  Game1      NaN    NaN    NaN\n",
      "L2  player2       9  Game2  Player1  Punch  Game1\n",
      "L3  player3       6  Game3  Player5   Kick  Game5\n"
     ]
    }
   ],
   "source": [
    "# To perform the left join between the two dataframes\n",
    "print(df3.join(df4, how = 'left'))"
   ]
  },
  {
   "cell_type": "code",
   "execution_count": 21,
   "metadata": {},
   "outputs": [
    {
     "name": "stdout",
     "output_type": "stream",
     "text": [
      "     Player  Points  Title  Players  Power Titles\n",
      "L2  player2     9.0  Game2  Player1  Punch  Game1\n",
      "L3  player3     6.0  Game3  Player5   Kick  Game5\n",
      "L4      NaN     NaN    NaN  Player6  Elbow  Game6\n"
     ]
    }
   ],
   "source": [
    "# To perform the right join between the two dataframes\n",
    "print(df3.join(df4, how = 'right'))"
   ]
  },
  {
   "cell_type": "code",
   "execution_count": 22,
   "metadata": {},
   "outputs": [
    {
     "name": "stdout",
     "output_type": "stream",
     "text": [
      "     Player  Points  Title  Players  Power Titles\n",
      "L1  player1     8.0  Game1      NaN    NaN    NaN\n",
      "L2  player2     9.0  Game2  Player1  Punch  Game1\n",
      "L3  player3     6.0  Game3  Player5   Kick  Game5\n",
      "L4      NaN     NaN    NaN  Player6  Elbow  Game6\n"
     ]
    }
   ],
   "source": [
    "# To perform the full outer join between the two dataframes\n",
    "print(df3.join(df4, how = 'outer'))"
   ]
  },
  {
   "cell_type": "code",
   "execution_count": null,
   "metadata": {},
   "outputs": [],
   "source": []
  }
 ],
 "metadata": {
  "kernelspec": {
   "display_name": "Python 3",
   "language": "python",
   "name": "python3"
  },
  "language_info": {
   "codemirror_mode": {
    "name": "ipython",
    "version": 3
   },
   "file_extension": ".py",
   "mimetype": "text/x-python",
   "name": "python",
   "nbconvert_exporter": "python",
   "pygments_lexer": "ipython3",
   "version": "3.8.3"
  }
 },
 "nbformat": 4,
 "nbformat_minor": 4
}
