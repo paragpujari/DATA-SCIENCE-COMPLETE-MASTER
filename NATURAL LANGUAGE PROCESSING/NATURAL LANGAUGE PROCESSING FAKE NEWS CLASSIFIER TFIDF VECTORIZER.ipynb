{
 "cells": [
  {
   "cell_type": "code",
   "execution_count": 1,
   "metadata": {},
   "outputs": [],
   "source": [
    "# import all the necessary libraries\n",
    "\n",
    "import numpy as np\n",
    "import pandas as pd\n",
    "import matplotlib.pyplot as plt\n",
    "%matplotlib inline\n",
    "import seaborn as sns"
   ]
  },
  {
   "cell_type": "code",
   "execution_count": 2,
   "metadata": {},
   "outputs": [],
   "source": [
    "# load the dataset\n",
    "data = pd.read_csv('fake-news-train.csv', encoding = 'unicode_escape')"
   ]
  },
  {
   "cell_type": "code",
   "execution_count": 3,
   "metadata": {},
   "outputs": [
    {
     "name": "stdout",
     "output_type": "stream",
     "text": [
      "   id                                              title              author  \\\n",
      "0   0  House Dem Aide: We Didnât Even See Comeyâs...       Darrell Lucus   \n",
      "1   1  FLYNN: Hillary Clinton, Big Woman on Campus - ...     Daniel J. Flynn   \n",
      "2   2                  Why the Truth Might Get You Fired  Consortiumnews.com   \n",
      "3   3  15 Civilians Killed In Single US Airstrike Hav...     Jessica Purkiss   \n",
      "4   4  Iranian woman jailed for fictional unpublished...      Howard Portnoy   \n",
      "\n",
      "                                                text  label  \n",
      "0  House Dem Aide: We Didnât Even See Comeyâs...      1  \n",
      "1  Ever get the feeling your life circles the rou...      0  \n",
      "2  Why the Truth Might Get You Fired October 29, ...      1  \n",
      "3  Videos 15 Civilians Killed In Single US Airstr...      1  \n",
      "4  Print \\nAn Iranian woman has been sentenced to...      1  \n"
     ]
    }
   ],
   "source": [
    "# print the dataset for the first five rows\n",
    "print(data.head())"
   ]
  },
  {
   "cell_type": "code",
   "execution_count": 4,
   "metadata": {},
   "outputs": [
    {
     "name": "stdout",
     "output_type": "stream",
     "text": [
      "          id                                              title  \\\n",
      "20795  20795  Rapper T.I.: Trump a âPoster Child For White...   \n",
      "20796  20796  N.F.L. Playoffs: Schedule, Matchups and Odds -...   \n",
      "20797  20797  Macyâs Is Said to Receive Takeover Approach ...   \n",
      "20798  20798  NATO, Russia To Hold Parallel Exercises In Bal...   \n",
      "20799  20799                          What Keeps the F-35 Alive   \n",
      "\n",
      "                                          author  \\\n",
      "20795                              Jerome Hudson   \n",
      "20796                           Benjamin Hoffman   \n",
      "20797  Michael J. de la Merced and Rachel Abrams   \n",
      "20798                                Alex Ansary   \n",
      "20799                              David Swanson   \n",
      "\n",
      "                                                    text  label  \n",
      "20795  Rapper T. I. unloaded on black celebrities who...      0  \n",
      "20796  When the Green Bay Packers lost to the Washing...      0  \n",
      "20797  The Macyâs of today grew from the union of s...      0  \n",
      "20798  NATO, Russia To Hold Parallel Exercises In Bal...      1  \n",
      "20799    David Swanson is an author, activist, journa...      1  \n"
     ]
    }
   ],
   "source": [
    "# print the dataset for the last five rows\n",
    "print(data.tail())"
   ]
  },
  {
   "cell_type": "code",
   "execution_count": 5,
   "metadata": {},
   "outputs": [
    {
     "name": "stdout",
     "output_type": "stream",
     "text": [
      "(20800, 5)\n"
     ]
    }
   ],
   "source": [
    "# shape of the dataset\n",
    "print(data.shape)"
   ]
  },
  {
   "cell_type": "code",
   "execution_count": 6,
   "metadata": {},
   "outputs": [
    {
     "name": "stdout",
     "output_type": "stream",
     "text": [
      "id           0\n",
      "title      558\n",
      "author    1957\n",
      "text        39\n",
      "label        0\n",
      "dtype: int64\n"
     ]
    }
   ],
   "source": [
    "# To check if there are any NULL Values in the dataset\n",
    "print(data.isnull().sum())"
   ]
  },
  {
   "cell_type": "markdown",
   "metadata": {},
   "source": [
    "# Observation:\n",
    "\n",
    "From the above observation, it is seen that title and author are the two columns that has NULL Values in it"
   ]
  },
  {
   "cell_type": "code",
   "execution_count": 7,
   "metadata": {},
   "outputs": [
    {
     "name": "stdout",
     "output_type": "stream",
     "text": [
      "          id                                              title  \\\n",
      "0          0  House Dem Aide: We Didnât Even See Comeyâs...   \n",
      "1          1  FLYNN: Hillary Clinton, Big Woman on Campus - ...   \n",
      "2          2                  Why the Truth Might Get You Fired   \n",
      "3          3  15 Civilians Killed In Single US Airstrike Hav...   \n",
      "4          4  Iranian woman jailed for fictional unpublished...   \n",
      "...      ...                                                ...   \n",
      "20795  20795  Rapper T.I.: Trump a âPoster Child For White...   \n",
      "20796  20796  N.F.L. Playoffs: Schedule, Matchups and Odds -...   \n",
      "20797  20797  Macyâs Is Said to Receive Takeover Approach ...   \n",
      "20798  20798  NATO, Russia To Hold Parallel Exercises In Bal...   \n",
      "20799  20799                          What Keeps the F-35 Alive   \n",
      "\n",
      "                                          author  \\\n",
      "0                                  Darrell Lucus   \n",
      "1                                Daniel J. Flynn   \n",
      "2                             Consortiumnews.com   \n",
      "3                                Jessica Purkiss   \n",
      "4                                 Howard Portnoy   \n",
      "...                                          ...   \n",
      "20795                              Jerome Hudson   \n",
      "20796                           Benjamin Hoffman   \n",
      "20797  Michael J. de la Merced and Rachel Abrams   \n",
      "20798                                Alex Ansary   \n",
      "20799                              David Swanson   \n",
      "\n",
      "                                                    text  \n",
      "0      House Dem Aide: We Didnât Even See Comeyâs...  \n",
      "1      Ever get the feeling your life circles the rou...  \n",
      "2      Why the Truth Might Get You Fired October 29, ...  \n",
      "3      Videos 15 Civilians Killed In Single US Airstr...  \n",
      "4      Print \\nAn Iranian woman has been sentenced to...  \n",
      "...                                                  ...  \n",
      "20795  Rapper T. I. unloaded on black celebrities who...  \n",
      "20796  When the Green Bay Packers lost to the Washing...  \n",
      "20797  The Macyâs of today grew from the union of s...  \n",
      "20798  NATO, Russia To Hold Parallel Exercises In Bal...  \n",
      "20799    David Swanson is an author, activist, journa...  \n",
      "\n",
      "[20800 rows x 4 columns]\n"
     ]
    }
   ],
   "source": [
    "# Get the Independent feature\n",
    "X = data.drop(columns = 'label')\n",
    "print(X)"
   ]
  },
  {
   "cell_type": "code",
   "execution_count": 8,
   "metadata": {},
   "outputs": [],
   "source": [
    "# Get the dependent feature \n",
    "Y = data['label']"
   ]
  },
  {
   "cell_type": "code",
   "execution_count": 9,
   "metadata": {},
   "outputs": [
    {
     "name": "stdout",
     "output_type": "stream",
     "text": [
      "0        1\n",
      "1        0\n",
      "2        1\n",
      "3        1\n",
      "4        1\n",
      "        ..\n",
      "20795    0\n",
      "20796    0\n",
      "20797    0\n",
      "20798    1\n",
      "20799    1\n",
      "Name: label, Length: 20800, dtype: int64\n"
     ]
    }
   ],
   "source": [
    "print(Y)"
   ]
  },
  {
   "cell_type": "code",
   "execution_count": 10,
   "metadata": {},
   "outputs": [
    {
     "name": "stdout",
     "output_type": "stream",
     "text": [
      "   id                                              title              author  \\\n",
      "0   0  House Dem Aide: We Didnât Even See Comeyâs...       Darrell Lucus   \n",
      "1   1  FLYNN: Hillary Clinton, Big Woman on Campus - ...     Daniel J. Flynn   \n",
      "2   2                  Why the Truth Might Get You Fired  Consortiumnews.com   \n",
      "3   3  15 Civilians Killed In Single US Airstrike Hav...     Jessica Purkiss   \n",
      "4   4  Iranian woman jailed for fictional unpublished...      Howard Portnoy   \n",
      "\n",
      "                                                text  label  \n",
      "0  House Dem Aide: We Didnât Even See Comeyâs...      1  \n",
      "1  Ever get the feeling your life circles the rou...      0  \n",
      "2  Why the Truth Might Get You Fired October 29, ...      1  \n",
      "3  Videos 15 Civilians Killed In Single US Airstr...      1  \n",
      "4  Print \\nAn Iranian woman has been sentenced to...      1  \n"
     ]
    }
   ],
   "source": [
    "# copy the dataset into another file\n",
    "messages = data.copy()\n",
    "print(messages.head())"
   ]
  },
  {
   "cell_type": "code",
   "execution_count": 11,
   "metadata": {},
   "outputs": [],
   "source": [
    "# set the index for the messages dataset\n",
    "messages.reset_index(inplace = True)"
   ]
  },
  {
   "cell_type": "code",
   "execution_count": 12,
   "metadata": {},
   "outputs": [],
   "source": [
    "dataset = messages.head(10)"
   ]
  },
  {
   "cell_type": "code",
   "execution_count": 13,
   "metadata": {},
   "outputs": [
    {
     "name": "stdout",
     "output_type": "stream",
     "text": [
      "   index  id                                              title  \\\n",
      "0      0   0  House Dem Aide: We Didnât Even See Comeyâs...   \n",
      "1      1   1  FLYNN: Hillary Clinton, Big Woman on Campus - ...   \n",
      "2      2   2                  Why the Truth Might Get You Fired   \n",
      "3      3   3  15 Civilians Killed In Single US Airstrike Hav...   \n",
      "4      4   4  Iranian woman jailed for fictional unpublished...   \n",
      "5      5   5  Jackie Mason: Hollywood Would Love Trump if He...   \n",
      "6      6   6  Life: Life Of Luxury: Elton Johnâs 6 Favorit...   \n",
      "7      7   7  BenoÃ®t Hamon Wins French Socialist Partyâs ...   \n",
      "8      8   8  Excerpts From a Draft Script for Donald Trumpâ...   \n",
      "9      9   9  A Back-Channel Plan for Ukraine and Russia, Co...   \n",
      "\n",
      "                         author  \\\n",
      "0                 Darrell Lucus   \n",
      "1               Daniel J. Flynn   \n",
      "2            Consortiumnews.com   \n",
      "3               Jessica Purkiss   \n",
      "4                Howard Portnoy   \n",
      "5               Daniel Nussbaum   \n",
      "6                           NaN   \n",
      "7               Alissa J. Rubin   \n",
      "8                           NaN   \n",
      "9  Megan Twohey and Scott Shane   \n",
      "\n",
      "                                                text  label  \n",
      "0  House Dem Aide: We Didnât Even See Comeyâs...      1  \n",
      "1  Ever get the feeling your life circles the rou...      0  \n",
      "2  Why the Truth Might Get You Fired October 29, ...      1  \n",
      "3  Videos 15 Civilians Killed In Single US Airstr...      1  \n",
      "4  Print \\nAn Iranian woman has been sentenced to...      1  \n",
      "5  In these trying times, Jackie Mason is the Voi...      0  \n",
      "6  Ever wonder how Britainâs most iconic pop pi...      1  \n",
      "7  PARIS  â   France chose an idealistic, tradi...      0  \n",
      "8  Donald J. Trump is scheduled to make a highly ...      0  \n",
      "9  A week before Michael T. Flynn resigned as nat...      0  \n"
     ]
    }
   ],
   "source": [
    "print(dataset)"
   ]
  },
  {
   "cell_type": "code",
   "execution_count": 14,
   "metadata": {},
   "outputs": [
    {
     "data": {
      "text/plain": [
       "'Ever wonder how Britainâ\\x80\\x99s most iconic pop pianist gets through a long flight? Here are the six pictures of sharks Sir Elton John likes to stare at to pass the time on an airplane. 1. A Shark Swimming \\nSit next to Elton John on a flight and youâ\\x80\\x99ll see a man living in the lap of luxury, as he immediately tapes this photo of a shark darting through the ocean over his window to stare at throughout the trip. The platinum-selling artist has been known to pull his window shade down to make the shark disappear, and then quickly retract it to mark the animalâ\\x80\\x99s triumphant return. He will often repeat this act dozens of times per flight. 2. A Great White Shark Leaping Into The Air \\nWhen youâ\\x80\\x99re an international pop sensation worth an estimated $450 million, people go the extra mile to make you happy. Flight crews are instructed to place this photo of a breaching great white in Elton Johnâ\\x80\\x99s seat-back pocket before he even boards the plane. The five-time Grammy winner loves to pull the image out at his leisure to stare at while flying, sometimes holding it a mere 3-to-4 inches away from his face while he fixates upon the sharkâ\\x80\\x99s beady eyes. 3. A Shark On The Prowl \\nRumor has it Elton John first acquired this shark photo in 1997, just before flying to London to perform â\\x80\\x9cCandle In The Windâ\\x80\\x9d at Princess Dianaâ\\x80\\x99s funeral. Itâ\\x80\\x99s been a staple of his travel routine ever since. Those who have flown with the music legend say that Sir Elton turns on every single overhead light in his row to study this picture with a magnifying glass. 4. Two Hammerhead Sharks \\nHow does the man behind â\\x80\\x9cTiny Dancerâ\\x80\\x9d and â\\x80\\x9cRocket Manâ\\x80\\x9d handle turbulence as his plane traverses the Atlantic? Once that â\\x80\\x9cFasten Seat Beltsâ\\x80\\x9d sign lights up, this picture of two hammerhead sharks comes out. Elton John holds the photo in a tight vice grip and stares straight at it until the turbulence passes, often without blinking for minutes at a time. 5. The Poster For Jaws \\nSir Elton John absolutely adores the poster for Steven Spielbergâ\\x80\\x99s Jaws and hopes to one day see the film. In the meantime, the British icon makes do by slowly unfolding his 24-by-36-inch copy of the poster whenever heâ\\x80\\x99s on a long flight, gently tracing the sharkâ\\x80\\x99s teeth with his finger as he stares lovingly into its gaping mouth. 6. Pilotâ\\x80\\x99s Choice \\nAs much as Elton relishes in the calming regularity of his shark picture rotation, he also loves the excitement of gazing upon a totally unexpected shark when flying from London to a distant corner of Europe. Thatâ\\x80\\x99s why all pilots who fly Sir Elton print out a shark picture of their choice from their home computers before going to the airport, and hand it to the visibly excited musician prior to takeoff. So yeahâ\\x80\\x94itâ\\x80\\x99s good to be Elton!'"
      ]
     },
     "execution_count": 14,
     "metadata": {},
     "output_type": "execute_result"
    }
   ],
   "source": [
    "# get the text content at the sixth index position of the dataset\n",
    "messages['text'][6]"
   ]
  },
  {
   "cell_type": "code",
   "execution_count": 15,
   "metadata": {},
   "outputs": [],
   "source": [
    "answer = messages['text'][6]"
   ]
  },
  {
   "cell_type": "code",
   "execution_count": 16,
   "metadata": {},
   "outputs": [
    {
     "name": "stdout",
     "output_type": "stream",
     "text": [
      "Ever wonder how Britainâs most iconic pop pianist gets through a long flight? Here are the six pictures of sharks Sir Elton John likes to stare at to pass the time on an airplane. 1. A Shark Swimming \n",
      "Sit next to Elton John on a flight and youâll see a man living in the lap of luxury, as he immediately tapes this photo of a shark darting through the ocean over his window to stare at throughout the trip. The platinum-selling artist has been known to pull his window shade down to make the shark disappear, and then quickly retract it to mark the animalâs triumphant return. He will often repeat this act dozens of times per flight. 2. A Great White Shark Leaping Into The Air \n",
      "When youâre an international pop sensation worth an estimated $450 million, people go the extra mile to make you happy. Flight crews are instructed to place this photo of a breaching great white in Elton Johnâs seat-back pocket before he even boards the plane. The five-time Grammy winner loves to pull the image out at his leisure to stare at while flying, sometimes holding it a mere 3-to-4 inches away from his face while he fixates upon the sharkâs beady eyes. 3. A Shark On The Prowl \n",
      "Rumor has it Elton John first acquired this shark photo in 1997, just before flying to London to perform âCandle In The Windâ at Princess Dianaâs funeral. Itâs been a staple of his travel routine ever since. Those who have flown with the music legend say that Sir Elton turns on every single overhead light in his row to study this picture with a magnifying glass. 4. Two Hammerhead Sharks \n",
      "How does the man behind âTiny Dancerâ and âRocket Manâ handle turbulence as his plane traverses the Atlantic? Once that âFasten Seat Beltsâ sign lights up, this picture of two hammerhead sharks comes out. Elton John holds the photo in a tight vice grip and stares straight at it until the turbulence passes, often without blinking for minutes at a time. 5. The Poster For Jaws \n",
      "Sir Elton John absolutely adores the poster for Steven Spielbergâs Jaws and hopes to one day see the film. In the meantime, the British icon makes do by slowly unfolding his 24-by-36-inch copy of the poster whenever heâs on a long flight, gently tracing the sharkâs teeth with his finger as he stares lovingly into its gaping mouth. 6. Pilotâs Choice \n",
      "As much as Elton relishes in the calming regularity of his shark picture rotation, he also loves the excitement of gazing upon a totally unexpected shark when flying from London to a distant corner of Europe. Thatâs why all pilots who fly Sir Elton print out a shark picture of their choice from their home computers before going to the airport, and hand it to the visibly excited musician prior to takeoff. So yeahâitâs good to be Elton!\n"
     ]
    }
   ],
   "source": [
    "print(answer)"
   ]
  },
  {
   "cell_type": "markdown",
   "metadata": {},
   "source": [
    "# Perform the Data Preprocessing of the text"
   ]
  },
  {
   "cell_type": "code",
   "execution_count": 17,
   "metadata": {},
   "outputs": [],
   "source": [
    "from nltk.corpus import stopwords\n",
    "from nltk.stem.porter import PorterStemmer\n",
    "import re\n",
    "# create the object for Porter Stemmer\n",
    "ps = PorterStemmer()"
   ]
  },
  {
   "cell_type": "code",
   "execution_count": 18,
   "metadata": {},
   "outputs": [],
   "source": [
    "# define the empty corpus\n",
    "corpus = []\n",
    "for i in range(0, len(dataset)):\n",
    "    # replace all the characters except small and upper case letters with ' '\n",
    "    review = re.sub('[^a-zA-Z]',' ', str(dataset['text'][i]))\n",
    "    # write the text in lower case\n",
    "    review = review.lower()\n",
    "    # split the text\n",
    "    review = review.split()\n",
    "    \n",
    "    # extract all the non stop words and stem it\n",
    "    review = [ps.stem(word) for word in review if(word not in stopwords.words('english'))]\n",
    "    # join all the words\n",
    "    review = ' '.join(review)\n",
    "    # append all the text in corpus\n",
    "    corpus.append(review)"
   ]
  },
  {
   "cell_type": "code",
   "execution_count": 19,
   "metadata": {},
   "outputs": [
    {
     "name": "stdout",
     "output_type": "stream",
     "text": [
      "['hous dem aid even see comey letter jason chaffetz tweet darrel lucu octob subscrib jason chaffetz stump american fork utah imag courtesi michael jolley avail creativ common licens apolog keith olbermann doubt worst person world week fbi director jame comey accord hous democrat aid look like also know second worst person well turn comey sent infam letter announc fbi look email may relat hillari clinton email server rank democrat relev committe hear comey found via tweet one republican committe chairmen know comey notifi republican chairmen democrat rank member hous intellig judiciari oversight committe agenc review email recent discov order see contain classifi inform long letter went oversight committe chairman jason chaffetz set polit world ablaz tweet fbi dir inform fbi learn exist email appear pertin investig case reopen jason chaffetz jasoninthehous octob cours know case comey actual say review email light unrel case know anthoni weiner sext teenag appar littl thing fact matter chaffetz utah republican alreadi vow initi raft investig hillari win least two year worth possibl entir term worth appar chaffetz thought fbi alreadi work result tweet briefli roil nation cooler head realiz dud accord senior hous democrat aid misread letter may least chaffetz sin aid told shareblu boss democrat even know comey letter time found check twitter democrat rank member relev committe receiv comey letter republican chairmen fact democrat rank member receiv chairman oversight govern reform committe jason chaffetz tweet made public let see got right fbi director tell chaffetz gop committe chairmen major develop potenti polit explos investig neither chaffetz colleagu courtesi let democrat counterpart know instead accord aid made find twitter alreadi talk daili ko comey provid advanc notic letter chaffetz republican give time turn spin machin may make good theater noth far even suggest case noth far suggest comey anyth grossli incompet tone deaf suggest howev chaffetz act way make dan burton darrel issa look like model respons bipartisanship even decenc notifi rank member elijah cum someth explos trampl basic standard fair know grant like chaffetz answer sit ridicul republican district anchor provo orem cook partisan vote index r gave mitt romney punish percent vote moreov republican hous leadership given full support chaffetz plan fish expedit mean turn hot light textbook exampl hous becom republican control also second worst person world darrel lucu darrel someth graduat univers north carolina consid journalist old school attempt turn member religi right colleg succeed turn religi right worst nightmar charismat christian unapologet liber desir stand scare silenc increas surviv abus three year marriag may know daili ko christian dem nc follow twitter darrelllucu connect facebook click buy darrel mello yello connect', 'ever get feel life circl roundabout rather head straight line toward intend destin hillari clinton remain big woman campu leafi liber wellesley massachusett everywher els vote like inaugur dress remaind day way miss havisham forev wore wed dress speak great expect hillari rodham overflow year ago first address wellesley graduat class presid colleg inform gather student need debat far could ascertain spokesman kind like democrat primari minu term unknown even seven sister school glad miss adam made clear speak today us us miss rodham told classmat appoint edger bergen charli mccarthi mortim snerd attend bespectacl granni glass award matronli wisdom least john lennon wisdom took issu previou speaker despit becom first win elect seat u senat sinc reconstruct edward brook came critic call empathi goal protestor critic tactic though clinton senior thesi saul alinski lament black power demagogu elitist arrog repress intoler within new left similar word come republican necessit brief rebutt trust rodham iron observ one word ask class rehears want say everyon came said talk trust talk lack trust us way feel other talk trust bust say say feel permeat gener perhap even understood distrust trust bust certainli bust clinton plan certainli even understand peopl distrust whitewat travelg vast conspiraci benghazi miss email clinton found distrust voic friday load compromis road broaden polit horizon distrust american peopl trump edg percent percent question immedi prior novemb elect stood major reason close horizon clinton describ vanquish support embrac lie con altern fact assault truth reason fail explain american peopl chose lie truth histori major among today know well peopl power invent fact attack question mark begin end free societi offer hyperbol like mani peopl emerg hillari clinton embark upon long strang trip high school goldwat girl wellesley colleg republican presid democrat politician clinton drank time place gave degre significantli went idealist cynic comparison two wellesley commenc address show way back lament long leader view polit art possibl challeng practic polit art make appear imposs possibl big woman campu odd woman white hous wonder current station even possibl point ahead ask septemb may ask presid woman famous dub congenit liar bill safir conclud lie mind get stood elect day like find jilt bride wed day inspir danger delus', 'truth might get fire octob tension intellig analyst polit policymak alway honest assess desir result latter often overwhelm former iraq war write lawrenc davidson lawrenc davidson might wonder foreign polici maker repeatedli make bad choic insight might drawn follow analysi action play unit state lesson probabl univers back earli spring georg w bush initi invas iraq one key public reason claim countri dictat saddam hussein verg develop nuclear weapon hide weapon mass destruct real reason went beyond charg includ long rang plan regim chang middl east presid georg w bush vice presid dick cheney receiv oval offic brief cia director georg tenet also present chief staff andi card right white hous photo purpos concentr belief iraq becom hostil nuclear power presid bush close associ accept scenario readili short answer bush want inde need believ rational invad iraq first tri connect saddam hussein attack u though never gave stratagem lack evid made difficult ralli american peopl alreadi fixat afghanistan support war baghdad nuclear weapon gambit prove fruit hard evid charg supposedli reliabl wit person exil anti saddam iraqi mani u govern payrol kept tell bush advis nuclear stori true u leadership cadr whose worldview liter demand mortal danger iraq inform order precipit overthrow saddam will tell tale pend atom weapon strong desir believ tale nuclear iraq lower threshold proof likewis repeat assert assum depend iraqi sourc underpin nationwid u campaign gener fear war fever u alli insist unit nation send weapon inspector scour iraq evid nuclear weapon program well chemic biolog weapon inspector could find convinc evid frustrat bush administr soon forc hand march bush launch invas iraq expect occup countri u inspector would sure find evid nuke least stockpil chemic biolog weapon iraqi inform systemat lie social behavior scienc rescu variou u intellig agenc thoroughli shaken affair today year later director manag still tri sort specif tell get true intellig lie one intellig worker put need help protect us armi snake oil salesmen end cia et al market academ assist ahm chalabi head iraqi nation congress key supplier iraqi defector bogu stori hidden wmd partnership forg offic director nation intellig odni serv coordin center sixteen independ u intellig agenc nation academi scienc engin medicin result collabor perman intellig commun studi board coordin program social behavior scienc research might strengthen nation secur despit effort almost certain social behavior scienc cannot give spi agenc want way detect lie better present standard procedur polygraph test interrog even could might well make differ real problem found liar found believ believ simpli true odni leader seem assert u intellig agenc personnel cannot tell often lie case thousand middl echelon intellig worker desk offic specialist know someth close approach truth know pretti well go place like afghanistan iraq syria libya israel palestin elsewher director nation intellig jame clapper right talk presid barack obama oval offic john brennan nation secur aid present photo credit offic director nation intellig therefor someon feed snake oil usual know howev accur grasp thing often avail superior got appoint accept pre structur worldview differ criterion true analyst listen charl gaukel nation intellig council yet anoth organ act meet ground intellig agenc refer search way avoid get taken lie gaukel declar look truth particularli look truth work might mean certainli tell mean histor mean power broker truth must match fit worldview polit ideolog precept fit work intellig specialist send usual accur assess line polici maker often hit roadblock caus group think ideolog blinker know better attitud hand long sell leadership match want believ peddl anyth imaginari iraqi nuke israel western style democraci saudi arabia indispens alli libya liber countri bashar al assad real roadblock peac syria strateg defens initi sdi aka star war world get colder warmer american exception glori list almost endless sad tale tell us want spend million dollar social behavior scienc research improv assess use intellig forget liar want look antidot narrow minded believ policymak seem abl rise ideolog presumpt class presumpt underpin self confid lead us slipperi slope happen way often mani place sourc shakespear determin past prelud elit play destini free capac break structur way see yet middl echelon specialist keep send rel accur assess ladder power hope spring etern', 'video civilian kill singl us airstrik identifi rate civilian kill american airstrik afghanistan higher us engag activ combat oper photo hellfir missil load onto us militari reaper drone afghanistan staff sgt brian ferguson u air forc bureau abl identifi civilian kill singl us drone strike afghanistan last month biggest loss civilian life one strike sinc attack medecin san frontier hospit msf last octob us claim conduct counter terror strike islam state fighter hit nangarhar provinc missil septemb next day unit nation issu unusu rapid strong statement say strike kill civilian injur other gather hous celebr tribal elder return pilgrimag mecca bureau spoke man name haji rai said owner hous target said peopl kill other injur provid name list bureau abl independ verifi ident die rai son headmast local school among anoth man abdul hakim lost three son attack rai said involv deni us claim member visit hous strike said even speak sort peopl phone let alon receiv hous death amount biggest confirm loss civilian life singl american strike afghanistan sinc attack msf hospit kunduz last octob kill least peopl nangarhar strike us attack kill civilian septemb bureau data indic mani civilian alli soldier kill four american strike afghanistan somalia month septemb pair strike kill eight afghan policemen tarinkot capit urozgan provic us jet reportedli hit polic checkpoint kill one offic return target first respond use tactic known doubl tap strike controversi often hit civilian rescuer us told bureau conduct strike individu fire pose threat afghan forc email directli address alleg afghan policemen kill end month somalia citizen burnt us flag street north central citi galcayo emerg drone attack may unintent kill somali soldier civilian strike occur day one nangarhar somali afghan incid us first deni non combat kill investig strike nangarhar galcayo rate civilian kill american airstrik afghanistan higher us engag activ combat oper name', 'print iranian woman sentenc six year prison iran revolutionari guard search home found notebook contain fiction stori written woman stone death accord eurasia review golrokh ebrahimi irae wife polit prison arash sadeghi serv year prison sentenc human right activist public report intellig unit revolutionari guard came arrest husband raid apart without warrant found draft stori ebrahimi irae written articl state one confisc draft stori stone women death adulteri never publish never present anyon articl state narr follow stori protagonist watch movi stone women islam law adulteri', 'tri time jacki mason voic reason week exclus clip breitbart news jacki discuss loom threat north korea explain presid donald trump could win support hollywood left u need strike first decid bomb whole countri behind everybodi realiz choic thing jacki say except hollywood left get nauseou trump could win left fall love minut bomb better reason jacki explain like transgend toilet jacki also say surpris hollywood celebr support trump strike syrian airfield month infuri say might save live mean anyth save environ climat chang happiest peopl world still jacki say got noth hollywood celeb got tough life countri watch jacki latest clip follow daniel nussbaum twitter dznussbaum', 'ever wonder britain icon pop pianist get long flight six pictur shark sir elton john like stare pass time airplan shark swim sit next elton john flight see man live lap luxuri immedi tape photo shark dart ocean window stare throughout trip platinum sell artist known pull window shade make shark disappear quickli retract mark anim triumphant return often repeat act dozen time per flight great white shark leap air intern pop sensat worth estim million peopl go extra mile make happi flight crew instruct place photo breach great white elton john seat back pocket even board plane five time grammi winner love pull imag leisur stare fli sometim hold mere inch away face fixat upon shark beadi eye shark prowl rumor elton john first acquir shark photo fli london perform candl wind princess diana funer stapl travel routin ever sinc flown music legend say sir elton turn everi singl overhead light row studi pictur magnifi glass two hammerhead shark man behind tini dancer rocket man handl turbul plane travers atlant fasten seat belt sign light pictur two hammerhead shark come elton john hold photo tight vice grip stare straight turbul pass often without blink minut time poster jaw sir elton john absolut ador poster steven spielberg jaw hope one day see film meantim british icon make slowli unfold inch copi poster whenev long flight gentli trace shark teeth finger stare lovingli gape mouth pilot choic much elton relish calm regular shark pictur rotat also love excit gaze upon total unexpect shark fli london distant corner europ pilot fli sir elton print shark pictur choic home comput go airport hand visibl excit musician prior takeoff yeah good elton', 'pari franc chose idealist tradit candid sunday primari repres socialist parti presidenti elect spring candid beno hamon ran slogan would make franc heart beat best manuel vall former prime minist whose campaign promot polici strong background mr hamon appear wide margin incomplet return show estim percent vote mr vall percent tonight left hold head high look futur mr hamon said address support countri need left modern innov left said mr hamon victori clearest sign yet voter left want break polici presid fran oi holland decemb announc would seek howev mr hamon strong show unlik chang widespread assess candid littl chanc make second round vote gener elect first round gener elect set april runoff may socialist parti deepli divid one measur lack popular enthusiasm rel low number peopl vote two million peopl vote second round primari sunday contrast million second round last presidenti primari left howev much convent wisdom elect go thrown question past week lead candid fran oi fillon repres main parti republican accus pay wife larg sum money work parliamentari aid nepot legal french polit system clear actual work prosecutor special financi malfeas review case franc elector system allow multipl candid run presid first round vote top two go second round mr hamon enter race alreadi crowd left candid includ lenchon far left emmanuel macron independ serv economi minist mr holland govern embrac polici unless decid withdraw mr fillon mainstream right candid also run extrem right candid marin le pen two expect go runoff mr hamon victori attribut least part imag idealist tradit leftist candid appeal union voter well environment concern social liber young peopl unlik mr vall also clearli distanc mr holland unpopular polici especi econom one thoma kekenbosch student one leader group youth beno hamon said mr hamon embodi new hope left perspect someth build mr kekenbosch said mr holland disappoint mani young peopl parti abandon ideal support worker mani voter believ accord mr kekenbosch mr holland govern pressur european union meet budget restraint struggl pass labor code reform make market attract foreign investor also encourag french busi expand franc measur ultim pass week strike water gener littl concret progress improv franc roughli percent unemploy rate nearli percent youth jobless rate mr hamon strongli endors stimulu approach improv economi promis phase univers incom would especi help young peopl look work would also supplement livelihood french worker end goal would everyon receiv euro per month someon trust us mr kekenbosch said say give enough pay studi scholarship spare work mcdonald provision contract year mr hamon advoc phase diesel fuel encourag driver replac vehicl use petroleum product electr one leftist pedigre began earli father work arsen brest citi far west brittani mother work secretari earli member movement young socialist continu work close polit life also work martin aubri mayor lill former socialist parti leader', 'donald j trump schedul make highli anticip visit church detroit saturday first visit campaign particip session conduct bishop wayn jackson church great faith ministri intern given import visit trump team went far script mr trump answer bishop jackson question submit advanc articl publish thursday night campaign offici said mr trump would also speak church congreg tour neighborhood ben carson former presidenti candid detroit nativ excerpt draft script obtain new york time mr trump racial divid countri evid tension boil case point reverend pinckney south carolina gun white young man came bibl studi slaughter reverend eight individu want start race war would administr bring racial tension countri bibl jesu said hous divid cannot stand best hope eras racial tension america work toward societi busi hire retain award base merit societi howev divis elimin equal opportun equal access program institut lift peopl countri reform tax system spur econom growth long haul stronger enforc immigr law renegoti trade deal bring advantag back american workforc perhap import must provid equal opportun qualiti educ american higher educ attain greater likelihood one climb econom ladder must bring school choic program citi must get rid common core must make sure access afford account brought higher educ system without focu educ outcom everi american perpetu perman underclass progress polici sustain republican like need courag speak truth done courag go commun work everyon make sure school good children access whatev educ situat may need someth one person someth togeth mr trump percept administr racist mani african american voter belief republican parti whole cater african american need two republican candid john mccain mitt romney neither one came detroit urban area rememb even address concern commun first would like commend come commun republican candid second need know would chang percept commun proof say pud come commun meaningless unless offer altern horribl progress agenda perpetu perman underclass america need true word offer american opportun everi one reach full potenti mean econom polici bring job back america rais wage mean work hard provid mani educ option possibl parent children mean clean drug make neighborhood commun safer need get peopl welfar back work need make sure anyon qualifi go bank get loan start busi need reduc regul expand option peopl want independ govern need make sure peopl worship want want without worri feder agenc go threaten religi liberti republican better option need courag present convict mr trump vision america specif black america repeal obama care plan provid health care medicin afford yet need presid must serv american without regard race ethnic qualif must approach task utmost wisdom make sure american opportun achiev potenti make america great must reduc rather highlight issu race countri want make race disappear factor govern govern everi individu regardless race ethnic must access full array opportun america vision america everi citizen legal resid nation abl stand side side proud fact live greatest nation earth afford care act work repeal act replac market driven solut offer access healthcar afford price everi american abl purchas health insur across state line health save account belong price transpar shop best servic best price know compet clog system simpli countri illeg want block grant medicaid state provid servic closer peopl want make sure everi american great econom opportun seek health insur still abl afford approach serv american ensur american cover better insur healthcar option mr trump regist democrat undecid voter elect lot pastor african american made mind concern go cast vote latest poll indic percent african american vote say undecid voter other african american commun win vote novemb beyond win african american vote import vote import campaign vote neighbor vote vote everi american critic must make sure know vote vote stronger vibrant america polici offer clear choic continu road progressiv creat perman underclass countri unfortun includ far mani peopl color want better america must break histor hold democrat peopl color move option allow achiev potenti opportun outcom promis thing come never materi progress work tirelessli bring american one level rather allow mani possibl rise high possibl educ job religi liberti protect civil right promis keep utter gain favor interest greater america opportun liberti prosper must take chanc walk side want strong partner journey vote never let way support climb', 'week michael flynn resign nation secur advis seal propos offic outlin way presid trump lift sanction russia mr flynn gone caught lie discuss sanction russian ambassador propos peac plan ukrain russia remain along push michael cohen presid person lawyer deliv document felix h sater busi associ help mr trump scout deal russia ukrainian lawmak tri rise polit opposit movement shape part mr trump former campaign manag paul manafort time mr trump tie russia peopl connect heighten scrutini investig american intellig agenc f b congress associ remain will eager wade effort behind scene mr trump confound democrat republican alik repeat prais russian presid vladimir v putin desir forg allianc noth illeg unoffici effort propos seem tip toward russian interest may set alarm amateur diplomat say goal simpli help settl gruel conflict cost live want help bring peac mr cohen ask propos contain peac plan andrii v artemenko ukrainian lawmak see leader futur ukrain claim evid name compani wire transfer show corrupt ukrainian presid petro poroshenko could help oust mr artemenko said receiv encourag plan top aid mr putin lot peopl call russian agent u agent c agent mr artemenko said find good solut countri talk mr cohen mr sater said spoken mr trump propos experi foreign polici mr cohen one sever trump associ scrutini f b counterintellig examin link russia accord law enforc offici deni illicit connect two other involv effort somewhat question past mr sater plead guilti role stock manipul scheme decad ago involv mafia mr artemenko spent two half year jail kiev earli embezzl charg later drop said polit motiv unclear white hous take propos serious diplomat freelanc infuri ukrainian offici ukrain ambassador unit state valeriy chali said mr artemenko entitl present altern peac plan behalf ukrain foreign govern includ u administr secur confer munich friday mr poroshenko warn west appeas russia american expert say offer russia altern intern agreement ukrain would mistak trump administr sent mix signal conflict ukrain given mr trump prais mr putin john herbst former american ambassador ukrain said fear new presid might eager mend relat russia ukrain expens potenti plan like mr artemenko late januari three men associ propos plan converg loew regenc luxuri hotel park avenu manhattan busi deal made lobbi furnish leather couch martini restaur bar privat confer room upper floor mr cohen live two block street trump park avenu lawyer join trump organ special counsel work mani deal includ tower republ georgia mix martial art ventur star russian fighter consid loyal lieuten mr trump trust fix difficult problem f b review unverifi dossier compil former british intellig agent fund mr trump polit oppon claim mr cohen met russian repres pragu presidenti campaign discuss russia hack democrat target russian offici name report told new york time never met mr cohen mr cohen insist never visit pragu dossier assert fabric mr manafort also investig f b connect russia ukrain mr cohen person connect ukrain marri ukrainian woman work rel establish ethanol busi mr artemenko tall burli arriv manhattan hotel visit washington wife said met first ladi melania trump year ago model career tri meet mr trump attend inaugur visit congress post facebook admir mr trump talk peac plan meet american lawmak enter parliament year former ukrainian presid viktor yanukovych fled moscow amid protest econom align russia corrupt mr manafort instrument get mr yanukovych elect help shape polit bloc sprang oppos new presid mr poroshenko wealthi businessman taken far tougher stanc toward russia accus mr putin want absorb ukrain new russian empir mr artemenko emerg opposit mr manafort nurtur two men never met mr artemenko said enter polit mr artemenko busi ventur middl east real estat deal miami area work agent repres top ukrainian athlet colleagu parliament describ corrupt untrustworthi simpli insignific appear amass consider wealth fashion imag mr trump present ukrain answer rise class nationalist leader west even travel cleveland last summer republican nation convent seiz chanc meet member mr trump campaign time new leader new approach govern countri new principl new negoti intern polit wrote facebook jan time come mr artemenko said saw mr trump opportun advoc plan peac ukrain help advanc polit career essenti plan would requir withdraw russian forc eastern ukrain ukrainian voter would decid referendum whether crimea ukrainian territori seiz russia would leas russia term year ukrainian ambassador mr chali reject leas kind gross violat constitut said written answer question time idea pitch push openli covertli repres russian interest reaction suggest mr artemenko project also includ dissemin kompromat compromis materi purportedli show mr poroshenko closest associ corrupt new govern presum one less hostil russia might take plan mr sater longtim busi associ mr trump connect russia will help mr artemenko propos reach white hous mr trump sought distanc mr sater recent year mr sater sit room right mr trump said deposit realli know look like mr sater work real estat develop deal trump organ least decad even role stock manipul scheme came light mr sater born soviet union grew new york serv execut firm call bayrock group two floor trump organ trump tower later senior advis mr trump said work plan trump tower moscow russian real estat develop recent fall one said come halt mr trump presidenti campaign mr cohen said trump organ receiv letter intent project moscow russian real estat develop time determin project feasibl mr artemenko said mutual friend put touch mr sater help advanc propos mr sater said made sens want stop war number one said number two absolut believ u russia need alli enemi could achiev one stroke would home run speak mr sater mr artemenko person mr cohen said would deliv plan white hous mr cohen said know russian govern offer encourag mr artemenko claim understood promis proof corrupt ukrainian presid fraud never good right mr cohen said said mr sater given written propos seal envelop mr cohen met mr trump oval offic earli februari said left propos mr flynn offic mr cohen said wait respons mr flynn forc post mr cohen mr sater mr artemenko hope new nation secur advis take caus friday presid wrote twitter four new candid job']\n"
     ]
    }
   ],
   "source": [
    "print(corpus)"
   ]
  },
  {
   "cell_type": "code",
   "execution_count": 20,
   "metadata": {},
   "outputs": [],
   "source": [
    "# Apply the TfidfVectorizer Vectorizer on the corpus text and create the Bag of Words for it\n",
    "\n",
    "from sklearn.feature_extraction.text import TfidfVectorizer\n",
    "\n",
    "# create the object for Tfidf Vectorizer\n",
    "tfidf = TfidfVectorizer(max_features = 500, ngram_range = (1,3))\n",
    "\n",
    "# using the obejct for tfidf vectorizer transform the data and convert it into array\n",
    "X = tfidf.fit_transform(corpus).toarray()"
   ]
  },
  {
   "cell_type": "code",
   "execution_count": 21,
   "metadata": {},
   "outputs": [
    {
     "data": {
      "text/plain": [
       "(10, 500)"
      ]
     },
     "execution_count": 21,
     "metadata": {},
     "output_type": "execute_result"
    }
   ],
   "source": [
    "X.shape"
   ]
  },
  {
   "cell_type": "code",
   "execution_count": 22,
   "metadata": {},
   "outputs": [],
   "source": [
    "Y = dataset['label'].head(10)"
   ]
  },
  {
   "cell_type": "code",
   "execution_count": 23,
   "metadata": {},
   "outputs": [
    {
     "data": {
      "text/plain": [
       "(10,)"
      ]
     },
     "execution_count": 23,
     "metadata": {},
     "output_type": "execute_result"
    }
   ],
   "source": [
    "Y .shape"
   ]
  },
  {
   "cell_type": "code",
   "execution_count": 24,
   "metadata": {},
   "outputs": [],
   "source": [
    "# Divide the independent and dependent variables into training and testing data\n",
    "from sklearn.model_selection import train_test_split\n",
    "X_train, X_test, Y_train, Y_test = train_test_split(X,Y,test_size = 0.1, random_state = 0)"
   ]
  },
  {
   "cell_type": "code",
   "execution_count": 25,
   "metadata": {},
   "outputs": [
    {
     "data": {
      "text/plain": [
       "['abl',\n",
       " 'access',\n",
       " 'accord',\n",
       " 'accur',\n",
       " 'achiev',\n",
       " 'act',\n",
       " 'address',\n",
       " 'administr',\n",
       " 'advanc',\n",
       " 'advis',\n",
       " 'afford',\n",
       " 'afghan',\n",
       " 'afghanistan',\n",
       " 'african',\n",
       " 'african american',\n",
       " 'agenc',\n",
       " 'agent',\n",
       " 'ago',\n",
       " 'aid',\n",
       " 'airstrik',\n",
       " 'alli',\n",
       " 'allow',\n",
       " 'alreadi',\n",
       " 'also',\n",
       " 'altern',\n",
       " 'ambassador',\n",
       " 'america',\n",
       " 'american',\n",
       " 'american peopl',\n",
       " 'answer',\n",
       " 'anyth',\n",
       " 'appear',\n",
       " 'approach',\n",
       " 'art',\n",
       " 'artemenko',\n",
       " 'artemenko said',\n",
       " 'articl',\n",
       " 'ask',\n",
       " 'assert',\n",
       " 'assess',\n",
       " 'associ',\n",
       " 'attack',\n",
       " 'back',\n",
       " 'becom',\n",
       " 'behavior',\n",
       " 'behavior scienc',\n",
       " 'behind',\n",
       " 'believ',\n",
       " 'best',\n",
       " 'better',\n",
       " 'break',\n",
       " 'bring',\n",
       " 'bureau',\n",
       " 'bush',\n",
       " 'busi',\n",
       " 'bust',\n",
       " 'call',\n",
       " 'came',\n",
       " 'campaign',\n",
       " 'candid',\n",
       " 'cannot',\n",
       " 'care',\n",
       " 'case',\n",
       " 'certainli',\n",
       " 'chaffetz',\n",
       " 'chairmen',\n",
       " 'chanc',\n",
       " 'chang',\n",
       " 'charg',\n",
       " 'choic',\n",
       " 'church',\n",
       " 'citi',\n",
       " 'civilian',\n",
       " 'civilian kill',\n",
       " 'claim',\n",
       " 'class',\n",
       " 'clear',\n",
       " 'clinton',\n",
       " 'close',\n",
       " 'cohen',\n",
       " 'cohen mr',\n",
       " 'cohen said',\n",
       " 'colleg',\n",
       " 'combat',\n",
       " 'come',\n",
       " 'comey',\n",
       " 'comey letter',\n",
       " 'committe',\n",
       " 'commun',\n",
       " 'concern',\n",
       " 'conduct',\n",
       " 'congress',\n",
       " 'connect',\n",
       " 'contain',\n",
       " 'corrupt',\n",
       " 'could',\n",
       " 'countri',\n",
       " 'courag',\n",
       " 'critic',\n",
       " 'darrel',\n",
       " 'day',\n",
       " 'deal',\n",
       " 'death',\n",
       " 'decid',\n",
       " 'democrat',\n",
       " 'democrat rank',\n",
       " 'democrat rank member',\n",
       " 'deni',\n",
       " 'desir',\n",
       " 'detroit',\n",
       " 'develop',\n",
       " 'director',\n",
       " 'director nation',\n",
       " 'director nation intellig',\n",
       " 'discuss',\n",
       " 'distrust',\n",
       " 'divid',\n",
       " 'draft',\n",
       " 'drone',\n",
       " 'earli',\n",
       " 'econom',\n",
       " 'educ',\n",
       " 'effort',\n",
       " 'elect',\n",
       " 'elton',\n",
       " 'elton john',\n",
       " 'email',\n",
       " 'emerg',\n",
       " 'encourag',\n",
       " 'end',\n",
       " 'enter',\n",
       " 'equal',\n",
       " 'estat',\n",
       " 'estat develop',\n",
       " 'even',\n",
       " 'ever',\n",
       " 'everi',\n",
       " 'everi american',\n",
       " 'everyon',\n",
       " 'evid',\n",
       " 'expect',\n",
       " 'explain',\n",
       " 'facebook',\n",
       " 'fact',\n",
       " 'far',\n",
       " 'fbi',\n",
       " 'feel',\n",
       " 'find',\n",
       " 'first',\n",
       " 'fli',\n",
       " 'flight',\n",
       " 'flynn',\n",
       " 'follow',\n",
       " 'forc',\n",
       " 'foreign',\n",
       " 'former',\n",
       " 'found',\n",
       " 'franc',\n",
       " 'french',\n",
       " 'friday',\n",
       " 'full',\n",
       " 'gave',\n",
       " 'gener',\n",
       " 'georg',\n",
       " 'get',\n",
       " 'give',\n",
       " 'given',\n",
       " 'go',\n",
       " 'goal',\n",
       " 'good',\n",
       " 'got',\n",
       " 'govern',\n",
       " 'great',\n",
       " 'group',\n",
       " 'hamon',\n",
       " 'hand',\n",
       " 'head',\n",
       " 'health',\n",
       " 'help',\n",
       " 'high',\n",
       " 'higher',\n",
       " 'hillari',\n",
       " 'hillari clinton',\n",
       " 'hit',\n",
       " 'hold',\n",
       " 'holland',\n",
       " 'hollywood',\n",
       " 'home',\n",
       " 'hope',\n",
       " 'hous',\n",
       " 'howev',\n",
       " 'idealist',\n",
       " 'ideolog',\n",
       " 'imag',\n",
       " 'import',\n",
       " 'improv',\n",
       " 'includ',\n",
       " 'independ',\n",
       " 'individu',\n",
       " 'inform',\n",
       " 'initi',\n",
       " 'inspector',\n",
       " 'insur',\n",
       " 'intellig',\n",
       " 'intellig agenc',\n",
       " 'interest',\n",
       " 'intern',\n",
       " 'investig',\n",
       " 'involv',\n",
       " 'iraq',\n",
       " 'iraqi',\n",
       " 'issu',\n",
       " 'jacki',\n",
       " 'jason',\n",
       " 'jason chaffetz',\n",
       " 'job',\n",
       " 'john',\n",
       " 'kekenbosch',\n",
       " 'kill',\n",
       " 'know',\n",
       " 'lack',\n",
       " 'last',\n",
       " 'later',\n",
       " 'law',\n",
       " 'lawmak',\n",
       " 'leader',\n",
       " 'leadership',\n",
       " 'least',\n",
       " 'left',\n",
       " 'let',\n",
       " 'letter',\n",
       " 'liar',\n",
       " 'liber',\n",
       " 'liberti',\n",
       " 'lie',\n",
       " 'life',\n",
       " 'light',\n",
       " 'like',\n",
       " 'line',\n",
       " 'littl',\n",
       " 'live',\n",
       " 'long',\n",
       " 'look',\n",
       " 'look like',\n",
       " 'love',\n",
       " 'made',\n",
       " 'major',\n",
       " 'make',\n",
       " 'make sure',\n",
       " 'man',\n",
       " 'manafort',\n",
       " 'mani',\n",
       " 'market',\n",
       " 'may',\n",
       " 'mean',\n",
       " 'meet',\n",
       " 'member',\n",
       " 'met',\n",
       " 'met mr',\n",
       " 'michael',\n",
       " 'middl',\n",
       " 'might',\n",
       " 'million',\n",
       " 'miss',\n",
       " 'month',\n",
       " 'moscow',\n",
       " 'mr',\n",
       " 'mr artemenko',\n",
       " 'mr artemenko said',\n",
       " 'mr cohen',\n",
       " 'mr cohen mr',\n",
       " 'mr cohen said',\n",
       " 'mr flynn',\n",
       " 'mr hamon',\n",
       " 'mr holland',\n",
       " 'mr kekenbosch',\n",
       " 'mr manafort',\n",
       " 'mr poroshenko',\n",
       " 'mr putin',\n",
       " 'mr sater',\n",
       " 'mr trump',\n",
       " 'must',\n",
       " 'name',\n",
       " 'nangarhar',\n",
       " 'nation',\n",
       " 'nation intellig',\n",
       " 'nation secur',\n",
       " 'need',\n",
       " 'never',\n",
       " 'new',\n",
       " 'new york',\n",
       " 'north',\n",
       " 'noth',\n",
       " 'nuclear',\n",
       " 'nuclear weapon',\n",
       " 'number',\n",
       " 'octob',\n",
       " 'offer',\n",
       " 'offic',\n",
       " 'offici',\n",
       " 'often',\n",
       " 'one',\n",
       " 'opportun',\n",
       " 'option',\n",
       " 'organ',\n",
       " 'other',\n",
       " 'oval',\n",
       " 'oval offic',\n",
       " 'oversight',\n",
       " 'parti',\n",
       " 'pass',\n",
       " 'past',\n",
       " 'peac',\n",
       " 'peac plan',\n",
       " 'peopl',\n",
       " 'percent',\n",
       " 'perman',\n",
       " 'perman underclass',\n",
       " 'person',\n",
       " 'photo',\n",
       " 'pictur',\n",
       " 'place',\n",
       " 'plan',\n",
       " 'polici',\n",
       " 'polit',\n",
       " 'poroshenko',\n",
       " 'possibl',\n",
       " 'poster',\n",
       " 'potenti',\n",
       " 'power',\n",
       " 'present',\n",
       " 'presid',\n",
       " 'presidenti',\n",
       " 'price',\n",
       " 'primari',\n",
       " 'prison',\n",
       " 'program',\n",
       " 'progress',\n",
       " 'project',\n",
       " 'promis',\n",
       " 'proof',\n",
       " 'propos',\n",
       " 'provid',\n",
       " 'public',\n",
       " 'putin',\n",
       " 'question',\n",
       " 'race',\n",
       " 'racial',\n",
       " 'rai',\n",
       " 'rank',\n",
       " 'rank member',\n",
       " 'rate',\n",
       " 'rather',\n",
       " 'real',\n",
       " 'real estat',\n",
       " 'real estat develop',\n",
       " 'reason',\n",
       " 'receiv',\n",
       " 'recent',\n",
       " 'reform',\n",
       " 'rel',\n",
       " 'religi',\n",
       " 'remain',\n",
       " 'repeat',\n",
       " 'repres',\n",
       " 'republican',\n",
       " 'result',\n",
       " 'return',\n",
       " 'review',\n",
       " 'right',\n",
       " 'rise',\n",
       " 'rodham',\n",
       " 'round',\n",
       " 'run',\n",
       " 'russia',\n",
       " 'russian',\n",
       " 'saddam',\n",
       " 'said',\n",
       " 'said mr',\n",
       " 'sater',\n",
       " 'save',\n",
       " 'say',\n",
       " 'school',\n",
       " 'scienc',\n",
       " 'seat',\n",
       " 'second',\n",
       " 'second round',\n",
       " 'secur',\n",
       " 'see',\n",
       " 'seem',\n",
       " 'send',\n",
       " 'senior',\n",
       " 'septemb',\n",
       " 'serv',\n",
       " 'set',\n",
       " 'shark',\n",
       " 'show',\n",
       " 'side',\n",
       " 'simpli',\n",
       " 'sinc',\n",
       " 'singl',\n",
       " 'sir',\n",
       " 'sir elton',\n",
       " 'sit',\n",
       " 'social',\n",
       " 'social behavior',\n",
       " 'social behavior scienc',\n",
       " 'socialist',\n",
       " 'socialist parti',\n",
       " 'societi',\n",
       " 'someth',\n",
       " 'speak',\n",
       " 'specialist',\n",
       " 'spring',\n",
       " 'stand',\n",
       " 'stare',\n",
       " 'state',\n",
       " 'still',\n",
       " 'stone',\n",
       " 'stori',\n",
       " 'strike',\n",
       " 'strike afghanistan',\n",
       " 'strong',\n",
       " 'studi',\n",
       " 'suggest',\n",
       " 'support',\n",
       " 'sure',\n",
       " 'system',\n",
       " 'take',\n",
       " 'tale',\n",
       " 'talk',\n",
       " 'target',\n",
       " 'tell',\n",
       " 'tension',\n",
       " 'term',\n",
       " 'thing',\n",
       " 'three',\n",
       " 'time',\n",
       " 'today',\n",
       " 'told',\n",
       " 'top',\n",
       " 'toward',\n",
       " 'tower',\n",
       " 'tri',\n",
       " 'true',\n",
       " 'trump',\n",
       " 'trump organ',\n",
       " 'trust',\n",
       " 'truth',\n",
       " 'turn',\n",
       " 'tweet',\n",
       " 'twitter',\n",
       " 'two',\n",
       " 'ukrain',\n",
       " 'ukrainian',\n",
       " 'ukrainian presid',\n",
       " 'underclass',\n",
       " 'union',\n",
       " 'unit',\n",
       " 'univers',\n",
       " 'upon',\n",
       " 'us',\n",
       " 'use',\n",
       " 'vall',\n",
       " 'visit',\n",
       " 'vote',\n",
       " 'voter',\n",
       " 'want',\n",
       " 'war',\n",
       " 'way',\n",
       " 'weapon',\n",
       " 'week',\n",
       " 'well',\n",
       " 'wellesley',\n",
       " 'went',\n",
       " 'west',\n",
       " 'white',\n",
       " 'white hous',\n",
       " 'wife',\n",
       " 'will',\n",
       " 'win',\n",
       " 'wisdom',\n",
       " 'without',\n",
       " 'woman',\n",
       " 'wonder',\n",
       " 'word',\n",
       " 'work',\n",
       " 'worker',\n",
       " 'world',\n",
       " 'worldview',\n",
       " 'worst',\n",
       " 'worst person',\n",
       " 'worth',\n",
       " 'would',\n",
       " 'written',\n",
       " 'year',\n",
       " 'yet',\n",
       " 'york',\n",
       " 'young',\n",
       " 'young peopl']"
      ]
     },
     "execution_count": 25,
     "metadata": {},
     "output_type": "execute_result"
    }
   ],
   "source": [
    "# get all the feature names from Tfidf Vectorizer\n",
    "tfidf.get_feature_names()"
   ]
  },
  {
   "cell_type": "code",
   "execution_count": 26,
   "metadata": {},
   "outputs": [
    {
     "data": {
      "text/plain": [
       "{'analyzer': 'word',\n",
       " 'binary': False,\n",
       " 'decode_error': 'strict',\n",
       " 'dtype': numpy.float64,\n",
       " 'encoding': 'utf-8',\n",
       " 'input': 'content',\n",
       " 'lowercase': True,\n",
       " 'max_df': 1.0,\n",
       " 'max_features': 500,\n",
       " 'min_df': 1,\n",
       " 'ngram_range': (1, 3),\n",
       " 'norm': 'l2',\n",
       " 'preprocessor': None,\n",
       " 'smooth_idf': True,\n",
       " 'stop_words': None,\n",
       " 'strip_accents': None,\n",
       " 'sublinear_tf': False,\n",
       " 'token_pattern': '(?u)\\\\b\\\\w\\\\w+\\\\b',\n",
       " 'tokenizer': None,\n",
       " 'use_idf': True,\n",
       " 'vocabulary': None}"
      ]
     },
     "execution_count": 26,
     "metadata": {},
     "output_type": "execute_result"
    }
   ],
   "source": [
    "# get all the parameter names from Tfidf Vectorizer\n",
    "tfidf.get_params()"
   ]
  },
  {
   "cell_type": "code",
   "execution_count": 27,
   "metadata": {},
   "outputs": [],
   "source": [
    "# with the help of the training data and feature names construct a dataframe\n",
    "count_df = pd.DataFrame(X_train, columns = tfidf.get_feature_names())"
   ]
  },
  {
   "cell_type": "code",
   "execution_count": 28,
   "metadata": {},
   "outputs": [
    {
     "name": "stdout",
     "output_type": "stream",
     "text": [
      "        abl    access    accord  accur    achiev       act   address  \\\n",
      "0  0.058987  0.132188  0.000000    0.0  0.044949  0.034963  0.017481   \n",
      "1  0.000000  0.000000  0.087681    0.0  0.000000  0.000000  0.000000   \n",
      "2  0.000000  0.000000  0.007693    0.0  0.009890  0.000000  0.000000   \n",
      "3  0.000000  0.000000  0.000000    0.0  0.000000  0.000000  0.077221   \n",
      "4  0.000000  0.000000  0.000000    0.0  0.000000  0.028307  0.000000   \n",
      "5  0.000000  0.000000  0.021681    0.0  0.000000  0.000000  0.021681   \n",
      "6  0.054733  0.000000  0.000000    0.0  0.000000  0.000000  0.024331   \n",
      "7  0.000000  0.000000  0.065425    0.0  0.000000  0.021808  0.000000   \n",
      "8  0.000000  0.000000  0.000000    0.0  0.000000  0.000000  0.000000   \n",
      "\n",
      "   administr    advanc     advis  ...     worst  worst person     worth  \\\n",
      "0   0.039325  0.019662  0.000000  ...  0.000000      0.000000  0.000000   \n",
      "1   0.000000  0.000000  0.000000  ...  0.000000      0.000000  0.000000   \n",
      "2   0.017306  0.017306  0.029671  ...  0.000000      0.000000  0.000000   \n",
      "3   0.000000  0.000000  0.000000  ...  0.000000      0.000000  0.000000   \n",
      "4   0.000000  0.000000  0.000000  ...  0.000000      0.000000  0.036392   \n",
      "5   0.000000  0.000000  0.000000  ...  0.000000      0.000000  0.000000   \n",
      "6   0.000000  0.000000  0.000000  ...  0.000000      0.000000  0.000000   \n",
      "7   0.000000  0.024529  0.000000  ...  0.131927      0.098945  0.056075   \n",
      "8   0.000000  0.000000  0.000000  ...  0.000000      0.000000  0.000000   \n",
      "\n",
      "      would   written      year       yet      york     young  young peopl  \n",
      "0  0.069925  0.000000  0.000000  0.019662  0.022474  0.022474     0.000000  \n",
      "1  0.000000  0.225450  0.142371  0.000000  0.000000  0.000000     0.000000  \n",
      "2  0.046158  0.019781  0.031228  0.000000  0.019781  0.000000     0.000000  \n",
      "3  0.000000  0.000000  0.031346  0.000000  0.000000  0.000000     0.000000  \n",
      "4  0.000000  0.000000  0.000000  0.000000  0.000000  0.000000     0.000000  \n",
      "5  0.108405  0.000000  0.017602  0.024386  0.000000  0.111495     0.098367  \n",
      "6  0.000000  0.000000  0.000000  0.000000  0.000000  0.000000     0.000000  \n",
      "7  0.000000  0.000000  0.035411  0.000000  0.000000  0.000000     0.000000  \n",
      "8  0.000000  0.000000  0.000000  0.000000  0.000000  0.000000     0.000000  \n",
      "\n",
      "[9 rows x 500 columns]\n"
     ]
    }
   ],
   "source": [
    "print(count_df)"
   ]
  },
  {
   "cell_type": "code",
   "execution_count": 29,
   "metadata": {},
   "outputs": [
    {
     "name": "stdout",
     "output_type": "stream",
     "text": [
      "        abl    access    accord  accur    achiev       act   address  \\\n",
      "0  0.058987  0.132188  0.000000    0.0  0.044949  0.034963  0.017481   \n",
      "1  0.000000  0.000000  0.087681    0.0  0.000000  0.000000  0.000000   \n",
      "2  0.000000  0.000000  0.007693    0.0  0.009890  0.000000  0.000000   \n",
      "3  0.000000  0.000000  0.000000    0.0  0.000000  0.000000  0.077221   \n",
      "4  0.000000  0.000000  0.000000    0.0  0.000000  0.028307  0.000000   \n",
      "\n",
      "   administr    advanc     advis  ...  worst  worst person     worth  \\\n",
      "0   0.039325  0.019662  0.000000  ...    0.0           0.0  0.000000   \n",
      "1   0.000000  0.000000  0.000000  ...    0.0           0.0  0.000000   \n",
      "2   0.017306  0.017306  0.029671  ...    0.0           0.0  0.000000   \n",
      "3   0.000000  0.000000  0.000000  ...    0.0           0.0  0.000000   \n",
      "4   0.000000  0.000000  0.000000  ...    0.0           0.0  0.036392   \n",
      "\n",
      "      would   written      year       yet      york     young  young peopl  \n",
      "0  0.069925  0.000000  0.000000  0.019662  0.022474  0.022474          0.0  \n",
      "1  0.000000  0.225450  0.142371  0.000000  0.000000  0.000000          0.0  \n",
      "2  0.046158  0.019781  0.031228  0.000000  0.019781  0.000000          0.0  \n",
      "3  0.000000  0.000000  0.031346  0.000000  0.000000  0.000000          0.0  \n",
      "4  0.000000  0.000000  0.000000  0.000000  0.000000  0.000000          0.0  \n",
      "\n",
      "[5 rows x 500 columns]\n"
     ]
    }
   ],
   "source": [
    "# display the first five rows of the dataframe\n",
    "print(count_df.head())"
   ]
  },
  {
   "cell_type": "markdown",
   "metadata": {},
   "source": [
    "# PLOTTING THE CONFUSION MATRIX"
   ]
  },
  {
   "cell_type": "code",
   "execution_count": 30,
   "metadata": {},
   "outputs": [],
   "source": [
    "def plot_confusion_matrix(cm, classes,\n",
    "                          normalize=False,\n",
    "                          title='Confusion matrix',\n",
    "                          cmap=plt.cm.Blues):\n",
    "    \"\"\"\n",
    "    See full source and example: \n",
    "    http://scikit-learn.org/stable/auto_examples/model_selection/plot_confusion_matrix.html\n",
    "    \n",
    "    This function prints and plots the confusion matrix.\n",
    "    Normalization can be applied by setting `normalize=True`.\n",
    "    \"\"\"\n",
    "    plt.imshow(cm, interpolation='nearest', cmap=cmap)\n",
    "    plt.title(title)\n",
    "    plt.colorbar()\n",
    "    tick_marks = np.arange(len(classes))\n",
    "    plt.xticks(tick_marks, classes, rotation=45)\n",
    "    plt.yticks(tick_marks, classes)\n",
    "\n",
    "    if normalize:\n",
    "        cm = cm.astype('float') / cm.sum(axis=1)[:, np.newaxis]\n",
    "        print(\"Normalized confusion matrix\")\n",
    "    else:\n",
    "        print('Confusion matrix, without normalization')\n",
    "\n",
    "    thresh = cm.max() / 2.\n",
    "    for i, j in itertools.product(range(cm.shape[0]), range(cm.shape[1])):\n",
    "        plt.text(j, i, cm[i, j],\n",
    "                 horizontalalignment=\"center\",\n",
    "                 color=\"white\" if cm[i, j] > thresh else \"black\")\n",
    "\n",
    "    plt.tight_layout()\n",
    "    plt.ylabel('True label')\n",
    "    plt.xlabel('Predicted label')"
   ]
  },
  {
   "cell_type": "code",
   "execution_count": 35,
   "metadata": {},
   "outputs": [
    {
     "data": {
      "text/plain": [
       "(1,)"
      ]
     },
     "execution_count": 35,
     "metadata": {},
     "output_type": "execute_result"
    }
   ],
   "source": [
    "Y_test.shape"
   ]
  },
  {
   "cell_type": "markdown",
   "metadata": {},
   "source": [
    "# MULTINOMIAL NB ALGORITHM"
   ]
  },
  {
   "cell_type": "code",
   "execution_count": 47,
   "metadata": {},
   "outputs": [],
   "source": [
    "from sklearn.naive_bayes import MultinomialNB\n",
    "\n",
    "classifier = MultinomialNB()\n",
    "\n",
    "import itertools"
   ]
  },
  {
   "cell_type": "code",
   "execution_count": 52,
   "metadata": {},
   "outputs": [],
   "source": [
    "from sklearn.metrics import accuracy_score\n",
    "\n",
    "from sklearn.metrics import confusion_matrix"
   ]
  },
  {
   "cell_type": "code",
   "execution_count": 53,
   "metadata": {},
   "outputs": [
    {
     "name": "stdout",
     "output_type": "stream",
     "text": [
      "[0]\n"
     ]
    }
   ],
   "source": [
    "# train the model\n",
    "classifier.fit(X_train, Y_train)\n",
    "\n",
    "# predict the model\n",
    "pred = classifier.predict(X_test)\n",
    "print(pred)"
   ]
  },
  {
   "cell_type": "code",
   "execution_count": 54,
   "metadata": {},
   "outputs": [
    {
     "name": "stdout",
     "output_type": "stream",
     "text": [
      "0.0\n"
     ]
    }
   ],
   "source": [
    "# find out the accuracy between the actual value and the predicted value\n",
    "score = accuracy_score(pred, Y_test)\n",
    "print(score * 100.0)"
   ]
  },
  {
   "cell_type": "code",
   "execution_count": 55,
   "metadata": {},
   "outputs": [
    {
     "name": "stdout",
     "output_type": "stream",
     "text": [
      "[[0 0]\n",
      " [1 0]]\n"
     ]
    }
   ],
   "source": [
    "# create the confusion matrix\n",
    "cm = confusion_matrix(Y_test, pred)\n",
    "print(cm)"
   ]
  },
  {
   "cell_type": "code",
   "execution_count": 57,
   "metadata": {},
   "outputs": [
    {
     "name": "stdout",
     "output_type": "stream",
     "text": [
      "Confusion matrix, without normalization\n"
     ]
    },
    {
     "data": {
      "image/png": "[encoded data removed]",
      "text/plain": [
       "<Figure size 432x288 with 2 Axes>"
      ]
     },
     "metadata": {
      "needs_background": "light"
     },
     "output_type": "display_data"
    }
   ],
   "source": [
    "# plot the confusion matrix of the graph\n",
    "plot_confusion_matrix(cm , classes = ['FAKE','REAL'])"
   ]
  },
  {
   "cell_type": "markdown",
   "metadata": {},
   "source": [
    "# Passive Aggressive Classifier Algorithm"
   ]
  },
  {
   "cell_type": "code",
   "execution_count": 60,
   "metadata": {},
   "outputs": [],
   "source": [
    "from sklearn.linear_model import PassiveAggressiveClassifier\n",
    "\n",
    "# create the object for Passive Aggressive Classifier Algorithm\n",
    "linear_clf = PassiveAggressiveClassifier(max_iter = 50)"
   ]
  },
  {
   "cell_type": "code",
   "execution_count": 62,
   "metadata": {},
   "outputs": [],
   "source": [
    "# train the model\n",
    "linear_clf.fit(X_train, Y_train)\n",
    "\n",
    "# predict the model\n",
    "pred = linear_clf.predict(X_test)"
   ]
  },
  {
   "cell_type": "code",
   "execution_count": 63,
   "metadata": {},
   "outputs": [],
   "source": [
    "from sklearn.metrics import accuracy_score"
   ]
  },
  {
   "cell_type": "code",
   "execution_count": 64,
   "metadata": {},
   "outputs": [
    {
     "name": "stdout",
     "output_type": "stream",
     "text": [
      "0.0\n"
     ]
    }
   ],
   "source": [
    "ac_score = accuracy_score(pred, Y_test)\n",
    "print(ac_score * 100.0)"
   ]
  },
  {
   "cell_type": "code",
   "execution_count": 67,
   "metadata": {},
   "outputs": [
    {
     "name": "stdout",
     "output_type": "stream",
     "text": [
      "              precision    recall  f1-score   support\n",
      "\n",
      "           0       0.00      0.00      0.00       1.0\n",
      "           1       0.00      0.00      0.00       0.0\n",
      "\n",
      "    accuracy                           0.00       1.0\n",
      "   macro avg       0.00      0.00      0.00       1.0\n",
      "weighted avg       0.00      0.00      0.00       1.0\n",
      "\n"
     ]
    },
    {
     "name": "stderr",
     "output_type": "stream",
     "text": [
      "C:\\Users\\DELL\\anaconda3\\lib\\site-packages\\sklearn\\metrics\\_classification.py:1221: UndefinedMetricWarning: Precision and F-score are ill-defined and being set to 0.0 in labels with no predicted samples. Use `zero_division` parameter to control this behavior.\n",
      "  _warn_prf(average, modifier, msg_start, len(result))\n",
      "C:\\Users\\DELL\\anaconda3\\lib\\site-packages\\sklearn\\metrics\\_classification.py:1221: UndefinedMetricWarning: Recall and F-score are ill-defined and being set to 0.0 in labels with no true samples. Use `zero_division` parameter to control this behavior.\n",
      "  _warn_prf(average, modifier, msg_start, len(result))\n"
     ]
    }
   ],
   "source": [
    "from sklearn.metrics import classification_report\n",
    "\n",
    "cr = classification_report(pred, Y_test)\n",
    "print(cr)"
   ]
  },
  {
   "cell_type": "code",
   "execution_count": 68,
   "metadata": {},
   "outputs": [
    {
     "name": "stdout",
     "output_type": "stream",
     "text": [
      "[[0 1]\n",
      " [0 0]]\n"
     ]
    }
   ],
   "source": [
    "from sklearn.metrics import confusion_matrix\n",
    "\n",
    "cm = confusion_matrix(pred, Y_test)\n",
    "print(cm)"
   ]
  },
  {
   "cell_type": "code",
   "execution_count": 70,
   "metadata": {},
   "outputs": [
    {
     "name": "stdout",
     "output_type": "stream",
     "text": [
      "Confusion matrix, without normalization\n"
     ]
    },
    {
     "data": {
      "image/png": "[encoded data removed]",
      "text/plain": [
       "<Figure size 432x288 with 2 Axes>"
      ]
     },
     "metadata": {
      "needs_background": "light"
     },
     "output_type": "display_data"
    }
   ],
   "source": [
    "plot_confusion_matrix(cm, classes = ['FAKE Data','REAL Data'])"
   ]
  },
  {
   "cell_type": "markdown",
   "metadata": {},
   "source": [
    "# Multinomial Classifier with Hyperparameter"
   ]
  },
  {
   "cell_type": "code",
   "execution_count": 71,
   "metadata": {},
   "outputs": [],
   "source": [
    "classifier=MultinomialNB(alpha=0.1)"
   ]
  },
  {
   "cell_type": "code",
   "execution_count": 73,
   "metadata": {},
   "outputs": [
    {
     "name": "stdout",
     "output_type": "stream",
     "text": [
      "Alpha: 0.0, Score : 0.0\n",
      "Alpha: 0.1, Score : 1.0\n",
      "Alpha: 0.2, Score : 1.0\n",
      "Alpha: 0.30000000000000004, Score : 1.0\n",
      "Alpha: 0.4, Score : 1.0\n",
      "Alpha: 0.5, Score : 1.0\n",
      "Alpha: 0.6000000000000001, Score : 1.0\n",
      "Alpha: 0.7000000000000001, Score : 0.0\n",
      "Alpha: 0.8, Score : 0.0\n",
      "Alpha: 0.9, Score : 0.0\n"
     ]
    },
    {
     "name": "stderr",
     "output_type": "stream",
     "text": [
      "C:\\Users\\DELL\\anaconda3\\lib\\site-packages\\sklearn\\naive_bayes.py:511: UserWarning: alpha too small will result in numeric errors, setting alpha = 1.0e-10\n",
      "  warnings.warn('alpha too small will result in numeric errors, '\n"
     ]
    }
   ],
   "source": [
    "previous_score=0\n",
    "for alpha in np.arange(0,1,0.1):\n",
    "    sub_classifier=MultinomialNB(alpha=alpha)\n",
    "    sub_classifier.fit(X_train,Y_train)\n",
    "    y_pred=sub_classifier.predict(X_test)\n",
    "    score = metrics.accuracy_score(Y_test, y_pred)\n",
    "    if score>previous_score:\n",
    "        classifier=sub_classifier\n",
    "    print(\"Alpha: {}, Score : {}\".format(alpha,score))"
   ]
  },
  {
   "cell_type": "code",
   "execution_count": 81,
   "metadata": {},
   "outputs": [],
   "source": [
    "## Get Features names\n",
    "feature_names = tfidf.get_feature_names()"
   ]
  },
  {
   "cell_type": "code",
   "execution_count": 82,
   "metadata": {},
   "outputs": [
    {
     "data": {
      "text/plain": [
       "array([-6.20158648, -6.28888459, -6.06160763, -6.28888459, -6.28888459,\n",
       "       -6.20866512, -6.24913381, -6.28888459, -6.24881582, -6.28888459,\n",
       "       -6.28888459, -6.06950055, -6.01671994, -6.28888459, -6.28888459,\n",
       "       -6.25318223, -6.28888459, -6.28888459, -6.12189947, -6.12000119,\n",
       "       -6.24428322, -6.28888459, -6.17319526, -6.20420345, -6.28888459,\n",
       "       -6.28888459, -6.28888459, -6.13943224, -6.28888459, -6.25318223,\n",
       "       -6.24881582, -6.25318223, -6.28888459, -6.28888459, -6.28888459,\n",
       "       -6.28888459, -5.96988529, -6.28888459, -6.28888459, -6.28888459,\n",
       "       -6.28888459, -6.08345312, -6.24278613, -6.24881582, -6.28888459,\n",
       "       -6.28888459, -6.23718078, -6.28888459, -6.28888459, -6.28888459,\n",
       "       -6.28888459, -6.28888459, -6.02142809, -6.28888459, -6.28888459,\n",
       "       -6.28888459, -6.28888459, -6.15248878, -6.28888459, -6.28888459,\n",
       "       -6.28888459, -6.28888459, -6.15313997, -6.28888459, -5.71814728,\n",
       "       -6.09013413, -6.28888459, -6.28888459, -6.28888459, -6.19871943,\n",
       "       -6.28888459, -6.24428322, -5.7733097 , -6.06950055, -6.20158648,\n",
       "       -6.28888459, -6.28888459, -6.24321453, -6.28888459, -6.28888459,\n",
       "       -6.28888459, -6.28888459, -6.24321453, -6.12000119, -6.24278613,\n",
       "       -5.85082724, -6.13624236, -5.96333923, -6.28888459, -6.28888459,\n",
       "       -6.18970217, -6.28888459, -6.2102909 , -6.1021968 , -6.28888459,\n",
       "       -6.28888459, -6.28888459, -6.28888459, -6.28888459, -6.0460585 ,\n",
       "       -6.15410398, -6.28888459, -5.93269081, -6.28888459, -6.03363892,\n",
       "       -6.13624236, -6.13624236, -6.18970217, -6.24881582, -6.28888459,\n",
       "       -6.24881582, -6.19953945, -6.28888459, -6.28888459, -6.28888459,\n",
       "       -6.28888459, -6.28888459, -5.96988529, -6.12000119, -6.28888459,\n",
       "       -6.28888459, -6.28888459, -6.28888459, -6.28888459, -5.75035686,\n",
       "       -5.93254714, -6.06572288, -6.24428322, -6.28888459, -6.24913381,\n",
       "       -6.28888459, -6.28888459, -6.28888459, -6.28888459, -6.13029648,\n",
       "       -6.17439138, -6.23000029, -6.28888459, -6.28888459, -6.28888459,\n",
       "       -6.28888459, -6.28888459, -6.24321453, -6.2102909 , -6.22564323,\n",
       "       -6.0038438 , -6.28888459, -6.25318223, -6.20627262, -6.03782015,\n",
       "       -5.98379898, -6.28888459, -6.12126831, -6.20158648, -6.28888459,\n",
       "       -6.28888459, -5.97775539, -6.28888459, -6.28888459, -6.28888459,\n",
       "       -6.24321453, -6.24881582, -6.28888459, -6.28888459, -6.25129815,\n",
       "       -6.24881582, -6.24881582, -6.19871943, -6.28888459, -6.20866512,\n",
       "       -6.24881582, -6.25676406, -6.18801935, -6.28888459, -6.28888459,\n",
       "       -6.23000029, -6.25318223, -6.28888459, -6.28888459, -6.28888459,\n",
       "       -6.18970217, -6.19953945, -6.24321453, -6.1435715 , -6.18801935,\n",
       "       -6.28888459, -6.28888459, -6.09214057, -6.24738947, -6.01981691,\n",
       "       -6.25318223, -6.28888459, -6.28888459, -6.20866512, -6.28888459,\n",
       "       -6.28888459, -6.28888459, -6.24913381, -6.23806424, -6.2102909 ,\n",
       "       -6.24321453, -6.28888459, -6.28888459, -6.12126831, -6.28888459,\n",
       "       -6.28888459, -6.23718078, -6.13337083, -6.23806424, -6.28888459,\n",
       "       -6.28888459, -6.24428322, -6.28888459, -6.0460585 , -6.0460585 ,\n",
       "       -6.28888459, -6.06237998, -6.28888459, -5.66907022, -6.05687192,\n",
       "       -6.28888459, -6.16063836, -6.28888459, -6.13670564, -6.28888459,\n",
       "       -6.28888459, -6.24321453, -6.20092821, -6.28888459, -6.16899208,\n",
       "       -6.00588625, -6.28888459, -6.25318223, -6.28888459, -6.28888459,\n",
       "       -6.21090293, -6.11670406, -6.17988196, -6.28888459, -6.24321453,\n",
       "       -6.24278613, -6.17789963, -6.185388  , -6.19953945, -6.17439138,\n",
       "       -6.22564323, -6.24321453, -6.12853307, -6.28888459, -6.06541047,\n",
       "       -6.28888459, -6.25649266, -6.28888459, -6.14828933, -6.25318223,\n",
       "       -6.28888459, -6.08816   , -6.28888459, -6.28888459, -6.24321453,\n",
       "       -6.28888459, -6.28888459, -6.23718078, -6.28888459, -6.16063836,\n",
       "       -6.28888459, -6.28888459, -6.28888459, -6.28888459, -6.28888459,\n",
       "       -6.28888459, -6.28888459, -6.28888459, -6.28888459, -6.28888459,\n",
       "       -6.28888459, -6.28888459, -6.28888459, -6.28888459, -6.28888459,\n",
       "       -6.28888459, -6.28888459, -6.1435715 , -6.06950055, -6.22210537,\n",
       "       -6.28888459, -6.28888459, -6.28888459, -6.03248353, -6.28888459,\n",
       "       -6.28888459, -6.20592922, -6.2102909 , -6.28888459, -6.28888459,\n",
       "       -6.28888459, -6.12933142, -6.28888459, -6.24428322, -6.28888459,\n",
       "       -6.14761202, -6.09401164, -6.28888459, -6.28888459, -6.28888459,\n",
       "       -6.21090293, -6.28888459, -6.28888459, -6.13624236, -6.28888459,\n",
       "       -6.17439138, -6.28888459, -6.28888459, -6.28888459, -6.18151627,\n",
       "       -6.25318223, -6.28888459, -6.28888459, -6.185388  , -6.05946788,\n",
       "       -5.98379898, -6.23718078, -6.25676406, -6.28888459, -6.12535482,\n",
       "       -6.28888459, -6.24881582, -6.09492709, -6.24881582, -6.28888459,\n",
       "       -6.15248878, -6.28888459, -6.28888459, -6.28888459, -6.28888459,\n",
       "       -5.7802508 , -6.28888459, -6.28888459, -6.28888459, -6.28888459,\n",
       "       -6.28888459, -6.28888459, -6.20592922, -6.1021968 , -6.28888459,\n",
       "       -6.28888459, -6.28888459, -6.28888459, -6.12000119, -6.0460585 ,\n",
       "       -6.09013413, -6.18970217, -6.28888459, -6.28888459, -6.28888459,\n",
       "       -6.28888459, -6.28888459, -6.19202888, -6.24321453, -6.24881582,\n",
       "       -6.28888459, -6.19953945, -6.28888459, -6.23718078, -6.28888459,\n",
       "       -6.05687192, -6.24321453, -6.15410398, -6.09099311, -6.1006062 ,\n",
       "       -6.28888459, -6.28888459, -6.28888459, -6.28888459, -6.28888459,\n",
       "       -6.28888459, -6.28888459, -6.1528951 , -6.28888459, -6.28888459,\n",
       "       -6.28888459, -6.2088746 , -6.2147992 , -6.28888459, -6.17439138,\n",
       "       -6.2102909 , -6.28888459, -6.28888459, -6.10373618, -6.28888459,\n",
       "       -6.28888459, -6.24881582, -6.1435715 , -6.16557207, -6.24881582,\n",
       "       -5.59629997, -6.28888459, -6.28888459, -6.28888459, -6.15410398,\n",
       "       -6.09245134, -6.03782015, -6.03782015, -6.19909313, -6.28888459,\n",
       "       -6.28888459, -6.28888459, -6.28888459, -6.28888459, -6.28888459,\n",
       "       -6.21871072, -6.24913381, -6.28888459, -6.28888459, -6.24321453,\n",
       "       -5.98379898, -6.02737203, -6.28888459, -5.7802508 , -5.72841162,\n",
       "       -5.82330163, -6.12000119, -6.24913381, -6.24278613, -6.15769232,\n",
       "       -6.25980249, -6.28888459, -6.28888459, -6.28888459, -6.28888459,\n",
       "       -6.25318223, -6.18970217, -6.24321453, -6.28888459, -6.24881582,\n",
       "       -6.25318223, -6.20592922, -6.09642691, -6.28888459, -6.2147992 ,\n",
       "       -6.28888459, -6.28888459, -6.28888459, -6.28888459, -6.28888459,\n",
       "       -6.28888459, -6.28888459, -6.28888459, -6.28888459, -6.03091653,\n",
       "       -6.0460585 , -6.17319526, -6.18803288, -6.28888459, -6.28888459,\n",
       "       -6.28888459, -6.28888459, -6.28888459, -6.11771931, -6.24881582,\n",
       "       -6.17439138, -5.89238153, -6.24428322, -6.28888459, -6.24428322,\n",
       "       -6.21871072, -6.28888459, -6.28888459, -6.28888459, -6.25676406,\n",
       "       -6.28888459, -6.25318223, -6.25318223, -6.28888459, -6.25318223,\n",
       "       -6.28888459, -6.20754783, -6.28888459, -6.13670564, -6.28888459,\n",
       "       -6.25318223, -6.28888459, -6.09214057, -6.0046556 , -6.23718078,\n",
       "       -6.28888459, -6.25676406, -6.28888459, -6.17319526, -6.28888459,\n",
       "       -6.09013413, -6.13624236, -6.14555467, -6.28888459, -5.96988529,\n",
       "       -6.02936853, -6.28888459, -6.28888459, -6.28888459, -6.28888459])"
      ]
     },
     "execution_count": 82,
     "metadata": {},
     "output_type": "execute_result"
    }
   ],
   "source": [
    "classifier.coef_[0]"
   ]
  },
  {
   "cell_type": "code",
   "execution_count": 83,
   "metadata": {},
   "outputs": [
    {
     "data": {
      "text/plain": [
       "[(-5.596299966176707, 'shark'),\n",
       " (-5.669070220069265, 'kill'),\n",
       " (-5.718147280677028, 'chaffetz'),\n",
       " (-5.728411617260946, 'stori'),\n",
       " (-5.750356863819547, 'elton'),\n",
       " (-5.773309703697258, 'civilian'),\n",
       " (-5.780250803337715, 'stone'),\n",
       " (-5.780250803337715, 'prison'),\n",
       " (-5.823301634756726, 'strike'),\n",
       " (-5.850827239062512, 'comey'),\n",
       " (-5.892381530325446, 'us'),\n",
       " (-5.932547140329325, 'elton john'),\n",
       " (-5.932690810097497, 'death'),\n",
       " (-5.96333922895913, 'committe'),\n",
       " (-5.969885291003817, 'written'),\n",
       " (-5.969885291003817, 'draft'),\n",
       " (-5.969885291003817, 'articl'),\n",
       " (-5.97775538565459, 'found'),\n",
       " (-5.983798981365352, 'stare'),\n",
       " (-5.983798981365352, 'pictur')]"
      ]
     },
     "execution_count": 83,
     "metadata": {},
     "output_type": "execute_result"
    }
   ],
   "source": [
    "### Most real\n",
    "sorted(zip(classifier.coef_[0], feature_names), reverse=True)[:20]"
   ]
  },
  {
   "cell_type": "code",
   "execution_count": 84,
   "metadata": {},
   "outputs": [
    {
     "data": {
      "text/plain": [
       "[(-6.288884585511264, 'access'),\n",
       " (-6.288884585511264, 'accur'),\n",
       " (-6.288884585511264, 'achiev'),\n",
       " (-6.288884585511264, 'administr'),\n",
       " (-6.288884585511264, 'advis'),\n",
       " (-6.288884585511264, 'afford'),\n",
       " (-6.288884585511264, 'african'),\n",
       " (-6.288884585511264, 'african american'),\n",
       " (-6.288884585511264, 'agent'),\n",
       " (-6.288884585511264, 'ago'),\n",
       " (-6.288884585511264, 'allow'),\n",
       " (-6.288884585511264, 'altern'),\n",
       " (-6.288884585511264, 'ambassador'),\n",
       " (-6.288884585511264, 'america'),\n",
       " (-6.288884585511264, 'american peopl'),\n",
       " (-6.288884585511264, 'approach'),\n",
       " (-6.288884585511264, 'art'),\n",
       " (-6.288884585511264, 'artemenko'),\n",
       " (-6.288884585511264, 'artemenko said'),\n",
       " (-6.288884585511264, 'ask'),\n",
       " (-6.288884585511264, 'assert'),\n",
       " (-6.288884585511264, 'assess'),\n",
       " (-6.288884585511264, 'associ'),\n",
       " (-6.288884585511264, 'behavior'),\n",
       " (-6.288884585511264, 'behavior scienc'),\n",
       " (-6.288884585511264, 'believ'),\n",
       " (-6.288884585511264, 'best'),\n",
       " (-6.288884585511264, 'better'),\n",
       " (-6.288884585511264, 'break'),\n",
       " (-6.288884585511264, 'bring'),\n",
       " (-6.288884585511264, 'bush'),\n",
       " (-6.288884585511264, 'busi'),\n",
       " (-6.288884585511264, 'bust'),\n",
       " (-6.288884585511264, 'call'),\n",
       " (-6.288884585511264, 'campaign'),\n",
       " (-6.288884585511264, 'candid'),\n",
       " (-6.288884585511264, 'cannot'),\n",
       " (-6.288884585511264, 'care'),\n",
       " (-6.288884585511264, 'certainli'),\n",
       " (-6.288884585511264, 'chanc'),\n",
       " (-6.288884585511264, 'chang'),\n",
       " (-6.288884585511264, 'charg'),\n",
       " (-6.288884585511264, 'church'),\n",
       " (-6.288884585511264, 'class'),\n",
       " (-6.288884585511264, 'clear'),\n",
       " (-6.288884585511264, 'close'),\n",
       " (-6.288884585511264, 'cohen'),\n",
       " (-6.288884585511264, 'cohen mr'),\n",
       " (-6.288884585511264, 'cohen said'),\n",
       " (-6.288884585511264, 'commun'),\n",
       " (-6.288884585511264, 'concern'),\n",
       " (-6.288884585511264, 'congress'),\n",
       " (-6.288884585511264, 'corrupt'),\n",
       " (-6.288884585511264, 'could'),\n",
       " (-6.288884585511264, 'countri'),\n",
       " (-6.288884585511264, 'courag'),\n",
       " (-6.288884585511264, 'critic'),\n",
       " (-6.288884585511264, 'deal'),\n",
       " (-6.288884585511264, 'decid'),\n",
       " (-6.288884585511264, 'detroit'),\n",
       " (-6.288884585511264, 'director nation'),\n",
       " (-6.288884585511264, 'director nation intellig'),\n",
       " (-6.288884585511264, 'discuss'),\n",
       " (-6.288884585511264, 'distrust'),\n",
       " (-6.288884585511264, 'divid'),\n",
       " (-6.288884585511264, 'earli'),\n",
       " (-6.288884585511264, 'econom'),\n",
       " (-6.288884585511264, 'educ'),\n",
       " (-6.288884585511264, 'effort'),\n",
       " (-6.288884585511264, 'elect'),\n",
       " (-6.288884585511264, 'encourag'),\n",
       " (-6.288884585511264, 'enter'),\n",
       " (-6.288884585511264, 'equal'),\n",
       " (-6.288884585511264, 'estat'),\n",
       " (-6.288884585511264, 'estat develop'),\n",
       " (-6.288884585511264, 'everi american'),\n",
       " (-6.288884585511264, 'everyon'),\n",
       " (-6.288884585511264, 'evid'),\n",
       " (-6.288884585511264, 'expect'),\n",
       " (-6.288884585511264, 'explain'),\n",
       " (-6.288884585511264, 'feel'),\n",
       " (-6.288884585511264, 'flynn'),\n",
       " (-6.288884585511264, 'foreign'),\n",
       " (-6.288884585511264, 'former'),\n",
       " (-6.288884585511264, 'franc'),\n",
       " (-6.288884585511264, 'french'),\n",
       " (-6.288884585511264, 'friday'),\n",
       " (-6.288884585511264, 'gener'),\n",
       " (-6.288884585511264, 'georg'),\n",
       " (-6.288884585511264, 'goal'),\n",
       " (-6.288884585511264, 'group'),\n",
       " (-6.288884585511264, 'hamon'),\n",
       " (-6.288884585511264, 'health'),\n",
       " (-6.288884585511264, 'help'),\n",
       " (-6.288884585511264, 'high'),\n",
       " (-6.288884585511264, 'holland'),\n",
       " (-6.288884585511264, 'hollywood'),\n",
       " (-6.288884585511264, 'idealist'),\n",
       " (-6.288884585511264, 'ideolog'),\n",
       " (-6.288884585511264, 'import'),\n",
       " (-6.288884585511264, 'improv'),\n",
       " (-6.288884585511264, 'includ'),\n",
       " (-6.288884585511264, 'inspector'),\n",
       " (-6.288884585511264, 'insur'),\n",
       " (-6.288884585511264, 'intellig agenc'),\n",
       " (-6.288884585511264, 'interest'),\n",
       " (-6.288884585511264, 'iraq'),\n",
       " (-6.288884585511264, 'iraqi'),\n",
       " (-6.288884585511264, 'jacki'),\n",
       " (-6.288884585511264, 'job'),\n",
       " (-6.288884585511264, 'kekenbosch'),\n",
       " (-6.288884585511264, 'lack'),\n",
       " (-6.288884585511264, 'later'),\n",
       " (-6.288884585511264, 'lawmak'),\n",
       " (-6.288884585511264, 'leader'),\n",
       " (-6.288884585511264, 'left'),\n",
       " (-6.288884585511264, 'liar'),\n",
       " (-6.288884585511264, 'liberti'),\n",
       " (-6.288884585511264, 'lie'),\n",
       " (-6.288884585511264, 'line'),\n",
       " (-6.288884585511264, 'make sure'),\n",
       " (-6.288884585511264, 'manafort'),\n",
       " (-6.288884585511264, 'market'),\n",
       " (-6.288884585511264, 'meet'),\n",
       " (-6.288884585511264, 'met'),\n",
       " (-6.288884585511264, 'met mr'),\n",
       " (-6.288884585511264, 'middl'),\n",
       " (-6.288884585511264, 'might'),\n",
       " (-6.288884585511264, 'miss'),\n",
       " (-6.288884585511264, 'moscow'),\n",
       " (-6.288884585511264, 'mr'),\n",
       " (-6.288884585511264, 'mr artemenko'),\n",
       " (-6.288884585511264, 'mr artemenko said'),\n",
       " (-6.288884585511264, 'mr cohen'),\n",
       " (-6.288884585511264, 'mr cohen mr'),\n",
       " (-6.288884585511264, 'mr cohen said'),\n",
       " (-6.288884585511264, 'mr flynn'),\n",
       " (-6.288884585511264, 'mr hamon'),\n",
       " (-6.288884585511264, 'mr holland'),\n",
       " (-6.288884585511264, 'mr kekenbosch'),\n",
       " (-6.288884585511264, 'mr manafort'),\n",
       " (-6.288884585511264, 'mr poroshenko'),\n",
       " (-6.288884585511264, 'mr putin'),\n",
       " (-6.288884585511264, 'mr sater'),\n",
       " (-6.288884585511264, 'mr trump'),\n",
       " (-6.288884585511264, 'must'),\n",
       " (-6.288884585511264, 'nation intellig'),\n",
       " (-6.288884585511264, 'nation secur'),\n",
       " (-6.288884585511264, 'need'),\n",
       " (-6.288884585511264, 'new'),\n",
       " (-6.288884585511264, 'new york'),\n",
       " (-6.288884585511264, 'nuclear'),\n",
       " (-6.288884585511264, 'nuclear weapon'),\n",
       " (-6.288884585511264, 'number'),\n",
       " (-6.288884585511264, 'offer'),\n",
       " (-6.288884585511264, 'offici'),\n",
       " (-6.288884585511264, 'opportun'),\n",
       " (-6.288884585511264, 'option'),\n",
       " (-6.288884585511264, 'organ'),\n",
       " (-6.288884585511264, 'oval'),\n",
       " (-6.288884585511264, 'oval offic'),\n",
       " (-6.288884585511264, 'parti'),\n",
       " (-6.288884585511264, 'past'),\n",
       " (-6.288884585511264, 'peac'),\n",
       " (-6.288884585511264, 'peac plan'),\n",
       " (-6.288884585511264, 'perman'),\n",
       " (-6.288884585511264, 'perman underclass'),\n",
       " (-6.288884585511264, 'polici'),\n",
       " (-6.288884585511264, 'poroshenko'),\n",
       " (-6.288884585511264, 'power'),\n",
       " (-6.288884585511264, 'presid'),\n",
       " (-6.288884585511264, 'presidenti'),\n",
       " (-6.288884585511264, 'price'),\n",
       " (-6.288884585511264, 'primari'),\n",
       " (-6.288884585511264, 'program'),\n",
       " (-6.288884585511264, 'progress'),\n",
       " (-6.288884585511264, 'project'),\n",
       " (-6.288884585511264, 'promis'),\n",
       " (-6.288884585511264, 'proof'),\n",
       " (-6.288884585511264, 'propos'),\n",
       " (-6.288884585511264, 'putin'),\n",
       " (-6.288884585511264, 'question'),\n",
       " (-6.288884585511264, 'race'),\n",
       " (-6.288884585511264, 'racial'),\n",
       " (-6.288884585511264, 'rather'),\n",
       " (-6.288884585511264, 'real'),\n",
       " (-6.288884585511264, 'real estat'),\n",
       " (-6.288884585511264, 'real estat develop'),\n",
       " (-6.288884585511264, 'reason'),\n",
       " (-6.288884585511264, 'rel'),\n",
       " (-6.288884585511264, 'remain'),\n",
       " (-6.288884585511264, 'repres'),\n",
       " (-6.288884585511264, 'rise'),\n",
       " (-6.288884585511264, 'rodham'),\n",
       " (-6.288884585511264, 'round'),\n",
       " (-6.288884585511264, 'run'),\n",
       " (-6.288884585511264, 'russia'),\n",
       " (-6.288884585511264, 'russian'),\n",
       " (-6.288884585511264, 'saddam'),\n",
       " (-6.288884585511264, 'said mr'),\n",
       " (-6.288884585511264, 'sater'),\n",
       " (-6.288884585511264, 'save'),\n",
       " (-6.288884585511264, 'scienc'),\n",
       " (-6.288884585511264, 'second round'),\n",
       " (-6.288884585511264, 'secur'),\n",
       " (-6.288884585511264, 'seem'),\n",
       " (-6.288884585511264, 'send'),\n",
       " (-6.288884585511264, 'show'),\n",
       " (-6.288884585511264, 'side'),\n",
       " (-6.288884585511264, 'simpli'),\n",
       " (-6.288884585511264, 'social'),\n",
       " (-6.288884585511264, 'social behavior'),\n",
       " (-6.288884585511264, 'social behavior scienc'),\n",
       " (-6.288884585511264, 'socialist'),\n",
       " (-6.288884585511264, 'socialist parti'),\n",
       " (-6.288884585511264, 'societi'),\n",
       " (-6.288884585511264, 'specialist'),\n",
       " (-6.288884585511264, 'spring'),\n",
       " (-6.288884585511264, 'still'),\n",
       " (-6.288884585511264, 'sure'),\n",
       " (-6.288884585511264, 'system'),\n",
       " (-6.288884585511264, 'take'),\n",
       " (-6.288884585511264, 'tale'),\n",
       " (-6.288884585511264, 'tension'),\n",
       " (-6.288884585511264, 'today'),\n",
       " (-6.288884585511264, 'top'),\n",
       " (-6.288884585511264, 'toward'),\n",
       " (-6.288884585511264, 'tower'),\n",
       " (-6.288884585511264, 'tri'),\n",
       " (-6.288884585511264, 'true'),\n",
       " (-6.288884585511264, 'trump'),\n",
       " (-6.288884585511264, 'trump organ'),\n",
       " (-6.288884585511264, 'trust'),\n",
       " (-6.288884585511264, 'truth'),\n",
       " (-6.288884585511264, 'ukrain'),\n",
       " (-6.288884585511264, 'ukrainian'),\n",
       " (-6.288884585511264, 'ukrainian presid'),\n",
       " (-6.288884585511264, 'underclass'),\n",
       " (-6.288884585511264, 'union'),\n",
       " (-6.288884585511264, 'vall'),\n",
       " (-6.288884585511264, 'voter'),\n",
       " (-6.288884585511264, 'want'),\n",
       " (-6.288884585511264, 'war'),\n",
       " (-6.288884585511264, 'weapon'),\n",
       " (-6.288884585511264, 'wellesley'),\n",
       " (-6.288884585511264, 'west'),\n",
       " (-6.288884585511264, 'white hous'),\n",
       " (-6.288884585511264, 'will'),\n",
       " (-6.288884585511264, 'wisdom'),\n",
       " (-6.288884585511264, 'word'),\n",
       " (-6.288884585511264, 'worker'),\n",
       " (-6.288884585511264, 'worldview'),\n",
       " (-6.288884585511264, 'would'),\n",
       " (-6.288884585511264, 'yet'),\n",
       " (-6.288884585511264, 'york'),\n",
       " (-6.288884585511264, 'young'),\n",
       " (-6.288884585511264, 'young peopl'),\n",
       " (-6.259802485763857, 'support'),\n",
       " (-6.256764055380427, 'govern'),\n",
       " (-6.256764055380427, 'plan'),\n",
       " (-6.256764055380427, 'way'),\n",
       " (-6.256764055380427, 'work'),\n",
       " (-6.256492658479025, 'mani'),\n",
       " (-6.253182231469467, 'agenc'),\n",
       " (-6.253182231469467, 'answer'),\n",
       " (-6.253182231469467, 'appear'),\n",
       " (-6.253182231469467, 'find'),\n",
       " (-6.253182231469467, 'head'),\n",
       " (-6.253182231469467, 'howev'),\n",
       " (-6.253182231469467, 'liber'),\n",
       " (-6.253182231469467, 'mean'),\n",
       " (-6.253182231469467, 'percent'),\n",
       " (-6.253182231469467, 'talk'),\n",
       " (-6.253182231469467, 'thing'),\n",
       " (-6.253182231469467, 'week'),\n",
       " (-6.253182231469467, 'well'),\n",
       " (-6.253182231469467, 'went'),\n",
       " (-6.253182231469467, 'win'),\n",
       " (-6.251298146637723, 'get'),\n",
       " (-6.249133806148433, 'address'),\n",
       " (-6.249133806148433, 'end'),\n",
       " (-6.249133806148433, 'independ'),\n",
       " (-6.249133806148433, 'speak'),\n",
       " (-6.249133806148433, 'strong'),\n",
       " (-6.248815821584684, 'advanc'),\n",
       " (-6.248815821584684, 'anyth'),\n",
       " (-6.248815821584684, 'becom'),\n",
       " (-6.248815821584684, 'desir'),\n",
       " (-6.248815821584684, 'develop'),\n",
       " (-6.248815821584684, 'gave'),\n",
       " (-6.248815821584684, 'give'),\n",
       " (-6.248815821584684, 'given'),\n",
       " (-6.248815821584684, 'got'),\n",
       " (-6.248815821584684, 'possibl'),\n",
       " (-6.248815821584684, 'potenti'),\n",
       " (-6.248815821584684, 'reform'),\n",
       " (-6.248815821584684, 'senior'),\n",
       " (-6.248815821584684, 'set'),\n",
       " (-6.248815821584684, 'term'),\n",
       " (-6.248815821584684, 'univers'),\n",
       " (-6.247389474915807, 'hope'),\n",
       " (-6.244283216884299, 'alli'),\n",
       " (-6.244283216884299, 'citi'),\n",
       " (-6.244283216884299, 'emerg'),\n",
       " (-6.244283216884299, 'issu'),\n",
       " (-6.244283216884299, 'offic'),\n",
       " (-6.244283216884299, 'use'),\n",
       " (-6.244283216884299, 'visit'),\n",
       " (-6.243214528754548, 'clinton'),\n",
       " (-6.243214528754548, 'colleg'),\n",
       " (-6.243214528754548, 'facebook'),\n",
       " (-6.243214528754548, 'full'),\n",
       " (-6.243214528754548, 'hillari clinton'),\n",
       " (-6.243214528754548, 'initi'),\n",
       " (-6.243214528754548, 'leadership'),\n",
       " (-6.243214528754548, 'littl'),\n",
       " (-6.243214528754548, 'major'),\n",
       " (-6.243214528754548, 'michael'),\n",
       " (-6.243214528754548, 'recent'),\n",
       " (-6.243214528754548, 'result'),\n",
       " (-6.243214528754548, 'stand'),\n",
       " (-6.243214528754548, 'tell'),\n",
       " (-6.24278613223725, 'back'),\n",
       " (-6.24278613223725, 'come'),\n",
       " (-6.24278613223725, 'live'),\n",
       " (-6.24278613223725, 'studi'),\n",
       " (-6.238064239758236, 'individu'),\n",
       " (-6.238064239758236, 'involv'),\n",
       " (-6.237180783321665, 'behind'),\n",
       " (-6.237180783321665, 'intern'),\n",
       " (-6.237180783321665, 'million'),\n",
       " (-6.237180783321665, 'place'),\n",
       " (-6.237180783321665, 'repeat'),\n",
       " (-6.237180783321665, 'wonder'),\n",
       " (-6.230000289143618, 'everi'),\n",
       " (-6.230000289143618, 'hand'),\n",
       " (-6.225643226057915, 'far'),\n",
       " (-6.225643226057915, 'made'),\n",
       " (-6.222105365550764, 'nation'),\n",
       " (-6.218710717838312, 'someth'),\n",
       " (-6.218710717838312, 'vote'),\n",
       " (-6.214799201995672, 'school'),\n",
       " (-6.214799201995672, 'told'),\n",
       " (-6.2109029265156535, 'life'),\n",
       " (-6.2109029265156535, 'other'),\n",
       " (-6.210290902141016, 'connect'),\n",
       " (-6.210290902141016, 'fact'),\n",
       " (-6.210290902141016, 'inform'),\n",
       " (-6.210290902141016, 'noth'),\n",
       " (-6.210290902141016, 'second'),\n",
       " (-6.208874595916841, 'say'),\n",
       " (-6.208665118150272, 'act'),\n",
       " (-6.208665118150272, 'good'),\n",
       " (-6.208665118150272, 'imag'),\n",
       " (-6.207547825736995, 'white'),\n",
       " (-6.206272620684587, 'first'),\n",
       " (-6.205929221856796, 'north'),\n",
       " (-6.205929221856796, 'provid'),\n",
       " (-6.205929221856796, 'three'),\n",
       " (-6.204203451854767, 'also'),\n",
       " (-6.20158648323988, 'abl'),\n",
       " (-6.20158648323988, 'claim'),\n",
       " (-6.20158648323988, 'forc'),\n",
       " (-6.200928212397837, 'least'),\n",
       " (-6.199539447031224, 'director'),\n",
       " (-6.199539447031224, 'hillari'),\n",
       " (-6.199539447031224, 'look like'),\n",
       " (-6.199539447031224, 'religi'),\n",
       " (-6.199093125852702, 'sit'),\n",
       " (-6.198719429698879, 'choic'),\n",
       " (-6.198719429698879, 'go'),\n",
       " (-6.192028884811757, 'receiv'),\n",
       " (-6.189702174322128, 'conduct'),\n",
       " (-6.189702174322128, 'deni'),\n",
       " (-6.189702174322128, 'higher'),\n",
       " (-6.189702174322128, 'rate'),\n",
       " (-6.189702174322128, 'target'),\n",
       " (-6.188032880074288, 'two'),\n",
       " (-6.188019352482627, 'great'),\n",
       " (-6.188019352482627, 'hold'),\n",
       " (-6.185387998733565, 'look'),\n",
       " (-6.185387998733565, 'person'),\n",
       " (-6.181516274304171, 'peopl'),\n",
       " (-6.179881955569387, 'like'),\n",
       " (-6.177899633141928, 'long'),\n",
       " (-6.17439137800228, 'ever'),\n",
       " (-6.17439137800228, 'love'),\n",
       " (-6.17439137800228, 'pass'),\n",
       " (-6.17439137800228, 'seat'),\n",
       " (-6.17439137800228, 'upon'),\n",
       " (-6.1731952595437045, 'alreadi'),\n",
       " (-6.1731952595437045, 'twitter'),\n",
       " (-6.1731952595437045, 'world'),\n",
       " (-6.168992081003937, 'let'),\n",
       " (-6.165572074012253, 'serv'),\n",
       " (-6.160638355635542, 'last'),\n",
       " (-6.160638355635542, 'month'),\n",
       " (-6.15769232036856, 'suggest'),\n",
       " (-6.154103978891411, 'day'),\n",
       " (-6.154103978891411, 'return'),\n",
       " (-6.154103978891411, 'sinc'),\n",
       " (-6.15313996793331, 'case'),\n",
       " (-6.152895096472065, 'said'),\n",
       " (-6.152488784332796, 'came'),\n",
       " (-6.152488784332796, 'present'),\n",
       " (-6.148289329644388, 'may'),\n",
       " (-6.1476120231816545, 'often'),\n",
       " (-6.145554669906873, 'worth'),\n",
       " (-6.143571498452548, 'hit'),\n",
       " (-6.143571498452548, 'name'),\n",
       " (-6.143571498452548, 'septemb'),\n",
       " (-6.139432235861738, 'american'),\n",
       " (-6.136705637385226, 'law'),\n",
       " (-6.136705637385226, 'wife'),\n",
       " (-6.13624235800482, 'comey letter'),\n",
       " (-6.13624235800482, 'democrat rank'),\n",
       " (-6.13624235800482, 'democrat rank member'),\n",
       " (-6.13624235800482, 'oversight'),\n",
       " (-6.13624235800482, 'worst person'),\n",
       " (-6.13337083153236, 'investig'),\n",
       " (-6.130296477194298, 'even'),\n",
       " (-6.129331421915144, 'octob'),\n",
       " (-6.128533066064285, 'make'),\n",
       " (-6.125354815062613, 'polit'),\n",
       " (-6.121899466371212, 'aid'),\n",
       " (-6.1212683052695365, 'follow'),\n",
       " (-6.1212683052695365, 'intellig'),\n",
       " (-6.120001192880008, 'airstrik'),\n",
       " (-6.120001192880008, 'combat'),\n",
       " (-6.120001192880008, 'drone'),\n",
       " (-6.120001192880008, 'rai'),\n",
       " (-6.120001192880008, 'strike afghanistan'),\n",
       " (-6.117719312118349, 'unit'),\n",
       " (-6.116704062257538, 'light'),\n",
       " (-6.103736181498297, 'see'),\n",
       " (-6.102196802691563, 'contain'),\n",
       " (-6.102196802691563, 'public'),\n",
       " (-6.10060619958151, 'right'),\n",
       " (-6.096426908002255, 'time'),\n",
       " (-6.094927085955726, 'poster'),\n",
       " (-6.0940116388834396, 'one'),\n",
       " (-6.092451335143824, 'singl'),\n",
       " (-6.092140567142468, 'home'),\n",
       " (-6.092140567142468, 'without'),\n",
       " (-6.090993106857995, 'review'),\n",
       " (-6.09013413367359, 'chairmen'),\n",
       " (-6.09013413367359, 'rank member'),\n",
       " (-6.09013413367359, 'worst'),\n",
       " (-6.088159995667838, 'member'),\n",
       " (-6.083453117180817, 'attack'),\n",
       " (-6.069500551170081, 'afghan'),\n",
       " (-6.069500551170081, 'civilian kill'),\n",
       " (-6.069500551170081, 'nangarhar'),\n",
       " (-6.065722876017631, 'email'),\n",
       " (-6.065410472552671, 'man'),\n",
       " (-6.062379975544835, 'john'),\n",
       " (-6.061607625678164, 'accord'),\n",
       " (-6.059467881230123, 'photo'),\n",
       " (-6.0568719227376615, 'know'),\n",
       " (-6.0568719227376615, 'republican'),\n",
       " (-6.0460585026195295, 'darrel'),\n",
       " (-6.0460585026195295, 'jason'),\n",
       " (-6.0460585026195295, 'jason chaffetz'),\n",
       " (-6.0460585026195295, 'rank'),\n",
       " (-6.0460585026195295, 'tweet'),\n",
       " (-6.037820145371452, 'fli'),\n",
       " (-6.037820145371452, 'sir'),\n",
       " (-6.037820145371452, 'sir elton'),\n",
       " (-6.033638915242738, 'democrat'),\n",
       " (-6.03248353403095, 'never'),\n",
       " (-6.030916526843983, 'turn'),\n",
       " (-6.0293685260998, 'year'),\n",
       " (-6.027372034430274, 'state'),\n",
       " (-6.021428090740077, 'bureau'),\n",
       " (-6.019816912089673, 'hous'),\n",
       " (-6.016719935990521, 'afghanistan'),\n",
       " (-6.005886252371592, 'letter'),\n",
       " (-6.00465559905619, 'woman'),\n",
       " (-6.003843799750395, 'fbi'),\n",
       " (-5.983798981365352, 'flight'),\n",
       " (-5.983798981365352, 'pictur'),\n",
       " (-5.983798981365352, 'stare'),\n",
       " (-5.97775538565459, 'found'),\n",
       " (-5.969885291003817, 'articl'),\n",
       " (-5.969885291003817, 'draft'),\n",
       " (-5.969885291003817, 'written'),\n",
       " (-5.96333922895913, 'committe'),\n",
       " (-5.932690810097497, 'death'),\n",
       " (-5.932547140329325, 'elton john'),\n",
       " (-5.892381530325446, 'us'),\n",
       " (-5.850827239062512, 'comey'),\n",
       " (-5.823301634756726, 'strike'),\n",
       " (-5.780250803337715, 'prison'),\n",
       " (-5.780250803337715, 'stone'),\n",
       " (-5.773309703697258, 'civilian'),\n",
       " (-5.750356863819547, 'elton'),\n",
       " (-5.728411617260946, 'stori'),\n",
       " (-5.718147280677028, 'chaffetz'),\n",
       " (-5.669070220069265, 'kill'),\n",
       " (-5.596299966176707, 'shark')]"
      ]
     },
     "execution_count": 84,
     "metadata": {},
     "output_type": "execute_result"
    }
   ],
   "source": [
    "## Most fake\n",
    "sorted(zip(classifier.coef_[0], feature_names))[:5000]"
   ]
  },
  {
   "cell_type": "code",
   "execution_count": null,
   "metadata": {},
   "outputs": [],
   "source": []
  }
 ],
 "metadata": {
  "kernelspec": {
   "display_name": "Python 3",
   "language": "python",
   "name": "python3"
  },
  "language_info": {
   "codemirror_mode": {
    "name": "ipython",
    "version": 3
   },
   "file_extension": ".py",
   "mimetype": "text/x-python",
   "name": "python",
   "nbconvert_exporter": "python",
   "pygments_lexer": "ipython3",
   "version": "3.8.3"
  }
 },
 "nbformat": 4,
 "nbformat_minor": 4
}
