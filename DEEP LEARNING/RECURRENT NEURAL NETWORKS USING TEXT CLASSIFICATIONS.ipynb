{
 "cells": [
  {
   "cell_type": "markdown",
   "metadata": {},
   "source": [
    "# IMPORT ALL THE NECESSARY LIBRARIES"
   ]
  },
  {
   "cell_type": "markdown",
   "metadata": {},
   "source": [
    "# Aim :\n",
    " The main of the project is to predict the next word from the email dataset"
   ]
  },
  {
   "cell_type": "code",
   "execution_count": 88,
   "metadata": {},
   "outputs": [],
   "source": [
    "import pandas as pd\n",
    "import numpy  as np\n",
    "import matplotlib.pyplot as plt\n",
    "import seaborn as sns\n",
    "%matplotlib inline\n",
    "from sklearn.model_selection import train_test_split\n",
    "from sklearn.preprocessing   import LabelEncoder\n",
    "# import the libraries for keras\n",
    "import keras\n",
    "from   keras.models import Model\n",
    "from   keras.layers import Dense, Activation, LSTM, Dropout, Input, Embedding\n",
    "from   tensorflow.keras.optimizers import RMSprop\n",
    "from   keras.preprocessing.text import Tokenizer\n",
    "from   keras.preprocessing      import sequence\n",
    "from   tensorflow.keras.utils              import to_categorical\n",
    "from   keras.callbacks          import EarlyStopping"
   ]
  },
  {
   "cell_type": "markdown",
   "metadata": {},
   "source": [
    "# Load the Dataset"
   ]
  },
  {
   "cell_type": "code",
   "execution_count": 89,
   "metadata": {},
   "outputs": [],
   "source": [
    "data = pd.read_csv('sms_spam.csv', delimiter = ',', encoding = 'latin-1')"
   ]
  },
  {
   "cell_type": "code",
   "execution_count": 90,
   "metadata": {},
   "outputs": [
    {
     "name": "stdout",
     "output_type": "stream",
     "text": [
      "      type                                               text\n",
      "0      ham  Go until jurong point, crazy.. Available only ...\n",
      "1      ham                      Ok lar... Joking wif u oni...\n",
      "2     spam  Free entry in 2 a wkly comp to win FA Cup fina...\n",
      "3      ham  U dun say so early hor... U c already then say...\n",
      "4      ham  Nah I don't think he goes to usf, he lives aro...\n",
      "...    ...                                                ...\n",
      "5569  spam  This is the 2nd time we have tried 2 contact u...\n",
      "5570   ham              Will Ã¼ b going to esplanade fr home?\n",
      "5571   ham  Pity, * was in mood for that. So...any other s...\n",
      "5572   ham  The guy did some bitching but I acted like i'd...\n",
      "5573   ham                         Rofl. Its true to its name\n",
      "\n",
      "[5574 rows x 2 columns]\n"
     ]
    }
   ],
   "source": [
    "print(data)"
   ]
  },
  {
   "cell_type": "code",
   "execution_count": 91,
   "metadata": {},
   "outputs": [
    {
     "name": "stdout",
     "output_type": "stream",
     "text": [
      "   type                                               text\n",
      "0   ham  Go until jurong point, crazy.. Available only ...\n",
      "1   ham                      Ok lar... Joking wif u oni...\n",
      "2  spam  Free entry in 2 a wkly comp to win FA Cup fina...\n",
      "3   ham  U dun say so early hor... U c already then say...\n",
      "4   ham  Nah I don't think he goes to usf, he lives aro...\n"
     ]
    }
   ],
   "source": [
    "# Display the top five rows of the dataset\n",
    "print(data.head())"
   ]
  },
  {
   "cell_type": "code",
   "execution_count": 92,
   "metadata": {},
   "outputs": [
    {
     "name": "stdout",
     "output_type": "stream",
     "text": [
      "      type                                               text\n",
      "5569  spam  This is the 2nd time we have tried 2 contact u...\n",
      "5570   ham              Will Ã¼ b going to esplanade fr home?\n",
      "5571   ham  Pity, * was in mood for that. So...any other s...\n",
      "5572   ham  The guy did some bitching but I acted like i'd...\n",
      "5573   ham                         Rofl. Its true to its name\n"
     ]
    }
   ],
   "source": [
    "# display the bottom five rows of the dataset\n",
    "print(data.tail())"
   ]
  },
  {
   "cell_type": "code",
   "execution_count": 93,
   "metadata": {},
   "outputs": [
    {
     "name": "stdout",
     "output_type": "stream",
     "text": [
      "(5574, 2)\n"
     ]
    }
   ],
   "source": [
    "# depict the shape of the dataset\n",
    "print(data.shape)"
   ]
  },
  {
   "cell_type": "code",
   "execution_count": 95,
   "metadata": {},
   "outputs": [
    {
     "name": "stdout",
     "output_type": "stream",
     "text": [
      "type    0\n",
      "text    0\n",
      "dtype: int64\n"
     ]
    }
   ],
   "source": [
    "# To check if any null values are present in the dataset\n",
    "print(data.isnull().sum())"
   ]
  },
  {
   "cell_type": "markdown",
   "metadata": {},
   "source": [
    "# OBSERVATION:\n",
    "\n",
    "No from the aboev observation, there are no NULL Values in the datset"
   ]
  },
  {
   "cell_type": "markdown",
   "metadata": {},
   "source": [
    "# DISPLAY THE GRAPHICAL REPRESENTATION OF THE COUNT OF THE TYPE OF EMAIL"
   ]
  },
  {
   "cell_type": "code",
   "execution_count": 99,
   "metadata": {},
   "outputs": [
    {
     "data": {
      "text/plain": [
       "Text(0.5, 1.0, 'Type vs Count of email')"
      ]
     },
     "execution_count": 99,
     "metadata": {},
     "output_type": "execute_result"
    },
    {
     "data": {
      "image/png": "[encoded data removed]",
      "text/plain": [
       "<Figure size 432x288 with 1 Axes>"
      ]
     },
     "metadata": {
      "needs_background": "light"
     },
     "output_type": "display_data"
    }
   ],
   "source": [
    "X = data.type\n",
    "\n",
    "# display the graphical representation of the count of email type\n",
    "sns.countplot(X)\n",
    "\n",
    "plt.xlabel('Email Type')\n",
    "plt.ylabel('Count of email')\n",
    "plt.title('Type vs Count of email')"
   ]
  },
  {
   "cell_type": "markdown",
   "metadata": {},
   "source": [
    "# DATA PREPROCESSING OF INPUT USING LABEL ENCODING"
   ]
  },
  {
   "cell_type": "code",
   "execution_count": 101,
   "metadata": {},
   "outputs": [
    {
     "name": "stdout",
     "output_type": "stream",
     "text": [
      "[0 0 1 ... 0 0 0]\n",
      "[[0]\n",
      " [0]\n",
      " [1]\n",
      " ...\n",
      " [0]\n",
      " [0]\n",
      " [0]]\n"
     ]
    }
   ],
   "source": [
    "X = data.text\n",
    "Y = data.type\n",
    "# call the label encoder\n",
    "lab = LabelEncoder()\n",
    "# transform the type of email using label encoder\n",
    "Y = lab.fit_transform(Y)\n",
    "print(Y)\n",
    "# Reshape the value of Y\n",
    "Y = Y.reshape(-1,1)\n",
    "print(Y)"
   ]
  },
  {
   "cell_type": "markdown",
   "metadata": {},
   "source": [
    "# Divide the data into training and testing data"
   ]
  },
  {
   "cell_type": "code",
   "execution_count": 102,
   "metadata": {},
   "outputs": [],
   "source": [
    "X_train, X_test, Y_train, Y_test = train_test_split(X,Y,test_size = 0.15)"
   ]
  },
  {
   "cell_type": "code",
   "execution_count": 103,
   "metadata": {},
   "outputs": [
    {
     "data": {
      "text/plain": [
       "(4737,)"
      ]
     },
     "execution_count": 103,
     "metadata": {},
     "output_type": "execute_result"
    }
   ],
   "source": [
    "X_train.shape"
   ]
  },
  {
   "cell_type": "markdown",
   "metadata": {},
   "source": [
    "# TOKENIZATION\n",
    "\n",
    "It refers to the process of breaking the texts into words"
   ]
  },
  {
   "cell_type": "code",
   "execution_count": 106,
   "metadata": {},
   "outputs": [
    {
     "name": "stdout",
     "output_type": "stream",
     "text": [
      "[[  0   0   0 ...   4 120  61]\n",
      " [  0   0   0 ... 231  74 237]\n",
      " [  0   0   0 ...   2 467  21]\n",
      " ...\n",
      " [  0   0   0 ...  12  31 429]\n",
      " [  0   0   0 ...  34 368  51]\n",
      " [  0   0   0 ... 502   4  75]]\n"
     ]
    }
   ],
   "source": [
    "from keras.preprocessing import sequence\n",
    "# maximum length of words\n",
    "max_words = 1000\n",
    "max_len   = 150\n",
    "# create the tokenizer object\n",
    "tok = Tokenizer(num_words = max_words)\n",
    "# using the tokenizer object train the data\n",
    "tok.fit_on_texts(X_train)\n",
    "# create the sequences to break the texts into the lists of words\n",
    "sequences = tok.texts_to_sequences(X_train)\n",
    "# create the sequence matrix\n",
    "sequence_matrix = sequence.pad_sequences(sequences, maxlen = max_len)\n",
    "print(sequence_matrix)"
   ]
  },
  {
   "cell_type": "markdown",
   "metadata": {},
   "source": [
    "## 1.  Here in Keras, we use an embeding function that takes every word from the sentence and converts the word into the vector form and in integer.\n",
    "## 2.  So that with the integer form of the model, the model can be easily trained."
   ]
  },
  {
   "cell_type": "code",
   "execution_count": 111,
   "metadata": {},
   "outputs": [],
   "source": [
    "def RNN():\n",
    "    # define the input layer\n",
    "    inputs = Input(name = 'inputs', shape = [max_len])\n",
    "    # define the embedding layer on the onput layer\n",
    "    layer = Embedding(max_words, 50, input_length = max_len)(inputs)\n",
    "    # define the LSTM Layer\n",
    "    layer = LSTM(64)(layer)\n",
    "    \n",
    "    # define the first dense layer\n",
    "    layer = Dense(256, name = 'FC1')(layer)\n",
    "    # define the activation layer for the dense layer\n",
    "    layer = Activation('relu')(layer)\n",
    "    \n",
    "    # perform the dropout operation to reduce the number of neurons\n",
    "    layer = Dropout(0.5)(layer)\n",
    "    \n",
    "    # define the output layer\n",
    "    layer = Dense(1, name = 'output_layer')(layer)\n",
    "    # define the activation layer for the out put layer\n",
    "    layer = Activation('sigmoid')(layer)\n",
    "    \n",
    "    # define the model for input layer\n",
    "    model = Model(inputs = inputs, outputs = layer)\n",
    "    return(model)"
   ]
  },
  {
   "cell_type": "code",
   "execution_count": 112,
   "metadata": {},
   "outputs": [],
   "source": [
    "model = RNN()"
   ]
  },
  {
   "cell_type": "markdown",
   "metadata": {},
   "source": [
    "# SUMMARY OF RNN MODEL"
   ]
  },
  {
   "cell_type": "code",
   "execution_count": 113,
   "metadata": {},
   "outputs": [
    {
     "name": "stdout",
     "output_type": "stream",
     "text": [
      "Model: \"model_2\"\n",
      "_________________________________________________________________\n",
      " Layer (type)                Output Shape              Param #   \n",
      "=================================================================\n",
      " inputs (InputLayer)         [(None, 150)]             0         \n",
      "                                                                 \n",
      " embedding_15 (Embedding)    (None, 150, 50)           50000     \n",
      "                                                                 \n",
      " lstm_14 (LSTM)              (None, 64)                29440     \n",
      "                                                                 \n",
      " FC1 (Dense)                 (None, 256)               16640     \n",
      "                                                                 \n",
      " activation_28 (Activation)  (None, 256)               0         \n",
      "                                                                 \n",
      " dropout_14 (Dropout)        (None, 256)               0         \n",
      "                                                                 \n",
      " output_layer (Dense)        (None, 1)                 257       \n",
      "                                                                 \n",
      " activation_29 (Activation)  (None, 1)                 0         \n",
      "                                                                 \n",
      "=================================================================\n",
      "Total params: 96,337\n",
      "Trainable params: 96,337\n",
      "Non-trainable params: 0\n",
      "_________________________________________________________________\n"
     ]
    }
   ],
   "source": [
    "model.summary()"
   ]
  },
  {
   "cell_type": "markdown",
   "metadata": {},
   "source": [
    "# COMPILE THE RNN MODEL"
   ]
  },
  {
   "cell_type": "code",
   "execution_count": 114,
   "metadata": {},
   "outputs": [],
   "source": [
    "model.compile(optimizer = 'RMSprop', loss = 'binary_crossentropy', metrics = ['accuracy'])"
   ]
  },
  {
   "cell_type": "markdown",
   "metadata": {},
   "source": [
    "# TRAIN THE RNN MODEL"
   ]
  },
  {
   "cell_type": "code",
   "execution_count": 116,
   "metadata": {},
   "outputs": [
    {
     "name": "stdout",
     "output_type": "stream",
     "text": [
      "Epoch 1/10\n",
      "34/34 [==============================] - 5s 154ms/step - loss: 0.0302 - accuracy: 0.9913 - val_loss: 0.1162 - val_accuracy: 0.9747\n",
      "Epoch 2/10\n",
      "34/34 [==============================] - 5s 141ms/step - loss: 0.0227 - accuracy: 0.9939 - val_loss: 0.1030 - val_accuracy: 0.9747\n"
     ]
    },
    {
     "data": {
      "text/plain": [
       "<keras.callbacks.History at 0x20f189ab790>"
      ]
     },
     "execution_count": 116,
     "metadata": {},
     "output_type": "execute_result"
    }
   ],
   "source": [
    "model.fit(sequence_matrix, Y_train, batch_size = 128, epochs = 10, validation_split = 0.1, callbacks = [EarlyStopping(monitor = 'val_loss', min_delta = 0.0001)])"
   ]
  },
  {
   "cell_type": "markdown",
   "metadata": {},
   "source": [
    "# ACCURACY OF RNN MODEL"
   ]
  },
  {
   "cell_type": "code",
   "execution_count": 117,
   "metadata": {},
   "outputs": [
    {
     "name": "stdout",
     "output_type": "stream",
     "text": [
      "[[95, 8, 61, 6, 10, 74, 699, 733, 38, 476], [32, 1, 30, 69, 208, 3, 164, 13, 879, 487, 7, 491, 23, 245, 10, 351], [24, 337, 82, 27, 3, 109, 7, 182, 152, 109, 32, 96, 27, 42, 41, 12, 10], [536, 20, 433, 31, 4, 61, 23, 1, 93, 128, 15, 20, 96, 326, 317, 22, 3, 215, 85, 137, 218, 29, 3, 70, 2, 57, 2, 201, 6, 27, 102, 10, 51, 88], [644, 13, 805, 310, 709, 12, 344, 806, 807, 857, 193, 1, 434, 585, 16, 710, 378, 672, 404, 858], [175, 78, 415, 1, 515, 12, 11, 66, 25, 31, 112, 339, 11, 66, 10, 12, 515, 200], [701, 68, 10, 46, 269], [37, 122, 9, 4, 590, 32, 3, 82, 87, 2, 213], [539, 57, 110, 1, 137, 9, 92, 511], [420, 517, 161, 31, 597, 135, 2, 47, 161, 52, 88, 6], [83, 77, 16, 110], [377, 77, 214, 2, 333, 142, 68, 10, 46, 269, 89, 31, 751], [1, 53, 4, 594, 73, 4, 493, 36, 5, 259, 847, 233, 55, 36, 4, 106, 94, 20], [70, 5, 340, 360, 810, 784, 111, 444, 255, 363, 526, 303, 990, 91, 24, 16, 900, 12, 558, 139], [58, 511, 11, 731, 50, 22, 3, 643, 95, 337, 1, 123, 22, 3, 306, 11, 58, 572, 22, 3, 11, 29, 3, 107, 13], [35, 841, 473, 3], [60, 58, 2, 472, 48, 3], [72, 69, 2, 2, 80, 518, 284, 43, 4, 759, 503, 688, 43, 4, 999, 15, 756, 173, 304, 140, 185, 2, 230, 104], [58, 511, 18, 40, 61, 11, 384, 1, 123, 40, 3, 133, 7, 738, 11, 1, 108, 15, 3, 7, 67, 4, 460, 48, 5, 891, 15, 3], [25, 11, 626, 26, 12, 210, 21, 63, 9, 462, 26, 221, 2, 76, 12, 25, 38, 75, 422, 10, 7, 155, 26, 265, 14, 520, 10, 205, 62], [6, 167, 524, 15, 913, 330, 711, 348, 26, 167, 268, 408, 4, 331, 64, 84, 1, 274, 143, 607, 26, 23, 222, 524], [833, 9, 40, 284, 6, 17, 192, 5, 153, 2, 119, 35, 16, 173, 304, 81, 276, 202, 260, 64, 369], [1, 196, 204, 5, 126, 150, 21, 101, 67, 4, 149], [160, 263, 10, 524, 6, 253, 398, 142, 607], [673, 14, 8, 56, 125, 39, 51, 44, 7, 398, 40, 174], [49, 28, 613, 21, 29, 6, 262, 10, 19, 213, 210, 47, 33, 286], [168, 12, 5, 21, 36, 5, 36, 18, 13, 98, 12, 4, 45, 35, 91, 36, 21], [38, 28, 58, 12, 5, 599, 8, 14, 49, 32, 1, 246, 9, 138], [49, 84, 25, 26, 142, 398, 10, 82, 309, 311, 21], [124, 1, 37, 442, 11, 436, 5, 278, 725, 803, 10, 7, 1, 100, 374, 47, 957, 25, 212], [42, 41, 9, 25, 26], [641, 804, 438, 43, 51, 940, 36, 804, 2, 618, 996, 804, 997, 238, 184], [103, 419, 474, 586, 9, 5, 419, 467, 3, 297, 22, 540, 49, 25, 4, 58, 75, 9, 357], [35, 59, 44, 17, 2, 37, 53, 15, 5, 462, 175, 244, 1, 499, 5, 89, 508, 31, 468, 1, 31, 720, 2, 30, 44, 7, 56, 14, 55, 289, 372, 484, 9, 407], [148, 71, 8, 160, 120, 257, 298, 164, 9, 367, 175, 2, 30, 53], [3, 34, 47, 2, 1, 423, 525], [49, 84, 24, 6, 262, 10, 47, 426, 43, 6], [5, 15, 171, 8, 9, 220, 684, 233, 15, 1, 271, 188, 684, 34, 37, 728, 9, 33, 171, 200], [613, 84, 1, 49, 56, 149, 118, 84], [77, 85, 25, 165], [49, 1, 47, 614, 186], [130, 29, 6, 888, 10, 31, 43, 31, 497, 4, 18, 10, 32, 26, 72, 24, 670, 10, 7, 39, 27, 178, 44, 359, 59, 9, 31, 159, 268, 66, 920, 247, 247, 247], [62, 6, 749, 179, 275, 4, 156, 657, 122, 790, 19, 25, 32, 6, 80, 12, 11, 773, 1, 250, 642, 9, 832, 39, 203, 606, 2, 178, 9], [325, 9, 325, 9, 505, 325, 46, 62, 325, 46, 6, 325, 211, 82, 2, 85, 6, 621], [289, 9, 11, 367, 3, 33, 33, 325, 33, 33, 481, 33, 276, 7, 323, 33, 813, 567, 58, 174, 103], [90, 3, 22, 5, 64, 347, 241, 9, 365], [531, 156, 38, 4, 156, 138, 21], [730, 783, 170, 4, 628, 907, 32, 6, 54, 233, 5, 8, 9, 72, 2, 327, 230], [374, 343, 31, 4, 628, 30, 19, 208, 323, 7, 47, 24, 36, 7, 667, 53, 4, 780], [39, 499, 248, 86, 26, 35, 2, 37, 48, 275, 658, 25, 2, 169, 53, 131, 465, 2, 803, 5, 161, 30], [39, 769, 16, 62, 42, 41, 596, 127, 38, 134, 194, 127], [500, 84, 34, 106, 82, 182, 194, 47, 4, 26, 365, 633, 106, 34, 26, 54, 456, 110, 39, 664, 86, 382, 5, 318, 150], [234, 293, 39, 530, 2, 78, 151, 50, 84], [69, 5, 15, 6, 44, 33], [876, 6, 408, 23, 384], [162, 1, 213, 137, 4, 19, 24, 162, 1, 213, 137, 105, 24, 822, 182, 10, 54, 601, 22, 3, 737, 1, 162, 213, 5, 42, 41, 375, 7, 52, 22, 3, 737, 88, 5, 88, 5, 42, 41, 375], [52, 823, 15, 300, 29, 3], [234, 4, 356, 15, 65, 516, 8, 62, 468, 388, 322, 1, 197, 81, 14], [95, 63, 79, 2, 717, 23, 63, 26, 494, 2, 5, 302], [454, 28, 79, 406, 18, 11, 21, 195, 11, 874, 26, 285, 272, 263, 6, 350], [833, 9, 40, 284, 6, 17, 192, 5, 153, 2, 119, 35, 16, 173, 304, 81, 276, 202, 260, 64, 369], [8, 64, 12, 766, 1, 34, 204, 12, 194, 38, 12, 137], [49, 56, 1, 34, 57, 2, 33, 76, 164, 363, 138, 484], [23, 52, 115, 5, 916, 167, 88, 5, 228], [44, 13, 512, 36, 4, 506, 15, 4, 639, 149, 601, 4, 45, 219, 72, 739, 2, 618, 239, 639], [115, 595, 15, 3, 17, 111, 29, 3, 54, 15, 154, 214], [365, 52, 111, 362], [276, 689, 8, 434, 48, 368, 137, 53, 630, 276, 697, 43, 38, 67], [1, 64, 146, 48, 2, 25, 394, 1, 196, 524, 350, 233, 249, 61, 6, 45], [17, 3, 841, 146, 272], [21, 64, 1, 76, 1, 63, 175, 21, 1, 34, 57], [28, 9, 469, 21, 78, 77, 37, 9, 92, 154, 113, 300, 134, 10, 4, 16, 46, 118, 80, 285], [193, 25, 26, 62, 20], [49, 1, 719, 440, 75, 233, 60, 18], [148, 39, 539, 364, 12], [4, 331, 118, 600, 71, 263, 131, 1, 63, 56, 983, 819, 25, 71, 337, 786, 524], [27, 3, 29, 537], [130, 982, 686, 5, 266, 15, 20, 557, 5, 75, 88, 7, 608], [1, 63, 9, 21, 79, 2, 412, 9, 4, 313, 388], [130, 69, 6, 80, 337, 21, 1, 472, 6, 2, 4, 8, 14, 58, 39, 80, 216, 31, 17, 4, 105, 261, 151, 6, 9], [49, 92, 1, 157, 1, 749, 204, 3], [3, 11, 36, 5, 435, 15, 228, 1, 63, 9, 87, 46, 5, 339, 15, 5, 338, 7, 14, 11, 17, 4, 641, 450], [3, 162, 54, 21, 23, 495, 22, 3, 228, 225, 469, 2, 391, 7, 7, 300, 62, 20, 321, 155, 1, 87, 13, 245, 4, 273, 9, 87], [83, 84, 381, 19, 102, 6], [1, 135, 4, 58, 65, 142, 60, 222, 2, 29, 214, 4, 331, 36, 11, 12, 4, 614, 85, 251, 244], [165, 71, 250, 37, 494, 2, 57], [45, 390, 91, 357, 24, 804, 996, 116, 19, 159, 43, 207, 323, 219, 45, 7, 282, 129, 46, 6, 543, 12, 777, 294], [97, 32, 33, 43, 411, 63, 45, 51, 220, 104, 227, 21, 19, 65], [23, 3, 27, 35, 47, 2, 13, 962, 24, 842, 11, 66, 1, 123, 13, 49, 7, 309, 4, 58, 61, 172, 1, 176, 3, 23, 128, 157], [28, 9, 4, 311, 16, 10, 110, 31], [28, 9, 766], [136, 65, 118, 319], [191, 52, 9, 9], [333, 31, 605, 25, 21, 786, 59, 4, 356, 15], [270, 908, 216, 43, 136, 144], [3, 102, 52, 711, 94, 62, 40, 2, 10, 49, 38, 87, 2, 167], [14, 64, 385, 722, 26], [108, 1, 250, 81, 73, 9, 62, 138, 484, 24, 23, 11, 540, 2, 44, 12, 4, 655], [27, 430, 136, 2, 30, 43, 109], [27, 3, 680, 5], [127, 14, 625, 1, 135, 4, 20, 1, 135, 19, 624, 1, 55, 23, 26, 64, 88, 5, 25, 163, 306, 1, 229, 257, 9, 11, 20, 71, 55, 715, 28, 26, 275, 9, 5, 393], [370, 1, 250, 30, 557, 53, 740, 56, 14, 24, 214], [32, 1, 158, 210, 768, 83, 523], [100, 108, 88, 52, 6, 17, 59, 108, 88, 50, 2, 277, 14, 20, 3, 17, 59, 58, 750], [29, 118, 600, 32, 8, 79], [34, 6, 178, 33, 244, 8, 33, 216, 19, 4, 418, 19, 169, 53, 45, 72, 73, 33, 143, 375], [130, 52, 711, 523, 22, 3, 573], [322, 164, 1, 1, 30, 18, 64, 62, 207, 388, 4, 61, 74, 14, 8], [876, 1, 167, 20, 1, 35, 326, 761, 210, 382, 132, 6, 1, 100, 62, 19, 37, 1, 20, 12, 9, 5, 695], [22, 3, 265, 2, 61, 12, 302], [408, 878, 6, 349, 77, 179, 657, 43, 18, 23, 674, 530, 129, 65, 19, 178, 44], [130, 175, 12, 13, 874, 4, 26, 637], [1, 196, 204, 5, 126, 150, 21, 101, 67, 4, 149], [25, 1, 17, 2, 1, 62, 2, 17, 66, 7], [271, 6, 240, 240, 15, 5, 61, 133, 400], [83, 326, 497, 1, 574, 24, 48, 7, 117, 233, 8, 9, 77, 499, 18, 5, 816, 7, 30, 137, 2, 14, 53, 7], [1, 16, 3, 110, 100, 17, 444, 32, 276, 10], [252, 11, 66, 52, 22, 3, 154, 115, 3, 30, 2, 20, 95, 22, 3, 3, 133, 22, 3, 306, 4, 58, 572, 29, 3, 108, 15, 10, 22, 3, 473, 10], [30, 5, 28, 122], [368, 563, 1, 143], [4, 2, 13, 117, 99, 180, 3, 27, 186, 277, 630, 238, 184, 534], [384, 301, 50, 22, 3], [62, 44, 382, 212], [234, 49, 1, 9, 2, 152, 790, 214, 7, 96, 158, 99, 9, 22, 3, 248, 549, 40, 347, 693], [876, 876, 876, 58, 883, 22], [1, 54, 605, 256, 11, 55, 62, 3, 337, 26, 37, 56, 218, 1, 63, 237, 5, 75, 2, 343], [34, 37, 447, 248, 43, 638, 21, 1, 63, 79], [321, 4, 331, 229, 124, 8, 5, 29, 2, 37, 25, 58, 199, 106, 34, 37, 9, 695], [77, 47, 142, 39, 27, 613, 545, 47, 485, 47, 75], [38, 14, 55, 165, 436, 125, 20, 685, 486, 23, 1, 895, 11, 782, 134, 10, 4, 670, 110, 18, 40, 840, 66, 974, 247], [567, 8, 26, 4, 535, 2, 343, 14, 8, 26, 4, 355, 2, 167, 14, 418, 18, 887, 7, 18, 267, 14, 8, 139, 625, 95, 7, 143], [23, 240, 256, 2, 37, 264, 31, 223, 25, 64, 175, 313, 34, 264, 2, 3, 568, 13, 166, 163, 568, 171], [21, 20, 3, 17, 713, 94, 81, 35, 12, 129, 58, 7, 210, 1, 85, 20, 27, 245, 3, 416, 1, 423, 3, 4], [246, 248, 49], [165, 32, 197, 29, 14, 1, 250, 370, 152, 248, 4, 331], [46, 22, 3, 416, 657], [361, 1, 87, 916, 310, 38, 7, 916, 542], [105, 470, 36, 11, 699, 7, 212, 626, 694, 386, 2, 178, 220, 104, 22, 3, 345, 2, 37], [701, 386, 2, 30, 122, 111, 65, 164, 62, 42, 41, 77, 68, 3, 477, 9, 4, 331], [1, 64, 530, 144, 185], [1, 62, 3, 175, 128, 25, 63, 175, 389], [698, 167, 39, 262, 2, 47, 56, 47, 56, 96, 27, 412, 92], [26, 272, 135, 251, 552, 7], [6, 263, 167, 23, 398, 6, 151, 157, 56, 167], [495, 297, 35, 4, 589], [3, 34, 13, 219, 836, 5, 220, 12, 998, 7, 107, 85, 6, 810], [238, 184, 30, 732, 15, 147, 40, 450, 140, 238, 184, 103, 905, 2, 5, 450, 39, 17, 59, 86, 7, 298, 415, 147, 134, 576, 533], [97, 3, 35, 2, 268, 62, 2, 54, 32, 3, 203, 36, 5, 91, 45, 36, 148, 24, 38], [13, 46, 1, 87, 14], [114, 165, 199, 224, 674, 146, 14, 53, 56], [995, 126, 20, 75, 195, 321, 4, 357, 355], [943, 55, 737, 349, 32, 6, 311, 92, 951, 485, 39, 263, 178, 43, 380, 195, 110, 6, 246, 34, 205, 485, 6, 178, 137, 43, 296, 84], [49, 84], [3, 17, 192, 116, 437, 147, 24, 4, 19, 437, 153, 2, 119], [1, 17, 38, 228, 43, 897], [148, 279], [46, 3, 30, 45, 16, 10], [1, 221, 2], [1, 374, 412, 20, 599], [71, 8, 367], [158, 460, 460, 1, 197, 29, 5, 931, 71, 8, 4, 281, 71, 919, 15, 292, 131, 4, 325, 2, 212, 61], [90, 90, 625, 1, 55, 9], [653, 4, 231, 12, 10, 9, 13, 301, 7, 26, 9, 13, 317, 74, 5, 317, 25, 5, 301, 34, 237, 402, 271, 3, 133, 61], [38, 28, 9, 5, 259, 82, 122, 31, 11, 368, 10, 53, 18, 334, 28, 363], [377, 34, 29, 168, 218, 12, 53], [130, 281, 11, 146, 98, 145, 8, 17, 4, 58, 75, 172], [1, 25, 330, 8, 69], [107, 548, 48, 143, 283, 12, 969, 62, 276, 702, 283, 13, 36], [58, 38], [76, 23, 39, 27, 237, 227], [53, 307, 992], [319, 157, 861, 106, 187, 737, 1, 1, 23, 49], [917, 7, 164, 802, 57, 76, 48, 20, 309, 2, 11, 141, 10, 380, 7, 245, 10, 30, 345, 12, 11, 689, 22, 3, 199, 13, 345, 12, 20, 919, 15, 171], [1, 94, 27, 3, 67, 14, 2, 10, 601, 495], [83, 77, 16, 110], [1, 66, 6, 19, 172, 80, 6, 199, 515, 8, 8, 71, 306, 138, 72], [35, 592, 7], [182, 10, 54, 46, 802, 59, 5, 228, 23, 794, 27, 141, 5, 16], [276, 646, 12, 13, 68, 101, 140, 559, 647, 36, 81, 38, 935, 648, 245], [321, 308, 939, 7, 7, 862], [1, 135, 932, 6, 4, 589, 113, 623, 208, 60, 584], [27, 6, 30, 19, 126, 21, 1, 374, 227, 19, 653, 44, 178, 16, 10, 21, 18, 6, 27, 973, 122, 352, 787], [97, 29, 6, 70, 2, 543, 10, 36, 110, 311, 163, 31, 16, 6, 164, 302], [101, 81, 745, 8, 3, 2, 37, 109, 273, 91, 148, 24, 38, 85, 109, 140, 276, 6, 81, 67, 81, 716, 2], [70, 19, 30, 201, 70, 357, 180, 940, 19, 33, 512, 543, 5, 444, 73, 2, 121, 181], [70, 4, 105, 360, 126, 810, 784, 111, 444, 255, 363, 526, 303, 990, 45, 68, 12, 159, 991, 91, 24, 16, 900, 12, 45, 558], [97, 3, 35, 2, 268, 62, 2, 54, 32, 3, 203, 36, 5, 91, 45, 36, 148, 24, 38], [3, 199, 13, 405, 204, 14, 44], [133, 400, 267, 6, 169, 33, 244, 78, 263, 146, 142, 862], [22, 258, 5, 340, 177, 126, 4, 907, 24, 4, 612, 153, 72, 355, 446, 2, 38, 181], [3, 17, 74, 908, 9, 31, 185, 7, 42, 41, 2, 15, 29, 26, 24, 2, 747], [1, 5, 105, 98], [39, 622, 2, 198, 3, 496, 13, 2, 86, 435, 15, 4, 105, 177, 840, 7, 834, 757, 91, 24, 16, 900, 12, 558], [83, 281, 399, 11, 126, 18, 166, 114, 7, 326, 368, 14, 508, 1, 59, 44], [873, 321, 279, 1, 401, 17, 4, 696], [293, 124, 6, 31, 60, 35, 62, 151, 234], [692, 279, 58, 2, 472, 48, 3, 50, 22, 3, 11, 103, 133, 105, 261, 127], [171, 8, 330, 549, 268, 30, 515, 25, 171, 8, 515, 549, 268, 176, 214, 357, 15, 256, 749, 37, 64, 9, 815, 200, 770], [20, 189, 37, 58, 77, 126, 3, 740, 419, 1, 2, 214], [98, 588, 712, 111, 15, 5, 628, 12, 13, 98], [49, 1, 423, 29, 3, 150, 110], [4, 77, 176, 5, 223], [35, 59, 413, 159, 58, 224, 1, 66, 11, 281, 23, 128, 25, 64, 154, 130], [330, 160, 35, 690, 199, 44, 2], [701, 589, 36, 4, 584, 211, 451, 4, 572, 50, 8, 33, 171, 71, 161, 96, 8, 279], [124, 8, 20, 75, 61], [130, 3, 248, 225, 59, 465, 12, 4, 363, 5, 879, 1, 3], [28, 473, 6], [38, 92, 95, 186, 1, 381], [415, 278, 88, 4, 58, 171, 36, 4, 35, 72, 89, 266, 7, 921, 2, 543, 5, 98, 276], [174, 64, 1, 27, 49], [873, 479, 11, 874, 84, 654, 11, 56, 1, 27, 62, 144, 79, 19, 244], [66, 20, 280, 979, 643, 229, 32, 1, 17, 2, 47, 2, 5, 9, 138, 484], [52, 65, 29, 6, 30, 53], [270, 345, 56, 16, 10], [90, 102, 10, 210, 88, 3], [193, 28, 420, 14, 9, 288], [538, 4, 8, 20, 214, 416, 17, 20, 1, 100, 54, 88], [15, 883, 240, 19, 6, 131, 80, 19, 40, 80, 345, 19, 33, 188, 87, 27, 6, 68, 2, 327, 434], [90, 90, 50, 8, 13, 733], [957, 433, 270, 62, 645, 540, 416, 26, 10, 11, 62, 167, 433, 25, 1, 263, 274, 71, 8, 654, 113, 634, 875, 459, 847, 77, 47], [14, 35, 757, 10, 19, 156, 753, 254, 11, 19, 973, 352, 6], [958, 69, 85, 6, 9, 4], [226, 1, 34, 57, 53, 42, 41, 217], [51, 143, 298, 43, 33, 110], [37, 199, 2, 368, 13, 702, 39, 180, 625], [74, 239, 13, 811, 117, 99, 653, 74, 13, 12, 51, 950, 428, 2, 13, 242], [1, 2, 213, 4, 299, 60, 183, 25, 4, 15, 42, 41, 69, 8, 38, 2, 440, 42, 41, 321, 11, 847], [5, 281, 35, 2, 182, 3, 54, 3, 22, 501, 7, 278, 216, 29, 17, 4, 120, 61, 7, 32, 3, 27, 67, 10, 7, 820, 287], [13, 31, 159, 8, 23, 321, 26, 431], [113, 22, 74, 128, 74, 19, 623, 3, 401, 30, 742], [1, 726, 17, 6, 74, 4, 198, 18, 185, 2, 67, 45, 276, 2, 48, 276, 38, 2, 42, 41], [210, 84, 25, 59, 231, 19, 667], [83, 10, 79, 76, 223, 57, 118, 110], [39, 622, 2, 16, 3, 496, 13, 91, 2, 86, 276, 12, 4, 360, 98, 810, 255, 830, 68, 45, 834, 91, 15, 16, 900, 21], [1, 283, 317, 32, 6, 94, 176, 10, 24, 32, 6, 94, 87, 10, 25, 6, 749, 160, 658, 10, 549, 6, 87, 10, 161, 6, 94, 102, 10, 93, 190], [97, 440, 8, 1, 189, 37, 133, 2, 146, 479, 118, 51, 12], [1, 63, 79, 2, 407, 21], [627, 288, 16, 21, 35, 239, 217, 808, 335, 318, 90], [528, 40, 104, 7, 7, 58, 2, 163], [191, 1, 189, 25, 11, 189, 17, 4, 7, 102, 5, 880, 626, 50, 957, 7, 1, 63], [101, 94, 109, 48, 96, 12, 5, 220, 410, 307], [63, 500, 34, 244, 37, 202, 51, 5, 298], [614, 11, 126, 33, 276, 7, 1, 87, 33, 813], [1, 20, 361, 422, 10, 23, 64, 1, 276, 62, 20, 88, 257, 95, 23, 64, 389, 94, 10], [18, 5, 132, 2, 447, 92], [12, 13, 329, 2, 170, 4, 45, 56, 91, 89, 36], [32, 3, 122, 9, 5, 220, 42, 41, 623, 11, 376], [11, 126, 7, 1, 326, 229, 54, 165, 1, 62, 14, 337], [720, 248, 162, 37, 125, 2, 13, 516, 3, 22, 23, 7, 3, 22, 9, 4, 357, 15], [20, 383, 79, 2, 9, 88], [52, 1, 752, 2, 167, 8, 196, 226, 2, 85, 6, 218, 275, 555, 15, 40], [94, 463, 548, 50, 779, 499, 105, 44, 18], [409, 50, 96, 929, 5, 65, 15], [6, 162, 17, 414, 138], [1, 34, 57, 36, 299, 107, 226, 568, 34], [7, 30, 113, 228, 89], [377, 1, 162, 37, 69, 73, 468, 31, 5, 340, 383, 2, 289, 22, 7, 243, 24, 162, 39, 35, 29, 410], [107, 11, 919, 107, 57, 122, 7, 254], [3, 16, 596, 315, 95, 49, 7, 152, 163, 2, 44], [234, 308, 37, 122, 51, 114, 54, 46, 269, 248], [85, 3, 56, 541, 51, 122], [183, 13, 98, 38, 192, 4, 886, 437, 582, 824, 153, 18, 825, 40, 8, 5, 481, 570, 2, 403, 3, 16], [148, 39, 203, 893, 12, 62, 19, 623, 7, 1, 422, 11, 880, 626, 2, 519, 163, 44, 715, 14, 713, 31, 116, 63], [290, 49], [719, 14, 42, 41, 124, 3, 31], [674, 543, 5, 42, 41, 452], [236, 231, 1, 749, 6, 361], [170, 39, 17, 4, 780, 982, 173, 192, 138, 129, 244, 23, 187, 138, 18, 33, 98, 24, 708, 140, 170, 238, 184], [884, 1, 87, 127, 10, 601, 3, 54, 22, 26, 122, 7, 5, 8, 243, 52, 162, 1, 29, 17, 4, 641, 61, 601, 17, 3, 713, 195, 1, 94, 178, 3, 537, 50, 55, 5], [183, 40, 8, 5, 481, 570, 2, 198, 6, 6, 17, 192, 796, 230], [13, 88, 10, 116, 202, 19, 159, 43, 971, 207, 282, 289, 26, 468, 428, 722, 101, 91], [28, 18, 11, 132, 2, 11, 692, 690], [17, 4, 120, 655, 2, 850, 7, 441, 5, 735, 2, 720, 26, 35, 36, 5, 25, 36, 720, 20, 8, 742, 2, 85, 3, 325], [69, 94, 6, 70, 2, 253], [200, 750, 103, 125, 93, 190, 513], [83, 2, 37, 4, 505, 8, 14, 49, 32, 39, 178, 372, 114, 1, 206, 511, 9, 7, 20, 476, 1, 574, 285, 111, 15, 293, 7, 20, 51, 11, 65, 7, 20, 83], [49, 25, 106, 158, 225, 59, 78, 875, 87, 19], [38, 7, 498, 122, 1, 63, 725, 186], [23, 464, 4, 670, 20, 693, 36, 5, 416, 144, 69, 23, 106, 27, 503, 815], [136, 65, 118, 262, 95], [100, 14, 2, 37, 285, 208, 3, 30, 89, 458, 332, 28, 35, 21, 53], [3, 237, 146, 35], [127, 64, 43, 893, 2, 343, 54], [38, 376, 25, 1, 955, 20, 23, 1, 221, 7, 5, 504, 36, 20, 493, 1, 975, 9, 425, 122, 7, 39, 248, 4, 331, 25, 1, 326, 182, 137, 448, 10], [572, 1, 66, 6, 572, 572, 572, 116, 1, 66, 6], [97, 236, 435, 5, 105, 98, 48, 64, 31, 72, 355, 418, 2, 38, 30, 522, 21], [1, 553, 6, 893, 195, 943, 167, 6, 57, 406, 15, 913, 39, 222, 136, 39, 408, 221, 426, 31, 907], [3, 337, 26, 17, 257, 20, 2, 207, 249, 883, 595], [6, 54, 50, 2, 614, 12, 4, 617, 9, 11, 617], [5, 889, 8, 62, 4, 576, 48, 11, 286, 812, 617, 150, 73, 14, 516, 31, 7, 3, 17, 2, 93], [15, 9, 717], [1, 278, 8, 465], [125, 28, 79, 2, 37, 138], [26, 48, 40, 22, 3, 9, 5], [43, 9, 87, 18, 33, 512, 102, 33, 72, 219, 2, 618, 12, 24, 804, 12, 19], [125, 5, 9, 120, 25, 60, 22, 120, 3, 87, 4, 299, 2, 930, 60, 22, 25, 51, 9, 51, 60, 4, 120, 231, 5, 560, 413, 8, 1, 473, 76], [191, 124, 29, 6, 57, 44, 36, 533], [3, 298, 412, 52, 3, 167, 715, 1, 30, 74, 4], [130, 80, 118, 82, 537, 225, 841, 5], [1, 186, 113], [9, 5, 339, 96, 401, 82, 25, 60, 500, 26, 515, 34, 57, 53], [5, 166, 224, 1, 415, 569, 2, 29, 55, 658, 3, 7, 1, 326, 108, 14, 189, 17, 37, 5, 7, 187, 79, 25, 74, 779, 74, 1, 929, 14, 955, 229, 44, 5, 20, 3, 229, 937, 62, 1, 189, 29, 14, 2, 658, 3, 344, 3, 160, 100, 54, 10, 31, 51, 14, 55, 25, 14, 955, 431, 5, 362, 1, 17, 36, 14, 8, 3, 17, 5, 65, 2, 949, 14, 25, 3, 712, 26, 2, 3, 3, 93, 3, 253, 3, 70, 2, 47, 53, 1, 100, 317, 4, 313, 297, 122, 7, 69, 25, 46, 3, 100, 141, 5, 407, 46, 3, 18, 628, 15, 14, 46, 1, 197, 17, 4, 273, 9, 5, 286, 332, 28, 20, 464, 7, 18, 5, 407, 18, 5, 234, 214, 475, 3, 822, 2, 37, 58, 88, 31, 775, 690, 5, 407], [399, 6, 262, 10, 19, 47, 426, 43, 6], [127, 12, 692, 9, 62], [49, 26, 128, 2, 29, 122, 458, 434, 196, 226, 430, 551, 5, 156, 215, 29, 12, 372, 159, 866, 4, 127, 226, 157, 285, 20], [421, 1, 176, 3, 731, 13, 115, 3, 47, 2, 5, 962, 142], [127, 8, 14, 233], [17, 3, 89, 31], [165, 842, 191], [211, 8, 414, 43, 6, 7, 351, 117, 704, 4, 65, 2, 141, 6, 178, 349, 292, 568, 485, 291, 33], [1, 11, 45, 307, 721, 545, 27, 270, 152, 424, 84], [35, 59, 113, 889, 228, 111, 329, 3, 7, 5, 70, 2, 47, 18, 4], [158, 28, 112, 9, 112, 367, 351, 161, 158, 226, 6, 975, 112, 292, 892, 40, 121, 229, 351, 27, 951], [172, 52, 22, 3, 154, 124, 22, 3, 131, 22, 3, 965, 2, 29, 3, 108, 15, 10, 22, 3, 306, 4, 58, 572, 22, 3, 473, 10, 29, 3, 66, 10], [74, 239, 13, 811, 117, 99, 653, 74, 13, 12, 51, 950, 428, 2, 13, 242], [551, 6, 44, 19], [63, 26, 2, 29, 62, 20], [23, 8, 69, 210, 1, 162, 37, 154, 36, 2, 24, 52, 332, 52, 5, 448], [120, 1, 888, 5, 25, 109, 85, 3, 740], [406, 84, 163, 862, 19, 246], [252, 233, 5, 2, 845, 60, 183, 101], [172, 1, 87, 13], [155, 115, 1, 519, 44, 18, 11, 41], [50, 57, 96, 27, 30, 14, 162, 179, 359, 2, 366, 619], [130, 3, 59, 111, 474], [123, 297, 221, 125, 31, 10, 1, 82, 87, 115, 6, 151, 112, 482, 224, 1, 399, 9, 5], [9, 33], [1, 63, 651, 363, 61, 246, 1, 63, 26, 125], [3, 17, 116, 105, 107, 16], [156, 428], [148, 25, 27, 39, 178, 9, 425, 195, 34, 47, 2, 7, 56, 76, 3, 250, 68, 31, 452, 81, 7, 100, 509, 674, 17, 841, 73, 887], [28, 215, 16, 3, 31, 62, 42, 41, 39, 22, 26, 26, 906, 40, 376], [573, 59, 4, 7, 117, 2, 37, 76, 314, 71, 278, 23, 37, 122], [252, 83, 520, 38, 38, 50, 19, 78, 411, 247], [94, 204, 44, 112, 16, 46, 214, 486, 8, 69, 2, 102], [49, 84, 373, 270, 9, 469], [165, 718, 128, 37, 5, 298, 816], [28, 79, 53, 2, 213], [26, 272, 604, 79, 2, 462, 28, 9, 452], [582, 264, 471, 583, 15, 556, 2, 37, 192, 35, 584, 43, 392, 856, 343, 21, 67, 2, 579, 129, 671, 140, 357, 185], [91, 2, 170, 483, 518, 52, 385, 343, 67, 81, 2, 2, 339, 209], [270, 59, 136, 2, 213, 102, 194, 56, 118, 38, 87, 2, 57, 9, 218], [145, 33, 320, 4, 803, 7, 250, 170, 4, 406, 188, 294, 72, 999, 2, 327], [12, 111, 229, 32, 3, 17, 431, 814, 905, 16, 185, 18], [1, 569, 2, 271, 3, 4, 133, 105, 261, 7, 1, 569, 2, 305, 2, 3, 88, 113, 2, 29, 36, 46, 7, 1, 25, 9, 292, 77, 141, 4, 655, 2, 12, 20, 1, 123, 515, 8, 58, 36, 3, 172, 7, 1, 66, 251], [38, 1, 366, 674, 146, 20, 53, 138, 484, 164, 541, 2, 246, 516, 74, 117, 111, 9, 376, 53, 208, 5, 166, 684], [89, 2, 48, 3, 472, 52, 743], [809, 634, 84], [12, 10, 5, 66, 162, 418, 36, 1, 162, 205, 20, 1, 87, 109, 188, 65, 248, 10, 96, 162, 37, 5, 223, 224, 233, 693, 9, 11, 1, 189, 418, 5, 61, 7, 339, 14, 36, 109, 96, 162, 37, 69, 188, 65, 1, 66, 34, 37, 56, 46, 11, 188, 117, 109, 266, 11, 171, 162, 711, 248, 109, 11, 171, 34, 37, 2, 109, 1, 189, 12, 109, 34, 134, 51, 11, 954, 7, 93, 51, 109, 1, 34, 37, 345, 2, 36, 747, 12, 109, 1, 34, 37, 9, 66, 46, 1, 34, 37, 154, 5, 297, 12, 109, 66, 34, 37, 46, 1, 100, 17, 2, 747, 20, 11, 347, 8, 5, 459, 603, 18, 5, 880, 1, 34, 237, 37, 12, 109, 66, 34, 37, 46, 1, 418, 44, 690, 7, 339, 44, 171, 34, 37, 5, 459, 603, 56, 34, 30, 188, 174, 7, 455, 351, 12, 5, 61, 332, 96, 8, 36, 10, 1, 189, 62, 2, 167, 4, 356, 34, 102, 110], [1, 63, 9, 13, 447, 844], [21, 686, 13, 286, 218, 7, 29, 3, 17, 111, 69], [58, 242, 190, 12, 705, 249, 620, 242, 895, 705, 249, 7, 453, 242, 525, 608, 65, 200, 750], [9, 40, 957, 367], [107, 16, 86, 236, 209, 18, 427, 74, 3, 17, 192, 4, 258, 342, 147, 24, 666, 153], [191, 6, 82, 643], [58, 608, 25, 608, 267, 246, 6, 9, 240, 596], [334, 3, 416, 415, 53, 50, 128, 39, 87, 12, 7, 1, 22, 295, 2, 53, 50, 128, 39, 27, 993, 18], [28, 31, 146, 107, 16], [8, 4, 356, 34, 9, 166, 23, 175, 977, 2], [14, 297, 382, 46, 214, 62, 40], [97, 117, 99, 2, 33], [32, 3, 100, 13, 153, 34, 47, 2, 372, 236, 173, 151, 31, 140, 173, 151, 260, 181, 217, 808, 107, 16, 89, 32, 586], [165, 464, 465, 462, 12, 5, 410, 15, 194, 247, 117, 142, 240, 753, 83, 281, 85, 3, 110], [69, 75, 144, 138, 6, 9, 5, 15], [50, 128, 189, 14, 358, 2, 4], [500, 225, 14, 23, 1, 162, 204, 14, 18], [83, 55, 9, 5], [20, 8], [2, 3, 55, 576, 48, 5, 50, 13, 798], [58, 114, 63, 79, 2, 253], [252, 50, 544, 20, 105, 315, 22, 3, 69, 21, 22, 3, 133, 29, 3, 108, 15, 10, 1, 519, 11, 7, 67, 3, 4, 460, 48, 5, 891], [106, 100, 499, 20, 300, 18, 5, 2, 187, 14, 48, 275, 202, 69], [58, 174, 521, 16, 10, 361], [13, 68, 48, 10, 4, 40, 65], [148, 171, 734, 356, 15, 3, 27, 64, 7, 254, 2, 781, 5], [59, 315, 9], [290, 49], [38, 87, 2, 167, 210, 2, 10, 1, 54, 1, 63, 138], [400, 95, 1, 271, 137, 2, 30, 129], [15, 567, 427, 410, 8, 26, 88, 621, 164, 892, 5, 149, 60, 88, 621, 35, 73, 793, 5, 266, 200], [25, 469, 59, 435, 601, 64], [28, 279, 123, 3, 22, 186], [63, 18, 4, 89, 48, 23, 28, 26], [55, 9, 13, 462, 24, 214], [10, 142, 436, 1, 2, 744, 3, 125, 1, 3, 34, 93, 58, 190, 15, 10], [40, 149, 8, 45, 905, 2, 5, 105, 966, 588, 2, 647, 48, 40, 209, 91, 81, 727, 181, 260, 64], [77, 178, 3, 9, 5], [1, 937, 23, 26, 111, 764, 71, 52, 88, 10], [402, 51, 424, 1, 658, 307, 15, 9, 10, 87, 2, 391, 4, 526, 23, 37, 14, 267, 187, 10, 79, 7, 74, 6, 158, 20, 1, 30, 5, 317, 2, 30, 202, 5, 259], [6, 402, 50, 19, 212, 266, 148, 1, 115, 71, 268, 141, 456, 1, 268], [165, 191, 1, 326, 17, 4, 62, 3], [5, 15, 8, 26, 46, 39, 418, 737, 336, 297, 25, 353, 14, 8, 46, 39, 418, 297, 17, 4, 222, 504, 885], [287, 16, 3, 504, 287, 113], [1, 263, 602, 6, 1, 274, 6, 257, 137], [46, 256, 85, 11, 727, 106, 108, 2, 106, 22, 768, 952, 106, 769, 54, 20, 2, 11, 384, 242, 885], [39, 17, 5, 7, 18, 5, 7, 1, 635, 9, 17, 4, 58, 15, 104], [148, 60, 25, 254, 101, 94, 102, 2, 111, 75, 90], [516, 39, 22, 53, 157], [97, 897, 60, 115, 6, 497, 4, 222, 35, 4, 149, 159, 167, 252, 633, 574, 180, 6, 116, 9, 713, 611, 23, 525, 216], [115, 71, 167, 50, 1, 63, 73, 111, 329, 24, 210, 87, 4, 171, 74, 5, 34, 19, 288, 29, 3, 108, 1, 189, 37, 5, 223, 292, 19, 983, 48, 78, 268], [26, 48, 4, 461, 16, 43, 227, 644, 303, 2, 973, 262, 591, 15, 10, 56, 68, 2, 67, 81, 328], [572, 3, 298, 30, 334, 53, 122], [28, 26, 265, 202, 29, 842, 3, 70], [1, 66, 2, 134, 1, 277, 732, 15, 436, 52, 8, 13], [95, 14, 55, 222, 19, 44, 25, 39, 19, 169, 129, 65, 129, 127, 125, 93, 190, 151, 6, 244, 151], [156, 279, 99, 44, 19, 128, 696, 502, 599, 60, 359, 70, 511, 31, 425, 24, 24, 787], [873, 420, 397, 31, 76, 26, 79, 53, 268, 555], [115, 3, 212], [4, 331, 15, 33, 325, 8, 11, 4, 664, 15, 33, 8, 11, 4, 413, 15, 33, 301, 8, 11, 171, 4, 301, 62, 703, 749, 190, 12, 6, 74, 11], [252, 11, 66, 50, 221, 13, 61, 22, 3, 573, 1, 108, 15, 3, 11, 384, 7, 67, 4, 2, 13, 301, 2, 3, 1, 66, 3, 27, 3, 472, 14, 1, 14, 5, 891, 12, 51, 5, 367, 2, 472, 8, 967, 7, 460], [97, 11, 66, 50, 544, 20, 61, 448, 40, 174, 1, 7, 11, 18, 5, 132, 243, 5, 25, 14, 573, 1, 176, 3], [16, 10, 1, 63, 48], [17, 4, 58, 655, 412, 53, 12, 402, 46, 3, 30, 89, 39, 539, 88], [164, 11, 146, 365, 485, 282, 601, 84, 6, 545, 619, 485, 47, 84, 38, 249, 231, 2, 47, 350], [160, 8, 295, 2, 102, 71, 27, 169], [729, 164], [279, 29, 3, 402, 10], [234, 5, 36, 20, 47, 125, 269, 4, 75, 703, 740, 85, 3, 12, 259, 65, 259, 231], [829, 62, 2, 102, 3, 11, 16, 10, 35, 217, 2, 81, 491, 16, 429], [52, 6, 965, 790, 398, 174, 144, 958, 934, 124, 13, 31], [49, 23, 196, 226], [7, 20, 8, 5, 362, 3, 667, 248, 9, 2, 52, 8, 79, 18, 248, 3, 1, 167, 5, 259, 297, 7, 106, 47, 9, 75, 7, 53, 5, 249, 461, 3, 47, 216, 154, 842, 3, 70, 2, 29, 144, 26, 20, 3, 100, 54, 155, 28, 144, 20, 3, 100, 792, 46, 1, 102, 3, 52, 8, 79, 2, 10, 56, 3, 70, 2, 37, 46, 28], [94, 205, 1, 27, 13, 602, 10, 75, 504, 36, 10, 7, 1, 17, 113, 728, 981, 12, 624, 15, 194, 182, 171, 218, 16, 10, 784], [50, 128, 1, 2, 3, 174], [773], [38, 87, 2, 213, 296, 12, 10, 1, 333], [21, 693, 9, 36, 105, 7, 120, 48, 173, 98, 213, 12, 35, 73, 30, 7, 93, 5], [38, 1, 423, 178, 3, 9, 5], [], [97, 40, 8, 48, 50, 22, 3], [50, 8, 14, 2, 3, 7, 124], [22, 69, 629, 182, 10, 54, 107, 195, 1, 160, 87, 2, 418, 490], [26, 48, 4, 461, 16, 10, 21, 63, 122, 51, 114, 36, 35, 11, 18, 141, 10, 12, 14, 62, 6, 115, 166, 65, 787, 352, 559], [38, 2, 37, 1, 366, 63, 1, 202, 32, 28], [78, 572, 9, 112, 890, 27, 1, 781, 33, 918, 572, 293, 29, 6, 108, 1, 189, 550, 576, 38, 980, 151, 50, 14, 959, 9, 36, 138], [195, 1, 70, 14, 2, 37, 13, 224], [627, 288, 16, 21, 35, 239, 217, 808, 335, 318, 8, 4, 565, 429, 16], [926, 1, 66, 3, 128, 3, 54, 1, 27, 14, 1, 984, 50, 13, 61, 544, 7, 32, 3, 22, 125, 11, 66, 1, 108, 15, 3, 7, 176, 3], [279, 495, 7], [6, 19, 16, 2, 119, 666, 153, 6, 17, 19, 51, 33, 98, 477, 5], [5, 581, 15, 18, 8, 2, 442, 301, 915], [6, 17, 4, 911, 131, 8, 540, 19, 141, 198, 36, 6, 169, 53, 131, 106, 80, 131, 912, 33, 23, 264, 16, 18], [83, 77, 16, 110], [180, 10, 33, 702, 507, 244], [1, 87, 633, 1, 283, 47, 208], [83, 77, 16, 110, 9, 311], [183, 107, 16, 48, 341, 666, 147, 24, 4, 43, 280, 616, 506, 173, 304, 577, 396, 369, 232], [1, 108, 20, 841, 23, 165, 77, 37, 73, 31, 113, 843], [29, 3, 70, 4, 105, 177, 609, 126, 36, 45, 388, 2, 111, 98, 691, 45, 491, 45, 834, 91, 24, 16, 900], [148, 14, 9, 53, 15, 186], [127, 125, 151, 6, 110], [1, 257, 6, 349, 28, 382, 393, 21, 25, 1, 160, 62, 143, 412, 6, 195, 144, 961, 6, 373, 43, 515, 349, 285, 95, 28], [7, 420, 946, 9, 447], [3, 17, 192, 4, 177, 40, 8, 52, 3, 30, 46, 3, 170, 86, 45, 662, 2, 93, 413, 67, 177, 2, 21, 924, 706, 707, 580, 232], [83, 11, 1, 27, 57, 73, 25, 28, 64, 275, 4, 12, 21, 13, 231], [43, 9, 87, 18, 33, 512, 102, 33, 72, 219, 2, 618, 12, 24, 804, 12, 19], [415, 415, 257, 73, 9, 4, 292, 131, 6, 237, 8, 5, 75, 131, 6, 128, 25, 2, 14, 200, 852], [6, 9, 566, 24, 79, 76, 454, 77, 179, 79, 19, 566, 110], [136, 80, 6, 154], [794, 8, 243, 25, 1, 17, 2, 204, 14, 44, 48, 137, 23, 77, 922, 73, 9, 4, 482, 331], [1, 196, 204, 5, 126, 150, 21, 101, 67, 4, 149], [183, 13, 98, 145, 117, 99, 320, 36, 4, 575, 153, 258, 16, 48, 632, 303, 119, 478, 659, 64, 369], [191, 106, 100, 54, 88, 11, 701, 126, 1, 250, 150, 21, 32, 1, 70], [1, 366, 3, 250, 37, 74, 58, 138, 74, 111, 191], [120, 50, 8, 5, 447, 95], [148, 371], [58, 38, 87, 111, 285, 148, 107, 102, 109, 145, 1, 250, 670, 109], [898, 35, 59, 302], [240, 129, 133, 15, 5, 61, 1, 271, 3, 133, 400], [124, 22, 3, 3, 158, 3, 189, 37, 122, 46, 1], [82, 31, 93, 2, 57, 89], [1, 93, 14, 39, 326, 17, 5, 126, 27, 39, 39, 510, 17, 14, 40, 261, 21], [127, 1, 55, 15, 606, 31, 404, 485, 38, 2, 47, 31, 159, 485, 27, 2, 43, 587, 84, 6, 16, 10, 46, 345], [917, 82, 39, 94, 17], [521, 32, 747, 631, 48, 4, 98, 238, 161, 6, 2, 823, 42, 41, 24, 42, 41, 29, 26, 29, 23, 5, 16, 633, 14, 138, 570, 15, 2, 141, 277, 15, 5, 739, 38, 73, 177, 78, 799, 78, 117, 99, 73], [1, 94, 17, 20, 128, 9, 302], [408, 319], [555, 15, 656, 254, 72, 2, 32, 3, 100, 62, 72, 7, 30, 4, 105, 181, 121, 232], [495, 5, 50, 22, 3, 154, 40, 8, 35, 3, 4, 120, 61], [23, 1, 250, 460, 7, 205, 3, 220, 2, 10], [27, 3, 277, 12, 842, 3, 67, 163, 216, 12], [97, 39, 401, 37, 89, 110, 314, 42, 41], [17, 4, 655, 2, 271, 3, 954, 7, 175, 244, 773, 2, 36], [105, 227, 19, 416, 9, 33, 831, 43, 35, 45, 19, 312, 681, 24, 31, 185, 72, 75, 266, 2, 81, 19], [59, 151, 1, 2, 823, 1, 381, 118, 9, 1, 502, 4, 25, 62, 26, 268, 222], [3, 64, 10, 3, 27, 16, 111, 25, 3, 405, 229, 4, 16, 15, 703, 24, 229, 3], [11, 2, 137], [148, 85, 251, 26, 18, 5], [1, 34, 57, 2, 33, 76, 21], [97, 60, 9, 22, 3, 82, 18, 40, 145], [455, 3, 23, 128, 46, 39, 767, 7, 39, 405, 30, 5, 15, 13, 773, 123, 3, 22, 58, 3, 127, 39, 22, 243, 2, 291, 40, 8, 5, 149, 1, 180, 307, 992], [39, 80, 122, 138, 935, 104, 89, 220, 50, 115, 39, 29, 9, 5, 40, 450, 97, 2, 7, 7, 151, 6, 244], [165, 383, 1, 82, 871, 368, 53, 36], [1, 63, 627, 78, 7, 1, 288, 2, 3, 68, 4, 91, 2, 472, 89, 48, 10, 181, 239, 121, 91, 81, 2, 339], [200, 200, 90, 604, 190, 253, 125, 200, 852], [187, 33, 9, 33, 301, 34, 12, 6, 64, 6, 161, 6, 17, 2, 12, 33, 161, 170, 5, 375], [40, 224, 8, 4, 346, 4, 29, 100, 29, 4, 74, 197, 29, 40, 415, 218], [40, 8, 3, 4, 120, 61, 257, 10, 88, 13, 435, 7, 74, 237, 1, 55, 3, 435, 23, 2, 47, 2, 120, 18, 11, 7, 60, 11, 8, 220, 164, 20, 1, 34, 187, 9, 661, 129, 83], [66, 4, 144, 4, 643, 32, 39, 250, 131, 2, 66, 56, 171, 189, 37, 128, 25, 56], [111, 329, 3, 401, 17, 135, 36, 10, 74, 244, 74, 3, 11, 73, 11, 126, 145, 48, 13, 26, 308, 31, 51, 107, 29, 26, 198, 10, 218, 24, 1, 34, 3, 2, 13], [38, 362, 436, 8, 40, 8, 4, 58, 65, 2, 305, 1, 422, 7, 399, 4, 149], [49, 1, 30, 33, 121], [88, 211, 8, 51, 58, 38, 12, 20], [29, 3, 54, 155, 351, 427, 13, 23, 20, 75, 131, 8, 414, 12, 3, 693, 161, 424, 73, 13, 918, 36, 66], [121, 92], [551, 6, 374, 29, 56], [615, 19, 98, 80, 522, 16, 21, 563, 33, 723, 343, 571, 517], [50, 22, 3, 11, 66, 22, 3, 36, 13, 699, 65, 2, 305, 36, 137, 978, 167, 130, 536, 252, 48, 5, 891], [20, 50, 189, 3, 62, 2, 37], [122, 63, 65, 63, 21, 725, 6, 374, 973, 202, 227, 21, 123, 19, 151, 6, 352, 787], [32, 3, 203, 22, 45, 1, 27, 134], [408, 841], [23, 118, 391, 223, 348, 56, 46, 8, 92], [1, 94, 17, 111, 15, 13, 9, 11, 1, 55, 9, 146, 46, 3, 422, 10, 1, 102, 3, 32, 1, 169, 210, 9, 11, 462], [49, 5, 581, 46, 22, 118, 79, 2, 557, 1, 108, 144, 18, 267, 633, 278, 374, 47, 53, 36, 25, 96, 45], [516, 1, 305, 88, 51, 44, 9, 11, 709, 191, 1, 20, 32, 1, 135, 14, 158, 14, 536, 21], [11, 9, 271, 3, 416, 4, 120], [101, 5, 65, 2, 446, 5], [8, 2, 17], [116, 47, 2, 121, 19, 499, 18, 159, 5, 36, 918, 43, 950, 42, 41, 207, 33, 918, 60], [27, 6, 30, 639, 727, 2, 13, 126], [6, 17, 4, 911, 131, 8, 540, 19, 141, 198, 36, 6, 169, 53, 131, 106, 80, 131, 912, 33, 23, 264, 16, 18], [644, 13, 310, 709, 12, 344, 582, 585, 2, 119, 16, 710, 378, 672], [270, 95], [191, 1, 55, 988, 12, 4], [459, 15, 5, 46, 1, 100, 182, 3, 10, 144, 23, 1, 100, 803, 382], [240, 596, 39, 546, 86, 298, 952, 39, 22], [20, 52, 4, 505, 1, 337, 57, 56], [430, 529, 1, 274, 698, 2, 47, 53, 1, 649, 152, 109, 272], [23, 52, 6, 154, 95], [35, 2, 333, 4, 28, 160, 26, 791, 696, 40, 8, 275, 71, 28, 46, 1, 243, 191], [46, 115, 3, 30, 2, 5], [455, 6, 14, 337, 146, 53, 715, 1, 34, 205, 822], [1, 108, 1, 63, 109, 92], [44, 2, 118, 270, 262, 57, 56, 57, 84, 25, 1, 151, 111], [34, 14, 245, 32, 39, 79, 89, 218, 139], [101, 29, 10, 4, 101, 11, 400, 2, 101, 95, 8, 109, 400], [1, 70, 2, 180, 42, 41, 95, 321, 293, 83, 32, 1], [50, 57, 1, 151, 118, 290, 1, 835, 11, 489], [308, 68, 10, 46, 3, 642, 53], [199, 1, 63, 611, 25, 34, 403, 11, 244], [12, 12, 12, 301, 301, 12, 6, 25, 6, 12, 10, 67, 2, 51, 33, 242, 10, 32, 6, 62, 10, 32, 6, 30, 89, 116, 6, 80, 9, 19, 6, 87, 113, 116, 2, 159, 6, 80, 716, 19, 240, 43, 6, 207, 8, 351, 2, 6, 254, 14], [7, 769, 374], [274, 113, 15, 169, 142, 779, 26, 606, 143, 1, 430, 272, 80, 33, 606, 43, 380, 485, 1, 401, 179, 494, 2, 543], [130, 27, 3, 102, 10, 542, 794, 569, 10, 2, 178, 137, 69, 25, 1, 59, 882, 7, 433, 26, 212, 126], [40, 8, 5, 481, 65, 39, 17, 622, 19, 198, 6, 6, 17, 192, 5, 810, 153, 19, 119, 8, 392, 16, 21, 64, 527, 239, 217, 324, 565, 429], [70, 2, 714, 17, 296, 95], [28, 89, 54, 46, 269, 345], [148, 25, 106, 158, 60, 14], [685, 62, 69, 250, 37, 4, 356, 15, 65, 9, 20, 572, 978, 24, 93, 13, 62, 4, 58, 79, 2, 9, 4, 222, 322, 985, 21], [7, 15, 913, 3, 162, 141, 4], [39, 17, 51, 23, 26], [6, 19], [12, 5, 149, 225, 99, 31, 11, 126, 12, 138, 921, 2, 68, 24, 26], [103, 688, 19, 119, 40, 866, 435, 31, 13, 47, 2, 630, 140, 143, 238, 184, 304, 379, 19, 81, 491, 72, 81, 2], [71], [14, 8, 4, 58, 224, 28, 21, 275, 5, 2], [182, 10, 54, 50, 2, 198, 3, 225, 3, 9, 4, 462, 694, 54, 3, 22, 49], [90, 539, 557, 4, 26, 637, 23, 79, 12, 18, 859], [408, 443, 89, 961, 296, 479, 11, 874, 64, 6, 524], [536, 30, 13, 202, 2], [23, 6, 262, 19, 57, 12, 86, 380, 201, 4, 26], [183, 40, 8, 86, 481, 570, 2, 198, 6, 13, 153, 48, 625, 8, 82, 506, 2, 119, 16, 21], [919, 15, 35, 501, 195, 15, 75, 9, 363, 23, 611, 9, 26, 199, 124, 2, 890], [83, 77, 16, 110], [95, 8, 61, 6, 10, 74, 699, 733, 38, 476], [573, 32, 269, 199, 182, 10, 54, 46, 269, 657], [841, 302, 124, 22, 3], [127, 148, 225, 35, 99, 4, 482, 5, 23, 225, 919, 15, 99, 31, 76], [551, 8, 6, 44, 19, 56], [11, 31, 169, 682], [7, 175, 51, 39, 8, 427, 6, 7, 1, 64], [1, 210, 84], [135, 13, 98, 467, 12, 45, 2, 340, 609, 316, 910, 830, 450, 487, 16, 98, 18, 700, 24], [361, 67, 2, 474, 368, 14], [38, 92, 79, 2, 305, 9, 397], [23, 128, 12, 5, 16, 1, 13, 190], [95, 71, 59, 315], [148, 107, 246, 31, 42, 41, 23, 20, 31, 42, 41, 39, 27, 246], [123, 3, 22, 643, 120, 101, 10, 9], [3, 17, 116, 105, 149, 107, 16], [32, 3, 100, 13, 153, 34, 47, 2, 372, 236, 173, 151, 31, 140, 173, 151, 260, 181, 217, 808, 107, 16, 89, 32, 586], [97, 2, 194, 236, 945, 16, 7, 702], [127, 90, 164, 20, 69, 365], [49, 56, 38, 87, 2, 102, 10, 210, 1, 63, 79, 2, 253, 58, 114], [148, 1, 54, 5, 48, 5], [38, 531, 60, 26, 11, 760, 59, 228, 293, 28, 6, 32, 6, 767, 11, 474, 6, 37, 42, 41, 826, 7, 37, 42, 41, 826, 1, 27, 284, 11, 549, 14, 8, 42, 41, 826], [83, 1, 21, 56, 151, 33, 121, 861, 84, 23, 224, 25, 64, 43, 75, 114, 417, 17, 4, 105, 462, 19, 253, 9], [28, 420, 697, 11, 874, 440, 654, 23, 6, 262, 19, 178, 10, 43, 380, 31, 607, 4, 26], [40, 126, 117, 5, 894], [11, 9, 271, 3, 416, 4, 120], [20], [92, 11, 9, 8, 9, 25, 357, 689, 8, 95, 25, 94, 14, 1, 419, 134, 3, 4, 264, 744, 32, 3, 187, 5, 911, 111, 132, 168, 12, 5], [1, 422, 7, 158, 51, 2, 137, 56, 71, 17, 2, 712, 40], [363, 526, 387, 303, 990, 340, 316, 797, 43, 45, 135, 13, 126, 16, 45, 18, 2, 467, 21], [168, 7, 24, 7, 689, 74, 11, 126, 569, 2, 167], [1, 94, 54, 127, 40, 338], [50, 60, 4, 482, 977, 25, 60, 4, 722, 132, 2, 40, 231], [531, 59, 4, 21, 60, 44, 69], [64, 19, 40, 589, 9, 207, 159, 19, 42, 41, 428, 19, 43, 42, 41, 468, 282, 159, 42, 41, 56, 289, 19, 207, 102, 10, 5, 584, 32, 6, 80, 1, 59, 112], [234], [35, 1, 108, 60, 186, 486, 2, 169, 211, 20, 54, 5, 231, 125, 4, 20, 8, 186, 2, 245, 3, 945, 229, 297, 62, 4, 126, 386, 46, 9, 152, 883], [80, 6, 82, 490, 21], [25, 28, 160, 160, 127, 38, 8, 142, 229, 42, 41], [5, 28, 241, 73, 5], [83, 77, 16, 110], [46, 3, 416, 18, 265, 202], [1, 257, 13, 145, 2], [77, 85, 32, 1, 27, 922, 73, 9, 4, 331, 59, 113, 297, 2, 93, 190, 15, 122], [155, 96, 532, 2, 305, 2, 10], [3, 326, 472, 14, 48, 10], [705, 9, 4, 61, 117, 60, 174, 123, 511, 504, 352, 114, 271, 6, 169, 163, 51, 95, 58, 174], [613, 282, 62, 349, 84], [28, 14, 18, 21, 14, 162, 37, 345, 12, 42, 65, 41], [52, 88, 40, 75, 56], [40, 8, 5, 481, 570, 2, 6, 3, 17, 192, 40, 866, 628, 153, 15, 595, 342, 147, 24, 153, 35, 16], [1, 929, 14, 6, 268, 206, 519, 44, 23, 206], [2, 37, 188, 114], [420, 517, 161, 31, 597, 135, 2, 47, 161, 52, 88, 6], [22, 3, 79, 2, 40, 104], [7, 883, 241, 12, 13], [1, 27, 25, 14, 34, 102, 359, 322, 195, 1, 574, 319, 11, 272], [28, 26, 461, 256, 277, 142, 128, 2, 11, 376], [235, 701, 225, 99, 2, 4, 865, 596, 131, 265], [97, 172, 376, 53, 867, 454, 16, 6], [70, 966, 9, 748, 670, 21, 217, 677], [32, 71, 713, 71, 34, 30, 315, 9, 313, 307, 71, 17, 120, 7], [50, 55, 7, 611], [49, 175, 58, 60, 51, 88, 690, 20, 228], [130, 11, 66, 1, 108, 15, 3, 7, 123, 13, 61, 544, 125, 115, 3, 253, 9, 1, 176, 3, 172, 1, 322, 12, 5, 39, 22, 554, 218, 678, 325], [116, 20, 16, 358, 233, 1, 366, 431, 176, 251, 87, 251, 70, 251, 66, 251], [1, 63, 18, 5, 132, 2], [6, 2, 137, 60, 26, 212, 643, 60, 5], [49], [136, 65, 6, 319, 33, 95], [1, 346, 661, 3, 36, 53, 13], [9, 146, 21, 79, 17, 9, 313, 217], [888, 4, 1, 29, 185, 72, 2, 837, 358, 116, 230, 239, 121, 18, 247], [251, 49, 56, 135, 380], [3, 17, 192, 4, 886, 437, 526, 2, 119, 16], [279, 1, 176, 3, 175, 128], [172, 6, 49], [13, 8, 490, 279, 5, 15, 8, 186, 25, 82, 8, 1, 34, 57, 248], [178, 3, 9, 968, 893, 3, 27, 85, 50, 11, 317, 8, 490], [17, 59, 313, 297, 2, 29, 267, 37, 9, 695, 110], [226, 234, 82, 26, 51, 20, 203, 3, 26, 199, 88, 10, 306, 24, 20, 234, 155, 247, 741, 70, 2, 288, 36, 194], [83, 77, 16, 110, 9, 311], [22, 3, 79, 2, 95], [168, 12, 13, 390, 547, 145, 13, 98, 34, 37, 899, 43, 230, 162, 13, 219, 26, 107, 16, 236, 646, 48, 609, 68, 609], [156, 8, 377], [49], [5, 15, 4, 409, 94, 14, 1, 63, 295, 74, 142, 694, 85], [3, 9, 13, 462, 1, 87, 4, 313], [90, 27, 1, 204, 44, 372, 46, 269, 285], [83, 524, 1, 151, 33, 121, 26, 560, 157, 348, 10, 420, 397, 21, 6, 82, 9, 447], [32, 747, 487, 12, 4, 167, 812, 213, 14, 141, 199, 60, 490, 1, 719, 138, 18, 12, 42, 41], [543, 5, 209, 7, 6, 27, 17, 966, 35, 44, 7, 5, 72, 488, 2, 21, 852, 121, 181], [624, 1, 336, 881, 23, 30, 345], [191, 21, 28, 164, 20, 627], [926, 269, 150, 1, 326, 635, 2, 29, 20, 1, 366, 354, 1, 44, 18, 7, 11, 681, 2, 214, 18, 11, 14, 82, 536], [1, 3, 44, 69, 208], [60, 9, 5, 35, 308], [100, 179, 179, 133, 64, 227, 209, 36, 16, 527, 217, 19, 81, 86, 491, 16], [14, 250, 839, 122], [67, 113, 75, 2, 86, 208, 42, 457, 41, 95], [162, 1, 37, 6], [14, 34, 81, 18, 1, 96, 36, 211, 20, 34, 37, 494, 2, 134, 12, 188], [1, 62, 440, 961, 25, 38, 129, 11, 157, 23], [769, 54, 226, 1, 34, 368, 14], [1, 221, 2], [90, 77, 93, 190, 15, 14], [52, 95, 859, 859, 8, 280, 23, 38, 146], [52, 261, 7, 50, 240], [46, 162, 1, 57, 202], [31, 11, 231, 31, 38, 648, 25, 32, 3, 27, 9, 111, 132, 14, 8, 7, 165, 39, 59, 462, 12, 75, 129], [426, 31, 4, 603, 7, 1, 62, 6, 4, 356, 1, 54, 6, 100, 62, 10, 62, 20, 23, 100, 509], [7, 186, 225, 137, 216, 4, 865, 596, 23, 507, 26, 68, 137, 53, 15, 5, 778, 540, 12], [55, 9, 12, 20, 23, 111, 249], [14, 8, 56, 500], [6, 16, 10, 31, 673, 49], [809, 165, 32, 13, 26, 142, 53, 7, 156, 540, 2, 11, 264], [49, 25, 35, 443, 76, 7, 221, 2, 253, 26, 58, 31, 40, 552, 65, 146], [97, 622, 631, 6, 21, 2, 403, 6, 134, 10, 4, 501, 354, 6, 151, 121], [309, 581, 431, 46], [27, 6, 10, 112], [7, 963, 3, 7, 1, 85, 39, 27, 82, 44, 142], [1, 20, 40, 138, 581, 15, 11], [130, 12, 10, 69, 8, 38, 246, 18, 226, 1, 34, 152, 11, 7, 102, 3], [58, 174, 521, 16, 10, 361], [486, 969, 43, 387, 95, 8, 13, 742, 61, 53, 155, 908, 630, 140, 185, 464, 4, 864, 3], [28, 490], [155, 326, 6, 16, 18, 13, 296], [1, 55, 9, 5, 923, 46, 6, 422, 130, 4, 31, 85, 28, 26, 957, 300, 62, 20, 385, 711], [362, 9, 662, 21, 970], [90, 90, 124, 22, 3, 50, 115, 3], [213, 75, 12, 10, 92, 107], [148, 1, 57, 2, 12, 7, 63, 295, 2], [336, 85, 251, 740], [1, 29, 54, 52, 6, 635, 8, 5, 15, 26, 814, 28, 21, 114, 114, 384, 253], [50, 57], [536, 433, 26, 49, 36, 3, 26, 306, 49, 36, 14], [40, 8, 4, 322], [165, 9, 71, 35, 451, 32, 39, 210, 62, 138, 484, 992, 46, 7, 50, 128], [49, 27], [366, 131, 63, 1, 40, 8, 5, 223, 65, 1, 4, 140, 185, 761, 51, 1, 28, 241, 12, 13, 1, 70, 2, 37, 13, 273, 116, 116], [107, 16, 74, 69, 8, 138, 183, 149, 241, 12, 3], [28, 9, 302, 34, 110], [52, 27, 1, 29, 401, 427, 23, 521, 161, 100, 509], [52, 711, 103, 102, 10], [3, 192, 13, 43, 280, 24, 666, 616, 506, 16, 21, 577, 915, 193, 230, 638], [351, 44, 4, 7, 6, 7, 5, 71, 40, 273, 8], [35, 592, 7], [419, 1, 30, 11], [1, 34, 3, 361, 9, 311], [178, 164, 296], [1, 63, 9, 452, 18, 5, 132, 2], [71, 62, 26, 268, 524, 195, 878, 8, 62, 878, 186, 62, 349, 958, 51, 54, 350, 71, 59, 152, 10, 449, 33, 84], [6, 265, 19, 204, 10], [488, 9, 19, 4, 518, 860, 12, 4, 329, 2, 170, 138, 72, 2, 2, 30, 488, 976, 72, 429, 173, 650, 379, 12, 477, 260], [49, 225, 180, 6, 92, 340, 15, 92], [14, 419, 37, 279, 1, 17, 21, 34], [13, 8, 160, 431, 95], [107, 648, 11, 98, 46, 3, 30, 44, 9, 174], [125, 65, 2, 141, 487], [127, 5, 8, 309, 4, 331, 15, 4, 755, 25, 14, 741, 111, 648, 23, 144, 383, 223, 57, 223], [802, 157, 59, 4, 2, 37, 5, 315, 2, 5, 26, 456, 5, 921, 454, 28, 2, 37, 69, 2, 3, 7, 21, 225, 658, 3, 25, 658], [115, 96, 167, 210], [38, 362, 39, 34, 37, 4, 356, 15, 65, 554], [637, 25, 1, 59, 665, 31, 43, 529, 78, 1, 55, 15, 79, 2, 566, 832, 78, 1, 553, 15, 31], [49, 624, 86, 307, 23, 52, 22, 3, 690, 12, 380, 63, 1, 938], [1, 569, 2, 152, 118, 2, 226, 43, 10, 2, 319, 195, 11, 9, 138, 484, 454], [97, 782, 156, 6, 123, 3, 22, 309, 4, 58, 65, 46, 22, 6, 89, 7, 52, 65, 32, 6, 27, 134, 10, 4, 16, 31, 76, 787], [387, 236, 3, 267, 21, 119, 13, 45, 316, 126, 12, 13, 16, 21, 18, 435, 173, 650, 379, 683, 53], [3, 22, 18, 5, 5, 229, 18, 11, 7, 46, 1, 680, 11, 3, 22, 51, 20, 693, 53, 1, 15, 11, 367, 442, 3, 56, 363, 11, 22, 53, 142, 4, 65, 15, 12, 10, 732, 15, 397, 344, 1, 423, 85, 25, 1, 366, 62, 51, 297, 3, 35, 539, 62, 7, 7, 46, 11, 65, 122, 8, 285, 3, 7, 1, 75], [34, 29, 55, 18, 40, 174, 142, 128, 928, 7, 3, 253, 125, 142], [1, 5, 149, 107], [5, 492, 561, 8, 5, 492, 121, 8, 66, 5, 492, 8, 497, 4, 338, 161, 271, 6, 492], [455, 3, 29, 3, 689, 5], [60, 862, 2, 602, 297, 62, 40, 51, 27, 167, 25, 108, 208, 737, 210, 2, 10], [222, 965, 2, 3, 107, 94, 652, 11, 1, 70, 2, 85, 51, 15, 3], [14, 593, 982, 159], [420, 397, 21, 1, 59, 105, 315], [404, 217, 110, 90], [1, 408, 76, 1, 47, 223, 25, 11, 874, 559, 102, 6, 46, 96, 90], [6, 17, 4, 911, 131, 8, 540, 19, 141, 198, 36, 6, 169, 53, 131, 106, 80, 131, 912, 33, 23, 264, 16, 18], [83, 77, 16, 110], [873, 28, 26, 1, 649, 92, 529], [269, 150, 1, 17, 21, 20, 1, 108, 88, 14], [92, 15, 33, 126], [1, 63, 214, 394, 35, 59, 1, 391, 146, 414, 63, 352], [29, 118, 51, 262, 19, 178, 44, 78, 51, 5, 495, 92, 15, 92, 79], [1, 186, 274, 142, 675, 75, 26, 10, 6, 263, 262, 144, 49, 79, 19, 524, 124, 59, 645], [38, 1, 94, 70, 2, 472, 210], [627, 15, 168, 218, 12, 5, 26, 4, 68, 355], [6, 384, 10, 482, 151, 251, 131], [183, 13, 43, 280, 24, 666, 616, 506, 16, 21, 577, 915, 193, 230, 638], [435, 119, 33, 663, 15, 964, 556, 68, 148, 2, 21, 776, 758, 98, 173, 304, 777, 232, 91, 247], [38, 302, 282, 428, 168, 458, 111, 52, 65, 1, 162, 57, 139], [785, 6, 523, 572, 123, 6, 80, 51, 58, 134, 11, 66, 19, 66, 251], [94, 108, 3, 87, 739, 12, 184, 152, 211, 20, 117, 729, 208, 32, 3, 29, 60, 35, 42, 41], [148, 436, 39, 27, 51, 5, 15, 5], [133, 105, 470], [7, 22, 631, 21, 100, 176, 5, 411, 16, 31, 527, 217, 19, 81, 491, 16, 429], [122, 59, 33, 78, 59, 11, 49, 348, 1, 263, 167, 157, 226, 33, 418], [172, 50, 544, 20, 61, 52, 22, 3, 44, 2, 1, 176, 3, 157, 11, 66, 678, 460, 1, 123, 515, 544, 125], [3, 22, 4, 780, 6, 17, 99, 395, 19, 312, 342, 24, 4, 43, 280, 364, 2, 4, 288, 724, 19, 119, 217, 260], [10, 142, 8, 651, 2, 204, 44, 11, 7, 5, 505, 8, 265, 89], [1, 519, 44, 322, 992, 157, 430, 52, 249, 224], [5, 536, 42, 41, 143, 968, 375, 42, 41, 42, 65, 41, 63, 77, 528, 368, 7, 68, 3, 218, 139], [125, 285, 30, 5, 804, 390, 24, 609, 18, 98, 68, 219, 24, 2, 21, 683, 53, 72, 81, 327, 230], [74, 1, 936, 11, 11, 389, 158, 562, 133, 863, 562, 1, 937, 264, 96, 932, 10, 43, 296, 164, 296, 96, 938, 10, 2, 109, 39, 221, 69], [52, 743, 2, 86, 334, 689], [24, 1, 47, 76, 223, 348, 118, 226, 43, 10, 84, 1, 499, 243, 11, 300, 223], [8, 96, 117, 212, 126, 145], [6, 54, 39, 31], [785, 11, 292, 95, 80, 6, 862, 253, 218, 166, 607, 6, 31, 43, 748], [130, 897, 785, 6, 115, 6, 58, 280, 523, 247], [29, 3, 146, 51, 40, 104], [22, 6, 8, 69, 839, 69], [14, 8, 64, 625, 453, 453], [495, 297, 28, 89, 31, 76, 7, 4, 482, 555, 157], [1, 3, 62, 540, 9, 5, 376, 382, 4, 150], [308, 39, 34, 17, 411, 690], [17, 4, 58, 504], [267, 179, 25, 14, 162, 17, 129], [49, 20, 189, 179, 813, 32, 6, 80, 199, 108, 88, 551, 6, 70, 2, 29, 9, 53, 88, 44, 2, 6, 551, 88], [28, 49, 479, 14, 195, 1, 62, 19, 254, 105, 297, 25, 1, 6, 263, 62, 195, 6, 158, 26, 142], [3, 22, 258, 5, 340, 177, 126, 4, 907, 24, 4, 612, 153, 72, 355, 446, 2, 38, 181], [188, 61, 1, 277, 2, 253, 164, 42, 41, 23, 64], [538, 44, 123, 3, 135, 4, 120, 803, 29, 17, 4], [127, 8, 40, 5, 223, 65, 6, 277, 533, 823, 15, 608], [17, 3, 59, 492, 596, 32, 26, 1, 34, 30, 14, 21], [83, 28, 26, 45], [64, 348, 18, 233, 126, 11, 851, 27, 30, 84], [38, 847, 1, 34, 67, 2, 13, 702], [1, 196, 204, 5, 126, 150, 21, 101, 67, 4, 149], [8, 25, 136, 8, 191], [130, 172, 11, 273, 135, 2, 82, 44, 12, 4, 708], [52, 29, 3, 29, 11, 539, 1, 237, 226, 568, 5, 339, 15, 13, 61, 2, 17, 355, 48, 3, 115, 3, 550, 53, 15, 65, 18, 13, 157], [7, 176, 5, 7, 528, 6, 539, 26, 54, 10, 175, 125], [50, 80, 118, 79, 2, 67, 14, 2, 10], [172, 1, 882, 3], [133, 105, 261, 11, 103, 699, 1, 160, 29, 176, 3, 35, 59, 13, 145, 7, 704, 2, 67, 3, 40, 68, 3, 64, 954], [833, 33, 320, 595, 4, 15, 48, 24, 4, 503, 258, 16, 304, 140, 559, 327], [116, 1, 100, 17, 109, 145, 7, 19, 60, 215, 37, 4, 505, 9, 5, 7, 829, 26, 30, 32, 234], [38, 362, 36, 5, 1, 423, 29, 14, 150, 576, 25, 1, 94, 54, 212, 477], [1, 59, 4, 16, 48, 4, 341, 145, 1, 63, 451, 2, 57, 2, 1, 34, 47, 9, 5, 511], [40, 8, 5, 481, 65, 39, 17, 622, 19, 198, 6, 6, 17, 192, 5, 810, 153, 19, 119, 8, 392, 16, 21, 64, 527, 239, 217, 324, 565, 429], [11, 66, 1, 123, 13, 26, 154, 210, 100, 3, 13, 24, 13, 126], [101, 29, 10, 4, 101, 11, 400, 2, 101, 838, 652, 14, 95, 8, 109, 400], [5, 734, 190, 15, 14, 213, 690, 199, 14, 27, 39, 101, 40, 305, 18, 679], [130, 1, 5, 18, 394, 157, 52, 249, 22, 39, 79, 12, 365, 187, 13, 394, 114, 45, 39, 87, 2, 178, 7, 86], [1, 34, 403, 208, 879, 174], [21, 64, 1, 76, 1, 63, 175, 21, 1, 34, 57], [1, 100, 550, 576, 795, 6, 1, 667, 948, 161, 14, 10, 20, 6, 100, 190, 465, 2, 81, 10], [303, 36, 4, 336, 176, 210, 43, 33, 298, 171, 25, 100, 176, 33, 298, 171, 12, 210, 200, 852], [17, 58, 450], [1, 17, 135, 410, 129, 48, 1, 34, 163, 12, 3, 195, 75, 117, 4, 149, 12, 3, 364, 244], [287, 37, 69, 18, 42, 41, 49], [27, 6, 426, 43, 10, 9, 92, 1, 59, 300, 480, 319, 272], [71, 4], [148, 371, 1, 70, 2, 107, 3, 188, 114, 13, 271, 8, 11], [29, 3, 237, 36, 13, 626], [28, 26, 96, 36], [290, 1, 274, 8, 337, 195, 38, 87, 19, 47, 243, 19], [432, 569, 2, 305, 88, 5, 23, 1, 59, 4, 206, 418, 21], [48, 211, 26, 2, 682, 46, 188, 65, 225, 9, 5, 166, 410, 866, 8, 332, 15, 3, 631, 24, 10, 20, 3, 569, 2, 682], [1, 574, 125, 5, 313], [334, 3, 248, 4, 273, 15, 2, 204, 44, 110, 201], [389, 314], [270, 47, 76, 350, 152, 432, 2, 204, 10, 44, 31, 282], [38, 87, 2, 270, 142, 555, 293, 274, 15, 40], [172, 6, 6, 19, 179, 18, 125, 123, 49, 93, 190, 15], [191, 995, 115, 20, 625, 157, 59, 11, 21, 60, 35, 372, 69, 12, 10], [3, 16, 137, 21, 49, 1, 158, 16, 137], [191, 38, 35, 295, 2, 141, 13, 61, 4, 482, 129]]\n"
     ]
    }
   ],
   "source": [
    "# create the sequences of the model\n",
    "sequences = tok.texts_to_sequences(X_test)\n",
    "print(sequences)"
   ]
  },
  {
   "cell_type": "code",
   "execution_count": 118,
   "metadata": {},
   "outputs": [],
   "source": [
    "# create the sequence matrix\n",
    "sequence_matrix = sequence.pad_sequences(sequences, maxlen = max_len)"
   ]
  },
  {
   "cell_type": "code",
   "execution_count": 119,
   "metadata": {},
   "outputs": [
    {
     "name": "stdout",
     "output_type": "stream",
     "text": [
      "27/27 [==============================] - 1s 19ms/step - loss: 0.0757 - accuracy: 0.9809\n",
      "Loss of the model is: 0.07570720463991165\n",
      "accuracy of the model is: 98.08841347694397\n"
     ]
    }
   ],
   "source": [
    "# calculate the loss and accuracy of RNN Model\n",
    "loss, accuracy = model.evaluate(sequence_matrix, Y_test)\n",
    "print(\"Loss of the model is:\", loss)\n",
    "print(\"accuracy of the model is:\", (accuracy*100.0))"
   ]
  },
  {
   "cell_type": "markdown",
   "metadata": {},
   "source": [
    "# PREDICT WHETHER THE EMAIL TYPE IS HAM OR SPAM FOR THE GIVEN TEST DATA"
   ]
  },
  {
   "cell_type": "code",
   "execution_count": 120,
   "metadata": {},
   "outputs": [],
   "source": [
    "test_data = [\"Oh k...i'm watching here:)\"]\n",
    "\n",
    "# perform the tokenization on the given text\n",
    "words = tok.texts_to_sequences(test_data)\n",
    "\n",
    "# create the sequence matrix from the tokens\n",
    "sequences = sequence.pad_sequences(words, maxlen = max_len)"
   ]
  },
  {
   "cell_type": "code",
   "execution_count": 121,
   "metadata": {},
   "outputs": [
    {
     "name": "stdout",
     "output_type": "stream",
     "text": [
      "[[2.6428463e-05]]\n"
     ]
    }
   ],
   "source": [
    "# predict the model\n",
    "prediction = model.predict(sequences)\n",
    "print(prediction)"
   ]
  },
  {
   "cell_type": "markdown",
   "metadata": {},
   "source": [
    "# Observation:\n",
    " As the prediction is 2.64 which is greater than 0, so the email belongs to ham class"
   ]
  },
  {
   "cell_type": "code",
   "execution_count": null,
   "metadata": {},
   "outputs": [],
   "source": []
  }
 ],
 "metadata": {
  "kernelspec": {
   "display_name": "Python 3",
   "language": "python",
   "name": "python3"
  },
  "language_info": {
   "codemirror_mode": {
    "name": "ipython",
    "version": 3
   },
   "file_extension": ".py",
   "mimetype": "text/x-python",
   "name": "python",
   "nbconvert_exporter": "python",
   "pygments_lexer": "ipython3",
   "version": "3.8.3"
  }
 },
 "nbformat": 4,
 "nbformat_minor": 4
}
