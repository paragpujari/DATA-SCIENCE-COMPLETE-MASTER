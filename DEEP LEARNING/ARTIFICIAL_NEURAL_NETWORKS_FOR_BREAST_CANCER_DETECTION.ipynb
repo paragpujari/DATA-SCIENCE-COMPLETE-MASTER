{
 "cells": [
  {
   "cell_type": "code",
   "execution_count": 1,
   "metadata": {
    "id": "MYHRE5AA21LG"
   },
   "outputs": [],
   "source": [
    "# AIM OF THE PROJECT\n",
    "\n",
    "## 1. The main aim of the project is to predict whether the person has breast cancer or not.\n",
    "## This is done by using a simple artificial neural networks."
   ]
  },
  {
   "cell_type": "code",
   "execution_count": 2,
   "metadata": {
    "id": "ICf5bb2d3UK5"
   },
   "outputs": [],
   "source": [
    "# import all the necessary libraries\n",
    "import pandas as pd\n",
    "import numpy as np\n",
    "import matplotlib.pyplot as plt\n",
    "%matplotlib inline"
   ]
  },
  {
   "cell_type": "code",
   "execution_count": 3,
   "metadata": {
    "id": "jWPpy3Wh3d8R"
   },
   "outputs": [],
   "source": [
    "# load the dataset\n",
    "data = pd.read_csv('/content/data.csv')"
   ]
  },
  {
   "cell_type": "code",
   "execution_count": 4,
   "metadata": {
    "colab": {
     "base_uri": "https://localhost:8080/"
    },
    "id": "QgpnGda83kjE",
    "outputId": "9010530c-3b5c-4678-cee1-f0a5429888dc"
   },
   "outputs": [
    {
     "name": "stdout",
     "output_type": "stream",
     "text": [
      "           id diagnosis  radius_mean  texture_mean  perimeter_mean  area_mean  \\\n",
      "0      842302         M        17.99         10.38          122.80     1001.0   \n",
      "1      842517         M        20.57         17.77          132.90     1326.0   \n",
      "2    84300903         M        19.69         21.25          130.00     1203.0   \n",
      "3    84348301         M        11.42         20.38           77.58      386.1   \n",
      "4    84358402         M        20.29         14.34          135.10     1297.0   \n",
      "..        ...       ...          ...           ...             ...        ...   \n",
      "564    926424         M        21.56         22.39          142.00     1479.0   \n",
      "565    926682         M        20.13         28.25          131.20     1261.0   \n",
      "566    926954         M        16.60         28.08          108.30      858.1   \n",
      "567    927241         M        20.60         29.33          140.10     1265.0   \n",
      "568     92751         B         7.76         24.54           47.92      181.0   \n",
      "\n",
      "     smoothness_mean  compactness_mean  concavity_mean  concave points_mean  \\\n",
      "0            0.11840           0.27760         0.30010              0.14710   \n",
      "1            0.08474           0.07864         0.08690              0.07017   \n",
      "2            0.10960           0.15990         0.19740              0.12790   \n",
      "3            0.14250           0.28390         0.24140              0.10520   \n",
      "4            0.10030           0.13280         0.19800              0.10430   \n",
      "..               ...               ...             ...                  ...   \n",
      "564          0.11100           0.11590         0.24390              0.13890   \n",
      "565          0.09780           0.10340         0.14400              0.09791   \n",
      "566          0.08455           0.10230         0.09251              0.05302   \n",
      "567          0.11780           0.27700         0.35140              0.15200   \n",
      "568          0.05263           0.04362         0.00000              0.00000   \n",
      "\n",
      "     ...  radius_worst  texture_worst  perimeter_worst  area_worst  \\\n",
      "0    ...        25.380          17.33           184.60      2019.0   \n",
      "1    ...        24.990          23.41           158.80      1956.0   \n",
      "2    ...        23.570          25.53           152.50      1709.0   \n",
      "3    ...        14.910          26.50            98.87       567.7   \n",
      "4    ...        22.540          16.67           152.20      1575.0   \n",
      "..   ...           ...            ...              ...         ...   \n",
      "564  ...        25.450          26.40           166.10      2027.0   \n",
      "565  ...        23.690          38.25           155.00      1731.0   \n",
      "566  ...        18.980          34.12           126.70      1124.0   \n",
      "567  ...        25.740          39.42           184.60      1821.0   \n",
      "568  ...         9.456          30.37            59.16       268.6   \n",
      "\n",
      "     smoothness_worst  compactness_worst  concavity_worst  \\\n",
      "0             0.16220            0.66560           0.7119   \n",
      "1             0.12380            0.18660           0.2416   \n",
      "2             0.14440            0.42450           0.4504   \n",
      "3             0.20980            0.86630           0.6869   \n",
      "4             0.13740            0.20500           0.4000   \n",
      "..                ...                ...              ...   \n",
      "564           0.14100            0.21130           0.4107   \n",
      "565           0.11660            0.19220           0.3215   \n",
      "566           0.11390            0.30940           0.3403   \n",
      "567           0.16500            0.86810           0.9387   \n",
      "568           0.08996            0.06444           0.0000   \n",
      "\n",
      "     concave points_worst  symmetry_worst  fractal_dimension_worst  \n",
      "0                  0.2654          0.4601                  0.11890  \n",
      "1                  0.1860          0.2750                  0.08902  \n",
      "2                  0.2430          0.3613                  0.08758  \n",
      "3                  0.2575          0.6638                  0.17300  \n",
      "4                  0.1625          0.2364                  0.07678  \n",
      "..                    ...             ...                      ...  \n",
      "564                0.2216          0.2060                  0.07115  \n",
      "565                0.1628          0.2572                  0.06637  \n",
      "566                0.1418          0.2218                  0.07820  \n",
      "567                0.2650          0.4087                  0.12400  \n",
      "568                0.0000          0.2871                  0.07039  \n",
      "\n",
      "[569 rows x 32 columns]\n"
     ]
    }
   ],
   "source": [
    "# print the data\n",
    "print(data)"
   ]
  },
  {
   "cell_type": "code",
   "execution_count": 5,
   "metadata": {
    "colab": {
     "base_uri": "https://localhost:8080/"
    },
    "id": "hVI8A5Mh3tFJ",
    "outputId": "5da0a933-48d9-48d8-d346-91dcdedce517"
   },
   "outputs": [
    {
     "name": "stdout",
     "output_type": "stream",
     "text": [
      "         id diagnosis  radius_mean  texture_mean  perimeter_mean  area_mean  \\\n",
      "0    842302         M        17.99         10.38          122.80     1001.0   \n",
      "1    842517         M        20.57         17.77          132.90     1326.0   \n",
      "2  84300903         M        19.69         21.25          130.00     1203.0   \n",
      "3  84348301         M        11.42         20.38           77.58      386.1   \n",
      "4  84358402         M        20.29         14.34          135.10     1297.0   \n",
      "\n",
      "   smoothness_mean  compactness_mean  concavity_mean  concave points_mean  \\\n",
      "0          0.11840           0.27760          0.3001              0.14710   \n",
      "1          0.08474           0.07864          0.0869              0.07017   \n",
      "2          0.10960           0.15990          0.1974              0.12790   \n",
      "3          0.14250           0.28390          0.2414              0.10520   \n",
      "4          0.10030           0.13280          0.1980              0.10430   \n",
      "\n",
      "   ...  radius_worst  texture_worst  perimeter_worst  area_worst  \\\n",
      "0  ...         25.38          17.33           184.60      2019.0   \n",
      "1  ...         24.99          23.41           158.80      1956.0   \n",
      "2  ...         23.57          25.53           152.50      1709.0   \n",
      "3  ...         14.91          26.50            98.87       567.7   \n",
      "4  ...         22.54          16.67           152.20      1575.0   \n",
      "\n",
      "   smoothness_worst  compactness_worst  concavity_worst  concave points_worst  \\\n",
      "0            0.1622             0.6656           0.7119                0.2654   \n",
      "1            0.1238             0.1866           0.2416                0.1860   \n",
      "2            0.1444             0.4245           0.4504                0.2430   \n",
      "3            0.2098             0.8663           0.6869                0.2575   \n",
      "4            0.1374             0.2050           0.4000                0.1625   \n",
      "\n",
      "   symmetry_worst  fractal_dimension_worst  \n",
      "0          0.4601                  0.11890  \n",
      "1          0.2750                  0.08902  \n",
      "2          0.3613                  0.08758  \n",
      "3          0.6638                  0.17300  \n",
      "4          0.2364                  0.07678  \n",
      "\n",
      "[5 rows x 32 columns]\n"
     ]
    }
   ],
   "source": [
    "# To get the first five rows of the dataset\n",
    "print(data.head())"
   ]
  },
  {
   "cell_type": "code",
   "execution_count": 6,
   "metadata": {
    "colab": {
     "base_uri": "https://localhost:8080/"
    },
    "id": "LNaJV3dA33K2",
    "outputId": "013bc618-db49-471c-f59d-1df60a2575ed"
   },
   "outputs": [
    {
     "name": "stdout",
     "output_type": "stream",
     "text": [
      "         id diagnosis  radius_mean  texture_mean  perimeter_mean  area_mean  \\\n",
      "564  926424         M        21.56         22.39          142.00     1479.0   \n",
      "565  926682         M        20.13         28.25          131.20     1261.0   \n",
      "566  926954         M        16.60         28.08          108.30      858.1   \n",
      "567  927241         M        20.60         29.33          140.10     1265.0   \n",
      "568   92751         B         7.76         24.54           47.92      181.0   \n",
      "\n",
      "     smoothness_mean  compactness_mean  concavity_mean  concave points_mean  \\\n",
      "564          0.11100           0.11590         0.24390              0.13890   \n",
      "565          0.09780           0.10340         0.14400              0.09791   \n",
      "566          0.08455           0.10230         0.09251              0.05302   \n",
      "567          0.11780           0.27700         0.35140              0.15200   \n",
      "568          0.05263           0.04362         0.00000              0.00000   \n",
      "\n",
      "     ...  radius_worst  texture_worst  perimeter_worst  area_worst  \\\n",
      "564  ...        25.450          26.40           166.10      2027.0   \n",
      "565  ...        23.690          38.25           155.00      1731.0   \n",
      "566  ...        18.980          34.12           126.70      1124.0   \n",
      "567  ...        25.740          39.42           184.60      1821.0   \n",
      "568  ...         9.456          30.37            59.16       268.6   \n",
      "\n",
      "     smoothness_worst  compactness_worst  concavity_worst  \\\n",
      "564           0.14100            0.21130           0.4107   \n",
      "565           0.11660            0.19220           0.3215   \n",
      "566           0.11390            0.30940           0.3403   \n",
      "567           0.16500            0.86810           0.9387   \n",
      "568           0.08996            0.06444           0.0000   \n",
      "\n",
      "     concave points_worst  symmetry_worst  fractal_dimension_worst  \n",
      "564                0.2216          0.2060                  0.07115  \n",
      "565                0.1628          0.2572                  0.06637  \n",
      "566                0.1418          0.2218                  0.07820  \n",
      "567                0.2650          0.4087                  0.12400  \n",
      "568                0.0000          0.2871                  0.07039  \n",
      "\n",
      "[5 rows x 32 columns]\n"
     ]
    }
   ],
   "source": [
    "# To get the last five rows of the dataset\n",
    "print(data.tail())"
   ]
  },
  {
   "cell_type": "code",
   "execution_count": 7,
   "metadata": {
    "colab": {
     "base_uri": "https://localhost:8080/"
    },
    "id": "p03RhCRu38vO",
    "outputId": "3f9f1f4f-b6da-45b1-8057-85419e286c05"
   },
   "outputs": [
    {
     "name": "stdout",
     "output_type": "stream",
     "text": [
      "(569, 32)\n"
     ]
    }
   ],
   "source": [
    "# To get the shape of the dataset\n",
    "print(data.shape)"
   ]
  },
  {
   "cell_type": "code",
   "execution_count": 8,
   "metadata": {
    "colab": {
     "base_uri": "https://localhost:8080/"
    },
    "id": "CoFMI5so4Cc8",
    "outputId": "e631e3a4-f962-4359-d093-f24177aafc5f"
   },
   "outputs": [
    {
     "name": "stdout",
     "output_type": "stream",
     "text": [
      "id                         0\n",
      "diagnosis                  0\n",
      "radius_mean                0\n",
      "texture_mean               0\n",
      "perimeter_mean             0\n",
      "area_mean                  0\n",
      "smoothness_mean            0\n",
      "compactness_mean           0\n",
      "concavity_mean             0\n",
      "concave points_mean        0\n",
      "symmetry_mean              0\n",
      "fractal_dimension_mean     0\n",
      "radius_se                  0\n",
      "texture_se                 0\n",
      "perimeter_se               0\n",
      "area_se                    0\n",
      "smoothness_se              0\n",
      "compactness_se             0\n",
      "concavity_se               0\n",
      "concave points_se          0\n",
      "symmetry_se                0\n",
      "fractal_dimension_se       0\n",
      "radius_worst               0\n",
      "texture_worst              0\n",
      "perimeter_worst            0\n",
      "area_worst                 0\n",
      "smoothness_worst           0\n",
      "compactness_worst          0\n",
      "concavity_worst            0\n",
      "concave points_worst       0\n",
      "symmetry_worst             0\n",
      "fractal_dimension_worst    0\n",
      "dtype: int64\n"
     ]
    }
   ],
   "source": [
    "# To check if there are any NULL Values in the dataset\n",
    "print(data.isnull().sum())"
   ]
  },
  {
   "cell_type": "code",
   "execution_count": 9,
   "metadata": {
    "id": "t2eNV-Gl4KfK"
   },
   "outputs": [],
   "source": [
    "# From the above observation, it is clear that there are no NULL Values in the dataset"
   ]
  },
  {
   "cell_type": "code",
   "execution_count": 11,
   "metadata": {
    "colab": {
     "base_uri": "https://localhost:8080/",
     "height": 445
    },
    "id": "iowXIGZk4Ql7",
    "outputId": "df7c4cca-d992-4504-bb82-3285123ca6d0"
   },
   "outputs": [
    {
     "data": {
      "text/plain": [
       "<Axes: >"
      ]
     },
     "execution_count": 11,
     "metadata": {},
     "output_type": "execute_result"
    },
    {
     "data": {
      "image/png": "[encoded data removed]",
      "text/plain": [
       "<Figure size 640x480 with 1 Axes>"
      ]
     },
     "metadata": {},
     "output_type": "display_data"
    }
   ],
   "source": [
    "# To perform the statistical summary for the cancer dataset\n",
    "data['diagnosis'].value_counts().plot(kind = 'bar')"
   ]
  },
  {
   "cell_type": "code",
   "execution_count": 12,
   "metadata": {
    "id": "a-CusV1W4uPH"
   },
   "outputs": [],
   "source": [
    "# From the above observation, it is clear that more number of patients have benign cancer than the malignant cancers."
   ]
  },
  {
   "cell_type": "code",
   "execution_count": 17,
   "metadata": {
    "colab": {
     "base_uri": "https://localhost:8080/"
    },
    "id": "1V8gVTaT45G0",
    "outputId": "ffe365bc-fafa-4403-e502-7e20eb7e4f58"
   },
   "outputs": [
    {
     "name": "stdout",
     "output_type": "stream",
     "text": [
      "     radius_mean  texture_mean  perimeter_mean  area_mean  smoothness_mean  \\\n",
      "0          17.99         10.38          122.80     1001.0          0.11840   \n",
      "1          20.57         17.77          132.90     1326.0          0.08474   \n",
      "2          19.69         21.25          130.00     1203.0          0.10960   \n",
      "3          11.42         20.38           77.58      386.1          0.14250   \n",
      "4          20.29         14.34          135.10     1297.0          0.10030   \n",
      "..           ...           ...             ...        ...              ...   \n",
      "564        21.56         22.39          142.00     1479.0          0.11100   \n",
      "565        20.13         28.25          131.20     1261.0          0.09780   \n",
      "566        16.60         28.08          108.30      858.1          0.08455   \n",
      "567        20.60         29.33          140.10     1265.0          0.11780   \n",
      "568         7.76         24.54           47.92      181.0          0.05263   \n",
      "\n",
      "     compactness_mean  concavity_mean  concave points_mean  symmetry_mean  \\\n",
      "0             0.27760         0.30010              0.14710         0.2419   \n",
      "1             0.07864         0.08690              0.07017         0.1812   \n",
      "2             0.15990         0.19740              0.12790         0.2069   \n",
      "3             0.28390         0.24140              0.10520         0.2597   \n",
      "4             0.13280         0.19800              0.10430         0.1809   \n",
      "..                ...             ...                  ...            ...   \n",
      "564           0.11590         0.24390              0.13890         0.1726   \n",
      "565           0.10340         0.14400              0.09791         0.1752   \n",
      "566           0.10230         0.09251              0.05302         0.1590   \n",
      "567           0.27700         0.35140              0.15200         0.2397   \n",
      "568           0.04362         0.00000              0.00000         0.1587   \n",
      "\n",
      "     fractal_dimension_mean  ...  radius_worst  texture_worst  \\\n",
      "0                   0.07871  ...        25.380          17.33   \n",
      "1                   0.05667  ...        24.990          23.41   \n",
      "2                   0.05999  ...        23.570          25.53   \n",
      "3                   0.09744  ...        14.910          26.50   \n",
      "4                   0.05883  ...        22.540          16.67   \n",
      "..                      ...  ...           ...            ...   \n",
      "564                 0.05623  ...        25.450          26.40   \n",
      "565                 0.05533  ...        23.690          38.25   \n",
      "566                 0.05648  ...        18.980          34.12   \n",
      "567                 0.07016  ...        25.740          39.42   \n",
      "568                 0.05884  ...         9.456          30.37   \n",
      "\n",
      "     perimeter_worst  area_worst  smoothness_worst  compactness_worst  \\\n",
      "0             184.60      2019.0           0.16220            0.66560   \n",
      "1             158.80      1956.0           0.12380            0.18660   \n",
      "2             152.50      1709.0           0.14440            0.42450   \n",
      "3              98.87       567.7           0.20980            0.86630   \n",
      "4             152.20      1575.0           0.13740            0.20500   \n",
      "..               ...         ...               ...                ...   \n",
      "564           166.10      2027.0           0.14100            0.21130   \n",
      "565           155.00      1731.0           0.11660            0.19220   \n",
      "566           126.70      1124.0           0.11390            0.30940   \n",
      "567           184.60      1821.0           0.16500            0.86810   \n",
      "568            59.16       268.6           0.08996            0.06444   \n",
      "\n",
      "     concavity_worst  concave points_worst  symmetry_worst  \\\n",
      "0             0.7119                0.2654          0.4601   \n",
      "1             0.2416                0.1860          0.2750   \n",
      "2             0.4504                0.2430          0.3613   \n",
      "3             0.6869                0.2575          0.6638   \n",
      "4             0.4000                0.1625          0.2364   \n",
      "..               ...                   ...             ...   \n",
      "564           0.4107                0.2216          0.2060   \n",
      "565           0.3215                0.1628          0.2572   \n",
      "566           0.3403                0.1418          0.2218   \n",
      "567           0.9387                0.2650          0.4087   \n",
      "568           0.0000                0.0000          0.2871   \n",
      "\n",
      "     fractal_dimension_worst  \n",
      "0                    0.11890  \n",
      "1                    0.08902  \n",
      "2                    0.08758  \n",
      "3                    0.17300  \n",
      "4                    0.07678  \n",
      "..                       ...  \n",
      "564                  0.07115  \n",
      "565                  0.06637  \n",
      "566                  0.07820  \n",
      "567                  0.12400  \n",
      "568                  0.07039  \n",
      "\n",
      "[569 rows x 30 columns]\n",
      "0      M\n",
      "1      M\n",
      "2      M\n",
      "3      M\n",
      "4      M\n",
      "      ..\n",
      "564    M\n",
      "565    M\n",
      "566    M\n",
      "567    M\n",
      "568    B\n",
      "Name: diagnosis, Length: 569, dtype: object\n"
     ]
    }
   ],
   "source": [
    "# Divide the dataset into independent and dependent variables\n",
    "X = data.drop(columns = ['id','diagnosis'])\n",
    "print(X)\n",
    "\n",
    "\n",
    "Y = data['diagnosis']\n",
    "print(Y)"
   ]
  },
  {
   "cell_type": "code",
   "execution_count": 20,
   "metadata": {
    "id": "Ds85BXY26dm8"
   },
   "outputs": [],
   "source": [
    "# Transform the output categorical data into its label form\n",
    "from sklearn.preprocessing import LabelEncoder\n",
    "\n",
    "# create the object for label encoder\n",
    "lb = LabelEncoder()\n",
    "\n",
    "# Transform the output into its label form\n",
    "Y = lb.fit_transform(Y)"
   ]
  },
  {
   "cell_type": "code",
   "execution_count": 22,
   "metadata": {
    "colab": {
     "base_uri": "https://localhost:8080/"
    },
    "id": "li6YEiQ1679_",
    "outputId": "fa5657b0-449a-4d3e-9a3f-23f17f56acc4"
   },
   "outputs": [
    {
     "name": "stdout",
     "output_type": "stream",
     "text": [
      "[1 1 1 1 1 1 1 1 1 1 1 1 1 1 1 1 1 1 1 0 0 0 1 1 1 1 1 1 1 1 1 1 1 1 1 1 1\n",
      " 0 1 1 1 1 1 1 1 1 0 1 0 0 0 0 0 1 1 0 1 1 0 0 0 0 1 0 1 1 0 0 0 0 1 0 1 1\n",
      " 0 1 0 1 1 0 0 0 1 1 0 1 1 1 0 0 0 1 0 0 1 1 0 0 0 1 1 0 0 0 0 1 0 0 1 0 0\n",
      " 0 0 0 0 0 0 1 1 1 0 1 1 0 0 0 1 1 0 1 0 1 1 0 1 1 0 0 1 0 0 1 0 0 0 0 1 0\n",
      " 0 0 0 0 0 0 0 0 1 0 0 0 0 1 1 0 1 0 0 1 1 0 0 1 1 0 0 0 0 1 0 0 1 1 1 0 1\n",
      " 0 1 0 0 0 1 0 0 1 1 0 1 1 1 1 0 1 1 1 0 1 0 1 0 0 1 0 1 1 1 1 0 0 1 1 0 0\n",
      " 0 1 0 0 0 0 0 1 1 0 0 1 0 0 1 1 0 1 0 0 0 0 1 0 0 0 0 0 1 0 1 1 1 1 1 1 1\n",
      " 1 1 1 1 1 1 1 0 0 0 0 0 0 1 0 1 0 0 1 0 0 1 0 1 1 0 0 0 0 0 0 0 0 0 0 0 0\n",
      " 0 1 0 0 1 0 1 0 0 0 0 0 0 0 0 0 0 0 0 0 0 1 0 0 0 1 0 1 0 0 0 0 1 1 1 0 0\n",
      " 0 0 1 0 1 0 1 0 0 0 1 0 0 0 0 0 0 0 1 1 1 0 0 0 0 0 0 0 0 0 0 0 1 1 0 1 1\n",
      " 1 0 1 1 0 0 0 0 0 1 0 0 0 0 0 1 0 0 0 1 0 0 1 1 0 0 0 0 0 0 1 0 0 0 0 0 0\n",
      " 0 1 0 0 0 0 0 1 0 0 1 0 0 0 0 0 0 0 0 0 0 0 0 1 0 1 1 0 1 0 0 0 0 0 1 0 0\n",
      " 1 0 1 0 0 1 0 1 0 0 0 0 0 0 0 0 1 1 0 0 0 0 0 0 1 0 0 0 0 0 0 0 0 0 0 1 0\n",
      " 0 0 0 0 0 0 1 0 1 0 0 1 0 0 0 0 0 1 1 0 1 0 1 0 0 0 0 0 1 0 0 1 0 1 0 1 1\n",
      " 0 0 0 1 0 0 0 0 0 0 0 0 0 0 0 1 0 1 1 0 0 0 0 0 0 0 0 0 0 0 0 0 0 0 0 0 0\n",
      " 0 0 0 0 0 0 0 1 1 1 1 1 1 0]\n"
     ]
    }
   ],
   "source": [
    "# Binary form of the Output\n",
    "print(Y)"
   ]
  },
  {
   "cell_type": "code",
   "execution_count": 23,
   "metadata": {
    "id": "bSHtbs8k7Ej7"
   },
   "outputs": [],
   "source": [
    "# Divide the independent and dependent variables into training and testing data\n",
    "from sklearn.model_selection import train_test_split\n",
    "X_train, X_test, Y_train, Y_test = train_test_split(X,Y,test_size = 0.2, random_state = 0)"
   ]
  },
  {
   "cell_type": "code",
   "execution_count": 25,
   "metadata": {
    "id": "6NNKdoim7G_Q"
   },
   "outputs": [],
   "source": [
    "# But in the dataset, we see that all the inputs are of various different ranges, to bring all the inputs in one range, we need to perform feature scaling\n",
    "from sklearn.preprocessing import  StandardScaler\n",
    "\n",
    "# create the object for Standard Scaler\n",
    "sc = StandardScaler()\n",
    "\n",
    "# tarnsform all the inputs in one range using Standard Scaler\n",
    "X_train = sc.fit_transform(X_train)\n",
    "X_test  = sc.transform(X_test)"
   ]
  },
  {
   "cell_type": "code",
   "execution_count": 28,
   "metadata": {
    "id": "LZv545cS9VvY"
   },
   "outputs": [],
   "source": [
    "# import all the libraries for Artificial Neural Networks Model\n",
    "import keras\n",
    "from keras.models import Sequential\n",
    "from keras.layers import Dense"
   ]
  },
  {
   "cell_type": "code",
   "execution_count": 30,
   "metadata": {
    "id": "VX7gOzHp74M2"
   },
   "outputs": [],
   "source": [
    "# Construct an ANN Model\n",
    "\n",
    "# create an object for ARTIFICIAL NEURAL NETWORKS\n",
    "annmodel = Sequential()\n",
    "\n",
    "# Add the first input and Dense layer into the ANN Model\n",
    "annmodel.add(Dense(16, activation = 'relu',input_dim = 30))\n",
    "\n",
    "# Add the second dense layer into the ANN Model\n",
    "annmodel.add(Dense(16, activation = 'relu'))\n",
    "\n",
    "# Add the output layer\n",
    "annmodel.add(Dense(1, activation = 'sigmoid'))"
   ]
  },
  {
   "cell_type": "code",
   "execution_count": 31,
   "metadata": {
    "id": "esvn8qmI-Taq"
   },
   "outputs": [],
   "source": [
    "# Compile the ANN Model\n",
    "annmodel.compile(optimizer = 'adam', loss = 'binary_crossentropy', metrics = ['accuracy'])"
   ]
  },
  {
   "cell_type": "code",
   "execution_count": 32,
   "metadata": {
    "colab": {
     "base_uri": "https://localhost:8080/"
    },
    "id": "nCJT5h9Y-hL8",
    "outputId": "afbbfcc5-cc09-4d95-be6d-8c81ae1e426d"
   },
   "outputs": [
    {
     "name": "stdout",
     "output_type": "stream",
     "text": [
      "Epoch 1/150\n",
      "5/5 [==============================] - 1s 7ms/step - loss: 0.5549 - accuracy: 0.7978\n",
      "Epoch 2/150\n",
      "5/5 [==============================] - 0s 7ms/step - loss: 0.4911 - accuracy: 0.8505\n",
      "Epoch 3/150\n",
      "5/5 [==============================] - 0s 6ms/step - loss: 0.4400 - accuracy: 0.8835\n",
      "Epoch 4/150\n",
      "5/5 [==============================] - 0s 7ms/step - loss: 0.3960 - accuracy: 0.8989\n",
      "Epoch 5/150\n",
      "5/5 [==============================] - 0s 7ms/step - loss: 0.3568 - accuracy: 0.9143\n",
      "Epoch 6/150\n",
      "5/5 [==============================] - 0s 5ms/step - loss: 0.3227 - accuracy: 0.9253\n",
      "Epoch 7/150\n",
      "5/5 [==============================] - 0s 5ms/step - loss: 0.2922 - accuracy: 0.9385\n",
      "Epoch 8/150\n",
      "5/5 [==============================] - 0s 5ms/step - loss: 0.2657 - accuracy: 0.9451\n",
      "Epoch 9/150\n",
      "5/5 [==============================] - 0s 6ms/step - loss: 0.2425 - accuracy: 0.9473\n",
      "Epoch 10/150\n",
      "5/5 [==============================] - 0s 8ms/step - loss: 0.2228 - accuracy: 0.9516\n",
      "Epoch 11/150\n",
      "5/5 [==============================] - 0s 6ms/step - loss: 0.2050 - accuracy: 0.9516\n",
      "Epoch 12/150\n",
      "5/5 [==============================] - 0s 6ms/step - loss: 0.1897 - accuracy: 0.9516\n",
      "Epoch 13/150\n",
      "5/5 [==============================] - 0s 6ms/step - loss: 0.1769 - accuracy: 0.9516\n",
      "Epoch 14/150\n",
      "5/5 [==============================] - 0s 5ms/step - loss: 0.1656 - accuracy: 0.9516\n",
      "Epoch 15/150\n",
      "5/5 [==============================] - 0s 5ms/step - loss: 0.1556 - accuracy: 0.9516\n",
      "Epoch 16/150\n",
      "5/5 [==============================] - 0s 6ms/step - loss: 0.1470 - accuracy: 0.9538\n",
      "Epoch 17/150\n",
      "5/5 [==============================] - 0s 6ms/step - loss: 0.1391 - accuracy: 0.9560\n",
      "Epoch 18/150\n",
      "5/5 [==============================] - 0s 7ms/step - loss: 0.1323 - accuracy: 0.9604\n",
      "Epoch 19/150\n",
      "5/5 [==============================] - 0s 6ms/step - loss: 0.1261 - accuracy: 0.9626\n",
      "Epoch 20/150\n",
      "5/5 [==============================] - 0s 5ms/step - loss: 0.1205 - accuracy: 0.9692\n",
      "Epoch 21/150\n",
      "5/5 [==============================] - 0s 5ms/step - loss: 0.1155 - accuracy: 0.9692\n",
      "Epoch 22/150\n",
      "5/5 [==============================] - 0s 5ms/step - loss: 0.1109 - accuracy: 0.9692\n",
      "Epoch 23/150\n",
      "5/5 [==============================] - 0s 5ms/step - loss: 0.1068 - accuracy: 0.9692\n",
      "Epoch 24/150\n",
      "5/5 [==============================] - 0s 5ms/step - loss: 0.1029 - accuracy: 0.9692\n",
      "Epoch 25/150\n",
      "5/5 [==============================] - 0s 5ms/step - loss: 0.0992 - accuracy: 0.9714\n",
      "Epoch 26/150\n",
      "5/5 [==============================] - 0s 5ms/step - loss: 0.0958 - accuracy: 0.9736\n",
      "Epoch 27/150\n",
      "5/5 [==============================] - 0s 6ms/step - loss: 0.0927 - accuracy: 0.9736\n",
      "Epoch 28/150\n",
      "5/5 [==============================] - 0s 5ms/step - loss: 0.0897 - accuracy: 0.9758\n",
      "Epoch 29/150\n",
      "5/5 [==============================] - 0s 7ms/step - loss: 0.0868 - accuracy: 0.9780\n",
      "Epoch 30/150\n",
      "5/5 [==============================] - 0s 7ms/step - loss: 0.0842 - accuracy: 0.9780\n",
      "Epoch 31/150\n",
      "5/5 [==============================] - 0s 5ms/step - loss: 0.0817 - accuracy: 0.9824\n",
      "Epoch 32/150\n",
      "5/5 [==============================] - 0s 5ms/step - loss: 0.0795 - accuracy: 0.9846\n",
      "Epoch 33/150\n",
      "5/5 [==============================] - 0s 5ms/step - loss: 0.0771 - accuracy: 0.9846\n",
      "Epoch 34/150\n",
      "5/5 [==============================] - 0s 5ms/step - loss: 0.0750 - accuracy: 0.9846\n",
      "Epoch 35/150\n",
      "5/5 [==============================] - 0s 5ms/step - loss: 0.0733 - accuracy: 0.9846\n",
      "Epoch 36/150\n",
      "5/5 [==============================] - 0s 5ms/step - loss: 0.0714 - accuracy: 0.9846\n",
      "Epoch 37/150\n",
      "5/5 [==============================] - 0s 5ms/step - loss: 0.0696 - accuracy: 0.9846\n",
      "Epoch 38/150\n",
      "5/5 [==============================] - 0s 5ms/step - loss: 0.0680 - accuracy: 0.9868\n",
      "Epoch 39/150\n",
      "5/5 [==============================] - 0s 5ms/step - loss: 0.0666 - accuracy: 0.9868\n",
      "Epoch 40/150\n",
      "5/5 [==============================] - 0s 5ms/step - loss: 0.0651 - accuracy: 0.9868\n",
      "Epoch 41/150\n",
      "5/5 [==============================] - 0s 6ms/step - loss: 0.0637 - accuracy: 0.9868\n",
      "Epoch 42/150\n",
      "5/5 [==============================] - 0s 6ms/step - loss: 0.0623 - accuracy: 0.9890\n",
      "Epoch 43/150\n",
      "5/5 [==============================] - 0s 6ms/step - loss: 0.0609 - accuracy: 0.9912\n",
      "Epoch 44/150\n",
      "5/5 [==============================] - 0s 5ms/step - loss: 0.0598 - accuracy: 0.9912\n",
      "Epoch 45/150\n",
      "5/5 [==============================] - 0s 5ms/step - loss: 0.0585 - accuracy: 0.9912\n",
      "Epoch 46/150\n",
      "5/5 [==============================] - 0s 6ms/step - loss: 0.0575 - accuracy: 0.9890\n",
      "Epoch 47/150\n",
      "5/5 [==============================] - 0s 5ms/step - loss: 0.0563 - accuracy: 0.9890\n",
      "Epoch 48/150\n",
      "5/5 [==============================] - 0s 5ms/step - loss: 0.0554 - accuracy: 0.9890\n",
      "Epoch 49/150\n",
      "5/5 [==============================] - 0s 5ms/step - loss: 0.0544 - accuracy: 0.9890\n",
      "Epoch 50/150\n",
      "5/5 [==============================] - 0s 5ms/step - loss: 0.0535 - accuracy: 0.9890\n",
      "Epoch 51/150\n",
      "5/5 [==============================] - 0s 5ms/step - loss: 0.0524 - accuracy: 0.9912\n",
      "Epoch 52/150\n",
      "5/5 [==============================] - 0s 5ms/step - loss: 0.0516 - accuracy: 0.9912\n",
      "Epoch 53/150\n",
      "5/5 [==============================] - 0s 5ms/step - loss: 0.0507 - accuracy: 0.9912\n",
      "Epoch 54/150\n",
      "5/5 [==============================] - 0s 5ms/step - loss: 0.0499 - accuracy: 0.9912\n",
      "Epoch 55/150\n",
      "5/5 [==============================] - 0s 5ms/step - loss: 0.0491 - accuracy: 0.9912\n",
      "Epoch 56/150\n",
      "5/5 [==============================] - 0s 5ms/step - loss: 0.0483 - accuracy: 0.9912\n",
      "Epoch 57/150\n",
      "5/5 [==============================] - 0s 5ms/step - loss: 0.0475 - accuracy: 0.9912\n",
      "Epoch 58/150\n",
      "5/5 [==============================] - 0s 5ms/step - loss: 0.0469 - accuracy: 0.9912\n",
      "Epoch 59/150\n",
      "5/5 [==============================] - 0s 5ms/step - loss: 0.0461 - accuracy: 0.9912\n",
      "Epoch 60/150\n",
      "5/5 [==============================] - 0s 5ms/step - loss: 0.0455 - accuracy: 0.9912\n",
      "Epoch 61/150\n",
      "5/5 [==============================] - 0s 5ms/step - loss: 0.0448 - accuracy: 0.9912\n",
      "Epoch 62/150\n",
      "5/5 [==============================] - 0s 5ms/step - loss: 0.0441 - accuracy: 0.9912\n",
      "Epoch 63/150\n",
      "5/5 [==============================] - 0s 5ms/step - loss: 0.0435 - accuracy: 0.9912\n",
      "Epoch 64/150\n",
      "5/5 [==============================] - 0s 5ms/step - loss: 0.0429 - accuracy: 0.9912\n",
      "Epoch 65/150\n",
      "5/5 [==============================] - 0s 4ms/step - loss: 0.0424 - accuracy: 0.9912\n",
      "Epoch 66/150\n",
      "5/5 [==============================] - 0s 5ms/step - loss: 0.0417 - accuracy: 0.9912\n",
      "Epoch 67/150\n",
      "5/5 [==============================] - 0s 5ms/step - loss: 0.0411 - accuracy: 0.9912\n",
      "Epoch 68/150\n",
      "5/5 [==============================] - 0s 5ms/step - loss: 0.0405 - accuracy: 0.9912\n",
      "Epoch 69/150\n",
      "5/5 [==============================] - 0s 5ms/step - loss: 0.0400 - accuracy: 0.9912\n",
      "Epoch 70/150\n",
      "5/5 [==============================] - 0s 5ms/step - loss: 0.0395 - accuracy: 0.9912\n",
      "Epoch 71/150\n",
      "5/5 [==============================] - 0s 4ms/step - loss: 0.0389 - accuracy: 0.9912\n",
      "Epoch 72/150\n",
      "5/5 [==============================] - 0s 4ms/step - loss: 0.0384 - accuracy: 0.9912\n",
      "Epoch 73/150\n",
      "5/5 [==============================] - 0s 4ms/step - loss: 0.0379 - accuracy: 0.9912\n",
      "Epoch 74/150\n",
      "5/5 [==============================] - 0s 5ms/step - loss: 0.0375 - accuracy: 0.9912\n",
      "Epoch 75/150\n",
      "5/5 [==============================] - 0s 5ms/step - loss: 0.0370 - accuracy: 0.9912\n",
      "Epoch 76/150\n",
      "5/5 [==============================] - 0s 5ms/step - loss: 0.0365 - accuracy: 0.9912\n",
      "Epoch 77/150\n",
      "5/5 [==============================] - 0s 6ms/step - loss: 0.0360 - accuracy: 0.9912\n",
      "Epoch 78/150\n",
      "5/5 [==============================] - 0s 6ms/step - loss: 0.0356 - accuracy: 0.9912\n",
      "Epoch 79/150\n",
      "5/5 [==============================] - 0s 7ms/step - loss: 0.0352 - accuracy: 0.9912\n",
      "Epoch 80/150\n",
      "5/5 [==============================] - 0s 6ms/step - loss: 0.0347 - accuracy: 0.9912\n",
      "Epoch 81/150\n",
      "5/5 [==============================] - 0s 5ms/step - loss: 0.0343 - accuracy: 0.9912\n",
      "Epoch 82/150\n",
      "5/5 [==============================] - 0s 5ms/step - loss: 0.0339 - accuracy: 0.9912\n",
      "Epoch 83/150\n",
      "5/5 [==============================] - 0s 4ms/step - loss: 0.0334 - accuracy: 0.9912\n",
      "Epoch 84/150\n",
      "5/5 [==============================] - 0s 5ms/step - loss: 0.0329 - accuracy: 0.9912\n",
      "Epoch 85/150\n",
      "5/5 [==============================] - 0s 6ms/step - loss: 0.0325 - accuracy: 0.9912\n",
      "Epoch 86/150\n",
      "5/5 [==============================] - 0s 6ms/step - loss: 0.0322 - accuracy: 0.9912\n",
      "Epoch 87/150\n",
      "5/5 [==============================] - 0s 7ms/step - loss: 0.0317 - accuracy: 0.9912\n",
      "Epoch 88/150\n",
      "5/5 [==============================] - 0s 5ms/step - loss: 0.0313 - accuracy: 0.9912\n",
      "Epoch 89/150\n",
      "5/5 [==============================] - 0s 5ms/step - loss: 0.0310 - accuracy: 0.9912\n",
      "Epoch 90/150\n",
      "5/5 [==============================] - 0s 6ms/step - loss: 0.0305 - accuracy: 0.9912\n",
      "Epoch 91/150\n",
      "5/5 [==============================] - 0s 5ms/step - loss: 0.0302 - accuracy: 0.9912\n",
      "Epoch 92/150\n",
      "5/5 [==============================] - 0s 6ms/step - loss: 0.0297 - accuracy: 0.9912\n",
      "Epoch 93/150\n",
      "5/5 [==============================] - 0s 6ms/step - loss: 0.0293 - accuracy: 0.9912\n",
      "Epoch 94/150\n",
      "5/5 [==============================] - 0s 6ms/step - loss: 0.0290 - accuracy: 0.9912\n",
      "Epoch 95/150\n",
      "5/5 [==============================] - 0s 8ms/step - loss: 0.0287 - accuracy: 0.9912\n",
      "Epoch 96/150\n",
      "5/5 [==============================] - 0s 6ms/step - loss: 0.0283 - accuracy: 0.9912\n",
      "Epoch 97/150\n",
      "5/5 [==============================] - 0s 5ms/step - loss: 0.0279 - accuracy: 0.9912\n",
      "Epoch 98/150\n",
      "5/5 [==============================] - 0s 5ms/step - loss: 0.0275 - accuracy: 0.9912\n",
      "Epoch 99/150\n",
      "5/5 [==============================] - 0s 5ms/step - loss: 0.0272 - accuracy: 0.9912\n",
      "Epoch 100/150\n",
      "5/5 [==============================] - 0s 5ms/step - loss: 0.0269 - accuracy: 0.9912\n",
      "Epoch 101/150\n",
      "5/5 [==============================] - 0s 5ms/step - loss: 0.0267 - accuracy: 0.9912\n",
      "Epoch 102/150\n",
      "5/5 [==============================] - 0s 5ms/step - loss: 0.0262 - accuracy: 0.9912\n",
      "Epoch 103/150\n",
      "5/5 [==============================] - 0s 5ms/step - loss: 0.0259 - accuracy: 0.9912\n",
      "Epoch 104/150\n",
      "5/5 [==============================] - 0s 6ms/step - loss: 0.0256 - accuracy: 0.9912\n",
      "Epoch 105/150\n",
      "5/5 [==============================] - 0s 5ms/step - loss: 0.0253 - accuracy: 0.9912\n",
      "Epoch 106/150\n",
      "5/5 [==============================] - 0s 5ms/step - loss: 0.0250 - accuracy: 0.9912\n",
      "Epoch 107/150\n",
      "5/5 [==============================] - 0s 7ms/step - loss: 0.0247 - accuracy: 0.9912\n",
      "Epoch 108/150\n",
      "5/5 [==============================] - 0s 7ms/step - loss: 0.0245 - accuracy: 0.9912\n",
      "Epoch 109/150\n",
      "5/5 [==============================] - 0s 9ms/step - loss: 0.0242 - accuracy: 0.9934\n",
      "Epoch 110/150\n",
      "5/5 [==============================] - 0s 5ms/step - loss: 0.0239 - accuracy: 0.9934\n",
      "Epoch 111/150\n",
      "5/5 [==============================] - 0s 5ms/step - loss: 0.0236 - accuracy: 0.9934\n",
      "Epoch 112/150\n",
      "5/5 [==============================] - 0s 5ms/step - loss: 0.0234 - accuracy: 0.9934\n",
      "Epoch 113/150\n",
      "5/5 [==============================] - 0s 5ms/step - loss: 0.0231 - accuracy: 0.9934\n",
      "Epoch 114/150\n",
      "5/5 [==============================] - 0s 5ms/step - loss: 0.0228 - accuracy: 0.9934\n",
      "Epoch 115/150\n",
      "5/5 [==============================] - 0s 5ms/step - loss: 0.0226 - accuracy: 0.9934\n",
      "Epoch 116/150\n",
      "5/5 [==============================] - 0s 5ms/step - loss: 0.0223 - accuracy: 0.9934\n",
      "Epoch 117/150\n",
      "5/5 [==============================] - 0s 5ms/step - loss: 0.0221 - accuracy: 0.9934\n",
      "Epoch 118/150\n",
      "5/5 [==============================] - 0s 5ms/step - loss: 0.0218 - accuracy: 0.9934\n",
      "Epoch 119/150\n",
      "5/5 [==============================] - 0s 5ms/step - loss: 0.0216 - accuracy: 0.9934\n",
      "Epoch 120/150\n",
      "5/5 [==============================] - 0s 6ms/step - loss: 0.0213 - accuracy: 0.9934\n",
      "Epoch 121/150\n",
      "5/5 [==============================] - 0s 5ms/step - loss: 0.0210 - accuracy: 0.9934\n",
      "Epoch 122/150\n",
      "5/5 [==============================] - 0s 5ms/step - loss: 0.0208 - accuracy: 0.9934\n",
      "Epoch 123/150\n",
      "5/5 [==============================] - 0s 5ms/step - loss: 0.0206 - accuracy: 0.9934\n",
      "Epoch 124/150\n",
      "5/5 [==============================] - 0s 5ms/step - loss: 0.0204 - accuracy: 0.9934\n",
      "Epoch 125/150\n",
      "5/5 [==============================] - 0s 5ms/step - loss: 0.0202 - accuracy: 0.9934\n",
      "Epoch 126/150\n",
      "5/5 [==============================] - 0s 6ms/step - loss: 0.0199 - accuracy: 0.9934\n",
      "Epoch 127/150\n",
      "5/5 [==============================] - 0s 5ms/step - loss: 0.0198 - accuracy: 0.9934\n",
      "Epoch 128/150\n",
      "5/5 [==============================] - 0s 6ms/step - loss: 0.0195 - accuracy: 0.9934\n",
      "Epoch 129/150\n",
      "5/5 [==============================] - 0s 5ms/step - loss: 0.0191 - accuracy: 0.9934\n",
      "Epoch 130/150\n",
      "5/5 [==============================] - 0s 5ms/step - loss: 0.0191 - accuracy: 0.9934\n",
      "Epoch 131/150\n",
      "5/5 [==============================] - 0s 6ms/step - loss: 0.0190 - accuracy: 0.9934\n",
      "Epoch 132/150\n",
      "5/5 [==============================] - 0s 5ms/step - loss: 0.0187 - accuracy: 0.9934\n",
      "Epoch 133/150\n",
      "5/5 [==============================] - 0s 5ms/step - loss: 0.0185 - accuracy: 0.9934\n",
      "Epoch 134/150\n",
      "5/5 [==============================] - 0s 6ms/step - loss: 0.0182 - accuracy: 0.9934\n",
      "Epoch 135/150\n",
      "5/5 [==============================] - 0s 6ms/step - loss: 0.0180 - accuracy: 0.9934\n",
      "Epoch 136/150\n",
      "5/5 [==============================] - 0s 6ms/step - loss: 0.0178 - accuracy: 0.9934\n",
      "Epoch 137/150\n",
      "5/5 [==============================] - 0s 7ms/step - loss: 0.0176 - accuracy: 0.9934\n",
      "Epoch 138/150\n",
      "5/5 [==============================] - 0s 9ms/step - loss: 0.0175 - accuracy: 0.9934\n",
      "Epoch 139/150\n",
      "5/5 [==============================] - 0s 9ms/step - loss: 0.0173 - accuracy: 0.9934\n",
      "Epoch 140/150\n",
      "5/5 [==============================] - 0s 8ms/step - loss: 0.0170 - accuracy: 0.9934\n",
      "Epoch 141/150\n",
      "5/5 [==============================] - 0s 7ms/step - loss: 0.0168 - accuracy: 0.9934\n",
      "Epoch 142/150\n",
      "5/5 [==============================] - 0s 7ms/step - loss: 0.0166 - accuracy: 0.9934\n",
      "Epoch 143/150\n",
      "5/5 [==============================] - 0s 6ms/step - loss: 0.0165 - accuracy: 0.9934\n",
      "Epoch 144/150\n",
      "5/5 [==============================] - 0s 5ms/step - loss: 0.0163 - accuracy: 0.9934\n",
      "Epoch 145/150\n",
      "5/5 [==============================] - 0s 7ms/step - loss: 0.0161 - accuracy: 0.9934\n",
      "Epoch 146/150\n",
      "5/5 [==============================] - 0s 5ms/step - loss: 0.0159 - accuracy: 0.9934\n",
      "Epoch 147/150\n",
      "5/5 [==============================] - 0s 5ms/step - loss: 0.0158 - accuracy: 0.9934\n",
      "Epoch 148/150\n",
      "5/5 [==============================] - 0s 5ms/step - loss: 0.0156 - accuracy: 0.9934\n",
      "Epoch 149/150\n",
      "5/5 [==============================] - 0s 5ms/step - loss: 0.0154 - accuracy: 0.9934\n",
      "Epoch 150/150\n",
      "5/5 [==============================] - 0s 6ms/step - loss: 0.0152 - accuracy: 0.9934\n"
     ]
    },
    {
     "data": {
      "text/plain": [
       "<keras.callbacks.History at 0x7fbf7c597670>"
      ]
     },
     "execution_count": 32,
     "metadata": {},
     "output_type": "execute_result"
    }
   ],
   "source": [
    "# Train the ANN Model\n",
    "annmodel.fit(X_train, Y_train, batch_size = 100 , epochs = 150)"
   ]
  },
  {
   "cell_type": "code",
   "execution_count": 33,
   "metadata": {
    "colab": {
     "base_uri": "https://localhost:8080/"
    },
    "id": "nkN45KR4-9HB",
    "outputId": "b96e8966-c77b-4a2b-dcee-5c865c8a3cb2"
   },
   "outputs": [
    {
     "name": "stdout",
     "output_type": "stream",
     "text": [
      "15/15 [==============================] - 1s 7ms/step - loss: 0.0151 - accuracy: 0.9934\n",
      "Accuracy is: 99.3406593799591\n"
     ]
    }
   ],
   "source": [
    "# BEST TRAINING ACCURACY\n",
    "_, results = annmodel.evaluate(X_train, Y_train)\n",
    "print(\"Accuracy is:\", (results * 100.0))"
   ]
  },
  {
   "cell_type": "code",
   "execution_count": 34,
   "metadata": {
    "colab": {
     "base_uri": "https://localhost:8080/"
    },
    "id": "dxytcLp4_KFb",
    "outputId": "86d647c5-d43a-476c-8cdb-a9a155a09dee"
   },
   "outputs": [
    {
     "name": "stdout",
     "output_type": "stream",
     "text": [
      "4/4 [==============================] - 0s 4ms/step\n",
      "[[9.99996603e-01]\n",
      " [6.72432929e-02]\n",
      " [2.36768188e-04]\n",
      " [1.39729269e-02]\n",
      " [9.40356258e-05]\n",
      " [6.07629627e-05]\n",
      " [2.41754310e-06]\n",
      " [4.33329187e-05]\n",
      " [3.10652717e-06]\n",
      " [2.94609421e-08]\n",
      " [1.54368393e-02]\n",
      " [2.57024989e-02]\n",
      " [2.74040099e-06]\n",
      " [2.51041383e-01]\n",
      " [1.69883683e-01]\n",
      " [9.99987304e-01]\n",
      " [6.06998052e-09]\n",
      " [1.00000000e+00]\n",
      " [1.00000000e+00]\n",
      " [1.00000000e+00]\n",
      " [9.99999225e-01]\n",
      " [9.99899447e-01]\n",
      " [2.25903466e-03]\n",
      " [4.08141583e-04]\n",
      " [9.99999881e-01]\n",
      " [9.33354968e-05]\n",
      " [3.21582093e-06]\n",
      " [9.99543548e-01]\n",
      " [3.60278907e-04]\n",
      " [1.00000000e+00]\n",
      " [3.46447268e-05]\n",
      " [9.99999762e-01]\n",
      " [1.62656698e-02]\n",
      " [9.99995589e-01]\n",
      " [1.23400845e-08]\n",
      " [9.99983728e-01]\n",
      " [1.28736151e-02]\n",
      " [9.99999166e-01]\n",
      " [9.24092834e-04]\n",
      " [9.99986887e-01]\n",
      " [9.75926042e-01]\n",
      " [3.10582891e-07]\n",
      " [9.87396836e-01]\n",
      " [3.93267783e-06]\n",
      " [2.27854223e-04]\n",
      " [1.00000000e+00]\n",
      " [2.73682765e-08]\n",
      " [2.50456352e-02]\n",
      " [1.22970960e-05]\n",
      " [1.00000000e+00]\n",
      " [1.00000000e+00]\n",
      " [9.99040127e-01]\n",
      " [1.00000000e+00]\n",
      " [5.56353261e-05]\n",
      " [3.92376387e-05]\n",
      " [1.86735124e-05]\n",
      " [2.16591143e-04]\n",
      " [4.23931808e-04]\n",
      " [1.18737863e-02]\n",
      " [1.00000000e+00]\n",
      " [9.99978781e-01]\n",
      " [9.99976933e-01]\n",
      " [1.19502317e-07]\n",
      " [3.68256187e-05]\n",
      " [1.00000000e+00]\n",
      " [7.36361071e-02]\n",
      " [1.00000000e+00]\n",
      " [1.00000000e+00]\n",
      " [1.00000000e+00]\n",
      " [3.23798995e-05]\n",
      " [4.23983991e-01]\n",
      " [1.00000000e+00]\n",
      " [2.11266233e-04]\n",
      " [9.08168554e-01]\n",
      " [1.00000000e+00]\n",
      " [1.79193988e-02]\n",
      " [3.20665208e-06]\n",
      " [4.16574709e-04]\n",
      " [1.20959021e-05]\n",
      " [4.62823255e-06]\n",
      " [9.98931706e-01]\n",
      " [1.00000000e+00]\n",
      " [1.00000000e+00]\n",
      " [4.20731703e-06]\n",
      " [9.99741733e-01]\n",
      " [6.63554420e-06]\n",
      " [7.71969098e-06]\n",
      " [3.98414990e-08]\n",
      " [9.99999821e-01]\n",
      " [1.00000000e+00]\n",
      " [3.68175137e-07]\n",
      " [4.73542094e-01]\n",
      " [5.76364636e-01]\n",
      " [1.00000000e+00]\n",
      " [2.91750566e-05]\n",
      " [2.72855341e-05]\n",
      " [1.00000000e+00]\n",
      " [7.65102595e-05]\n",
      " [3.26481822e-04]\n",
      " [2.14523141e-04]\n",
      " [1.14918335e-11]\n",
      " [4.76164697e-03]\n",
      " [1.01043563e-03]\n",
      " [1.21577773e-02]\n",
      " [1.00000000e+00]\n",
      " [1.81621061e-07]\n",
      " [1.00000000e+00]\n",
      " [1.28420904e-01]\n",
      " [4.73057210e-01]\n",
      " [2.65251637e-01]\n",
      " [3.34043126e-03]\n",
      " [1.00000000e+00]\n",
      " [9.99999940e-01]\n",
      " [4.48195994e-01]]\n"
     ]
    }
   ],
   "source": [
    "# To get the predicted output\n",
    "Y_pred_test = annmodel.predict(X_test)\n",
    "print(Y_pred_test)"
   ]
  },
  {
   "cell_type": "code",
   "execution_count": 39,
   "metadata": {
    "colab": {
     "base_uri": "https://localhost:8080/"
    },
    "id": "ari3wV6G_UmT",
    "outputId": "f7ca870c-96fb-4d66-ca9d-e776c102f51f"
   },
   "outputs": [
    {
     "name": "stdout",
     "output_type": "stream",
     "text": [
      "[ True False False False False False False False False False False False\n",
      " False False False  True False  True  True  True  True  True False False\n",
      "  True False False  True False  True False  True False  True False  True\n",
      " False  True False  True  True False  True False False  True False False\n",
      " False  True  True  True  True False False False False False False  True\n",
      "  True  True False False  True False  True  True  True False False  True\n",
      " False  True  True False False False False False  True  True  True False\n",
      "  True False False False  True  True False  True False  True False False\n",
      "  True False False False False False False False  True False  True False\n",
      "  True  True False  True  True False]\n"
     ]
    }
   ],
   "source": [
    "# To depict the result in binary form\n",
    "Y_pred_test = (Y_pred_test > 0.5)\n",
    "print(Y_pred_test)"
   ]
  },
  {
   "cell_type": "code",
   "execution_count": 43,
   "metadata": {
    "colab": {
     "base_uri": "https://localhost:8080/"
    },
    "id": "cMbXjDb-_u_H",
    "outputId": "1535d22b-a420-44e4-92df-2c5d5a3dc9f0"
   },
   "outputs": [
    {
     "name": "stdout",
     "output_type": "stream",
     "text": [
      "Accracy score of the model is: 100.0\n"
     ]
    }
   ],
   "source": [
    "# Get the accuracy score between the actual output and the predicted output\n",
    "from sklearn.metrics import accuracy_score\n",
    "print(\"Accracy score of the model is:\", accuracy_score(Y_test, Y_pred_test)*100.0)"
   ]
  },
  {
   "cell_type": "code",
   "execution_count": 44,
   "metadata": {
    "colab": {
     "base_uri": "https://localhost:8080/"
    },
    "id": "cEsXtvkVAU8l",
    "outputId": "9f2208de-c17c-4023-eaa8-338f99fda592"
   },
   "outputs": [
    {
     "name": "stdout",
     "output_type": "stream",
     "text": [
      "[[67  0]\n",
      " [ 0 47]]\n"
     ]
    }
   ],
   "source": [
    "# CONFUSION MATRIX BETWEEN ACTUAL OUTPUT AND PREDICTED OUTPUT\n",
    "from sklearn.metrics  import confusion_matrix\n",
    "\n",
    "cm = confusion_matrix(Y_test, Y_pred_test)\n",
    "\n",
    "print(cm)"
   ]
  },
  {
   "cell_type": "code",
   "execution_count": 45,
   "metadata": {
    "colab": {
     "base_uri": "https://localhost:8080/",
     "height": 447
    },
    "id": "gt46t7xJAxdI",
    "outputId": "49677619-c860-4705-b1d1-48e7d9541603"
   },
   "outputs": [
    {
     "data": {
      "text/plain": [
       "<Axes: >"
      ]
     },
     "execution_count": 45,
     "metadata": {},
     "output_type": "execute_result"
    },
    {
     "data": {
      "image/png": "[encoded data removed]",
      "text/plain": [
       "<Figure size 640x480 with 2 Axes>"
      ]
     },
     "metadata": {},
     "output_type": "display_data"
    }
   ],
   "source": [
    "# To display the confusion matrix graphically\n",
    "import seaborn as sns\n",
    "sns.heatmap(cm, annot = True)"
   ]
  }
 ],
 "metadata": {
  "colab": {
   "provenance": []
  },
  "kernelspec": {
   "display_name": "Python 3",
   "language": "python",
   "name": "python3"
  },
  "language_info": {
   "codemirror_mode": {
    "name": "ipython",
    "version": 3
   },
   "file_extension": ".py",
   "mimetype": "text/x-python",
   "name": "python",
   "nbconvert_exporter": "python",
   "pygments_lexer": "ipython3",
   "version": "3.8.3"
  }
 },
 "nbformat": 4,
 "nbformat_minor": 1
}
